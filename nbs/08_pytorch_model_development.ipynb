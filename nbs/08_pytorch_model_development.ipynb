{
 "cells": [
  {
   "cell_type": "markdown",
   "metadata": {},
   "source": [
    "# pytorch Model development"
   ]
  },
  {
   "cell_type": "markdown",
   "metadata": {},
   "source": [
    "> Model development will be held here"
   ]
  },
  {
   "cell_type": "code",
   "execution_count": 3,
   "metadata": {},
   "outputs": [],
   "source": [
    "#| default_exp pytorch_model_development"
   ]
  },
  {
   "cell_type": "code",
   "execution_count": 24,
   "metadata": {},
   "outputs": [],
   "source": [
    "#| export\n",
    "import torch\n",
    "from torch import nn, optim\n",
    "from torch.optim.lr_scheduler import CosineAnnealingLR\n",
    "from torch.autograd import Variable\n",
    "from torch.nn import functional as F\n",
    "from sklearn.metrics import jaccard_score\n",
    "from torch import nn\n",
    "import numpy as np\n",
    "import cv2\n",
    "from torch.utils.data import Dataset\n",
    "from typing import List, Tuple,Dict, Callable\n",
    "import albumentations as A\n",
    "import json\n",
    "from fastcore.all import *"
   ]
  },
  {
   "cell_type": "code",
   "execution_count": 2,
   "metadata": {},
   "outputs": [],
   "source": [
    "#| export \n",
    "class DoubleConv(nn.Module):\n",
    "    def __init__(\n",
    "        self,\n",
    "        in_channels,\n",
    "        out_channels,\n",
    "        dropout_rate=0.2):\n",
    "        super().__init__()\n",
    "\n",
    "        self.conv = nn.Sequential(\n",
    "            nn.Conv2d(in_channels=in_channels, out_channels=out_channels, kernel_size=3, stride=1, padding=1),\n",
    "            nn.BatchNorm2d(out_channels),\n",
    "            nn.ReLU(),\n",
    "            nn.Dropout(dropout_rate),\n",
    "            nn.Conv2d(out_channels, out_channels, kernel_size=3, stride=1, padding=1),\n",
    "            nn.BatchNorm2d(out_channels),\n",
    "            nn.ReLU(),\n",
    "            nn.Dropout(dropout_rate)\n",
    "            )\n",
    "\n",
    "    def forward(self, x):\n",
    "        return self.conv(x)"
   ]
  },
  {
   "cell_type": "code",
   "execution_count": 3,
   "metadata": {},
   "outputs": [],
   "source": [
    "#| export\n",
    "class Pooling(nn.Module):\n",
    "    def __init__(self, max_pool_only=False):\n",
    "        super(Pooling, self).__init__()\n",
    "        self.max_pool_only = max_pool_only\n",
    "        self.max_pool = nn.MaxPool2d(kernel_size=2, stride=2)\n",
    "        self.avg_pool = nn.AvgPool2d(kernel_size=2, stride=2)\n",
    "\n",
    "    def forward(self, x):\n",
    "        if self.max_pool_only:\n",
    "            return self.max_pool(x)\n",
    "        return torch.cat([self.max_pool(x), self.avg_pool(x)], axis=1)"
   ]
  },
  {
   "cell_type": "code",
   "execution_count": 4,
   "metadata": {},
   "outputs": [],
   "source": [
    "#| export\n",
    "class MaxAvgPool2d(nn.Module):\n",
    "    def __init__(self, kernel_size, stride):\n",
    "        super(MaxAvgPool2d, self).__init__()\n",
    "        self.maxpool = nn.MaxPool2d(kernel_size, stride)\n",
    "        self.avgpool = nn.AvgPool2d(kernel_size, stride)\n",
    "\n",
    "    def forward(self, x):\n",
    "        maxpooled = self.maxpool(x)\n",
    "        avgpooled = self.avgpool(x)\n",
    "        return torch.cat([maxpooled, avgpooled], 1)  # Concatenate along the channel dimension"
   ]
  },
  {
   "cell_type": "code",
   "execution_count": 5,
   "metadata": {},
   "outputs": [],
   "source": [
    "#| export\n",
    "class AttentionBlock(nn.Module):\n",
    "    def __init__(self, F_g, F_l, F_int):\n",
    "        super(AttentionBlock, self).__init__()\n",
    "        self.W_g = nn.Sequential(\n",
    "            nn.Conv2d(F_g, F_int, kernel_size=1, stride=1, padding=0, bias=True),\n",
    "            nn.BatchNorm2d(F_int)\n",
    "        )\n",
    "        \n",
    "        self.W_x = nn.Sequential(\n",
    "            nn.Conv2d(F_l, F_int, kernel_size=1, stride=1, padding=0, bias=True),\n",
    "            nn.BatchNorm2d(F_int)\n",
    "        )\n",
    "\n",
    "        self.psi = nn.Sequential(\n",
    "            nn.Conv2d(F_int, 1, kernel_size=1, stride=1, padding=0, bias=True),\n",
    "            nn.BatchNorm2d(1),\n",
    "            nn.Sigmoid()\n",
    "        )\n",
    "\n",
    "        self.relu = nn.ReLU(inplace=True)\n",
    "\n",
    "    def forward(self, g, x):\n",
    "        g1 = self.W_g(g)\n",
    "        x1 = self.W_x(x)\n",
    "        psi = self.relu(g1 + x1)\n",
    "        psi = self.psi(psi)\n",
    "        return x * psi"
   ]
  },
  {
   "cell_type": "code",
   "execution_count": 6,
   "metadata": {},
   "outputs": [],
   "source": [
    "#| export\n",
    "class UpConv(nn.Module):\n",
    "    def __init__(self, in_channels, out_channels):\n",
    "        super(UpConv, self).__init__()\n",
    "        self.up = nn.ConvTranspose2d(\n",
    "                                     in_channels=in_channels, \n",
    "                                     out_channels=out_channels, \n",
    "                                     kernel_size=2, \n",
    "                                     stride=2)\n",
    "\n",
    "    def forward(self, x, skip):\n",
    "        x = self.up(x)\n",
    "        x = torch.cat([x, skip], axis=1)\n",
    "        return x"
   ]
  },
  {
   "cell_type": "code",
   "execution_count": 26,
   "metadata": {},
   "outputs": [],
   "source": [
    "#| export\n",
    "class UNet(nn.Module):\n",
    "    def __init__(\n",
    "                self, \n",
    "                in_channels:int=1, \n",
    "                out_channels:int=2,\n",
    "                max_pool_only:bool=True,\n",
    "                near_size:int=256,\n",
    "                features:List[int]=[64, 128, 256, 512]\n",
    "                ):\n",
    "        super(UNet, self).__init__()\n",
    "        self.downs = nn.ModuleList()\n",
    "        self.ups = nn.ModuleList()\n",
    "        self.size = near_size\n",
    "        #if max_pool_only:\n",
    "           #self.pool = nn.MaxPool2d(kernel_size=2, stride=2)\n",
    "        #else:\n",
    "           #self.pool = Pooling(max_pool_only=max_pool_only)\n",
    "        self.pool = nn.MaxPool2d(\n",
    "            kernel_size=2,\n",
    "            stride=2,\n",
    "        )\n",
    "\n",
    "        # Down part of U-Net\n",
    "        for feature in features:\n",
    "            self.downs.append(DoubleConv(in_channels, feature))\n",
    "            in_channels = feature\n",
    "\n",
    "        # Up part of U-Net\n",
    "        for feature in reversed(features):\n",
    "            self.ups.append(UpConv(feature*2, feature))\n",
    "            self.ups.append(DoubleConv(feature*2, feature))\n",
    "\n",
    "        self.bottleneck = DoubleConv(features[-1], features[-1]*2)\n",
    "        self.final_conv = nn.Conv2d(features[0], out_channels, kernel_size=1)\n",
    "\n",
    "    def pad_image(self,image):\n",
    "        _, _, h, w = image.shape\n",
    "        if h != self.size or w!=self.size:\n",
    "            pad_h = max(0, self.size -h)\n",
    "            pad_w = max(0, self.size - w)\n",
    "            image = nn.functional.pad(\n",
    "                image, \n",
    "                (0, pad_w, 0, pad_h), \n",
    "                mode='constant', \n",
    "                value=0)\n",
    "        return image, h, w\n",
    "\n",
    "    def forward(self, x):\n",
    "\n",
    "        x, h, w=self.pad_image(x)\n",
    "\n",
    "\n",
    "        skip_connections = []\n",
    "\n",
    "        # Down part of U-Net\n",
    "        for down in self.downs:\n",
    "            x = down(x)\n",
    "            skip_connections.append(x)\n",
    "            x = self.pool(x)\n",
    "\n",
    "        # Bottleneck\n",
    "        x = self.bottleneck(x)\n",
    "\n",
    "        # Up part of U-Net\n",
    "        for idx in range(0, len(self.ups), 2):\n",
    "            x = self.ups[idx](x, skip_connections[-idx//2-1])\n",
    "            x = self.ups[idx+1](x)\n",
    "\n",
    "        x = self.final_conv(x)\n",
    "        return x[:,:, :h, :w]\n"
   ]
  },
  {
   "cell_type": "code",
   "execution_count": 27,
   "metadata": {},
   "outputs": [],
   "source": [
    "#| hide\n",
    "#pool=Pooling(max_pool_only=True)\n",
    "#pool_o = pool(image)\n",
    "#pool_o.shape"
   ]
  },
  {
   "cell_type": "code",
   "execution_count": 28,
   "metadata": {},
   "outputs": [],
   "source": [
    "#| export\n",
    "class AdaptiveConcatPool2d(nn.Module):\n",
    "    def __init__(self, size=None):\n",
    "        super().__init__()\n",
    "        self.size = size or (1, 1)\n",
    "        self.ap = nn.AdaptiveAvgPool2d(self.size)\n",
    "        self.mp = nn.AdaptiveMaxPool2d(self.size)\n",
    "\n",
    "    def forward(self, x):\n",
    "        return torch.cat([self.mp(x), self.ap(x)], 1)\n"
   ]
  },
  {
   "cell_type": "code",
   "execution_count": 29,
   "metadata": {},
   "outputs": [],
   "source": [
    "#| export\n",
    "class AdaptiveAvgPool2d(nn.Module):\n",
    "    def __init__(self, output_size):\n",
    "        super().__init__()\n",
    "        self.output_size = output_size\n",
    "\n",
    "    def forward(self, x):\n",
    "        return F.adaptive_avg_pool2d(x, self.output_size)\n",
    "\n",
    "class AdaptiveMaxPool2d(nn.Module):\n",
    "    def __init__(self, output_size):\n",
    "        super().__init__()\n",
    "        self.output_size = output_size\n",
    "\n",
    "    def forward(self, x):\n",
    "        return F.adaptive_max_pool2d(x, self.output_size)\n"
   ]
  },
  {
   "cell_type": "code",
   "execution_count": 30,
   "metadata": {},
   "outputs": [
    {
     "data": {
      "text/plain": [
       "torch.Size([1, 2, 256, 256])"
      ]
     },
     "execution_count": 30,
     "metadata": {},
     "output_type": "execute_result"
    }
   ],
   "source": [
    "#| hide\n",
    "model = UNet(in_channels=1, out_channels=2,max_pool_only=False)\n",
    "image = torch.randn(1, 1, 256, 256)\n",
    "output = model(image)\n",
    "output.shape\n"
   ]
  },
  {
   "cell_type": "code",
   "execution_count": 1,
   "metadata": {},
   "outputs": [],
   "source": [
    "#| hide\n",
    "import nbdev; nbdev.nbdev_export('08_pytorch_model_development.ipynb')"
   ]
  },
  {
   "cell_type": "code",
   "execution_count": null,
   "metadata": {},
   "outputs": [],
   "source": []
  }
 ],
 "metadata": {
  "kernelspec": {
   "display_name": "Python 3 (ipykernel)",
   "language": "python",
   "name": "python3"
  },
  "language_info": {
   "codemirror_mode": {
    "name": "ipython",
    "version": 3
   },
   "file_extension": ".py",
   "mimetype": "text/x-python",
   "name": "python",
   "nbconvert_exporter": "python",
   "pygments_lexer": "ipython3",
   "version": "3.11.5"
  }
 },
 "nbformat": 4,
 "nbformat_minor": 2
}
