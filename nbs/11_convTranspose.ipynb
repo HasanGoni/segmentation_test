{
 "cells": [
  {
   "cell_type": "code",
   "execution_count": null,
   "metadata": {},
   "outputs": [],
   "source": [
    "#| default_exp convTranspose_replace"
   ]
  },
  {
   "cell_type": "code",
   "execution_count": null,
   "metadata": {},
   "outputs": [],
   "source": [
    "#| export\n",
    "from segmentation_test.pytorch_model_development import *"
   ]
  },
  {
   "cell_type": "code",
   "execution_count": null,
   "metadata": {},
   "outputs": [],
   "source": [
    "#| export\n",
    "import torch \n",
    "import torch.nn as nn\n",
    "from fastcore.test import *"
   ]
  },
  {
   "cell_type": "code",
   "execution_count": null,
   "metadata": {},
   "outputs": [],
   "source": [
    "x = torch.randn(1, 1, 256, 256)\n",
    "c1 = DoubleConv(1, 16)(x)\n",
    "p1 = Pooling(max_pool_only=True)(c1)\n",
    "c2 = DoubleConv(16, 32)(p1)\n",
    "p2 = Pooling(max_pool_only=True)(c2)\n",
    "c3 = DoubleConv(32, 64)(p2)\n",
    "p3 = Pooling(max_pool_only=True)(c3)\n",
    "c4 = DoubleConv(64, 128)(p3)\n",
    "p4 = Pooling(max_pool_only=True)(c4)\n",
    "c5 = DoubleConv(128, 256)(p4)"
   ]
  },
  {
   "cell_type": "code",
   "execution_count": null,
   "metadata": {},
   "outputs": [
    {
     "name": "stdout",
     "output_type": "stream",
     "text": [
      "c1 has a shape of =torch.Size([1, 16, 256, 256])\n",
      "c2 has a shape of =torch.Size([1, 32, 128, 128])\n",
      "c3 has a shape of =torch.Size([1, 64, 64, 64])\n",
      "c4 has a shape of =torch.Size([1, 128, 32, 32])\n",
      "c5 has a shape of =torch.Size([1, 256, 16, 16])\n"
     ]
    }
   ],
   "source": [
    "print(f'c1 has a shape of ={c1.shape}')\n",
    "print(f'c2 has a shape of ={c2.shape}')\n",
    "print(f'c3 has a shape of ={c3.shape}')\n",
    "print(f'c4 has a shape of ={c4.shape}')\n",
    "print(f'c5 has a shape of ={c5.shape}')"
   ]
  },
  {
   "cell_type": "code",
   "execution_count": null,
   "metadata": {},
   "outputs": [],
   "source": [
    "#| export\n",
    "class ConvTrns(nn.Module):\n",
    "    def __init__(self, in_channels, out_channels):\n",
    "        super(ConvTrns, self).__init__()\n",
    "        self.up = nn.ConvTranspose2d(in_channels, out_channels, kernel_size=2, stride=2)\n",
    "\n",
    "    def forward(self, x):\n",
    "        return self.up(x)"
   ]
  },
  {
   "cell_type": "code",
   "execution_count": null,
   "metadata": {},
   "outputs": [
    {
     "data": {
      "text/plain": [
       "torch.Size([1, 128, 32, 32])"
      ]
     },
     "execution_count": null,
     "metadata": {},
     "output_type": "execute_result"
    }
   ],
   "source": [
    "up1 = ConvTrns(256, 128)(c5)\n",
    "up1.shape"
   ]
  },
  {
   "cell_type": "code",
   "execution_count": null,
   "metadata": {},
   "outputs": [],
   "source": [
    "#| export\n",
    "class CustomConvTranspose(nn.Module):\n",
    "    ' Custom conv transpose, need in_channels and out_channels'\n",
    "\n",
    "    def __init__(self, in_channels, out_channels):\n",
    "        super(CustomConvTranspose, self).__init__()\n",
    "        self.up = nn.Sequential(\n",
    "            nn.Upsample(scale_factor=2, mode='nearest'),  # Resize layer\n",
    "            nn.Conv2d(in_channels, out_channels, kernel_size=3, padding=1)  # Conv layer\n",
    "        )\n",
    "\n",
    "    def forward(self, x):\n",
    "        x = self.up(x)\n",
    "        return x\n"
   ]
  },
  {
   "cell_type": "code",
   "execution_count": null,
   "metadata": {},
   "outputs": [],
   "source": [
    "test_eq(ConvTrns(256, 128)(c5).shape, CustomConvTranspose(256, 128)(c5).shape)\n",
    "test_eq(ConvTrns(128, 64)(c4).shape, CustomConvTranspose(128, 64)(c4).shape)"
   ]
  },
  {
   "cell_type": "code",
   "execution_count": null,
   "metadata": {},
   "outputs": [],
   "source": [
    "#output_onnx='torch_simple.onnx'"
   ]
  },
  {
   "cell_type": "code",
   "execution_count": null,
   "metadata": {},
   "outputs": [],
   "source": [
    "#torch.onnx.export(\n",
    "    #model, \n",
    "    #dummy_input, \n",
    "    #output_onnx, \n",
    "    #export_params=True, \n",
    "    #opset_version=13, \n",
    "    #do_constant_folding=True, \n",
    "    #input_names=['input'], \n",
    "    #output_names=['output'], \n",
    "    ##dynamic_axes={\n",
    "        ##'input': {0: 'batch_size'}, \n",
    "        ##'output': {0: 'batch_size'}\n",
    "        ##}\n",
    "        #)"
   ]
  },
  {
   "cell_type": "code",
   "execution_count": null,
   "metadata": {},
   "outputs": [],
   "source": [
    "#| hide\n",
    "import nbdev; nbdev.nbdev_export('11_convTranspose.ipynb')"
   ]
  },
  {
   "cell_type": "code",
   "execution_count": null,
   "metadata": {},
   "outputs": [],
   "source": []
  }
 ],
 "metadata": {
  "kernelspec": {
   "display_name": "python3",
   "language": "python",
   "name": "python3"
  }
 },
 "nbformat": 4,
 "nbformat_minor": 2
}
