{
 "cells": [
  {
   "cell_type": "code",
   "execution_count": 12,
   "metadata": {},
   "outputs": [],
   "source": [
    "import tabula\n",
    "import pandas as pd\n",
    "from pathlib import Path\n",
    "from fastcore.all import *"
   ]
  },
  {
   "cell_type": "code",
   "execution_count": 16,
   "metadata": {},
   "outputs": [
    {
     "data": {
      "text/plain": [
       "(#1) [Path('/home/hasan/Downloads/ace_2022.pdf')]"
      ]
     },
     "execution_count": 16,
     "metadata": {},
     "output_type": "execute_result"
    }
   ],
   "source": [
    "# Define the path to your PDF file\n",
    "pdf_path = Path(f'{Path.home()}/Downloads')\n",
    "\n",
    "pdf_path.ls()"
   ]
  },
  {
   "cell_type": "code",
   "execution_count": 17,
   "metadata": {},
   "outputs": [
    {
     "ename": "AttributeError",
     "evalue": "module 'tabula' has no attribute 'read_pdf'",
     "output_type": "error",
     "traceback": [
      "\u001b[0;31m---------------------------------------------------------------------------\u001b[0m",
      "\u001b[0;31mAttributeError\u001b[0m                            Traceback (most recent call last)",
      "\u001b[1;32m/home/hasan/workspace/git_data/segmentation_test/nbs/06_convert_pdf_to_excel.ipynb Cell 3\u001b[0m line \u001b[0;36m2\n\u001b[1;32m      <a href='vscode-notebook-cell:/home/hasan/workspace/git_data/segmentation_test/nbs/06_convert_pdf_to_excel.ipynb#W2sZmlsZQ%3D%3D?line=0'>1</a>\u001b[0m \u001b[39m# Use tabula to extract tables\u001b[39;00m\n\u001b[0;32m----> <a href='vscode-notebook-cell:/home/hasan/workspace/git_data/segmentation_test/nbs/06_convert_pdf_to_excel.ipynb#W2sZmlsZQ%3D%3D?line=1'>2</a>\u001b[0m tables \u001b[39m=\u001b[39m tabula\u001b[39m.\u001b[39mread_pdf(pdf_path\u001b[39m.\u001b[39ml()[\u001b[39m0\u001b[39m], pages\u001b[39m=\u001b[39m\u001b[39m'\u001b[39m\u001b[39mall\u001b[39m\u001b[39m'\u001b[39m, multiple_tables\u001b[39m=\u001b[39m\u001b[39mTrue\u001b[39;00m)\n\u001b[1;32m      <a href='vscode-notebook-cell:/home/hasan/workspace/git_data/segmentation_test/nbs/06_convert_pdf_to_excel.ipynb#W2sZmlsZQ%3D%3D?line=3'>4</a>\u001b[0m \u001b[39m# Assuming you want to convert the first table to Excel\u001b[39;00m\n\u001b[1;32m      <a href='vscode-notebook-cell:/home/hasan/workspace/git_data/segmentation_test/nbs/06_convert_pdf_to_excel.ipynb#W2sZmlsZQ%3D%3D?line=4'>5</a>\u001b[0m table_to_convert \u001b[39m=\u001b[39m tables[\u001b[39m0\u001b[39m]\n",
      "\u001b[0;31mAttributeError\u001b[0m: module 'tabula' has no attribute 'read_pdf'"
     ]
    }
   ],
   "source": [
    "\n",
    "\n",
    "# Use tabula to extract tables\n",
    "tables = tabula.read_pdf(pdf_path.l()[0], pages='all', multiple_tables=True)\n",
    "\n",
    "# Assuming you want to convert the first table to Excel\n",
    "table_to_convert = tables[0]\n",
    "\n",
    "# Convert the table to a pandas DataFrame\n",
    "df = pd.DataFrame(table_to_convert)\n"
   ]
  },
  {
   "cell_type": "code",
   "execution_count": null,
   "metadata": {},
   "outputs": [],
   "source": [
    "\n",
    "\n",
    "# Save the DataFrame to an Excel file\n",
    "excel_path = 'output.xlsx'\n",
    "df.to_excel(excel_path, index=False)\n"
   ]
  }
 ],
 "metadata": {
  "kernelspec": {
   "display_name": "test",
   "language": "python",
   "name": "python3"
  },
  "language_info": {
   "codemirror_mode": {
    "name": "ipython",
    "version": 3
   },
   "file_extension": ".py",
   "mimetype": "text/x-python",
   "name": "python",
   "nbconvert_exporter": "python",
   "pygments_lexer": "ipython3",
   "version": "3.11.5"
  },
  "orig_nbformat": 4
 },
 "nbformat": 4,
 "nbformat_minor": 2
}
