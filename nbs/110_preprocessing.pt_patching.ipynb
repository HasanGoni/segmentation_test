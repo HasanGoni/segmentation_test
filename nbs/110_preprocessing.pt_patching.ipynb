{
 "cells": [
  {
   "cell_type": "code",
   "execution_count": 16,
   "id": "3333be51",
   "metadata": {},
   "outputs": [],
   "source": [
    "#| default_exp preprocessing.pt_patching"
   ]
  },
  {
   "cell_type": "markdown",
   "id": "63dd8d24",
   "metadata": {},
   "source": [
    "# Patch Whole imageto number of patches\n",
    "> Patch whole image into number of patches"
   ]
  },
  {
   "cell_type": "code",
   "execution_count": 17,
   "id": "e141e460",
   "metadata": {},
   "outputs": [],
   "source": [
    "#| export\n",
    "import torch\n",
    "import torch.nn as nn\n",
    "import torch.nn.functional as F\n",
    "import matplotlib.pyplot as plt \n",
    "import math\n",
    "import numpy as np"
   ]
  },
  {
   "cell_type": "code",
   "execution_count": 18,
   "id": "230e69a7",
   "metadata": {},
   "outputs": [],
   "source": [
    "#| export\n",
    "from fastcore.all import *"
   ]
  },
  {
   "cell_type": "code",
   "execution_count": 19,
   "id": "000bfff9",
   "metadata": {},
   "outputs": [],
   "source": [
    "#| export\n",
    "class SizePreservingPatchLayer(nn.Module):\n",
    "    \"\"\"\n",
    "    Patch conversion layer that guarantees exact input size preservation\n",
    "    \"\"\"\n",
    "    def __init__(self, patch_size=256, min_overlap=32):\n",
    "        super().__init__()\n",
    "        self.patch_size = patch_size\n",
    "        self.min_overlap = min_overlap\n",
    "        self.register_buffer('weight_mask', self._create_weight_mask())\n",
    "        \n",
    "    def _create_weight_mask(self):\n",
    "        \"\"\"Creates gaussian weight mask for edge effect reduction\"\"\"\n",
    "        x = torch.linspace(-1, 1, self.patch_size)\n",
    "        y = torch.linspace(-1, 1, self.patch_size)\n",
    "        xx, yy = torch.meshgrid(x, y, indexing='ij')\n",
    "        gaussian = torch.exp(-(xx**2 + yy**2) / 1.5)\n",
    "        return gaussian\n",
    "\n",
    "    def _calculate_grid(self, H, W):\n",
    "        \"\"\"\n",
    "        Calculate grid configuration ensuring full coverage of input size\n",
    "        \"\"\"\n",
    "        # Calculate number of patches needed\n",
    "        n_patches_h = math.ceil(H / (self.patch_size - self.min_overlap))\n",
    "        n_patches_w = math.ceil(W / (self.patch_size - self.min_overlap))\n",
    "        \n",
    "        # Calculate actual strides to exactly cover the image\n",
    "        stride_h = (H - self.patch_size) / (n_patches_h - 1) if n_patches_h > 1 else 0\n",
    "        stride_w = (W - self.patch_size) / (n_patches_w - 1) if n_patches_w > 1 else 0\n",
    "        \n",
    "        return {\n",
    "            'n_patches_h': n_patches_h,\n",
    "            'n_patches_w': n_patches_w,\n",
    "            'stride_h': stride_h,\n",
    "            'stride_w': stride_w\n",
    "        }\n",
    "    def visualize_patch_grid(self, image_tensor):\n",
    "        \"\"\"Visualizes patch grid overlay on image\"\"\"\n",
    "        image = image_tensor[0].cpu().numpy().transpose(1, 2, 0)\n",
    "        if image.shape[2] == 1:\n",
    "            image = image.squeeze(-1)\n",
    "            \n",
    "        H, W = image.shape[:2]\n",
    "        grid = self._calculate_grid(H, W)\n",
    "        \n",
    "        plt.figure(figsize=(15, 10))\n",
    "        plt.imshow(image, cmap='gray' if len(image.shape) == 2 else None)\n",
    "        \n",
    "        # Draw actual patch locations\n",
    "        for i in range(grid['n_patches_h']):\n",
    "            y = i * grid['stride_h']\n",
    "            plt.axhline(y=y, color='r', linestyle='--', alpha=0.5)\n",
    "            if i * grid['stride_h'] + self.patch_size <= H:\n",
    "                plt.axhline(y=y + self.patch_size, color='g', linestyle=':', alpha=0.3)\n",
    "                \n",
    "        for j in range(grid['n_patches_w']):\n",
    "            x = j * grid['stride_w']\n",
    "            plt.axvline(x=x, color='r', linestyle='--', alpha=0.5)\n",
    "            if j * grid['stride_w'] + self.patch_size <= W:\n",
    "                plt.axvline(x=x + self.patch_size, color='g', linestyle=':', alpha=0.3)\n",
    "                \n",
    "        plt.title(f'Patch Grid ({grid[\"n_patches_h\"]}x{grid[\"n_patches_w\"]} patches)\\n'\n",
    "                 f'Image Size: {H}x{W}, Patch Size: {self.patch_size}')\n",
    "        plt.show()\n",
    "\t\n",
    "    def forward(self, x):\n",
    "        B, C, H, W = x.shape\n",
    "        grid = self._calculate_grid(H, W)\n",
    "        \n",
    "        patches = []\n",
    "        locations = []\n",
    "        \n",
    "        # Extract patches with exact positioning\n",
    "        for i in range(grid['n_patches_h']):\n",
    "            for j in range(grid['n_patches_w']):\n",
    "                # Calculate exact patch location\n",
    "                h_start = int(i * grid['stride_h'])\n",
    "                w_start = int(j * grid['stride_w'])\n",
    "                \n",
    "                # Handle edge cases for last patches\n",
    "                h_start = min(h_start, H - self.patch_size)\n",
    "                w_start = min(w_start, W - self.patch_size)\n",
    "                \n",
    "                patch = x[:, :,\n",
    "                         h_start:h_start + self.patch_size,\n",
    "                         w_start:w_start + self.patch_size]\n",
    "                \n",
    "                patches.append(patch)\n",
    "                locations.append((h_start, w_start))\n",
    "                \n",
    "        patches = torch.stack(patches, dim=1)\n",
    "        \n",
    "        # Apply weight mask for edge effect reduction\n",
    "        patches = patches * self.weight_mask.view(1, 1, 1, self.patch_size, self.patch_size)\n",
    "        \n",
    "        return patches, (locations, (H, W))"
   ]
  },
  {
   "cell_type": "code",
   "execution_count": 20,
   "id": "2cda08d2",
   "metadata": {},
   "outputs": [],
   "source": [
    "#| export\n",
    "\n",
    "class SizePreservingPatchLayerONNX(nn.Module):\n",
    "    \"\"\"\n",
    "    ONNX-compatible patch conversion layer with exact numerical consistency\n",
    "    \"\"\"\n",
    "    def __init__(self, patch_size=256, min_overlap=32):\n",
    "        super().__init__()\n",
    "        self.patch_size = patch_size\n",
    "        self.min_overlap = min_overlap\n",
    "        self.register_buffer('weight_mask', self._create_weight_mask())\n",
    "        \n",
    "    def _create_weight_mask(self):\n",
    "        \"\"\"Creates gaussian weight mask with controlled precision\"\"\"\n",
    "        # Use float32 explicitly for consistent precision\n",
    "        x = torch.linspace(-1, 1, self.patch_size, dtype=torch.float32)\n",
    "        y = torch.linspace(-1, 1, self.patch_size, dtype=torch.float32)\n",
    "        xx, yy = torch.meshgrid(x, y, indexing='ij')\n",
    "        # Use a more ONNX-friendly gaussian formula\n",
    "        gaussian = torch.exp(-(xx.pow(2) + yy.pow(2)) / 1.5)\n",
    "        return gaussian.to(torch.float32)\n",
    "\n",
    "    def _calculate_grid(self, H, W):\n",
    "        \"\"\"Calculate grid with explicit float32 calculations\"\"\"\n",
    "        # Convert to float32 for consistent precision\n",
    "        H, W = float(H), float(W)\n",
    "        patch_size = float(self.patch_size)\n",
    "        min_overlap = float(self.min_overlap)\n",
    "        \n",
    "        # Calculate patches needed with explicit float32\n",
    "        n_patches_h = math.ceil((H - min_overlap) / (patch_size - min_overlap))\n",
    "        n_patches_w = math.ceil((W - min_overlap) / (patch_size - min_overlap))\n",
    "        \n",
    "        # Calculate strides with controlled precision\n",
    "        stride_h = torch.tensor((H - patch_size) / max(n_patches_h - 1, 1), dtype=torch.float32)\n",
    "        stride_w = torch.tensor((W - patch_size) / max(n_patches_w - 1, 1), dtype=torch.float32)\n",
    "        \n",
    "        return {\n",
    "            'n_patches_h': int(n_patches_h),\n",
    "            'n_patches_w': int(n_patches_w),\n",
    "            'stride_h': stride_h.item(),\n",
    "            'stride_w': stride_w.item()\n",
    "        }\n",
    "\n",
    "    def forward(self, x):\n",
    "        B, C, H, W = x.shape\n",
    "        grid = self._calculate_grid(H, W)\n",
    "        \n",
    "        patches = []\n",
    "        locations = []\n",
    "        \n",
    "        for i in range(grid['n_patches_h']):\n",
    "            for j in range(grid['n_patches_w']):\n",
    "                # Use explicit float32 calculations\n",
    "                h_start = int(round(i * grid['stride_h']))\n",
    "                w_start = int(round(j * grid['stride_w']))\n",
    "                \n",
    "                # Ensure exact boundary handling\n",
    "                h_start = min(h_start, H - self.patch_size)\n",
    "                w_start = min(w_start, W - self.patch_size)\n",
    "                \n",
    "                patch = x[:, :,\n",
    "                         h_start:h_start + self.patch_size,\n",
    "                         w_start:w_start + self.patch_size]\n",
    "                \n",
    "                patches.append(patch)\n",
    "                locations.append((h_start, w_start))\n",
    "        \n",
    "        patches = torch.stack(patches, dim=1)\n",
    "        # Apply weight mask with controlled precision\n",
    "        patches = patches * self.weight_mask.to(x.dtype).view(1, 1, 1, self.patch_size, self.patch_size)\n",
    "        \n",
    "        return patches, (locations, (H, W))\n"
   ]
  },
  {
   "cell_type": "code",
   "execution_count": 21,
   "id": "2bf36ce7",
   "metadata": {},
   "outputs": [],
   "source": [
    "#| export\n",
    "class ExactSizePatchNetworkONNX(nn.Module):\n",
    "    \"\"\"\n",
    "    ONNX-compatible network ensuring numerical consistency\n",
    "    \"\"\"\n",
    "    def __init__(self, base_model, patch_size=256, min_overlap=32):\n",
    "        super().__init__()\n",
    "        self.patch_maker = SizePreservingPatchLayerONNX(patch_size, min_overlap)\n",
    "        self.base_model = base_model\n",
    "        self.patch_merger = SizePreservingPatchMergerONNX(patch_size)\n",
    "        \n",
    "    def forward(self, x):\n",
    "        # Ensure input is float32 for consistency\n",
    "        x = x.to(torch.float32)\n",
    "        original_size = x.shape\n",
    "        \n",
    "        patches, info = self.patch_maker(x)\n",
    "        \n",
    "        # Process patches with controlled batch reshaping\n",
    "        B, N = patches.shape[:2]\n",
    "        patches = patches.reshape(B * N, *patches.shape[2:])\n",
    "        processed_patches = self.base_model(patches)\n",
    "        processed_patches = processed_patches.reshape(B, N, *processed_patches.shape[1:])\n",
    "        \n",
    "        # Merge patches with numerical stability\n",
    "        output = self.patch_merger(processed_patches, info)\n",
    "        \n",
    "        assert output.shape == original_size, f\"Size mismatch: Input {original_size}, Output {output.shape}\"\n",
    "        return output\n"
   ]
  },
  {
   "cell_type": "code",
   "execution_count": 8,
   "id": "6a73b2da",
   "metadata": {},
   "outputs": [
    {
     "name": "stderr",
     "output_type": "stream",
     "text": [
      "/home/user/miniconda3/lib/python3.11/site-packages/albumentations/__init__.py:13: UserWarning: A new version of Albumentations is available: 1.4.21 (you have 1.4.14). Upgrade using: pip install -U albumentations. To disable automatic update checks, set the environment variable NO_ALBUMENTATIONS_UPDATE to 1.\n",
      "  check_for_updates()\n"
     ]
    }
   ],
   "source": [
    "from segmentation_test.pytorch_model_development import UNet"
   ]
  },
  {
   "cell_type": "code",
   "execution_count": 9,
   "id": "ea75aa35",
   "metadata": {},
   "outputs": [
    {
     "data": {
      "text/plain": [
       "torch.Size([1, 1, 300, 300])"
      ]
     },
     "execution_count": 9,
     "metadata": {},
     "output_type": "execute_result"
    }
   ],
   "source": [
    "input_image = torch.randn(1, 1, 300, 300)\n",
    "base_model = UNet(in_channels=1, out_channels=1, features=[64, 128, 256], near_size=256)\n",
    "network = ExactSizePatchNetworkONNX(\n",
    "    base_model=base_model, \n",
    "    patch_size=256, \n",
    "    min_overlap=32)\n",
    "output = network(input_image)\n",
    "output.shape\n",
    "#| export"
   ]
  },
  {
   "cell_type": "code",
   "execution_count": 23,
   "id": "6f4e1b71",
   "metadata": {},
   "outputs": [
    {
     "name": "stderr",
     "output_type": "stream",
     "text": [
      "/tmp/ipykernel_2239584/2850269102.py:26: TracerWarning: Converting a tensor to a Python float might cause the trace to be incorrect. We can't record the data flow of Python values, so this value will be treated as a constant in the future. This means that the trace might not generalize to other inputs!\n",
      "  H, W = float(H), float(W)\n",
      "/tmp/ipykernel_2239584/2850269102.py:35: TracerWarning: torch.tensor results are registered as constants in the trace. You can safely ignore this warning if you use this function to create tensors out of constant variables that would be the same every time you call this function. In any other case, this might cause the trace to be incorrect.\n",
      "  stride_h = torch.tensor((H - patch_size) / max(n_patches_h - 1, 1), dtype=torch.float32)\n",
      "/tmp/ipykernel_2239584/2850269102.py:36: TracerWarning: torch.tensor results are registered as constants in the trace. You can safely ignore this warning if you use this function to create tensors out of constant variables that would be the same every time you call this function. In any other case, this might cause the trace to be incorrect.\n",
      "  stride_w = torch.tensor((W - patch_size) / max(n_patches_w - 1, 1), dtype=torch.float32)\n",
      "/tmp/ipykernel_2239584/2850269102.py:41: TracerWarning: Converting a tensor to a Python number might cause the trace to be incorrect. We can't record the data flow of Python values, so this value will be treated as a constant in the future. This means that the trace might not generalize to other inputs!\n",
      "  'stride_h': stride_h.item(),\n",
      "/tmp/ipykernel_2239584/2850269102.py:42: TracerWarning: Converting a tensor to a Python number might cause the trace to be incorrect. We can't record the data flow of Python values, so this value will be treated as a constant in the future. This means that the trace might not generalize to other inputs!\n",
      "  'stride_w': stride_w.item()\n",
      "/tmp/ipykernel_2239584/2850269102.py:59: TracerWarning: Converting a tensor to a Python boolean might cause the trace to be incorrect. We can't record the data flow of Python values, so this value will be treated as a constant in the future. This means that the trace might not generalize to other inputs!\n",
      "  h_start = min(h_start, H - self.patch_size)\n",
      "/tmp/ipykernel_2239584/2850269102.py:60: TracerWarning: Converting a tensor to a Python boolean might cause the trace to be incorrect. We can't record the data flow of Python values, so this value will be treated as a constant in the future. This means that the trace might not generalize to other inputs!\n",
      "  w_start = min(w_start, W - self.patch_size)\n",
      "/home/user/Schreibtisch/projects/git_data/segmentation_test/segmentation_test/pytorch_model_development.py:153: TracerWarning: Converting a tensor to a Python boolean might cause the trace to be incorrect. We can't record the data flow of Python values, so this value will be treated as a constant in the future. This means that the trace might not generalize to other inputs!\n",
      "  if h != self.size or w!=self.size:\n",
      "/tmp/ipykernel_2239584/2021104654.py:19: TracerWarning: Converting a tensor to a Python boolean might cause the trace to be incorrect. We can't record the data flow of Python values, so this value will be treated as a constant in the future. This means that the trace might not generalize to other inputs!\n",
      "  h_end = min(h_start + self.patch_size, H)\n",
      "/tmp/ipykernel_2239584/2021104654.py:20: TracerWarning: Converting a tensor to a Python boolean might cause the trace to be incorrect. We can't record the data flow of Python values, so this value will be treated as a constant in the future. This means that the trace might not generalize to other inputs!\n",
      "  w_end = min(w_start + self.patch_size, W)\n",
      "/tmp/ipykernel_2239584/3477684716.py:27: TracerWarning: Converting a tensor to a Python boolean might cause the trace to be incorrect. We can't record the data flow of Python values, so this value will be treated as a constant in the future. This means that the trace might not generalize to other inputs!\n",
      "  assert output.shape == original_size, f\"Size mismatch: Input {original_size}, Output {output.shape}\"\n"
     ]
    },
    {
     "data": {
      "text/plain": [
       "{'max_diff': 4.0978193e-08,\n",
       " 'mean_diff': 5.308063e-09,\n",
       " 'pytorch_output': array([[[[0.05229837, 0.05197935, 0.0531798 , ..., 0.05216144,\n",
       "           0.05292663, 0.05627326],\n",
       "          [0.04138024, 0.04260495, 0.04600115, ..., 0.04618616,\n",
       "           0.04291147, 0.05262633],\n",
       "          [0.04580892, 0.05131192, 0.0478221 , ..., 0.04899705,\n",
       "           0.04629134, 0.05292745],\n",
       "          ...,\n",
       "          [0.04628309, 0.04958029, 0.05422394, ..., 0.04823392,\n",
       "           0.04898105, 0.04917352],\n",
       "          [0.05093627, 0.04550996, 0.04198207, ..., 0.05080977,\n",
       "           0.0491537 , 0.05600167],\n",
       "          [0.05410715, 0.05408612, 0.05009517, ..., 0.05257736,\n",
       "           0.05256517, 0.05227383]]]], dtype=float32),\n",
       " 'onnx_output': array([[[[0.05229836, 0.05197934, 0.05317979, ..., 0.05216144,\n",
       "           0.05292663, 0.05627327],\n",
       "          [0.04138024, 0.04260498, 0.04600116, ..., 0.04618617,\n",
       "           0.04291149, 0.05262632],\n",
       "          [0.04580891, 0.05131193, 0.0478221 , ..., 0.04899706,\n",
       "           0.04629133, 0.05292746],\n",
       "          ...,\n",
       "          [0.04628308, 0.04958029, 0.05422392, ..., 0.04823392,\n",
       "           0.04898106, 0.04917352],\n",
       "          [0.05093629, 0.04550997, 0.04198207, ..., 0.05080977,\n",
       "           0.04915371, 0.05600166],\n",
       "          [0.05410715, 0.05408613, 0.05009519, ..., 0.05257735,\n",
       "           0.05256516, 0.05227382]]]], dtype=float32)}"
      ]
     },
     "execution_count": 23,
     "metadata": {},
     "output_type": "execute_result"
    }
   ],
   "source": [
    "compare_pytorch_onnx(network, input_image, \"optimized_patch_network.onnx\")"
   ]
  },
  {
   "cell_type": "code",
   "execution_count": 22,
   "id": "14bceffa",
   "metadata": {},
   "outputs": [],
   "source": [
    "#| export\n",
    "def compare_pytorch_onnx(model, input_tensor, onnx_path=\"model.onnx\"):\n",
    "    \"\"\"\n",
    "    Utility function to compare PyTorch and ONNX outputs\n",
    "    \"\"\"\n",
    "    # PyTorch forward pass\n",
    "    model.eval()\n",
    "    with torch.no_grad():\n",
    "        pytorch_output = model(input_tensor)\n",
    "\n",
    "    # Export to ONNX\n",
    "    torch.onnx.export(model, input_tensor, onnx_path, \n",
    "                     opset_version=12,\n",
    "                     input_names=['input'],\n",
    "                     output_names=['output'],\n",
    "                     dynamic_axes={'input': {0: 'batch_size'},\n",
    "                                 'output': {0: 'batch_size'}})\n",
    "\n",
    "    # ONNX inference\n",
    "    import onnxruntime\n",
    "    ort_session = onnxruntime.InferenceSession(onnx_path)\n",
    "    ort_inputs = {ort_session.get_inputs()[0].name: input_tensor.cpu().numpy()}\n",
    "    ort_output = ort_session.run(None, ort_inputs)[0]\n",
    "\n",
    "    # Compare results\n",
    "    pytorch_numpy = pytorch_output.cpu().numpy()\n",
    "    max_diff = np.max(np.abs(pytorch_numpy - ort_output))\n",
    "    mean_diff = np.mean(np.abs(pytorch_numpy - ort_output))\n",
    "    np.testing.assert_allclose(ort_output, pytorch_output.detach().numpy(), rtol=1e-03, atol=1e-05)\n",
    "    \n",
    "    return {\n",
    "        'max_diff': max_diff,\n",
    "        'mean_diff': mean_diff,\n",
    "        'pytorch_output': pytorch_numpy,\n",
    "        'onnx_output': ort_output\n",
    "    } "
   ]
  },
  {
   "cell_type": "code",
   "execution_count": 20,
   "id": "5de8afff",
   "metadata": {},
   "outputs": [],
   "source": [
    "#| export\n",
    "class SizePreservingPatchMerger(nn.Module):\n",
    "    \"\"\"\n",
    "    Patch merging layer that guarantees exact size preservation\n",
    "    \"\"\"\n",
    "    def __init__(self, patch_size=256):\n",
    "        super().__init__()\n",
    "        self.patch_size = patch_size\n",
    "        \n",
    "    def forward(self, patches, info):\n",
    "        locations, (H, W) = info\n",
    "        B, N, C, H_patch, W_patch = patches.shape\n",
    "        \n",
    "        # Initialize output and weight accumulator with exact input size\n",
    "        output = torch.zeros((B, C, H, W), device=patches.device)\n",
    "        weights = torch.zeros((B, 1, H, W), device=patches.device)\n",
    "        \n",
    "        # Reconstruct image using exact patch locations\n",
    "        for idx, (h_start, w_start) in enumerate(locations):\n",
    "            patch = patches[:, idx]\n",
    "            h_end = min(h_start + self.patch_size, H)\n",
    "            w_end = min(w_start + self.patch_size, W)\n",
    "            \n",
    "            output[:, :, h_start:h_end, w_start:w_end] += patch[:, :, :(h_end-h_start), :(w_end-w_start)]\n",
    "            weights[:, :, h_start:h_end, w_start:w_end] += 1\n",
    "            \n",
    "        # Average overlapping regions\n",
    "        output = output / (weights + 1e-8)\n",
    "        return output"
   ]
  },
  {
   "cell_type": "code",
   "execution_count": 21,
   "id": "46833064",
   "metadata": {},
   "outputs": [],
   "source": [
    "#| export\n",
    "class ExactSizePatchNetwork(nn.Module):\n",
    "    \"\"\"\n",
    "    Network that guarantees exact size preservation\n",
    "    \"\"\"\n",
    "    def __init__(self, base_model, patch_size=256, min_overlap=32):\n",
    "        super().__init__()\n",
    "        self.patch_maker = SizePreservingPatchLayer(patch_size, min_overlap)\n",
    "        self.base_model = base_model\n",
    "        self.patch_merger = SizePreservingPatchMerger(patch_size)\n",
    "        \n",
    "    def visualize_patches(self, x):\n",
    "        self.patch_maker.visualize_patch_grid(x)\n",
    "        \n",
    "    def forward(self, x):\n",
    "        # Store original size for verification\n",
    "        original_size = x.shape\n",
    "        \n",
    "        # Convert to patches\n",
    "        patches, info = self.patch_maker(x)\n",
    "        \n",
    "        # Process patches\n",
    "        B, N = patches.shape[:2]\n",
    "        patches = patches.reshape(B * N, *patches.shape[2:])\n",
    "        processed_patches = self.base_model(patches)\n",
    "        processed_patches = processed_patches.reshape(B, N, *processed_patches.shape[1:])\n",
    "        \n",
    "        # Reconstruct image\n",
    "        output = self.patch_merger(processed_patches, info)\n",
    "        \n",
    "        # Verify size match\n",
    "        assert output.shape == original_size, \\\n",
    "            f\"Size mismatch: Input {original_size}, Output {output.shape}\"\n",
    "            \n",
    "        return output"
   ]
  },
  {
   "cell_type": "code",
   "execution_count": 22,
   "id": "69d6b8e6",
   "metadata": {},
   "outputs": [],
   "source": [
    "#| exporti\n",
    "from segmentation_test.pytorch_model_development import UNet"
   ]
  },
  {
   "cell_type": "code",
   "execution_count": 9,
   "id": "0cf305a7",
   "metadata": {},
   "outputs": [],
   "source": [
    "#output = base_model(input_image)\n",
    "#print(output.shape)\n"
   ]
  },
  {
   "cell_type": "code",
   "execution_count": 7,
   "id": "ae8edbcb",
   "metadata": {},
   "outputs": [
    {
     "name": "stdout",
     "output_type": "stream",
     "text": [
      "torch.Size([1, 4, 1, 256, 256])\n",
      "([(0, 0), (0, 44), (44, 0), (44, 44)], (300, 300))\n",
      "torch.Size([4, 1, 256, 256])\n",
      "torch.Size([4, 1, 256, 256])\n"
     ]
    }
   ],
   "source": [
    "input_image = torch.randn(1, 1, 300, 300)\n",
    "size_preserving_patch_layer = SizePreservingPatchLayer(patch_size=256, min_overlap=32)\n",
    "patches, info = size_preserving_patch_layer(input_image)\n",
    "\n",
    "print(patches.shape)\n",
    "print(info)\n",
    "base_model = UNet(in_channels=1, out_channels=1, features=[64, 128, 256], near_size=256)\n",
    "B, N = patches.shape[:2]\n",
    "patches = patches.reshape(B * N, *patches.shape[2:])\n",
    "print(patches.shape)\n",
    "base_model.eval()\n",
    "with torch.no_grad():\n",
    "    output = base_model(patches)\n",
    "print(output.shape)"
   ]
  },
  {
   "cell_type": "code",
   "execution_count": 8,
   "id": "afc59235",
   "metadata": {},
   "outputs": [
    {
     "name": "stdout",
     "output_type": "stream",
     "text": [
      "torch.Size([1, 4, 1, 256, 256])\n"
     ]
    }
   ],
   "source": [
    "processed_patches = output.reshape(B, N, *output.shape[1:])\n",
    "print(processed_patches.shape)\n"
   ]
  },
  {
   "cell_type": "code",
   "execution_count": 9,
   "id": "edfb83c9",
   "metadata": {},
   "outputs": [
    {
     "name": "stdout",
     "output_type": "stream",
     "text": [
      "torch.Size([1, 1, 300, 300])\n"
     ]
    }
   ],
   "source": [
    "output = SizePreservingPatchMerger(patch_size=256)(processed_patches, info)\n",
    "print(output.shape)"
   ]
  },
  {
   "cell_type": "code",
   "execution_count": 10,
   "id": "1c050e72",
   "metadata": {},
   "outputs": [],
   "source": [
    "network = ExactSizePatchNetwork(base_model=base_model, patch_size=256, min_overlap=32)"
   ]
  },
  {
   "cell_type": "code",
   "execution_count": 11,
   "id": "ed3c2bab",
   "metadata": {},
   "outputs": [],
   "source": [
    "output = network(input_image)"
   ]
  },
  {
   "cell_type": "code",
   "execution_count": 12,
   "id": "a38967a1",
   "metadata": {},
   "outputs": [
    {
     "name": "stdout",
     "output_type": "stream",
     "text": [
      "torch.Size([1, 1, 300, 300])\n"
     ]
    }
   ],
   "source": [
    "print(output.shape)"
   ]
  },
  {
   "cell_type": "code",
   "execution_count": 13,
   "id": "5f6a2363",
   "metadata": {},
   "outputs": [
    {
     "name": "stderr",
     "output_type": "stream",
     "text": [
      "/tmp/ipykernel_2142595/1072114118.py:25: TracerWarning: Converting a tensor to a Python float might cause the trace to be incorrect. We can't record the data flow of Python values, so this value will be treated as a constant in the future. This means that the trace might not generalize to other inputs!\n",
      "  n_patches_h = math.ceil(H / (self.patch_size - self.min_overlap))\n",
      "/tmp/ipykernel_2142595/1072114118.py:26: TracerWarning: Converting a tensor to a Python float might cause the trace to be incorrect. We can't record the data flow of Python values, so this value will be treated as a constant in the future. This means that the trace might not generalize to other inputs!\n",
      "  n_patches_w = math.ceil(W / (self.patch_size - self.min_overlap))\n",
      "/tmp/ipykernel_2142595/1072114118.py:78: TracerWarning: Converting a tensor to a Python integer might cause the trace to be incorrect. We can't record the data flow of Python values, so this value will be treated as a constant in the future. This means that the trace might not generalize to other inputs!\n",
      "  h_start = int(i * grid['stride_h'])\n",
      "/tmp/ipykernel_2142595/1072114118.py:79: TracerWarning: Converting a tensor to a Python integer might cause the trace to be incorrect. We can't record the data flow of Python values, so this value will be treated as a constant in the future. This means that the trace might not generalize to other inputs!\n",
      "  w_start = int(j * grid['stride_w'])\n",
      "/tmp/ipykernel_2142595/1072114118.py:82: TracerWarning: Converting a tensor to a Python boolean might cause the trace to be incorrect. We can't record the data flow of Python values, so this value will be treated as a constant in the future. This means that the trace might not generalize to other inputs!\n",
      "  h_start = min(h_start, H - self.patch_size)\n",
      "/tmp/ipykernel_2142595/1072114118.py:83: TracerWarning: Converting a tensor to a Python boolean might cause the trace to be incorrect. We can't record the data flow of Python values, so this value will be treated as a constant in the future. This means that the trace might not generalize to other inputs!\n",
      "  w_start = min(w_start, W - self.patch_size)\n",
      "/home/user/Schreibtisch/projects/git_data/segmentation_test/segmentation_test/pytorch_model_development.py:153: TracerWarning: Converting a tensor to a Python boolean might cause the trace to be incorrect. We can't record the data flow of Python values, so this value will be treated as a constant in the future. This means that the trace might not generalize to other inputs!\n",
      "  if h != self.size or w!=self.size:\n",
      "/tmp/ipykernel_2142595/3639646438.py:21: TracerWarning: Converting a tensor to a Python boolean might cause the trace to be incorrect. We can't record the data flow of Python values, so this value will be treated as a constant in the future. This means that the trace might not generalize to other inputs!\n",
      "  h_end = min(h_start + self.patch_size, H)\n",
      "/tmp/ipykernel_2142595/3639646438.py:22: TracerWarning: Converting a tensor to a Python boolean might cause the trace to be incorrect. We can't record the data flow of Python values, so this value will be treated as a constant in the future. This means that the trace might not generalize to other inputs!\n",
      "  w_end = min(w_start + self.patch_size, W)\n",
      "/tmp/ipykernel_2142595/2855578544.py:32: TracerWarning: Converting a tensor to a Python boolean might cause the trace to be incorrect. We can't record the data flow of Python values, so this value will be treated as a constant in the future. This means that the trace might not generalize to other inputs!\n",
      "  assert output.shape == original_size, \\\n"
     ]
    }
   ],
   "source": [
    "# Export to ONNX\n",
    "torch.onnx.export(network,\n",
    "                 input_image,\n",
    "                 \"optimized_patch_network.onnx\",\n",
    "                 opset_version=12,\n",
    "                  input_names=['input'],\n",
    "                  output_names=['output'])"
   ]
  },
  {
   "cell_type": "code",
   "execution_count": null,
   "id": "59ab4f5d",
   "metadata": {},
   "outputs": [],
   "source": []
  },
  {
   "cell_type": "code",
   "execution_count": 14,
   "id": "438fd226",
   "metadata": {},
   "outputs": [],
   "source": [
    "import onnx\n",
    "import onnxruntime\n",
    "import numpy as np\n",
    "\n",
    "# Load the ONNX model\n",
    "onnx_model = onnx.load(\"optimized_patch_network.onnx\")\n",
    "\n",
    "# Check the model\n",
    "onnx.checker.check_model(onnx_model)\n"
   ]
  },
  {
   "cell_type": "code",
   "execution_count": 15,
   "id": "a94ad918",
   "metadata": {},
   "outputs": [
    {
     "data": {
      "text/plain": [
       "'graph main_graph (\\n  %input[FLOAT, 1x1x300x300]\\n) initializers (\\n  %base_model.ups.0.up.weight[FLOAT, 512x256x2x2]\\n  %base_model.ups.0.up.bias[FLOAT, 256]\\n  %base_model.ups.2.up.weight[FLOAT, 256x128x2x2]\\n  %base_model.ups.2.up.bias[FLOAT, 128]\\n  %base_model.ups.4.up.weight[FLOAT, 128x64x2x2]\\n  %base_model.ups.4.up.bias[FLOAT, 64]\\n  %base_model.final_conv.weight[FLOAT, 1x64x1x1]\\n  %base_model.final_conv.bias[FLOAT, 1]\\n  %onnx::Conv_1324[FLOAT, 64x1x3x3]\\n  %onnx::Conv_1325[FLOAT, 64]\\n  %onnx::Conv_1327[FLOAT, 64x64x3x3]\\n  %onnx::Conv_1328[FLOAT, 64]\\n  %onnx::Conv_1330[FLOAT, 128x64x3x3]\\n  %onnx::Conv_1331[FLOAT, 128]\\n  %onnx::Conv_1333[FLOAT, 128x128x3x3]\\n  %onnx::Conv_1334[FLOAT, 128]\\n  %onnx::Conv_1336[FLOAT, 256x128x3x3]\\n  %onnx::Conv_1337[FLOAT, 256]\\n  %onnx::Conv_1339[FLOAT, 256x256x3x3]\\n  %onnx::Conv_1340[FLOAT, 256]\\n  %onnx::Conv_1342[FLOAT, 512x256x3x3]\\n  %onnx::Conv_1343[FLOAT, 512]\\n  %onnx::Conv_1345[FLOAT, 512x512x3x3]\\n  %onnx::Conv_1346[FLOAT, 512]\\n  %onnx::Conv_1348[FLOAT, 256x512x3x3]\\n  %onnx::Conv_1349[FLOAT, 256]\\n  %onnx::Conv_1351[FLOAT, 256x256x3x3]\\n  %onnx::Conv_1352[FLOAT, 256]\\n  %onnx::Conv_1354[FLOAT, 128x256x3x3]\\n  %onnx::Conv_1355[FLOAT, 128]\\n  %onnx::Conv_1357[FLOAT, 128x128x3x3]\\n  %onnx::Conv_1358[FLOAT, 128]\\n  %onnx::Conv_1360[FLOAT, 64x128x3x3]\\n  %onnx::Conv_1361[FLOAT, 64]\\n  %onnx::Conv_1363[FLOAT, 64x64x3x3]\\n  %onnx::Conv_1364[FLOAT, 64]\\n  %onnx::Mul_1389[FLOAT, 1x1x1x256x256]\\n) {\\n  %/patch_maker/Constant_output_0 = Constant[value = <Scalar Tensor []>]()\\n  %/patch_maker/Constant_1_output_0 = Constant[value = <Scalar Tensor []>]()\\n  %/patch_maker/Constant_2_output_0 = Constant[value = <Scalar Tensor []>]()\\n  %/patch_maker/Constant_3_output_0 = Constant[value = <Scalar Tensor []>]()\\n  %/patch_maker/Constant_4_output_0 = Constant[value = <Tensor>]()\\n  %/patch_maker/Constant_5_output_0 = Constant[value = <Tensor>]()\\n  %/patch_maker/Constant_6_output_0 = Constant[value = <Tensor>]()\\n  %/patch_maker/Constant_7_output_0 = Constant[value = <Tensor>]()\\n  %/patch_maker/Slice_output_0 = Slice(%input, %/patch_maker/Constant_5_output_0, %/patch_maker/Constant_6_output_0, %/patch_maker/Constant_4_output_0, %/patch_maker/Constant_7_output_0)\\n  %/patch_maker/Constant_8_output_0 = Constant[value = <Tensor>]()\\n  %/patch_maker/Constant_9_output_0 = Constant[value = <Tensor>]()\\n  %/patch_maker/Constant_10_output_0 = Constant[value = <Tensor>]()\\n  %/patch_maker/Constant_11_output_0 = Constant[value = <Tensor>]()\\n  %/patch_maker/Slice_1_output_0 = Slice(%/patch_maker/Slice_output_0, %/patch_maker/Constant_9_output_0, %/patch_maker/Constant_10_output_0, %/patch_maker/Constant_8_output_0, %/patch_maker/Constant_11_output_0)\\n  %/patch_maker/Constant_12_output_0 = Constant[value = <Tensor>]()\\n  %/patch_maker/Constant_13_output_0 = Constant[value = <Tensor>]()\\n  %/patch_maker/Constant_14_output_0 = Constant[value = <Tensor>]()\\n  %/patch_maker/Constant_15_output_0 = Constant[value = <Tensor>]()\\n  %/patch_maker/Slice_2_output_0 = Slice(%/patch_maker/Slice_output_0, %/patch_maker/Constant_13_output_0, %/patch_maker/Constant_14_output_0, %/patch_maker/Constant_12_output_0, %/patch_maker/Constant_15_output_0)\\n  %/patch_maker/Constant_16_output_0 = Constant[value = <Tensor>]()\\n  %/patch_maker/Constant_17_output_0 = Constant[value = <Tensor>]()\\n  %/patch_maker/Constant_18_output_0 = Constant[value = <Tensor>]()\\n  %/patch_maker/Constant_19_output_0 = Constant[value = <Tensor>]()\\n  %/patch_maker/Slice_3_output_0 = Slice(%input, %/patch_maker/Constant_17_output_0, %/patch_maker/Constant_18_output_0, %/patch_maker/Constant_16_output_0, %/patch_maker/Constant_19_output_0)\\n  %/patch_maker/Constant_20_output_0 = Constant[value = <Tensor>]()\\n  %/patch_maker/Constant_21_output_0 = Constant[value = <Tensor>]()\\n  %/patch_maker/Constant_22_output_0 = Constant[value = <Tensor>]()\\n  %/patch_maker/Constant_23_output_0 = Constant[value = <Tensor>]()\\n  %/patch_maker/Slice_4_output_0 = Slice(%/patch_maker/Slice_3_output_0, %/patch_maker/Constant_21_output_0, %/patch_maker/Constant_22_output_0, %/patch_maker/Constant_20_output_0, %/patch_maker/Constant_23_output_0)\\n  %/patch_maker/Constant_24_output_0 = Constant[value = <Tensor>]()\\n  %/patch_maker/Constant_25_output_0 = Constant[value = <Tensor>]()\\n  %/patch_maker/Constant_26_output_0 = Constant[value = <Tensor>]()\\n  %/patch_maker/Constant_27_output_0 = Constant[value = <Tensor>]()\\n  %/patch_maker/Slice_5_output_0 = Slice(%/patch_maker/Slice_3_output_0, %/patch_maker/Constant_25_output_0, %/patch_maker/Constant_26_output_0, %/patch_maker/Constant_24_output_0, %/patch_maker/Constant_27_output_0)\\n  %/patch_maker/Unsqueeze_output_0 = Unsqueeze[axes = [1]](%/patch_maker/Slice_1_output_0)\\n  %/patch_maker/Unsqueeze_1_output_0 = Unsqueeze[axes = [1]](%/patch_maker/Slice_2_output_0)\\n  %/patch_maker/Unsqueeze_2_output_0 = Unsqueeze[axes = [1]](%/patch_maker/Slice_4_output_0)\\n  %/patch_maker/Unsqueeze_3_output_0 = Unsqueeze[axes = [1]](%/patch_maker/Slice_5_output_0)\\n  %/patch_maker/Concat_output_0 = Concat[axis = 1](%/patch_maker/Unsqueeze_output_0, %/patch_maker/Unsqueeze_1_output_0, %/patch_maker/Unsqueeze_2_output_0, %/patch_maker/Unsqueeze_3_output_0)\\n  %/patch_maker/Mul_output_0 = Mul(%/patch_maker/Concat_output_0, %onnx::Mul_1389)\\n  %/Constant_output_0 = Constant[value = <Tensor>]()\\n  %/Reshape_output_0 = Reshape(%/patch_maker/Mul_output_0, %/Constant_output_0)\\n  %/base_model/downs.0/conv/conv.0/Conv_output_0 = Conv[dilations = [1, 1], group = 1, kernel_shape = [3, 3], pads = [1, 1, 1, 1], strides = [1, 1]](%/Reshape_output_0, %onnx::Conv_1324, %onnx::Conv_1325)\\n  %/base_model/downs.0/conv/conv.2/Relu_output_0 = Relu(%/base_model/downs.0/conv/conv.0/Conv_output_0)\\n  %/base_model/downs.0/conv/conv.4/Conv_output_0 = Conv[dilations = [1, 1], group = 1, kernel_shape = [3, 3], pads = [1, 1, 1, 1], strides = [1, 1]](%/base_model/downs.0/conv/conv.2/Relu_output_0, %onnx::Conv_1327, %onnx::Conv_1328)\\n  %/base_model/downs.0/conv/conv.6/Relu_output_0 = Relu(%/base_model/downs.0/conv/conv.4/Conv_output_0)\\n  %/base_model/pool/MaxPool_output_0 = MaxPool[ceil_mode = 0, dilations = [1, 1], kernel_shape = [2, 2], pads = [0, 0, 0, 0], strides = [2, 2]](%/base_model/downs.0/conv/conv.6/Relu_output_0)\\n  %/base_model/downs.1/conv/conv.0/Conv_output_0 = Conv[dilations = [1, 1], group = 1, kernel_shape = [3, 3], pads = [1, 1, 1, 1], strides = [1, 1]](%/base_model/pool/MaxPool_output_0, %onnx::Conv_1330, %onnx::Conv_1331)\\n  %/base_model/downs.1/conv/conv.2/Relu_output_0 = Relu(%/base_model/downs.1/conv/conv.0/Conv_output_0)\\n  %/base_model/downs.1/conv/conv.4/Conv_output_0 = Conv[dilations = [1, 1], group = 1, kernel_shape = [3, 3], pads = [1, 1, 1, 1], strides = [1, 1]](%/base_model/downs.1/conv/conv.2/Relu_output_0, %onnx::Conv_1333, %onnx::Conv_1334)\\n  %/base_model/downs.1/conv/conv.6/Relu_output_0 = Relu(%/base_model/downs.1/conv/conv.4/Conv_output_0)\\n  %/base_model/pool_1/MaxPool_output_0 = MaxPool[ceil_mode = 0, dilations = [1, 1], kernel_shape = [2, 2], pads = [0, 0, 0, 0], strides = [2, 2]](%/base_model/downs.1/conv/conv.6/Relu_output_0)\\n  %/base_model/downs.2/conv/conv.0/Conv_output_0 = Conv[dilations = [1, 1], group = 1, kernel_shape = [3, 3], pads = [1, 1, 1, 1], strides = [1, 1]](%/base_model/pool_1/MaxPool_output_0, %onnx::Conv_1336, %onnx::Conv_1337)\\n  %/base_model/downs.2/conv/conv.2/Relu_output_0 = Relu(%/base_model/downs.2/conv/conv.0/Conv_output_0)\\n  %/base_model/downs.2/conv/conv.4/Conv_output_0 = Conv[dilations = [1, 1], group = 1, kernel_shape = [3, 3], pads = [1, 1, 1, 1], strides = [1, 1]](%/base_model/downs.2/conv/conv.2/Relu_output_0, %onnx::Conv_1339, %onnx::Conv_1340)\\n  %/base_model/downs.2/conv/conv.6/Relu_output_0 = Relu(%/base_model/downs.2/conv/conv.4/Conv_output_0)\\n  %/base_model/pool_2/MaxPool_output_0 = MaxPool[ceil_mode = 0, dilations = [1, 1], kernel_shape = [2, 2], pads = [0, 0, 0, 0], strides = [2, 2]](%/base_model/downs.2/conv/conv.6/Relu_output_0)\\n  %/base_model/bottleneck/conv/conv.0/Conv_output_0 = Conv[dilations = [1, 1], group = 1, kernel_shape = [3, 3], pads = [1, 1, 1, 1], strides = [1, 1]](%/base_model/pool_2/MaxPool_output_0, %onnx::Conv_1342, %onnx::Conv_1343)\\n  %/base_model/bottleneck/conv/conv.2/Relu_output_0 = Relu(%/base_model/bottleneck/conv/conv.0/Conv_output_0)\\n  %/base_model/bottleneck/conv/conv.4/Conv_output_0 = Conv[dilations = [1, 1], group = 1, kernel_shape = [3, 3], pads = [1, 1, 1, 1], strides = [1, 1]](%/base_model/bottleneck/conv/conv.2/Relu_output_0, %onnx::Conv_1345, %onnx::Conv_1346)\\n  %/base_model/bottleneck/conv/conv.6/Relu_output_0 = Relu(%/base_model/bottleneck/conv/conv.4/Conv_output_0)\\n  %/base_model/ups.0/up/ConvTranspose_output_0 = ConvTranspose[dilations = [1, 1], group = 1, kernel_shape = [2, 2], pads = [0, 0, 0, 0], strides = [2, 2]](%/base_model/bottleneck/conv/conv.6/Relu_output_0, %base_model.ups.0.up.weight, %base_model.ups.0.up.bias)\\n  %/base_model/ups.0/Concat_output_0 = Concat[axis = 1](%/base_model/ups.0/up/ConvTranspose_output_0, %/base_model/downs.2/conv/conv.6/Relu_output_0)\\n  %/base_model/ups.1/conv/conv.0/Conv_output_0 = Conv[dilations = [1, 1], group = 1, kernel_shape = [3, 3], pads = [1, 1, 1, 1], strides = [1, 1]](%/base_model/ups.0/Concat_output_0, %onnx::Conv_1348, %onnx::Conv_1349)\\n  %/base_model/ups.1/conv/conv.2/Relu_output_0 = Relu(%/base_model/ups.1/conv/conv.0/Conv_output_0)\\n  %/base_model/ups.1/conv/conv.4/Conv_output_0 = Conv[dilations = [1, 1], group = 1, kernel_shape = [3, 3], pads = [1, 1, 1, 1], strides = [1, 1]](%/base_model/ups.1/conv/conv.2/Relu_output_0, %onnx::Conv_1351, %onnx::Conv_1352)\\n  %/base_model/ups.1/conv/conv.6/Relu_output_0 = Relu(%/base_model/ups.1/conv/conv.4/Conv_output_0)\\n  %/base_model/ups.2/up/ConvTranspose_output_0 = ConvTranspose[dilations = [1, 1], group = 1, kernel_shape = [2, 2], pads = [0, 0, 0, 0], strides = [2, 2]](%/base_model/ups.1/conv/conv.6/Relu_output_0, %base_model.ups.2.up.weight, %base_model.ups.2.up.bias)\\n  %/base_model/ups.2/Concat_output_0 = Concat[axis = 1](%/base_model/ups.2/up/ConvTranspose_output_0, %/base_model/downs.1/conv/conv.6/Relu_output_0)\\n  %/base_model/ups.3/conv/conv.0/Conv_output_0 = Conv[dilations = [1, 1], group = 1, kernel_shape = [3, 3], pads = [1, 1, 1, 1], strides = [1, 1]](%/base_model/ups.2/Concat_output_0, %onnx::Conv_1354, %onnx::Conv_1355)\\n  %/base_model/ups.3/conv/conv.2/Relu_output_0 = Relu(%/base_model/ups.3/conv/conv.0/Conv_output_0)\\n  %/base_model/ups.3/conv/conv.4/Conv_output_0 = Conv[dilations = [1, 1], group = 1, kernel_shape = [3, 3], pads = [1, 1, 1, 1], strides = [1, 1]](%/base_model/ups.3/conv/conv.2/Relu_output_0, %onnx::Conv_1357, %onnx::Conv_1358)\\n  %/base_model/ups.3/conv/conv.6/Relu_output_0 = Relu(%/base_model/ups.3/conv/conv.4/Conv_output_0)\\n  %/base_model/ups.4/up/ConvTranspose_output_0 = ConvTranspose[dilations = [1, 1], group = 1, kernel_shape = [2, 2], pads = [0, 0, 0, 0], strides = [2, 2]](%/base_model/ups.3/conv/conv.6/Relu_output_0, %base_model.ups.4.up.weight, %base_model.ups.4.up.bias)\\n  %/base_model/ups.4/Concat_output_0 = Concat[axis = 1](%/base_model/ups.4/up/ConvTranspose_output_0, %/base_model/downs.0/conv/conv.6/Relu_output_0)\\n  %/base_model/ups.5/conv/conv.0/Conv_output_0 = Conv[dilations = [1, 1], group = 1, kernel_shape = [3, 3], pads = [1, 1, 1, 1], strides = [1, 1]](%/base_model/ups.4/Concat_output_0, %onnx::Conv_1360, %onnx::Conv_1361)\\n  %/base_model/ups.5/conv/conv.2/Relu_output_0 = Relu(%/base_model/ups.5/conv/conv.0/Conv_output_0)\\n  %/base_model/ups.5/conv/conv.4/Conv_output_0 = Conv[dilations = [1, 1], group = 1, kernel_shape = [3, 3], pads = [1, 1, 1, 1], strides = [1, 1]](%/base_model/ups.5/conv/conv.2/Relu_output_0, %onnx::Conv_1363, %onnx::Conv_1364)\\n  %/base_model/ups.5/conv/conv.6/Relu_output_0 = Relu(%/base_model/ups.5/conv/conv.4/Conv_output_0)\\n  %/base_model/final_conv/Conv_output_0 = Conv[dilations = [1, 1], group = 1, kernel_shape = [1, 1], pads = [0, 0, 0, 0], strides = [1, 1]](%/base_model/ups.5/conv/conv.6/Relu_output_0, %base_model.final_conv.weight, %base_model.final_conv.bias)\\n  %/base_model/Constant_output_0 = Constant[value = <Tensor>]()\\n  %/base_model/Constant_1_output_0 = Constant[value = <Tensor>]()\\n  %/base_model/Constant_2_output_0 = Constant[value = <Tensor>]()\\n  %/base_model/Constant_3_output_0 = Constant[value = <Tensor>]()\\n  %/base_model/Slice_output_0 = Slice(%/base_model/final_conv/Conv_output_0, %/base_model/Constant_1_output_0, %/base_model/Constant_2_output_0, %/base_model/Constant_output_0, %/base_model/Constant_3_output_0)\\n  %/base_model/Constant_4_output_0 = Constant[value = <Tensor>]()\\n  %/base_model/Constant_5_output_0 = Constant[value = <Tensor>]()\\n  %/base_model/Constant_6_output_0 = Constant[value = <Tensor>]()\\n  %/base_model/Constant_7_output_0 = Constant[value = <Tensor>]()\\n  %/base_model/Slice_1_output_0 = Slice(%/base_model/Slice_output_0, %/base_model/Constant_5_output_0, %/base_model/Constant_6_output_0, %/base_model/Constant_4_output_0, %/base_model/Constant_7_output_0)\\n  %/Constant_1_output_0 = Constant[value = <Tensor>]()\\n  %/Reshape_1_output_0 = Reshape(%/base_model/Slice_1_output_0, %/Constant_1_output_0)\\n  %/patch_merger/Constant_output_0 = Constant[value = <Tensor>]()\\n  %/patch_merger/Constant_1_output_0 = Constant[value = <Tensor>]()\\n  %/patch_merger/Gather_output_0 = Gather[axis = 1](%/Reshape_1_output_0, %/patch_maker/Constant_2_output_0)\\n  %/patch_merger/Constant_2_output_0 = Constant[value = <Tensor>]()\\n  %/patch_merger/Constant_3_output_0 = Constant[value = <Tensor>]()\\n  %/patch_merger/Constant_4_output_0 = Constant[value = <Tensor>]()\\n  %/patch_merger/Constant_5_output_0 = Constant[value = <Tensor>]()\\n  %/patch_merger/Slice_output_0 = Slice(%/patch_merger/Gather_output_0, %/patch_merger/Constant_3_output_0, %/patch_merger/Constant_4_output_0, %/patch_merger/Constant_2_output_0, %/patch_merger/Constant_5_output_0)\\n  %/patch_merger/Constant_6_output_0 = Constant[value = <Tensor>]()\\n  %/patch_merger/Constant_7_output_0 = Constant[value = <Tensor>]()\\n  %/patch_merger/Constant_8_output_0 = Constant[value = <Tensor>]()\\n  %/patch_merger/Constant_9_output_0 = Constant[value = <Tensor>]()\\n  %/patch_merger/Slice_1_output_0 = Slice(%/patch_merger/Slice_output_0, %/patch_merger/Constant_7_output_0, %/patch_merger/Constant_8_output_0, %/patch_merger/Constant_6_output_0, %/patch_merger/Constant_9_output_0)\\n  %/patch_merger/Constant_10_output_0 = Constant[value = <Tensor>]()\\n  %/patch_merger/Add_output_0 = Add(%/patch_merger/Constant_10_output_0, %/patch_merger/Slice_1_output_0)\\n  %/patch_merger/Constant_11_output_0 = Constant[value = <Tensor>]()\\n  %/patch_merger/Expand_output_0 = Expand(%/patch_merger/Add_output_0, %/patch_merger/Constant_11_output_0)\\n  %/patch_merger/Constant_12_output_0 = Constant[value = <Tensor>]()\\n  %onnx::Expand_258 = Constant[value = <Tensor>]()\\n  %onnx::Expand_259 = Constant[value = <Tensor>]()\\n  %onnx::Expand_260 = Constant[value = <Tensor>]()\\n  %/patch_merger/Constant_13_output_0 = Constant[value = <Tensor>]()\\n  %/patch_merger/Constant_14_output_0 = Constant[value = <Tensor>]()\\n  %/patch_merger/ConstantOfShape_output_0 = ConstantOfShape[value = <Tensor>](%/patch_merger/Constant_14_output_0)\\n  %/patch_merger/Constant_15_output_0 = Constant[value = <Scalar Tensor []>]()\\n  %/patch_merger/Mul_output_0 = Mul(%/patch_merger/ConstantOfShape_output_0, %/patch_merger/Constant_15_output_0)\\n  %/patch_merger/Equal_output_0 = Equal(%/patch_merger/Constant_13_output_0, %/patch_merger/Mul_output_0)\\n  %/patch_merger/Where_output_0 = Where(%/patch_merger/Equal_output_0, %/patch_merger/ConstantOfShape_output_0, %/patch_merger/Constant_13_output_0)\\n  %/patch_merger/Expand_1_output_0 = Expand(%onnx::Expand_258, %/patch_merger/Where_output_0)\\n  %/patch_merger/Unsqueeze_output_0 = Unsqueeze[axes = [-1]](%/patch_merger/Expand_1_output_0)\\n  %/patch_merger/Constant_16_output_0 = Constant[value = <Tensor>]()\\n  %/patch_merger/ConstantOfShape_1_output_0 = ConstantOfShape[value = <Tensor>](%/patch_merger/Constant_16_output_0)\\n  %/patch_merger/Constant_17_output_0 = Constant[value = <Scalar Tensor []>]()\\n  %/patch_merger/Mul_1_output_0 = Mul(%/patch_merger/ConstantOfShape_1_output_0, %/patch_merger/Constant_17_output_0)\\n  %/patch_merger/Equal_1_output_0 = Equal(%/patch_merger/Constant_13_output_0, %/patch_merger/Mul_1_output_0)\\n  %/patch_merger/Where_1_output_0 = Where(%/patch_merger/Equal_1_output_0, %/patch_merger/ConstantOfShape_1_output_0, %/patch_merger/Constant_13_output_0)\\n  %/patch_merger/Expand_2_output_0 = Expand(%onnx::Expand_259, %/patch_merger/Where_1_output_0)\\n  %/patch_merger/Unsqueeze_1_output_0 = Unsqueeze[axes = [-1]](%/patch_merger/Expand_2_output_0)\\n  %/patch_merger/Constant_18_output_0 = Constant[value = <Tensor>]()\\n  %/patch_merger/ConstantOfShape_2_output_0 = ConstantOfShape[value = <Tensor>](%/patch_merger/Constant_18_output_0)\\n  %/patch_merger/Constant_19_output_0 = Constant[value = <Scalar Tensor []>]()\\n  %/patch_merger/Mul_2_output_0 = Mul(%/patch_merger/ConstantOfShape_2_output_0, %/patch_merger/Constant_19_output_0)\\n  %/patch_merger/Equal_2_output_0 = Equal(%/patch_merger/Constant_13_output_0, %/patch_merger/Mul_2_output_0)\\n  %/patch_merger/Where_2_output_0 = Where(%/patch_merger/Equal_2_output_0, %/patch_merger/ConstantOfShape_2_output_0, %/patch_merger/Constant_13_output_0)\\n  %/patch_merger/Expand_3_output_0 = Expand(%onnx::Expand_260, %/patch_merger/Where_2_output_0)\\n  %/patch_merger/Unsqueeze_2_output_0 = Unsqueeze[axes = [-1]](%/patch_merger/Expand_3_output_0)\\n  %/patch_merger/Constant_20_output_0 = Constant[value = <Tensor>]()\\n  %/patch_merger/ConstantOfShape_3_output_0 = ConstantOfShape[value = <Tensor>](%/patch_merger/Constant_20_output_0)\\n  %/patch_merger/Constant_21_output_0 = Constant[value = <Scalar Tensor []>]()\\n  %/patch_merger/Mul_3_output_0 = Mul(%/patch_merger/ConstantOfShape_3_output_0, %/patch_merger/Constant_21_output_0)\\n  %/patch_merger/Equal_3_output_0 = Equal(%/patch_merger/Constant_13_output_0, %/patch_merger/Mul_3_output_0)\\n  %/patch_merger/Where_3_output_0 = Where(%/patch_merger/Equal_3_output_0, %/patch_merger/ConstantOfShape_3_output_0, %/patch_merger/Constant_13_output_0)\\n  %/patch_merger/Expand_4_output_0 = Expand(%/patch_merger/Constant_12_output_0, %/patch_merger/Where_3_output_0)\\n  %/patch_merger/Unsqueeze_3_output_0 = Unsqueeze[axes = [-1]](%/patch_merger/Expand_4_output_0)\\n  %/patch_merger/Concat_output_0 = Concat[axis = -1](%/patch_merger/Unsqueeze_output_0, %/patch_merger/Unsqueeze_1_output_0, %/patch_merger/Unsqueeze_2_output_0, %/patch_merger/Unsqueeze_3_output_0)\\n  %/patch_merger/Constant_22_output_0 = Constant[value = <Tensor>]()\\n  %/patch_merger/Reshape_output_0 = Reshape(%/patch_merger/Expand_output_0, %/patch_merger/Constant_22_output_0)\\n  %/patch_merger/ScatterND_output_0 = ScatterND(%/patch_merger/Constant_output_0, %/patch_merger/Concat_output_0, %/patch_merger/Reshape_output_0)\\n  %/patch_merger/Constant_23_output_0 = Constant[value = <Tensor>]()\\n  %/patch_merger/Constant_24_output_0 = Constant[value = <Tensor>]()\\n  %/patch_merger/Constant_25_output_0 = Constant[value = <Tensor>]()\\n  %/patch_merger/Constant_26_output_0 = Constant[value = <Tensor>]()\\n  %/patch_merger/Slice_2_output_0 = Slice(%/patch_merger/ScatterND_output_0, %/patch_merger/Constant_24_output_0, %/patch_merger/Constant_25_output_0, %/patch_merger/Constant_23_output_0, %/patch_merger/Constant_26_output_0)\\n  %/patch_merger/Constant_27_output_0 = Constant[value = <Tensor>]()\\n  %/patch_merger/Constant_28_output_0 = Constant[value = <Tensor>]()\\n  %/patch_merger/Constant_29_output_0 = Constant[value = <Tensor>]()\\n  %/patch_merger/Constant_30_output_0 = Constant[value = <Tensor>]()\\n  %/patch_merger/Slice_3_output_0 = Slice(%/patch_merger/Slice_2_output_0, %/patch_merger/Constant_28_output_0, %/patch_merger/Constant_29_output_0, %/patch_merger/Constant_27_output_0, %/patch_merger/Constant_30_output_0)\\n  %/patch_merger/Shape_output_0 = Shape(%/patch_merger/Slice_3_output_0)\\n  %/patch_merger/Expand_5_output_0 = Expand(%/patch_merger/Add_output_0, %/patch_merger/Shape_output_0)\\n  %/patch_merger/Constant_31_output_0 = Constant[value = <Tensor>]()\\n  %onnx::Expand_323 = Constant[value = <Tensor>]()\\n  %onnx::Expand_324 = Constant[value = <Tensor>]()\\n  %onnx::Expand_325 = Constant[value = <Tensor>]()\\n  %/patch_merger/Constant_32_output_0 = Constant[value = <Tensor>]()\\n  %/patch_merger/Constant_33_output_0 = Constant[value = <Tensor>]()\\n  %/patch_merger/ConstantOfShape_4_output_0 = ConstantOfShape[value = <Tensor>](%/patch_merger/Constant_33_output_0)\\n  %/patch_merger/Constant_34_output_0 = Constant[value = <Scalar Tensor []>]()\\n  %/patch_merger/Mul_4_output_0 = Mul(%/patch_merger/ConstantOfShape_4_output_0, %/patch_merger/Constant_34_output_0)\\n  %/patch_merger/Equal_4_output_0 = Equal(%/patch_merger/Constant_32_output_0, %/patch_merger/Mul_4_output_0)\\n  %/patch_merger/Where_4_output_0 = Where(%/patch_merger/Equal_4_output_0, %/patch_merger/ConstantOfShape_4_output_0, %/patch_merger/Constant_32_output_0)\\n  %/patch_merger/Expand_6_output_0 = Expand(%onnx::Expand_323, %/patch_merger/Where_4_output_0)\\n  %/patch_merger/Unsqueeze_4_output_0 = Unsqueeze[axes = [-1]](%/patch_merger/Expand_6_output_0)\\n  %/patch_merger/Constant_35_output_0 = Constant[value = <Tensor>]()\\n  %/patch_merger/ConstantOfShape_5_output_0 = ConstantOfShape[value = <Tensor>](%/patch_merger/Constant_35_output_0)\\n  %/patch_merger/Constant_36_output_0 = Constant[value = <Scalar Tensor []>]()\\n  %/patch_merger/Mul_5_output_0 = Mul(%/patch_merger/ConstantOfShape_5_output_0, %/patch_merger/Constant_36_output_0)\\n  %/patch_merger/Equal_5_output_0 = Equal(%/patch_merger/Constant_32_output_0, %/patch_merger/Mul_5_output_0)\\n  %/patch_merger/Where_5_output_0 = Where(%/patch_merger/Equal_5_output_0, %/patch_merger/ConstantOfShape_5_output_0, %/patch_merger/Constant_32_output_0)\\n  %/patch_merger/Expand_7_output_0 = Expand(%onnx::Expand_324, %/patch_merger/Where_5_output_0)\\n  %/patch_merger/Unsqueeze_5_output_0 = Unsqueeze[axes = [-1]](%/patch_merger/Expand_7_output_0)\\n  %/patch_merger/Constant_37_output_0 = Constant[value = <Tensor>]()\\n  %/patch_merger/ConstantOfShape_6_output_0 = ConstantOfShape[value = <Tensor>](%/patch_merger/Constant_37_output_0)\\n  %/patch_merger/Constant_38_output_0 = Constant[value = <Scalar Tensor []>]()\\n  %/patch_merger/Mul_6_output_0 = Mul(%/patch_merger/ConstantOfShape_6_output_0, %/patch_merger/Constant_38_output_0)\\n  %/patch_merger/Equal_6_output_0 = Equal(%/patch_merger/Constant_32_output_0, %/patch_merger/Mul_6_output_0)\\n  %/patch_merger/Where_6_output_0 = Where(%/patch_merger/Equal_6_output_0, %/patch_merger/ConstantOfShape_6_output_0, %/patch_merger/Constant_32_output_0)\\n  %/patch_merger/Expand_8_output_0 = Expand(%onnx::Expand_325, %/patch_merger/Where_6_output_0)\\n  %/patch_merger/Unsqueeze_6_output_0 = Unsqueeze[axes = [-1]](%/patch_merger/Expand_8_output_0)\\n  %/patch_merger/Constant_39_output_0 = Constant[value = <Tensor>]()\\n  %/patch_merger/ConstantOfShape_7_output_0 = ConstantOfShape[value = <Tensor>](%/patch_merger/Constant_39_output_0)\\n  %/patch_merger/Constant_40_output_0 = Constant[value = <Scalar Tensor []>]()\\n  %/patch_merger/Mul_7_output_0 = Mul(%/patch_merger/ConstantOfShape_7_output_0, %/patch_merger/Constant_40_output_0)\\n  %/patch_merger/Equal_7_output_0 = Equal(%/patch_merger/Constant_32_output_0, %/patch_merger/Mul_7_output_0)\\n  %/patch_merger/Where_7_output_0 = Where(%/patch_merger/Equal_7_output_0, %/patch_merger/ConstantOfShape_7_output_0, %/patch_merger/Constant_32_output_0)\\n  %/patch_merger/Expand_9_output_0 = Expand(%/patch_merger/Constant_31_output_0, %/patch_merger/Where_7_output_0)\\n  %/patch_merger/Unsqueeze_7_output_0 = Unsqueeze[axes = [-1]](%/patch_merger/Expand_9_output_0)\\n  %/patch_merger/Concat_1_output_0 = Concat[axis = -1](%/patch_merger/Unsqueeze_4_output_0, %/patch_merger/Unsqueeze_5_output_0, %/patch_merger/Unsqueeze_6_output_0, %/patch_merger/Unsqueeze_7_output_0)\\n  %/patch_merger/Shape_1_output_0 = Shape(%/patch_merger/ScatterND_output_0)\\n  %/patch_merger/Constant_41_output_0 = Constant[value = <Tensor>]()\\n  %/patch_merger/Constant_42_output_0 = Constant[value = <Tensor>]()\\n  %/patch_merger/Constant_43_output_0 = Constant[value = <Tensor>]()\\n  %/patch_merger/Slice_4_output_0 = Slice(%/patch_merger/Shape_1_output_0, %/patch_merger/Constant_42_output_0, %/patch_merger/Constant_43_output_0, %/patch_merger/Constant_41_output_0)\\n  %/patch_merger/Concat_2_output_0 = Concat[axis = 0](%/patch_merger/Constant_32_output_0, %/patch_merger/Slice_4_output_0)\\n  %/patch_merger/Reshape_1_output_0 = Reshape(%/patch_merger/Expand_5_output_0, %/patch_merger/Concat_2_output_0)\\n  %/patch_merger/ScatterND_1_output_0 = ScatterND(%/patch_merger/ScatterND_output_0, %/patch_merger/Concat_1_output_0, %/patch_merger/Reshape_1_output_0)\\n  %/patch_merger/Constant_44_output_0 = Constant[value = <Tensor>]()\\n  %/patch_merger/Constant_45_output_0 = Constant[value = <Tensor>]()\\n  %/patch_merger/Expand_10_output_0 = Expand(%/patch_merger/Constant_44_output_0, %/patch_merger/Constant_45_output_0)\\n  %/patch_merger/Constant_46_output_0 = Constant[value = <Tensor>]()\\n  %onnx::Expand_380 = Constant[value = <Tensor>]()\\n  %onnx::Expand_381 = Constant[value = <Tensor>]()\\n  %onnx::Expand_382 = Constant[value = <Tensor>]()\\n  %/patch_merger/Constant_47_output_0 = Constant[value = <Tensor>]()\\n  %/patch_merger/Constant_48_output_0 = Constant[value = <Tensor>]()\\n  %/patch_merger/ConstantOfShape_8_output_0 = ConstantOfShape[value = <Tensor>](%/patch_merger/Constant_48_output_0)\\n  %/patch_merger/Constant_49_output_0 = Constant[value = <Scalar Tensor []>]()\\n  %/patch_merger/Mul_8_output_0 = Mul(%/patch_merger/ConstantOfShape_8_output_0, %/patch_merger/Constant_49_output_0)\\n  %/patch_merger/Equal_8_output_0 = Equal(%/patch_merger/Constant_47_output_0, %/patch_merger/Mul_8_output_0)\\n  %/patch_merger/Where_8_output_0 = Where(%/patch_merger/Equal_8_output_0, %/patch_merger/ConstantOfShape_8_output_0, %/patch_merger/Constant_47_output_0)\\n  %/patch_merger/Expand_11_output_0 = Expand(%onnx::Expand_380, %/patch_merger/Where_8_output_0)\\n  %/patch_merger/Unsqueeze_8_output_0 = Unsqueeze[axes = [-1]](%/patch_merger/Expand_11_output_0)\\n  %/patch_merger/Constant_50_output_0 = Constant[value = <Tensor>]()\\n  %/patch_merger/ConstantOfShape_9_output_0 = ConstantOfShape[value = <Tensor>](%/patch_merger/Constant_50_output_0)\\n  %/patch_merger/Constant_51_output_0 = Constant[value = <Scalar Tensor []>]()\\n  %/patch_merger/Mul_9_output_0 = Mul(%/patch_merger/ConstantOfShape_9_output_0, %/patch_merger/Constant_51_output_0)\\n  %/patch_merger/Equal_9_output_0 = Equal(%/patch_merger/Constant_47_output_0, %/patch_merger/Mul_9_output_0)\\n  %/patch_merger/Where_9_output_0 = Where(%/patch_merger/Equal_9_output_0, %/patch_merger/ConstantOfShape_9_output_0, %/patch_merger/Constant_47_output_0)\\n  %/patch_merger/Expand_12_output_0 = Expand(%onnx::Expand_381, %/patch_merger/Where_9_output_0)\\n  %/patch_merger/Unsqueeze_9_output_0 = Unsqueeze[axes = [-1]](%/patch_merger/Expand_12_output_0)\\n  %/patch_merger/Constant_52_output_0 = Constant[value = <Tensor>]()\\n  %/patch_merger/ConstantOfShape_10_output_0 = ConstantOfShape[value = <Tensor>](%/patch_merger/Constant_52_output_0)\\n  %/patch_merger/Constant_53_output_0 = Constant[value = <Scalar Tensor []>]()\\n  %/patch_merger/Mul_10_output_0 = Mul(%/patch_merger/ConstantOfShape_10_output_0, %/patch_merger/Constant_53_output_0)\\n  %/patch_merger/Equal_10_output_0 = Equal(%/patch_merger/Constant_47_output_0, %/patch_merger/Mul_10_output_0)\\n  %/patch_merger/Where_10_output_0 = Where(%/patch_merger/Equal_10_output_0, %/patch_merger/ConstantOfShape_10_output_0, %/patch_merger/Constant_47_output_0)\\n  %/patch_merger/Expand_13_output_0 = Expand(%onnx::Expand_382, %/patch_merger/Where_10_output_0)\\n  %/patch_merger/Unsqueeze_10_output_0 = Unsqueeze[axes = [-1]](%/patch_merger/Expand_13_output_0)\\n  %/patch_merger/Constant_54_output_0 = Constant[value = <Tensor>]()\\n  %/patch_merger/ConstantOfShape_11_output_0 = ConstantOfShape[value = <Tensor>](%/patch_merger/Constant_54_output_0)\\n  %/patch_merger/Constant_55_output_0 = Constant[value = <Scalar Tensor []>]()\\n  %/patch_merger/Mul_11_output_0 = Mul(%/patch_merger/ConstantOfShape_11_output_0, %/patch_merger/Constant_55_output_0)\\n  %/patch_merger/Equal_11_output_0 = Equal(%/patch_merger/Constant_47_output_0, %/patch_merger/Mul_11_output_0)\\n  %/patch_merger/Where_11_output_0 = Where(%/patch_merger/Equal_11_output_0, %/patch_merger/ConstantOfShape_11_output_0, %/patch_merger/Constant_47_output_0)\\n  %/patch_merger/Expand_14_output_0 = Expand(%/patch_merger/Constant_46_output_0, %/patch_merger/Where_11_output_0)\\n  %/patch_merger/Unsqueeze_11_output_0 = Unsqueeze[axes = [-1]](%/patch_merger/Expand_14_output_0)\\n  %/patch_merger/Concat_3_output_0 = Concat[axis = -1](%/patch_merger/Unsqueeze_8_output_0, %/patch_merger/Unsqueeze_9_output_0, %/patch_merger/Unsqueeze_10_output_0, %/patch_merger/Unsqueeze_11_output_0)\\n  %/patch_merger/Constant_56_output_0 = Constant[value = <Tensor>]()\\n  %/patch_merger/Reshape_2_output_0 = Reshape(%/patch_merger/Expand_10_output_0, %/patch_merger/Constant_56_output_0)\\n  %/patch_merger/ScatterND_2_output_0 = ScatterND(%/patch_merger/Constant_1_output_0, %/patch_merger/Concat_3_output_0, %/patch_merger/Reshape_2_output_0)\\n  %/patch_merger/Constant_57_output_0 = Constant[value = <Tensor>]()\\n  %/patch_merger/Constant_58_output_0 = Constant[value = <Tensor>]()\\n  %/patch_merger/Constant_59_output_0 = Constant[value = <Tensor>]()\\n  %/patch_merger/Constant_60_output_0 = Constant[value = <Tensor>]()\\n  %/patch_merger/Slice_5_output_0 = Slice(%/patch_merger/ScatterND_2_output_0, %/patch_merger/Constant_58_output_0, %/patch_merger/Constant_59_output_0, %/patch_merger/Constant_57_output_0, %/patch_merger/Constant_60_output_0)\\n  %/patch_merger/Constant_61_output_0 = Constant[value = <Tensor>]()\\n  %/patch_merger/Constant_62_output_0 = Constant[value = <Tensor>]()\\n  %/patch_merger/Constant_63_output_0 = Constant[value = <Tensor>]()\\n  %/patch_merger/Constant_64_output_0 = Constant[value = <Tensor>]()\\n  %/patch_merger/Slice_6_output_0 = Slice(%/patch_merger/Slice_5_output_0, %/patch_merger/Constant_62_output_0, %/patch_merger/Constant_63_output_0, %/patch_merger/Constant_61_output_0, %/patch_merger/Constant_64_output_0)\\n  %/patch_merger/Constant_65_output_0 = Constant[value = <Tensor>]()\\n  %/patch_merger/Shape_2_output_0 = Shape(%/patch_merger/Slice_6_output_0)\\n  %/patch_merger/Expand_15_output_0 = Expand(%/patch_merger/Constant_65_output_0, %/patch_merger/Shape_2_output_0)\\n  %/patch_merger/Constant_66_output_0 = Constant[value = <Tensor>]()\\n  %onnx::Expand_446 = Constant[value = <Tensor>]()\\n  %onnx::Expand_447 = Constant[value = <Tensor>]()\\n  %onnx::Expand_448 = Constant[value = <Tensor>]()\\n  %/patch_merger/Constant_67_output_0 = Constant[value = <Tensor>]()\\n  %/patch_merger/Constant_68_output_0 = Constant[value = <Tensor>]()\\n  %/patch_merger/ConstantOfShape_12_output_0 = ConstantOfShape[value = <Tensor>](%/patch_merger/Constant_68_output_0)\\n  %/patch_merger/Constant_69_output_0 = Constant[value = <Scalar Tensor []>]()\\n  %/patch_merger/Mul_12_output_0 = Mul(%/patch_merger/ConstantOfShape_12_output_0, %/patch_merger/Constant_69_output_0)\\n  %/patch_merger/Equal_12_output_0 = Equal(%/patch_merger/Constant_67_output_0, %/patch_merger/Mul_12_output_0)\\n  %/patch_merger/Where_12_output_0 = Where(%/patch_merger/Equal_12_output_0, %/patch_merger/ConstantOfShape_12_output_0, %/patch_merger/Constant_67_output_0)\\n  %/patch_merger/Expand_16_output_0 = Expand(%onnx::Expand_446, %/patch_merger/Where_12_output_0)\\n  %/patch_merger/Unsqueeze_12_output_0 = Unsqueeze[axes = [-1]](%/patch_merger/Expand_16_output_0)\\n  %/patch_merger/Constant_70_output_0 = Constant[value = <Tensor>]()\\n  %/patch_merger/ConstantOfShape_13_output_0 = ConstantOfShape[value = <Tensor>](%/patch_merger/Constant_70_output_0)\\n  %/patch_merger/Constant_71_output_0 = Constant[value = <Scalar Tensor []>]()\\n  %/patch_merger/Mul_13_output_0 = Mul(%/patch_merger/ConstantOfShape_13_output_0, %/patch_merger/Constant_71_output_0)\\n  %/patch_merger/Equal_13_output_0 = Equal(%/patch_merger/Constant_67_output_0, %/patch_merger/Mul_13_output_0)\\n  %/patch_merger/Where_13_output_0 = Where(%/patch_merger/Equal_13_output_0, %/patch_merger/ConstantOfShape_13_output_0, %/patch_merger/Constant_67_output_0)\\n  %/patch_merger/Expand_17_output_0 = Expand(%onnx::Expand_447, %/patch_merger/Where_13_output_0)\\n  %/patch_merger/Unsqueeze_13_output_0 = Unsqueeze[axes = [-1]](%/patch_merger/Expand_17_output_0)\\n  %/patch_merger/Constant_72_output_0 = Constant[value = <Tensor>]()\\n  %/patch_merger/ConstantOfShape_14_output_0 = ConstantOfShape[value = <Tensor>](%/patch_merger/Constant_72_output_0)\\n  %/patch_merger/Constant_73_output_0 = Constant[value = <Scalar Tensor []>]()\\n  %/patch_merger/Mul_14_output_0 = Mul(%/patch_merger/ConstantOfShape_14_output_0, %/patch_merger/Constant_73_output_0)\\n  %/patch_merger/Equal_14_output_0 = Equal(%/patch_merger/Constant_67_output_0, %/patch_merger/Mul_14_output_0)\\n  %/patch_merger/Where_14_output_0 = Where(%/patch_merger/Equal_14_output_0, %/patch_merger/ConstantOfShape_14_output_0, %/patch_merger/Constant_67_output_0)\\n  %/patch_merger/Expand_18_output_0 = Expand(%onnx::Expand_448, %/patch_merger/Where_14_output_0)\\n  %/patch_merger/Unsqueeze_14_output_0 = Unsqueeze[axes = [-1]](%/patch_merger/Expand_18_output_0)\\n  %/patch_merger/Constant_74_output_0 = Constant[value = <Tensor>]()\\n  %/patch_merger/ConstantOfShape_15_output_0 = ConstantOfShape[value = <Tensor>](%/patch_merger/Constant_74_output_0)\\n  %/patch_merger/Constant_75_output_0 = Constant[value = <Scalar Tensor []>]()\\n  %/patch_merger/Mul_15_output_0 = Mul(%/patch_merger/ConstantOfShape_15_output_0, %/patch_merger/Constant_75_output_0)\\n  %/patch_merger/Equal_15_output_0 = Equal(%/patch_merger/Constant_67_output_0, %/patch_merger/Mul_15_output_0)\\n  %/patch_merger/Where_15_output_0 = Where(%/patch_merger/Equal_15_output_0, %/patch_merger/ConstantOfShape_15_output_0, %/patch_merger/Constant_67_output_0)\\n  %/patch_merger/Expand_19_output_0 = Expand(%/patch_merger/Constant_66_output_0, %/patch_merger/Where_15_output_0)\\n  %/patch_merger/Unsqueeze_15_output_0 = Unsqueeze[axes = [-1]](%/patch_merger/Expand_19_output_0)\\n  %/patch_merger/Concat_4_output_0 = Concat[axis = -1](%/patch_merger/Unsqueeze_12_output_0, %/patch_merger/Unsqueeze_13_output_0, %/patch_merger/Unsqueeze_14_output_0, %/patch_merger/Unsqueeze_15_output_0)\\n  %/patch_merger/Shape_3_output_0 = Shape(%/patch_merger/ScatterND_2_output_0)\\n  %/patch_merger/Constant_76_output_0 = Constant[value = <Tensor>]()\\n  %/patch_merger/Constant_77_output_0 = Constant[value = <Tensor>]()\\n  %/patch_merger/Constant_78_output_0 = Constant[value = <Tensor>]()\\n  %/patch_merger/Slice_7_output_0 = Slice(%/patch_merger/Shape_3_output_0, %/patch_merger/Constant_77_output_0, %/patch_merger/Constant_78_output_0, %/patch_merger/Constant_76_output_0)\\n  %/patch_merger/Concat_5_output_0 = Concat[axis = 0](%/patch_merger/Constant_67_output_0, %/patch_merger/Slice_7_output_0)\\n  %/patch_merger/Reshape_3_output_0 = Reshape(%/patch_merger/Expand_15_output_0, %/patch_merger/Concat_5_output_0)\\n  %/patch_merger/ScatterND_3_output_0 = ScatterND(%/patch_merger/ScatterND_2_output_0, %/patch_merger/Concat_4_output_0, %/patch_merger/Reshape_3_output_0)\\n  %/patch_merger/Gather_1_output_0 = Gather[axis = 1](%/Reshape_1_output_0, %/patch_maker/Constant_3_output_0)\\n  %/patch_merger/Constant_79_output_0 = Constant[value = <Tensor>]()\\n  %/patch_merger/Constant_80_output_0 = Constant[value = <Tensor>]()\\n  %/patch_merger/Constant_81_output_0 = Constant[value = <Tensor>]()\\n  %/patch_merger/Constant_82_output_0 = Constant[value = <Tensor>]()\\n  %/patch_merger/Slice_8_output_0 = Slice(%/patch_merger/ScatterND_1_output_0, %/patch_merger/Constant_80_output_0, %/patch_merger/Constant_81_output_0, %/patch_merger/Constant_79_output_0, %/patch_merger/Constant_82_output_0)\\n  %/patch_merger/Constant_83_output_0 = Constant[value = <Tensor>]()\\n  %/patch_merger/Constant_84_output_0 = Constant[value = <Tensor>]()\\n  %/patch_merger/Constant_85_output_0 = Constant[value = <Tensor>]()\\n  %/patch_merger/Constant_86_output_0 = Constant[value = <Tensor>]()\\n  %/patch_merger/Slice_9_output_0 = Slice(%/patch_merger/Slice_8_output_0, %/patch_merger/Constant_84_output_0, %/patch_merger/Constant_85_output_0, %/patch_merger/Constant_83_output_0, %/patch_merger/Constant_86_output_0)\\n  %/patch_merger/Constant_87_output_0 = Constant[value = <Tensor>]()\\n  %/patch_merger/Constant_88_output_0 = Constant[value = <Tensor>]()\\n  %/patch_merger/Constant_89_output_0 = Constant[value = <Tensor>]()\\n  %/patch_merger/Constant_90_output_0 = Constant[value = <Tensor>]()\\n  %/patch_merger/Slice_10_output_0 = Slice(%/patch_merger/Gather_1_output_0, %/patch_merger/Constant_88_output_0, %/patch_merger/Constant_89_output_0, %/patch_merger/Constant_87_output_0, %/patch_merger/Constant_90_output_0)\\n  %/patch_merger/Constant_91_output_0 = Constant[value = <Tensor>]()\\n  %/patch_merger/Constant_92_output_0 = Constant[value = <Tensor>]()\\n  %/patch_merger/Constant_93_output_0 = Constant[value = <Tensor>]()\\n  %/patch_merger/Constant_94_output_0 = Constant[value = <Tensor>]()\\n  %/patch_merger/Slice_11_output_0 = Slice(%/patch_merger/Slice_10_output_0, %/patch_merger/Constant_92_output_0, %/patch_merger/Constant_93_output_0, %/patch_merger/Constant_91_output_0, %/patch_merger/Constant_94_output_0)\\n  %/patch_merger/Add_1_output_0 = Add(%/patch_merger/Slice_9_output_0, %/patch_merger/Slice_11_output_0)\\n  %/patch_merger/Shape_4_output_0 = Shape(%/patch_merger/Slice_9_output_0)\\n  %/patch_merger/Expand_20_output_0 = Expand(%/patch_merger/Add_1_output_0, %/patch_merger/Shape_4_output_0)\\n  %/patch_merger/Constant_95_output_0 = Constant[value = <Tensor>]()\\n  %onnx::Expand_523 = Constant[value = <Tensor>]()\\n  %onnx::Expand_524 = Constant[value = <Tensor>]()\\n  %onnx::Expand_525 = Constant[value = <Tensor>]()\\n  %/patch_merger/Constant_96_output_0 = Constant[value = <Tensor>]()\\n  %/patch_merger/Constant_97_output_0 = Constant[value = <Tensor>]()\\n  %/patch_merger/ConstantOfShape_16_output_0 = ConstantOfShape[value = <Tensor>](%/patch_merger/Constant_97_output_0)\\n  %/patch_merger/Constant_98_output_0 = Constant[value = <Scalar Tensor []>]()\\n  %/patch_merger/Mul_16_output_0 = Mul(%/patch_merger/ConstantOfShape_16_output_0, %/patch_merger/Constant_98_output_0)\\n  %/patch_merger/Equal_16_output_0 = Equal(%/patch_merger/Constant_96_output_0, %/patch_merger/Mul_16_output_0)\\n  %/patch_merger/Where_16_output_0 = Where(%/patch_merger/Equal_16_output_0, %/patch_merger/ConstantOfShape_16_output_0, %/patch_merger/Constant_96_output_0)\\n  %/patch_merger/Expand_21_output_0 = Expand(%onnx::Expand_523, %/patch_merger/Where_16_output_0)\\n  %/patch_merger/Unsqueeze_16_output_0 = Unsqueeze[axes = [-1]](%/patch_merger/Expand_21_output_0)\\n  %/patch_merger/Constant_99_output_0 = Constant[value = <Tensor>]()\\n  %/patch_merger/ConstantOfShape_17_output_0 = ConstantOfShape[value = <Tensor>](%/patch_merger/Constant_99_output_0)\\n  %/patch_merger/Constant_100_output_0 = Constant[value = <Scalar Tensor []>]()\\n  %/patch_merger/Mul_17_output_0 = Mul(%/patch_merger/ConstantOfShape_17_output_0, %/patch_merger/Constant_100_output_0)\\n  %/patch_merger/Equal_17_output_0 = Equal(%/patch_merger/Constant_96_output_0, %/patch_merger/Mul_17_output_0)\\n  %/patch_merger/Where_17_output_0 = Where(%/patch_merger/Equal_17_output_0, %/patch_merger/ConstantOfShape_17_output_0, %/patch_merger/Constant_96_output_0)\\n  %/patch_merger/Expand_22_output_0 = Expand(%onnx::Expand_524, %/patch_merger/Where_17_output_0)\\n  %/patch_merger/Unsqueeze_17_output_0 = Unsqueeze[axes = [-1]](%/patch_merger/Expand_22_output_0)\\n  %/patch_merger/Constant_101_output_0 = Constant[value = <Tensor>]()\\n  %/patch_merger/ConstantOfShape_18_output_0 = ConstantOfShape[value = <Tensor>](%/patch_merger/Constant_101_output_0)\\n  %/patch_merger/Constant_102_output_0 = Constant[value = <Scalar Tensor []>]()\\n  %/patch_merger/Mul_18_output_0 = Mul(%/patch_merger/ConstantOfShape_18_output_0, %/patch_merger/Constant_102_output_0)\\n  %/patch_merger/Equal_18_output_0 = Equal(%/patch_merger/Constant_96_output_0, %/patch_merger/Mul_18_output_0)\\n  %/patch_merger/Where_18_output_0 = Where(%/patch_merger/Equal_18_output_0, %/patch_merger/ConstantOfShape_18_output_0, %/patch_merger/Constant_96_output_0)\\n  %/patch_merger/Expand_23_output_0 = Expand(%onnx::Expand_525, %/patch_merger/Where_18_output_0)\\n  %/patch_merger/Unsqueeze_18_output_0 = Unsqueeze[axes = [-1]](%/patch_merger/Expand_23_output_0)\\n  %/patch_merger/Constant_103_output_0 = Constant[value = <Tensor>]()\\n  %/patch_merger/ConstantOfShape_19_output_0 = ConstantOfShape[value = <Tensor>](%/patch_merger/Constant_103_output_0)\\n  %/patch_merger/Constant_104_output_0 = Constant[value = <Scalar Tensor []>]()\\n  %/patch_merger/Mul_19_output_0 = Mul(%/patch_merger/ConstantOfShape_19_output_0, %/patch_merger/Constant_104_output_0)\\n  %/patch_merger/Equal_19_output_0 = Equal(%/patch_merger/Constant_96_output_0, %/patch_merger/Mul_19_output_0)\\n  %/patch_merger/Where_19_output_0 = Where(%/patch_merger/Equal_19_output_0, %/patch_merger/ConstantOfShape_19_output_0, %/patch_merger/Constant_96_output_0)\\n  %/patch_merger/Expand_24_output_0 = Expand(%/patch_merger/Constant_95_output_0, %/patch_merger/Where_19_output_0)\\n  %/patch_merger/Unsqueeze_19_output_0 = Unsqueeze[axes = [-1]](%/patch_merger/Expand_24_output_0)\\n  %/patch_merger/Concat_6_output_0 = Concat[axis = -1](%/patch_merger/Unsqueeze_16_output_0, %/patch_merger/Unsqueeze_17_output_0, %/patch_merger/Unsqueeze_18_output_0, %/patch_merger/Unsqueeze_19_output_0)\\n  %/patch_merger/Shape_5_output_0 = Shape(%/patch_merger/ScatterND_1_output_0)\\n  %/patch_merger/Constant_105_output_0 = Constant[value = <Tensor>]()\\n  %/patch_merger/Constant_106_output_0 = Constant[value = <Tensor>]()\\n  %/patch_merger/Constant_107_output_0 = Constant[value = <Tensor>]()\\n  %/patch_merger/Slice_12_output_0 = Slice(%/patch_merger/Shape_5_output_0, %/patch_merger/Constant_106_output_0, %/patch_merger/Constant_107_output_0, %/patch_merger/Constant_105_output_0)\\n  %/patch_merger/Concat_7_output_0 = Concat[axis = 0](%/patch_merger/Constant_96_output_0, %/patch_merger/Slice_12_output_0)\\n  %/patch_merger/Reshape_4_output_0 = Reshape(%/patch_merger/Expand_20_output_0, %/patch_merger/Concat_7_output_0)\\n  %/patch_merger/ScatterND_4_output_0 = ScatterND(%/patch_merger/ScatterND_1_output_0, %/patch_merger/Concat_6_output_0, %/patch_merger/Reshape_4_output_0)\\n  %/patch_merger/Constant_108_output_0 = Constant[value = <Tensor>]()\\n  %/patch_merger/Constant_109_output_0 = Constant[value = <Tensor>]()\\n  %/patch_merger/Constant_110_output_0 = Constant[value = <Tensor>]()\\n  %/patch_merger/Constant_111_output_0 = Constant[value = <Tensor>]()\\n  %/patch_merger/Slice_13_output_0 = Slice(%/patch_merger/ScatterND_4_output_0, %/patch_merger/Constant_109_output_0, %/patch_merger/Constant_110_output_0, %/patch_merger/Constant_108_output_0, %/patch_merger/Constant_111_output_0)\\n  %/patch_merger/Constant_112_output_0 = Constant[value = <Tensor>]()\\n  %/patch_merger/Constant_113_output_0 = Constant[value = <Tensor>]()\\n  %/patch_merger/Constant_114_output_0 = Constant[value = <Tensor>]()\\n  %/patch_merger/Constant_115_output_0 = Constant[value = <Tensor>]()\\n  %/patch_merger/Slice_14_output_0 = Slice(%/patch_merger/Slice_13_output_0, %/patch_merger/Constant_113_output_0, %/patch_merger/Constant_114_output_0, %/patch_merger/Constant_112_output_0, %/patch_merger/Constant_115_output_0)\\n  %/patch_merger/Shape_6_output_0 = Shape(%/patch_merger/Slice_14_output_0)\\n  %/patch_merger/Expand_25_output_0 = Expand(%/patch_merger/Add_1_output_0, %/patch_merger/Shape_6_output_0)\\n  %/patch_merger/Constant_116_output_0 = Constant[value = <Tensor>]()\\n  %onnx::Expand_588 = Constant[value = <Tensor>]()\\n  %onnx::Expand_589 = Constant[value = <Tensor>]()\\n  %onnx::Expand_590 = Constant[value = <Tensor>]()\\n  %/patch_merger/Constant_117_output_0 = Constant[value = <Tensor>]()\\n  %/patch_merger/Constant_118_output_0 = Constant[value = <Tensor>]()\\n  %/patch_merger/ConstantOfShape_20_output_0 = ConstantOfShape[value = <Tensor>](%/patch_merger/Constant_118_output_0)\\n  %/patch_merger/Constant_119_output_0 = Constant[value = <Scalar Tensor []>]()\\n  %/patch_merger/Mul_20_output_0 = Mul(%/patch_merger/ConstantOfShape_20_output_0, %/patch_merger/Constant_119_output_0)\\n  %/patch_merger/Equal_20_output_0 = Equal(%/patch_merger/Constant_117_output_0, %/patch_merger/Mul_20_output_0)\\n  %/patch_merger/Where_20_output_0 = Where(%/patch_merger/Equal_20_output_0, %/patch_merger/ConstantOfShape_20_output_0, %/patch_merger/Constant_117_output_0)\\n  %/patch_merger/Expand_26_output_0 = Expand(%onnx::Expand_588, %/patch_merger/Where_20_output_0)\\n  %/patch_merger/Unsqueeze_20_output_0 = Unsqueeze[axes = [-1]](%/patch_merger/Expand_26_output_0)\\n  %/patch_merger/Constant_120_output_0 = Constant[value = <Tensor>]()\\n  %/patch_merger/ConstantOfShape_21_output_0 = ConstantOfShape[value = <Tensor>](%/patch_merger/Constant_120_output_0)\\n  %/patch_merger/Constant_121_output_0 = Constant[value = <Scalar Tensor []>]()\\n  %/patch_merger/Mul_21_output_0 = Mul(%/patch_merger/ConstantOfShape_21_output_0, %/patch_merger/Constant_121_output_0)\\n  %/patch_merger/Equal_21_output_0 = Equal(%/patch_merger/Constant_117_output_0, %/patch_merger/Mul_21_output_0)\\n  %/patch_merger/Where_21_output_0 = Where(%/patch_merger/Equal_21_output_0, %/patch_merger/ConstantOfShape_21_output_0, %/patch_merger/Constant_117_output_0)\\n  %/patch_merger/Expand_27_output_0 = Expand(%onnx::Expand_589, %/patch_merger/Where_21_output_0)\\n  %/patch_merger/Unsqueeze_21_output_0 = Unsqueeze[axes = [-1]](%/patch_merger/Expand_27_output_0)\\n  %/patch_merger/Constant_122_output_0 = Constant[value = <Tensor>]()\\n  %/patch_merger/ConstantOfShape_22_output_0 = ConstantOfShape[value = <Tensor>](%/patch_merger/Constant_122_output_0)\\n  %/patch_merger/Constant_123_output_0 = Constant[value = <Scalar Tensor []>]()\\n  %/patch_merger/Mul_22_output_0 = Mul(%/patch_merger/ConstantOfShape_22_output_0, %/patch_merger/Constant_123_output_0)\\n  %/patch_merger/Equal_22_output_0 = Equal(%/patch_merger/Constant_117_output_0, %/patch_merger/Mul_22_output_0)\\n  %/patch_merger/Where_22_output_0 = Where(%/patch_merger/Equal_22_output_0, %/patch_merger/ConstantOfShape_22_output_0, %/patch_merger/Constant_117_output_0)\\n  %/patch_merger/Expand_28_output_0 = Expand(%onnx::Expand_590, %/patch_merger/Where_22_output_0)\\n  %/patch_merger/Unsqueeze_22_output_0 = Unsqueeze[axes = [-1]](%/patch_merger/Expand_28_output_0)\\n  %/patch_merger/Constant_124_output_0 = Constant[value = <Tensor>]()\\n  %/patch_merger/ConstantOfShape_23_output_0 = ConstantOfShape[value = <Tensor>](%/patch_merger/Constant_124_output_0)\\n  %/patch_merger/Constant_125_output_0 = Constant[value = <Scalar Tensor []>]()\\n  %/patch_merger/Mul_23_output_0 = Mul(%/patch_merger/ConstantOfShape_23_output_0, %/patch_merger/Constant_125_output_0)\\n  %/patch_merger/Equal_23_output_0 = Equal(%/patch_merger/Constant_117_output_0, %/patch_merger/Mul_23_output_0)\\n  %/patch_merger/Where_23_output_0 = Where(%/patch_merger/Equal_23_output_0, %/patch_merger/ConstantOfShape_23_output_0, %/patch_merger/Constant_117_output_0)\\n  %/patch_merger/Expand_29_output_0 = Expand(%/patch_merger/Constant_116_output_0, %/patch_merger/Where_23_output_0)\\n  %/patch_merger/Unsqueeze_23_output_0 = Unsqueeze[axes = [-1]](%/patch_merger/Expand_29_output_0)\\n  %/patch_merger/Concat_8_output_0 = Concat[axis = -1](%/patch_merger/Unsqueeze_20_output_0, %/patch_merger/Unsqueeze_21_output_0, %/patch_merger/Unsqueeze_22_output_0, %/patch_merger/Unsqueeze_23_output_0)\\n  %/patch_merger/Shape_7_output_0 = Shape(%/patch_merger/ScatterND_4_output_0)\\n  %/patch_merger/Constant_126_output_0 = Constant[value = <Tensor>]()\\n  %/patch_merger/Constant_127_output_0 = Constant[value = <Tensor>]()\\n  %/patch_merger/Constant_128_output_0 = Constant[value = <Tensor>]()\\n  %/patch_merger/Slice_15_output_0 = Slice(%/patch_merger/Shape_7_output_0, %/patch_merger/Constant_127_output_0, %/patch_merger/Constant_128_output_0, %/patch_merger/Constant_126_output_0)\\n  %/patch_merger/Concat_9_output_0 = Concat[axis = 0](%/patch_merger/Constant_117_output_0, %/patch_merger/Slice_15_output_0)\\n  %/patch_merger/Reshape_5_output_0 = Reshape(%/patch_merger/Expand_25_output_0, %/patch_merger/Concat_9_output_0)\\n  %/patch_merger/ScatterND_5_output_0 = ScatterND(%/patch_merger/ScatterND_4_output_0, %/patch_merger/Concat_8_output_0, %/patch_merger/Reshape_5_output_0)\\n  %/patch_merger/Constant_129_output_0 = Constant[value = <Tensor>]()\\n  %/patch_merger/Constant_130_output_0 = Constant[value = <Tensor>]()\\n  %/patch_merger/Constant_131_output_0 = Constant[value = <Tensor>]()\\n  %/patch_merger/Constant_132_output_0 = Constant[value = <Tensor>]()\\n  %/patch_merger/Slice_16_output_0 = Slice(%/patch_merger/ScatterND_3_output_0, %/patch_merger/Constant_130_output_0, %/patch_merger/Constant_131_output_0, %/patch_merger/Constant_129_output_0, %/patch_merger/Constant_132_output_0)\\n  %/patch_merger/Constant_133_output_0 = Constant[value = <Tensor>]()\\n  %/patch_merger/Constant_134_output_0 = Constant[value = <Tensor>]()\\n  %/patch_merger/Constant_135_output_0 = Constant[value = <Tensor>]()\\n  %/patch_merger/Constant_136_output_0 = Constant[value = <Tensor>]()\\n  %/patch_merger/Slice_17_output_0 = Slice(%/patch_merger/Slice_16_output_0, %/patch_merger/Constant_134_output_0, %/patch_merger/Constant_135_output_0, %/patch_merger/Constant_133_output_0, %/patch_merger/Constant_136_output_0)\\n  %/patch_merger/Constant_137_output_0 = Constant[value = <Scalar Tensor []>]()\\n  %/patch_merger/Add_2_output_0 = Add(%/patch_merger/Slice_17_output_0, %/patch_merger/Constant_137_output_0)\\n  %/patch_merger/Shape_8_output_0 = Shape(%/patch_merger/Slice_17_output_0)\\n  %/patch_merger/Expand_30_output_0 = Expand(%/patch_merger/Add_2_output_0, %/patch_merger/Shape_8_output_0)\\n  %/patch_merger/Constant_138_output_0 = Constant[value = <Tensor>]()\\n  %onnx::Expand_655 = Constant[value = <Tensor>]()\\n  %onnx::Expand_656 = Constant[value = <Tensor>]()\\n  %onnx::Expand_657 = Constant[value = <Tensor>]()\\n  %/patch_merger/Constant_139_output_0 = Constant[value = <Tensor>]()\\n  %/patch_merger/Constant_140_output_0 = Constant[value = <Tensor>]()\\n  %/patch_merger/ConstantOfShape_24_output_0 = ConstantOfShape[value = <Tensor>](%/patch_merger/Constant_140_output_0)\\n  %/patch_merger/Constant_141_output_0 = Constant[value = <Scalar Tensor []>]()\\n  %/patch_merger/Mul_24_output_0 = Mul(%/patch_merger/ConstantOfShape_24_output_0, %/patch_merger/Constant_141_output_0)\\n  %/patch_merger/Equal_24_output_0 = Equal(%/patch_merger/Constant_139_output_0, %/patch_merger/Mul_24_output_0)\\n  %/patch_merger/Where_24_output_0 = Where(%/patch_merger/Equal_24_output_0, %/patch_merger/ConstantOfShape_24_output_0, %/patch_merger/Constant_139_output_0)\\n  %/patch_merger/Expand_31_output_0 = Expand(%onnx::Expand_655, %/patch_merger/Where_24_output_0)\\n  %/patch_merger/Unsqueeze_24_output_0 = Unsqueeze[axes = [-1]](%/patch_merger/Expand_31_output_0)\\n  %/patch_merger/Constant_142_output_0 = Constant[value = <Tensor>]()\\n  %/patch_merger/ConstantOfShape_25_output_0 = ConstantOfShape[value = <Tensor>](%/patch_merger/Constant_142_output_0)\\n  %/patch_merger/Constant_143_output_0 = Constant[value = <Scalar Tensor []>]()\\n  %/patch_merger/Mul_25_output_0 = Mul(%/patch_merger/ConstantOfShape_25_output_0, %/patch_merger/Constant_143_output_0)\\n  %/patch_merger/Equal_25_output_0 = Equal(%/patch_merger/Constant_139_output_0, %/patch_merger/Mul_25_output_0)\\n  %/patch_merger/Where_25_output_0 = Where(%/patch_merger/Equal_25_output_0, %/patch_merger/ConstantOfShape_25_output_0, %/patch_merger/Constant_139_output_0)\\n  %/patch_merger/Expand_32_output_0 = Expand(%onnx::Expand_656, %/patch_merger/Where_25_output_0)\\n  %/patch_merger/Unsqueeze_25_output_0 = Unsqueeze[axes = [-1]](%/patch_merger/Expand_32_output_0)\\n  %/patch_merger/Constant_144_output_0 = Constant[value = <Tensor>]()\\n  %/patch_merger/ConstantOfShape_26_output_0 = ConstantOfShape[value = <Tensor>](%/patch_merger/Constant_144_output_0)\\n  %/patch_merger/Constant_145_output_0 = Constant[value = <Scalar Tensor []>]()\\n  %/patch_merger/Mul_26_output_0 = Mul(%/patch_merger/ConstantOfShape_26_output_0, %/patch_merger/Constant_145_output_0)\\n  %/patch_merger/Equal_26_output_0 = Equal(%/patch_merger/Constant_139_output_0, %/patch_merger/Mul_26_output_0)\\n  %/patch_merger/Where_26_output_0 = Where(%/patch_merger/Equal_26_output_0, %/patch_merger/ConstantOfShape_26_output_0, %/patch_merger/Constant_139_output_0)\\n  %/patch_merger/Expand_33_output_0 = Expand(%onnx::Expand_657, %/patch_merger/Where_26_output_0)\\n  %/patch_merger/Unsqueeze_26_output_0 = Unsqueeze[axes = [-1]](%/patch_merger/Expand_33_output_0)\\n  %/patch_merger/Constant_146_output_0 = Constant[value = <Tensor>]()\\n  %/patch_merger/ConstantOfShape_27_output_0 = ConstantOfShape[value = <Tensor>](%/patch_merger/Constant_146_output_0)\\n  %/patch_merger/Constant_147_output_0 = Constant[value = <Scalar Tensor []>]()\\n  %/patch_merger/Mul_27_output_0 = Mul(%/patch_merger/ConstantOfShape_27_output_0, %/patch_merger/Constant_147_output_0)\\n  %/patch_merger/Equal_27_output_0 = Equal(%/patch_merger/Constant_139_output_0, %/patch_merger/Mul_27_output_0)\\n  %/patch_merger/Where_27_output_0 = Where(%/patch_merger/Equal_27_output_0, %/patch_merger/ConstantOfShape_27_output_0, %/patch_merger/Constant_139_output_0)\\n  %/patch_merger/Expand_34_output_0 = Expand(%/patch_merger/Constant_138_output_0, %/patch_merger/Where_27_output_0)\\n  %/patch_merger/Unsqueeze_27_output_0 = Unsqueeze[axes = [-1]](%/patch_merger/Expand_34_output_0)\\n  %/patch_merger/Concat_10_output_0 = Concat[axis = -1](%/patch_merger/Unsqueeze_24_output_0, %/patch_merger/Unsqueeze_25_output_0, %/patch_merger/Unsqueeze_26_output_0, %/patch_merger/Unsqueeze_27_output_0)\\n  %/patch_merger/Shape_9_output_0 = Shape(%/patch_merger/ScatterND_3_output_0)\\n  %/patch_merger/Constant_148_output_0 = Constant[value = <Tensor>]()\\n  %/patch_merger/Constant_149_output_0 = Constant[value = <Tensor>]()\\n  %/patch_merger/Constant_150_output_0 = Constant[value = <Tensor>]()\\n  %/patch_merger/Slice_18_output_0 = Slice(%/patch_merger/Shape_9_output_0, %/patch_merger/Constant_149_output_0, %/patch_merger/Constant_150_output_0, %/patch_merger/Constant_148_output_0)\\n  %/patch_merger/Concat_11_output_0 = Concat[axis = 0](%/patch_merger/Constant_139_output_0, %/patch_merger/Slice_18_output_0)\\n  %/patch_merger/Reshape_6_output_0 = Reshape(%/patch_merger/Expand_30_output_0, %/patch_merger/Concat_11_output_0)\\n  %/patch_merger/ScatterND_6_output_0 = ScatterND(%/patch_merger/ScatterND_3_output_0, %/patch_merger/Concat_10_output_0, %/patch_merger/Reshape_6_output_0)\\n  %/patch_merger/Constant_151_output_0 = Constant[value = <Tensor>]()\\n  %/patch_merger/Constant_152_output_0 = Constant[value = <Tensor>]()\\n  %/patch_merger/Constant_153_output_0 = Constant[value = <Tensor>]()\\n  %/patch_merger/Constant_154_output_0 = Constant[value = <Tensor>]()\\n  %/patch_merger/Slice_19_output_0 = Slice(%/patch_merger/ScatterND_6_output_0, %/patch_merger/Constant_152_output_0, %/patch_merger/Constant_153_output_0, %/patch_merger/Constant_151_output_0, %/patch_merger/Constant_154_output_0)\\n  %/patch_merger/Constant_155_output_0 = Constant[value = <Tensor>]()\\n  %/patch_merger/Constant_156_output_0 = Constant[value = <Tensor>]()\\n  %/patch_merger/Constant_157_output_0 = Constant[value = <Tensor>]()\\n  %/patch_merger/Constant_158_output_0 = Constant[value = <Tensor>]()\\n  %/patch_merger/Slice_20_output_0 = Slice(%/patch_merger/Slice_19_output_0, %/patch_merger/Constant_156_output_0, %/patch_merger/Constant_157_output_0, %/patch_merger/Constant_155_output_0, %/patch_merger/Constant_158_output_0)\\n  %/patch_merger/Shape_10_output_0 = Shape(%/patch_merger/Slice_20_output_0)\\n  %/patch_merger/Expand_35_output_0 = Expand(%/patch_merger/Add_2_output_0, %/patch_merger/Shape_10_output_0)\\n  %/patch_merger/Constant_159_output_0 = Constant[value = <Tensor>]()\\n  %onnx::Expand_720 = Constant[value = <Tensor>]()\\n  %onnx::Expand_721 = Constant[value = <Tensor>]()\\n  %onnx::Expand_722 = Constant[value = <Tensor>]()\\n  %/patch_merger/Constant_160_output_0 = Constant[value = <Tensor>]()\\n  %/patch_merger/Constant_161_output_0 = Constant[value = <Tensor>]()\\n  %/patch_merger/ConstantOfShape_28_output_0 = ConstantOfShape[value = <Tensor>](%/patch_merger/Constant_161_output_0)\\n  %/patch_merger/Constant_162_output_0 = Constant[value = <Scalar Tensor []>]()\\n  %/patch_merger/Mul_28_output_0 = Mul(%/patch_merger/ConstantOfShape_28_output_0, %/patch_merger/Constant_162_output_0)\\n  %/patch_merger/Equal_28_output_0 = Equal(%/patch_merger/Constant_160_output_0, %/patch_merger/Mul_28_output_0)\\n  %/patch_merger/Where_28_output_0 = Where(%/patch_merger/Equal_28_output_0, %/patch_merger/ConstantOfShape_28_output_0, %/patch_merger/Constant_160_output_0)\\n  %/patch_merger/Expand_36_output_0 = Expand(%onnx::Expand_720, %/patch_merger/Where_28_output_0)\\n  %/patch_merger/Unsqueeze_28_output_0 = Unsqueeze[axes = [-1]](%/patch_merger/Expand_36_output_0)\\n  %/patch_merger/Constant_163_output_0 = Constant[value = <Tensor>]()\\n  %/patch_merger/ConstantOfShape_29_output_0 = ConstantOfShape[value = <Tensor>](%/patch_merger/Constant_163_output_0)\\n  %/patch_merger/Constant_164_output_0 = Constant[value = <Scalar Tensor []>]()\\n  %/patch_merger/Mul_29_output_0 = Mul(%/patch_merger/ConstantOfShape_29_output_0, %/patch_merger/Constant_164_output_0)\\n  %/patch_merger/Equal_29_output_0 = Equal(%/patch_merger/Constant_160_output_0, %/patch_merger/Mul_29_output_0)\\n  %/patch_merger/Where_29_output_0 = Where(%/patch_merger/Equal_29_output_0, %/patch_merger/ConstantOfShape_29_output_0, %/patch_merger/Constant_160_output_0)\\n  %/patch_merger/Expand_37_output_0 = Expand(%onnx::Expand_721, %/patch_merger/Where_29_output_0)\\n  %/patch_merger/Unsqueeze_29_output_0 = Unsqueeze[axes = [-1]](%/patch_merger/Expand_37_output_0)\\n  %/patch_merger/Constant_165_output_0 = Constant[value = <Tensor>]()\\n  %/patch_merger/ConstantOfShape_30_output_0 = ConstantOfShape[value = <Tensor>](%/patch_merger/Constant_165_output_0)\\n  %/patch_merger/Constant_166_output_0 = Constant[value = <Scalar Tensor []>]()\\n  %/patch_merger/Mul_30_output_0 = Mul(%/patch_merger/ConstantOfShape_30_output_0, %/patch_merger/Constant_166_output_0)\\n  %/patch_merger/Equal_30_output_0 = Equal(%/patch_merger/Constant_160_output_0, %/patch_merger/Mul_30_output_0)\\n  %/patch_merger/Where_30_output_0 = Where(%/patch_merger/Equal_30_output_0, %/patch_merger/ConstantOfShape_30_output_0, %/patch_merger/Constant_160_output_0)\\n  %/patch_merger/Expand_38_output_0 = Expand(%onnx::Expand_722, %/patch_merger/Where_30_output_0)\\n  %/patch_merger/Unsqueeze_30_output_0 = Unsqueeze[axes = [-1]](%/patch_merger/Expand_38_output_0)\\n  %/patch_merger/Constant_167_output_0 = Constant[value = <Tensor>]()\\n  %/patch_merger/ConstantOfShape_31_output_0 = ConstantOfShape[value = <Tensor>](%/patch_merger/Constant_167_output_0)\\n  %/patch_merger/Constant_168_output_0 = Constant[value = <Scalar Tensor []>]()\\n  %/patch_merger/Mul_31_output_0 = Mul(%/patch_merger/ConstantOfShape_31_output_0, %/patch_merger/Constant_168_output_0)\\n  %/patch_merger/Equal_31_output_0 = Equal(%/patch_merger/Constant_160_output_0, %/patch_merger/Mul_31_output_0)\\n  %/patch_merger/Where_31_output_0 = Where(%/patch_merger/Equal_31_output_0, %/patch_merger/ConstantOfShape_31_output_0, %/patch_merger/Constant_160_output_0)\\n  %/patch_merger/Expand_39_output_0 = Expand(%/patch_merger/Constant_159_output_0, %/patch_merger/Where_31_output_0)\\n  %/patch_merger/Unsqueeze_31_output_0 = Unsqueeze[axes = [-1]](%/patch_merger/Expand_39_output_0)\\n  %/patch_merger/Concat_12_output_0 = Concat[axis = -1](%/patch_merger/Unsqueeze_28_output_0, %/patch_merger/Unsqueeze_29_output_0, %/patch_merger/Unsqueeze_30_output_0, %/patch_merger/Unsqueeze_31_output_0)\\n  %/patch_merger/Shape_11_output_0 = Shape(%/patch_merger/ScatterND_6_output_0)\\n  %/patch_merger/Constant_169_output_0 = Constant[value = <Tensor>]()\\n  %/patch_merger/Constant_170_output_0 = Constant[value = <Tensor>]()\\n  %/patch_merger/Constant_171_output_0 = Constant[value = <Tensor>]()\\n  %/patch_merger/Slice_21_output_0 = Slice(%/patch_merger/Shape_11_output_0, %/patch_merger/Constant_170_output_0, %/patch_merger/Constant_171_output_0, %/patch_merger/Constant_169_output_0)\\n  %/patch_merger/Concat_13_output_0 = Concat[axis = 0](%/patch_merger/Constant_160_output_0, %/patch_merger/Slice_21_output_0)\\n  %/patch_merger/Reshape_7_output_0 = Reshape(%/patch_merger/Expand_35_output_0, %/patch_merger/Concat_13_output_0)\\n  %/patch_merger/ScatterND_7_output_0 = ScatterND(%/patch_merger/ScatterND_6_output_0, %/patch_merger/Concat_12_output_0, %/patch_merger/Reshape_7_output_0)\\n  %/patch_merger/Gather_2_output_0 = Gather[axis = 1](%/Reshape_1_output_0, %/patch_maker/Constant_output_0)\\n  %/patch_merger/Constant_172_output_0 = Constant[value = <Tensor>]()\\n  %/patch_merger/Constant_173_output_0 = Constant[value = <Tensor>]()\\n  %/patch_merger/Constant_174_output_0 = Constant[value = <Tensor>]()\\n  %/patch_merger/Constant_175_output_0 = Constant[value = <Tensor>]()\\n  %/patch_merger/Slice_22_output_0 = Slice(%/patch_merger/ScatterND_5_output_0, %/patch_merger/Constant_173_output_0, %/patch_merger/Constant_174_output_0, %/patch_merger/Constant_172_output_0, %/patch_merger/Constant_175_output_0)\\n  %/patch_merger/Constant_176_output_0 = Constant[value = <Tensor>]()\\n  %/patch_merger/Constant_177_output_0 = Constant[value = <Tensor>]()\\n  %/patch_merger/Constant_178_output_0 = Constant[value = <Tensor>]()\\n  %/patch_merger/Constant_179_output_0 = Constant[value = <Tensor>]()\\n  %/patch_merger/Slice_23_output_0 = Slice(%/patch_merger/Slice_22_output_0, %/patch_merger/Constant_177_output_0, %/patch_merger/Constant_178_output_0, %/patch_merger/Constant_176_output_0, %/patch_merger/Constant_179_output_0)\\n  %/patch_merger/Constant_180_output_0 = Constant[value = <Tensor>]()\\n  %/patch_merger/Constant_181_output_0 = Constant[value = <Tensor>]()\\n  %/patch_merger/Constant_182_output_0 = Constant[value = <Tensor>]()\\n  %/patch_merger/Constant_183_output_0 = Constant[value = <Tensor>]()\\n  %/patch_merger/Slice_24_output_0 = Slice(%/patch_merger/Gather_2_output_0, %/patch_merger/Constant_181_output_0, %/patch_merger/Constant_182_output_0, %/patch_merger/Constant_180_output_0, %/patch_merger/Constant_183_output_0)\\n  %/patch_merger/Constant_184_output_0 = Constant[value = <Tensor>]()\\n  %/patch_merger/Constant_185_output_0 = Constant[value = <Tensor>]()\\n  %/patch_merger/Constant_186_output_0 = Constant[value = <Tensor>]()\\n  %/patch_merger/Constant_187_output_0 = Constant[value = <Tensor>]()\\n  %/patch_merger/Slice_25_output_0 = Slice(%/patch_merger/Slice_24_output_0, %/patch_merger/Constant_185_output_0, %/patch_merger/Constant_186_output_0, %/patch_merger/Constant_184_output_0, %/patch_merger/Constant_187_output_0)\\n  %/patch_merger/Add_3_output_0 = Add(%/patch_merger/Slice_23_output_0, %/patch_merger/Slice_25_output_0)\\n  %/patch_merger/Shape_12_output_0 = Shape(%/patch_merger/Slice_23_output_0)\\n  %/patch_merger/Expand_40_output_0 = Expand(%/patch_merger/Add_3_output_0, %/patch_merger/Shape_12_output_0)\\n  %/patch_merger/Constant_188_output_0 = Constant[value = <Tensor>]()\\n  %onnx::Expand_797 = Constant[value = <Tensor>]()\\n  %onnx::Expand_798 = Constant[value = <Tensor>]()\\n  %onnx::Expand_799 = Constant[value = <Tensor>]()\\n  %/patch_merger/Constant_189_output_0 = Constant[value = <Tensor>]()\\n  %/patch_merger/Constant_190_output_0 = Constant[value = <Tensor>]()\\n  %/patch_merger/ConstantOfShape_32_output_0 = ConstantOfShape[value = <Tensor>](%/patch_merger/Constant_190_output_0)\\n  %/patch_merger/Constant_191_output_0 = Constant[value = <Scalar Tensor []>]()\\n  %/patch_merger/Mul_32_output_0 = Mul(%/patch_merger/ConstantOfShape_32_output_0, %/patch_merger/Constant_191_output_0)\\n  %/patch_merger/Equal_32_output_0 = Equal(%/patch_merger/Constant_189_output_0, %/patch_merger/Mul_32_output_0)\\n  %/patch_merger/Where_32_output_0 = Where(%/patch_merger/Equal_32_output_0, %/patch_merger/ConstantOfShape_32_output_0, %/patch_merger/Constant_189_output_0)\\n  %/patch_merger/Expand_41_output_0 = Expand(%onnx::Expand_797, %/patch_merger/Where_32_output_0)\\n  %/patch_merger/Unsqueeze_32_output_0 = Unsqueeze[axes = [-1]](%/patch_merger/Expand_41_output_0)\\n  %/patch_merger/Constant_192_output_0 = Constant[value = <Tensor>]()\\n  %/patch_merger/ConstantOfShape_33_output_0 = ConstantOfShape[value = <Tensor>](%/patch_merger/Constant_192_output_0)\\n  %/patch_merger/Constant_193_output_0 = Constant[value = <Scalar Tensor []>]()\\n  %/patch_merger/Mul_33_output_0 = Mul(%/patch_merger/ConstantOfShape_33_output_0, %/patch_merger/Constant_193_output_0)\\n  %/patch_merger/Equal_33_output_0 = Equal(%/patch_merger/Constant_189_output_0, %/patch_merger/Mul_33_output_0)\\n  %/patch_merger/Where_33_output_0 = Where(%/patch_merger/Equal_33_output_0, %/patch_merger/ConstantOfShape_33_output_0, %/patch_merger/Constant_189_output_0)\\n  %/patch_merger/Expand_42_output_0 = Expand(%onnx::Expand_798, %/patch_merger/Where_33_output_0)\\n  %/patch_merger/Unsqueeze_33_output_0 = Unsqueeze[axes = [-1]](%/patch_merger/Expand_42_output_0)\\n  %/patch_merger/Constant_194_output_0 = Constant[value = <Tensor>]()\\n  %/patch_merger/ConstantOfShape_34_output_0 = ConstantOfShape[value = <Tensor>](%/patch_merger/Constant_194_output_0)\\n  %/patch_merger/Constant_195_output_0 = Constant[value = <Scalar Tensor []>]()\\n  %/patch_merger/Mul_34_output_0 = Mul(%/patch_merger/ConstantOfShape_34_output_0, %/patch_merger/Constant_195_output_0)\\n  %/patch_merger/Equal_34_output_0 = Equal(%/patch_merger/Constant_189_output_0, %/patch_merger/Mul_34_output_0)\\n  %/patch_merger/Where_34_output_0 = Where(%/patch_merger/Equal_34_output_0, %/patch_merger/ConstantOfShape_34_output_0, %/patch_merger/Constant_189_output_0)\\n  %/patch_merger/Expand_43_output_0 = Expand(%onnx::Expand_799, %/patch_merger/Where_34_output_0)\\n  %/patch_merger/Unsqueeze_34_output_0 = Unsqueeze[axes = [-1]](%/patch_merger/Expand_43_output_0)\\n  %/patch_merger/Constant_196_output_0 = Constant[value = <Tensor>]()\\n  %/patch_merger/ConstantOfShape_35_output_0 = ConstantOfShape[value = <Tensor>](%/patch_merger/Constant_196_output_0)\\n  %/patch_merger/Constant_197_output_0 = Constant[value = <Scalar Tensor []>]()\\n  %/patch_merger/Mul_35_output_0 = Mul(%/patch_merger/ConstantOfShape_35_output_0, %/patch_merger/Constant_197_output_0)\\n  %/patch_merger/Equal_35_output_0 = Equal(%/patch_merger/Constant_189_output_0, %/patch_merger/Mul_35_output_0)\\n  %/patch_merger/Where_35_output_0 = Where(%/patch_merger/Equal_35_output_0, %/patch_merger/ConstantOfShape_35_output_0, %/patch_merger/Constant_189_output_0)\\n  %/patch_merger/Expand_44_output_0 = Expand(%/patch_merger/Constant_188_output_0, %/patch_merger/Where_35_output_0)\\n  %/patch_merger/Unsqueeze_35_output_0 = Unsqueeze[axes = [-1]](%/patch_merger/Expand_44_output_0)\\n  %/patch_merger/Concat_14_output_0 = Concat[axis = -1](%/patch_merger/Unsqueeze_32_output_0, %/patch_merger/Unsqueeze_33_output_0, %/patch_merger/Unsqueeze_34_output_0, %/patch_merger/Unsqueeze_35_output_0)\\n  %/patch_merger/Shape_13_output_0 = Shape(%/patch_merger/ScatterND_5_output_0)\\n  %/patch_merger/Constant_198_output_0 = Constant[value = <Tensor>]()\\n  %/patch_merger/Constant_199_output_0 = Constant[value = <Tensor>]()\\n  %/patch_merger/Constant_200_output_0 = Constant[value = <Tensor>]()\\n  %/patch_merger/Slice_26_output_0 = Slice(%/patch_merger/Shape_13_output_0, %/patch_merger/Constant_199_output_0, %/patch_merger/Constant_200_output_0, %/patch_merger/Constant_198_output_0)\\n  %/patch_merger/Concat_15_output_0 = Concat[axis = 0](%/patch_merger/Constant_189_output_0, %/patch_merger/Slice_26_output_0)\\n  %/patch_merger/Reshape_8_output_0 = Reshape(%/patch_merger/Expand_40_output_0, %/patch_merger/Concat_15_output_0)\\n  %/patch_merger/ScatterND_8_output_0 = ScatterND(%/patch_merger/ScatterND_5_output_0, %/patch_merger/Concat_14_output_0, %/patch_merger/Reshape_8_output_0)\\n  %/patch_merger/Constant_201_output_0 = Constant[value = <Tensor>]()\\n  %/patch_merger/Constant_202_output_0 = Constant[value = <Tensor>]()\\n  %/patch_merger/Constant_203_output_0 = Constant[value = <Tensor>]()\\n  %/patch_merger/Constant_204_output_0 = Constant[value = <Tensor>]()\\n  %/patch_merger/Slice_27_output_0 = Slice(%/patch_merger/ScatterND_8_output_0, %/patch_merger/Constant_202_output_0, %/patch_merger/Constant_203_output_0, %/patch_merger/Constant_201_output_0, %/patch_merger/Constant_204_output_0)\\n  %/patch_merger/Constant_205_output_0 = Constant[value = <Tensor>]()\\n  %/patch_merger/Constant_206_output_0 = Constant[value = <Tensor>]()\\n  %/patch_merger/Constant_207_output_0 = Constant[value = <Tensor>]()\\n  %/patch_merger/Constant_208_output_0 = Constant[value = <Tensor>]()\\n  %/patch_merger/Slice_28_output_0 = Slice(%/patch_merger/Slice_27_output_0, %/patch_merger/Constant_206_output_0, %/patch_merger/Constant_207_output_0, %/patch_merger/Constant_205_output_0, %/patch_merger/Constant_208_output_0)\\n  %/patch_merger/Shape_14_output_0 = Shape(%/patch_merger/Slice_28_output_0)\\n  %/patch_merger/Expand_45_output_0 = Expand(%/patch_merger/Add_3_output_0, %/patch_merger/Shape_14_output_0)\\n  %/patch_merger/Constant_209_output_0 = Constant[value = <Tensor>]()\\n  %onnx::Expand_862 = Constant[value = <Tensor>]()\\n  %onnx::Expand_863 = Constant[value = <Tensor>]()\\n  %onnx::Expand_864 = Constant[value = <Tensor>]()\\n  %/patch_merger/Constant_210_output_0 = Constant[value = <Tensor>]()\\n  %/patch_merger/Constant_211_output_0 = Constant[value = <Tensor>]()\\n  %/patch_merger/ConstantOfShape_36_output_0 = ConstantOfShape[value = <Tensor>](%/patch_merger/Constant_211_output_0)\\n  %/patch_merger/Constant_212_output_0 = Constant[value = <Scalar Tensor []>]()\\n  %/patch_merger/Mul_36_output_0 = Mul(%/patch_merger/ConstantOfShape_36_output_0, %/patch_merger/Constant_212_output_0)\\n  %/patch_merger/Equal_36_output_0 = Equal(%/patch_merger/Constant_210_output_0, %/patch_merger/Mul_36_output_0)\\n  %/patch_merger/Where_36_output_0 = Where(%/patch_merger/Equal_36_output_0, %/patch_merger/ConstantOfShape_36_output_0, %/patch_merger/Constant_210_output_0)\\n  %/patch_merger/Expand_46_output_0 = Expand(%onnx::Expand_862, %/patch_merger/Where_36_output_0)\\n  %/patch_merger/Unsqueeze_36_output_0 = Unsqueeze[axes = [-1]](%/patch_merger/Expand_46_output_0)\\n  %/patch_merger/Constant_213_output_0 = Constant[value = <Tensor>]()\\n  %/patch_merger/ConstantOfShape_37_output_0 = ConstantOfShape[value = <Tensor>](%/patch_merger/Constant_213_output_0)\\n  %/patch_merger/Constant_214_output_0 = Constant[value = <Scalar Tensor []>]()\\n  %/patch_merger/Mul_37_output_0 = Mul(%/patch_merger/ConstantOfShape_37_output_0, %/patch_merger/Constant_214_output_0)\\n  %/patch_merger/Equal_37_output_0 = Equal(%/patch_merger/Constant_210_output_0, %/patch_merger/Mul_37_output_0)\\n  %/patch_merger/Where_37_output_0 = Where(%/patch_merger/Equal_37_output_0, %/patch_merger/ConstantOfShape_37_output_0, %/patch_merger/Constant_210_output_0)\\n  %/patch_merger/Expand_47_output_0 = Expand(%onnx::Expand_863, %/patch_merger/Where_37_output_0)\\n  %/patch_merger/Unsqueeze_37_output_0 = Unsqueeze[axes = [-1]](%/patch_merger/Expand_47_output_0)\\n  %/patch_merger/Constant_215_output_0 = Constant[value = <Tensor>]()\\n  %/patch_merger/ConstantOfShape_38_output_0 = ConstantOfShape[value = <Tensor>](%/patch_merger/Constant_215_output_0)\\n  %/patch_merger/Constant_216_output_0 = Constant[value = <Scalar Tensor []>]()\\n  %/patch_merger/Mul_38_output_0 = Mul(%/patch_merger/ConstantOfShape_38_output_0, %/patch_merger/Constant_216_output_0)\\n  %/patch_merger/Equal_38_output_0 = Equal(%/patch_merger/Constant_210_output_0, %/patch_merger/Mul_38_output_0)\\n  %/patch_merger/Where_38_output_0 = Where(%/patch_merger/Equal_38_output_0, %/patch_merger/ConstantOfShape_38_output_0, %/patch_merger/Constant_210_output_0)\\n  %/patch_merger/Expand_48_output_0 = Expand(%onnx::Expand_864, %/patch_merger/Where_38_output_0)\\n  %/patch_merger/Unsqueeze_38_output_0 = Unsqueeze[axes = [-1]](%/patch_merger/Expand_48_output_0)\\n  %/patch_merger/Constant_217_output_0 = Constant[value = <Tensor>]()\\n  %/patch_merger/ConstantOfShape_39_output_0 = ConstantOfShape[value = <Tensor>](%/patch_merger/Constant_217_output_0)\\n  %/patch_merger/Constant_218_output_0 = Constant[value = <Scalar Tensor []>]()\\n  %/patch_merger/Mul_39_output_0 = Mul(%/patch_merger/ConstantOfShape_39_output_0, %/patch_merger/Constant_218_output_0)\\n  %/patch_merger/Equal_39_output_0 = Equal(%/patch_merger/Constant_210_output_0, %/patch_merger/Mul_39_output_0)\\n  %/patch_merger/Where_39_output_0 = Where(%/patch_merger/Equal_39_output_0, %/patch_merger/ConstantOfShape_39_output_0, %/patch_merger/Constant_210_output_0)\\n  %/patch_merger/Expand_49_output_0 = Expand(%/patch_merger/Constant_209_output_0, %/patch_merger/Where_39_output_0)\\n  %/patch_merger/Unsqueeze_39_output_0 = Unsqueeze[axes = [-1]](%/patch_merger/Expand_49_output_0)\\n  %/patch_merger/Concat_16_output_0 = Concat[axis = -1](%/patch_merger/Unsqueeze_36_output_0, %/patch_merger/Unsqueeze_37_output_0, %/patch_merger/Unsqueeze_38_output_0, %/patch_merger/Unsqueeze_39_output_0)\\n  %/patch_merger/Shape_15_output_0 = Shape(%/patch_merger/ScatterND_8_output_0)\\n  %/patch_merger/Constant_219_output_0 = Constant[value = <Tensor>]()\\n  %/patch_merger/Constant_220_output_0 = Constant[value = <Tensor>]()\\n  %/patch_merger/Constant_221_output_0 = Constant[value = <Tensor>]()\\n  %/patch_merger/Slice_29_output_0 = Slice(%/patch_merger/Shape_15_output_0, %/patch_merger/Constant_220_output_0, %/patch_merger/Constant_221_output_0, %/patch_merger/Constant_219_output_0)\\n  %/patch_merger/Concat_17_output_0 = Concat[axis = 0](%/patch_merger/Constant_210_output_0, %/patch_merger/Slice_29_output_0)\\n  %/patch_merger/Reshape_9_output_0 = Reshape(%/patch_merger/Expand_45_output_0, %/patch_merger/Concat_17_output_0)\\n  %/patch_merger/ScatterND_9_output_0 = ScatterND(%/patch_merger/ScatterND_8_output_0, %/patch_merger/Concat_16_output_0, %/patch_merger/Reshape_9_output_0)\\n  %/patch_merger/Constant_222_output_0 = Constant[value = <Tensor>]()\\n  %/patch_merger/Constant_223_output_0 = Constant[value = <Tensor>]()\\n  %/patch_merger/Constant_224_output_0 = Constant[value = <Tensor>]()\\n  %/patch_merger/Constant_225_output_0 = Constant[value = <Tensor>]()\\n  %/patch_merger/Slice_30_output_0 = Slice(%/patch_merger/ScatterND_7_output_0, %/patch_merger/Constant_223_output_0, %/patch_merger/Constant_224_output_0, %/patch_merger/Constant_222_output_0, %/patch_merger/Constant_225_output_0)\\n  %/patch_merger/Constant_226_output_0 = Constant[value = <Tensor>]()\\n  %/patch_merger/Constant_227_output_0 = Constant[value = <Tensor>]()\\n  %/patch_merger/Constant_228_output_0 = Constant[value = <Tensor>]()\\n  %/patch_merger/Constant_229_output_0 = Constant[value = <Tensor>]()\\n  %/patch_merger/Slice_31_output_0 = Slice(%/patch_merger/Slice_30_output_0, %/patch_merger/Constant_227_output_0, %/patch_merger/Constant_228_output_0, %/patch_merger/Constant_226_output_0, %/patch_merger/Constant_229_output_0)\\n  %/patch_merger/Constant_230_output_0 = Constant[value = <Scalar Tensor []>]()\\n  %/patch_merger/Add_4_output_0 = Add(%/patch_merger/Slice_31_output_0, %/patch_merger/Constant_230_output_0)\\n  %/patch_merger/Shape_16_output_0 = Shape(%/patch_merger/Slice_31_output_0)\\n  %/patch_merger/Expand_50_output_0 = Expand(%/patch_merger/Add_4_output_0, %/patch_merger/Shape_16_output_0)\\n  %/patch_merger/Constant_231_output_0 = Constant[value = <Tensor>]()\\n  %onnx::Expand_929 = Constant[value = <Tensor>]()\\n  %onnx::Expand_930 = Constant[value = <Tensor>]()\\n  %onnx::Expand_931 = Constant[value = <Tensor>]()\\n  %/patch_merger/Constant_232_output_0 = Constant[value = <Tensor>]()\\n  %/patch_merger/Constant_233_output_0 = Constant[value = <Tensor>]()\\n  %/patch_merger/ConstantOfShape_40_output_0 = ConstantOfShape[value = <Tensor>](%/patch_merger/Constant_233_output_0)\\n  %/patch_merger/Constant_234_output_0 = Constant[value = <Scalar Tensor []>]()\\n  %/patch_merger/Mul_40_output_0 = Mul(%/patch_merger/ConstantOfShape_40_output_0, %/patch_merger/Constant_234_output_0)\\n  %/patch_merger/Equal_40_output_0 = Equal(%/patch_merger/Constant_232_output_0, %/patch_merger/Mul_40_output_0)\\n  %/patch_merger/Where_40_output_0 = Where(%/patch_merger/Equal_40_output_0, %/patch_merger/ConstantOfShape_40_output_0, %/patch_merger/Constant_232_output_0)\\n  %/patch_merger/Expand_51_output_0 = Expand(%onnx::Expand_929, %/patch_merger/Where_40_output_0)\\n  %/patch_merger/Unsqueeze_40_output_0 = Unsqueeze[axes = [-1]](%/patch_merger/Expand_51_output_0)\\n  %/patch_merger/Constant_235_output_0 = Constant[value = <Tensor>]()\\n  %/patch_merger/ConstantOfShape_41_output_0 = ConstantOfShape[value = <Tensor>](%/patch_merger/Constant_235_output_0)\\n  %/patch_merger/Constant_236_output_0 = Constant[value = <Scalar Tensor []>]()\\n  %/patch_merger/Mul_41_output_0 = Mul(%/patch_merger/ConstantOfShape_41_output_0, %/patch_merger/Constant_236_output_0)\\n  %/patch_merger/Equal_41_output_0 = Equal(%/patch_merger/Constant_232_output_0, %/patch_merger/Mul_41_output_0)\\n  %/patch_merger/Where_41_output_0 = Where(%/patch_merger/Equal_41_output_0, %/patch_merger/ConstantOfShape_41_output_0, %/patch_merger/Constant_232_output_0)\\n  %/patch_merger/Expand_52_output_0 = Expand(%onnx::Expand_930, %/patch_merger/Where_41_output_0)\\n  %/patch_merger/Unsqueeze_41_output_0 = Unsqueeze[axes = [-1]](%/patch_merger/Expand_52_output_0)\\n  %/patch_merger/Constant_237_output_0 = Constant[value = <Tensor>]()\\n  %/patch_merger/ConstantOfShape_42_output_0 = ConstantOfShape[value = <Tensor>](%/patch_merger/Constant_237_output_0)\\n  %/patch_merger/Constant_238_output_0 = Constant[value = <Scalar Tensor []>]()\\n  %/patch_merger/Mul_42_output_0 = Mul(%/patch_merger/ConstantOfShape_42_output_0, %/patch_merger/Constant_238_output_0)\\n  %/patch_merger/Equal_42_output_0 = Equal(%/patch_merger/Constant_232_output_0, %/patch_merger/Mul_42_output_0)\\n  %/patch_merger/Where_42_output_0 = Where(%/patch_merger/Equal_42_output_0, %/patch_merger/ConstantOfShape_42_output_0, %/patch_merger/Constant_232_output_0)\\n  %/patch_merger/Expand_53_output_0 = Expand(%onnx::Expand_931, %/patch_merger/Where_42_output_0)\\n  %/patch_merger/Unsqueeze_42_output_0 = Unsqueeze[axes = [-1]](%/patch_merger/Expand_53_output_0)\\n  %/patch_merger/Constant_239_output_0 = Constant[value = <Tensor>]()\\n  %/patch_merger/ConstantOfShape_43_output_0 = ConstantOfShape[value = <Tensor>](%/patch_merger/Constant_239_output_0)\\n  %/patch_merger/Constant_240_output_0 = Constant[value = <Scalar Tensor []>]()\\n  %/patch_merger/Mul_43_output_0 = Mul(%/patch_merger/ConstantOfShape_43_output_0, %/patch_merger/Constant_240_output_0)\\n  %/patch_merger/Equal_43_output_0 = Equal(%/patch_merger/Constant_232_output_0, %/patch_merger/Mul_43_output_0)\\n  %/patch_merger/Where_43_output_0 = Where(%/patch_merger/Equal_43_output_0, %/patch_merger/ConstantOfShape_43_output_0, %/patch_merger/Constant_232_output_0)\\n  %/patch_merger/Expand_54_output_0 = Expand(%/patch_merger/Constant_231_output_0, %/patch_merger/Where_43_output_0)\\n  %/patch_merger/Unsqueeze_43_output_0 = Unsqueeze[axes = [-1]](%/patch_merger/Expand_54_output_0)\\n  %/patch_merger/Concat_18_output_0 = Concat[axis = -1](%/patch_merger/Unsqueeze_40_output_0, %/patch_merger/Unsqueeze_41_output_0, %/patch_merger/Unsqueeze_42_output_0, %/patch_merger/Unsqueeze_43_output_0)\\n  %/patch_merger/Shape_17_output_0 = Shape(%/patch_merger/ScatterND_7_output_0)\\n  %/patch_merger/Constant_241_output_0 = Constant[value = <Tensor>]()\\n  %/patch_merger/Constant_242_output_0 = Constant[value = <Tensor>]()\\n  %/patch_merger/Constant_243_output_0 = Constant[value = <Tensor>]()\\n  %/patch_merger/Slice_32_output_0 = Slice(%/patch_merger/Shape_17_output_0, %/patch_merger/Constant_242_output_0, %/patch_merger/Constant_243_output_0, %/patch_merger/Constant_241_output_0)\\n  %/patch_merger/Concat_19_output_0 = Concat[axis = 0](%/patch_merger/Constant_232_output_0, %/patch_merger/Slice_32_output_0)\\n  %/patch_merger/Reshape_10_output_0 = Reshape(%/patch_merger/Expand_50_output_0, %/patch_merger/Concat_19_output_0)\\n  %/patch_merger/ScatterND_10_output_0 = ScatterND(%/patch_merger/ScatterND_7_output_0, %/patch_merger/Concat_18_output_0, %/patch_merger/Reshape_10_output_0)\\n  %/patch_merger/Constant_244_output_0 = Constant[value = <Tensor>]()\\n  %/patch_merger/Constant_245_output_0 = Constant[value = <Tensor>]()\\n  %/patch_merger/Constant_246_output_0 = Constant[value = <Tensor>]()\\n  %/patch_merger/Constant_247_output_0 = Constant[value = <Tensor>]()\\n  %/patch_merger/Slice_33_output_0 = Slice(%/patch_merger/ScatterND_10_output_0, %/patch_merger/Constant_245_output_0, %/patch_merger/Constant_246_output_0, %/patch_merger/Constant_244_output_0, %/patch_merger/Constant_247_output_0)\\n  %/patch_merger/Constant_248_output_0 = Constant[value = <Tensor>]()\\n  %/patch_merger/Constant_249_output_0 = Constant[value = <Tensor>]()\\n  %/patch_merger/Constant_250_output_0 = Constant[value = <Tensor>]()\\n  %/patch_merger/Constant_251_output_0 = Constant[value = <Tensor>]()\\n  %/patch_merger/Slice_34_output_0 = Slice(%/patch_merger/Slice_33_output_0, %/patch_merger/Constant_249_output_0, %/patch_merger/Constant_250_output_0, %/patch_merger/Constant_248_output_0, %/patch_merger/Constant_251_output_0)\\n  %/patch_merger/Shape_18_output_0 = Shape(%/patch_merger/Slice_34_output_0)\\n  %/patch_merger/Expand_55_output_0 = Expand(%/patch_merger/Add_4_output_0, %/patch_merger/Shape_18_output_0)\\n  %/patch_merger/Constant_252_output_0 = Constant[value = <Tensor>]()\\n  %onnx::Expand_994 = Constant[value = <Tensor>]()\\n  %onnx::Expand_995 = Constant[value = <Tensor>]()\\n  %onnx::Expand_996 = Constant[value = <Tensor>]()\\n  %/patch_merger/Constant_253_output_0 = Constant[value = <Tensor>]()\\n  %/patch_merger/Constant_254_output_0 = Constant[value = <Tensor>]()\\n  %/patch_merger/ConstantOfShape_44_output_0 = ConstantOfShape[value = <Tensor>](%/patch_merger/Constant_254_output_0)\\n  %/patch_merger/Constant_255_output_0 = Constant[value = <Scalar Tensor []>]()\\n  %/patch_merger/Mul_44_output_0 = Mul(%/patch_merger/ConstantOfShape_44_output_0, %/patch_merger/Constant_255_output_0)\\n  %/patch_merger/Equal_44_output_0 = Equal(%/patch_merger/Constant_253_output_0, %/patch_merger/Mul_44_output_0)\\n  %/patch_merger/Where_44_output_0 = Where(%/patch_merger/Equal_44_output_0, %/patch_merger/ConstantOfShape_44_output_0, %/patch_merger/Constant_253_output_0)\\n  %/patch_merger/Expand_56_output_0 = Expand(%onnx::Expand_994, %/patch_merger/Where_44_output_0)\\n  %/patch_merger/Unsqueeze_44_output_0 = Unsqueeze[axes = [-1]](%/patch_merger/Expand_56_output_0)\\n  %/patch_merger/Constant_256_output_0 = Constant[value = <Tensor>]()\\n  %/patch_merger/ConstantOfShape_45_output_0 = ConstantOfShape[value = <Tensor>](%/patch_merger/Constant_256_output_0)\\n  %/patch_merger/Constant_257_output_0 = Constant[value = <Scalar Tensor []>]()\\n  %/patch_merger/Mul_45_output_0 = Mul(%/patch_merger/ConstantOfShape_45_output_0, %/patch_merger/Constant_257_output_0)\\n  %/patch_merger/Equal_45_output_0 = Equal(%/patch_merger/Constant_253_output_0, %/patch_merger/Mul_45_output_0)\\n  %/patch_merger/Where_45_output_0 = Where(%/patch_merger/Equal_45_output_0, %/patch_merger/ConstantOfShape_45_output_0, %/patch_merger/Constant_253_output_0)\\n  %/patch_merger/Expand_57_output_0 = Expand(%onnx::Expand_995, %/patch_merger/Where_45_output_0)\\n  %/patch_merger/Unsqueeze_45_output_0 = Unsqueeze[axes = [-1]](%/patch_merger/Expand_57_output_0)\\n  %/patch_merger/Constant_258_output_0 = Constant[value = <Tensor>]()\\n  %/patch_merger/ConstantOfShape_46_output_0 = ConstantOfShape[value = <Tensor>](%/patch_merger/Constant_258_output_0)\\n  %/patch_merger/Constant_259_output_0 = Constant[value = <Scalar Tensor []>]()\\n  %/patch_merger/Mul_46_output_0 = Mul(%/patch_merger/ConstantOfShape_46_output_0, %/patch_merger/Constant_259_output_0)\\n  %/patch_merger/Equal_46_output_0 = Equal(%/patch_merger/Constant_253_output_0, %/patch_merger/Mul_46_output_0)\\n  %/patch_merger/Where_46_output_0 = Where(%/patch_merger/Equal_46_output_0, %/patch_merger/ConstantOfShape_46_output_0, %/patch_merger/Constant_253_output_0)\\n  %/patch_merger/Expand_58_output_0 = Expand(%onnx::Expand_996, %/patch_merger/Where_46_output_0)\\n  %/patch_merger/Unsqueeze_46_output_0 = Unsqueeze[axes = [-1]](%/patch_merger/Expand_58_output_0)\\n  %/patch_merger/Constant_260_output_0 = Constant[value = <Tensor>]()\\n  %/patch_merger/ConstantOfShape_47_output_0 = ConstantOfShape[value = <Tensor>](%/patch_merger/Constant_260_output_0)\\n  %/patch_merger/Constant_261_output_0 = Constant[value = <Scalar Tensor []>]()\\n  %/patch_merger/Mul_47_output_0 = Mul(%/patch_merger/ConstantOfShape_47_output_0, %/patch_merger/Constant_261_output_0)\\n  %/patch_merger/Equal_47_output_0 = Equal(%/patch_merger/Constant_253_output_0, %/patch_merger/Mul_47_output_0)\\n  %/patch_merger/Where_47_output_0 = Where(%/patch_merger/Equal_47_output_0, %/patch_merger/ConstantOfShape_47_output_0, %/patch_merger/Constant_253_output_0)\\n  %/patch_merger/Expand_59_output_0 = Expand(%/patch_merger/Constant_252_output_0, %/patch_merger/Where_47_output_0)\\n  %/patch_merger/Unsqueeze_47_output_0 = Unsqueeze[axes = [-1]](%/patch_merger/Expand_59_output_0)\\n  %/patch_merger/Concat_20_output_0 = Concat[axis = -1](%/patch_merger/Unsqueeze_44_output_0, %/patch_merger/Unsqueeze_45_output_0, %/patch_merger/Unsqueeze_46_output_0, %/patch_merger/Unsqueeze_47_output_0)\\n  %/patch_merger/Shape_19_output_0 = Shape(%/patch_merger/ScatterND_10_output_0)\\n  %/patch_merger/Constant_262_output_0 = Constant[value = <Tensor>]()\\n  %/patch_merger/Constant_263_output_0 = Constant[value = <Tensor>]()\\n  %/patch_merger/Constant_264_output_0 = Constant[value = <Tensor>]()\\n  %/patch_merger/Slice_35_output_0 = Slice(%/patch_merger/Shape_19_output_0, %/patch_merger/Constant_263_output_0, %/patch_merger/Constant_264_output_0, %/patch_merger/Constant_262_output_0)\\n  %/patch_merger/Concat_21_output_0 = Concat[axis = 0](%/patch_merger/Constant_253_output_0, %/patch_merger/Slice_35_output_0)\\n  %/patch_merger/Reshape_11_output_0 = Reshape(%/patch_merger/Expand_55_output_0, %/patch_merger/Concat_21_output_0)\\n  %/patch_merger/ScatterND_11_output_0 = ScatterND(%/patch_merger/ScatterND_10_output_0, %/patch_merger/Concat_20_output_0, %/patch_merger/Reshape_11_output_0)\\n  %/patch_merger/Gather_3_output_0 = Gather[axis = 1](%/Reshape_1_output_0, %/patch_maker/Constant_1_output_0)\\n  %/patch_merger/Constant_265_output_0 = Constant[value = <Tensor>]()\\n  %/patch_merger/Constant_266_output_0 = Constant[value = <Tensor>]()\\n  %/patch_merger/Constant_267_output_0 = Constant[value = <Tensor>]()\\n  %/patch_merger/Constant_268_output_0 = Constant[value = <Tensor>]()\\n  %/patch_merger/Slice_36_output_0 = Slice(%/patch_merger/ScatterND_9_output_0, %/patch_merger/Constant_266_output_0, %/patch_merger/Constant_267_output_0, %/patch_merger/Constant_265_output_0, %/patch_merger/Constant_268_output_0)\\n  %/patch_merger/Constant_269_output_0 = Constant[value = <Tensor>]()\\n  %/patch_merger/Constant_270_output_0 = Constant[value = <Tensor>]()\\n  %/patch_merger/Constant_271_output_0 = Constant[value = <Tensor>]()\\n  %/patch_merger/Constant_272_output_0 = Constant[value = <Tensor>]()\\n  %/patch_merger/Slice_37_output_0 = Slice(%/patch_merger/Slice_36_output_0, %/patch_merger/Constant_270_output_0, %/patch_merger/Constant_271_output_0, %/patch_merger/Constant_269_output_0, %/patch_merger/Constant_272_output_0)\\n  %/patch_merger/Constant_273_output_0 = Constant[value = <Tensor>]()\\n  %/patch_merger/Constant_274_output_0 = Constant[value = <Tensor>]()\\n  %/patch_merger/Constant_275_output_0 = Constant[value = <Tensor>]()\\n  %/patch_merger/Constant_276_output_0 = Constant[value = <Tensor>]()\\n  %/patch_merger/Slice_38_output_0 = Slice(%/patch_merger/Gather_3_output_0, %/patch_merger/Constant_274_output_0, %/patch_merger/Constant_275_output_0, %/patch_merger/Constant_273_output_0, %/patch_merger/Constant_276_output_0)\\n  %/patch_merger/Constant_277_output_0 = Constant[value = <Tensor>]()\\n  %/patch_merger/Constant_278_output_0 = Constant[value = <Tensor>]()\\n  %/patch_merger/Constant_279_output_0 = Constant[value = <Tensor>]()\\n  %/patch_merger/Constant_280_output_0 = Constant[value = <Tensor>]()\\n  %/patch_merger/Slice_39_output_0 = Slice(%/patch_merger/Slice_38_output_0, %/patch_merger/Constant_278_output_0, %/patch_merger/Constant_279_output_0, %/patch_merger/Constant_277_output_0, %/patch_merger/Constant_280_output_0)\\n  %/patch_merger/Add_5_output_0 = Add(%/patch_merger/Slice_37_output_0, %/patch_merger/Slice_39_output_0)\\n  %/patch_merger/Shape_20_output_0 = Shape(%/patch_merger/Slice_37_output_0)\\n  %/patch_merger/Expand_60_output_0 = Expand(%/patch_merger/Add_5_output_0, %/patch_merger/Shape_20_output_0)\\n  %/patch_merger/Constant_281_output_0 = Constant[value = <Tensor>]()\\n  %onnx::Expand_1071 = Constant[value = <Tensor>]()\\n  %onnx::Expand_1072 = Constant[value = <Tensor>]()\\n  %onnx::Expand_1073 = Constant[value = <Tensor>]()\\n  %/patch_merger/Constant_282_output_0 = Constant[value = <Tensor>]()\\n  %/patch_merger/Constant_283_output_0 = Constant[value = <Tensor>]()\\n  %/patch_merger/ConstantOfShape_48_output_0 = ConstantOfShape[value = <Tensor>](%/patch_merger/Constant_283_output_0)\\n  %/patch_merger/Constant_284_output_0 = Constant[value = <Scalar Tensor []>]()\\n  %/patch_merger/Mul_48_output_0 = Mul(%/patch_merger/ConstantOfShape_48_output_0, %/patch_merger/Constant_284_output_0)\\n  %/patch_merger/Equal_48_output_0 = Equal(%/patch_merger/Constant_282_output_0, %/patch_merger/Mul_48_output_0)\\n  %/patch_merger/Where_48_output_0 = Where(%/patch_merger/Equal_48_output_0, %/patch_merger/ConstantOfShape_48_output_0, %/patch_merger/Constant_282_output_0)\\n  %/patch_merger/Expand_61_output_0 = Expand(%onnx::Expand_1071, %/patch_merger/Where_48_output_0)\\n  %/patch_merger/Unsqueeze_48_output_0 = Unsqueeze[axes = [-1]](%/patch_merger/Expand_61_output_0)\\n  %/patch_merger/Constant_285_output_0 = Constant[value = <Tensor>]()\\n  %/patch_merger/ConstantOfShape_49_output_0 = ConstantOfShape[value = <Tensor>](%/patch_merger/Constant_285_output_0)\\n  %/patch_merger/Constant_286_output_0 = Constant[value = <Scalar Tensor []>]()\\n  %/patch_merger/Mul_49_output_0 = Mul(%/patch_merger/ConstantOfShape_49_output_0, %/patch_merger/Constant_286_output_0)\\n  %/patch_merger/Equal_49_output_0 = Equal(%/patch_merger/Constant_282_output_0, %/patch_merger/Mul_49_output_0)\\n  %/patch_merger/Where_49_output_0 = Where(%/patch_merger/Equal_49_output_0, %/patch_merger/ConstantOfShape_49_output_0, %/patch_merger/Constant_282_output_0)\\n  %/patch_merger/Expand_62_output_0 = Expand(%onnx::Expand_1072, %/patch_merger/Where_49_output_0)\\n  %/patch_merger/Unsqueeze_49_output_0 = Unsqueeze[axes = [-1]](%/patch_merger/Expand_62_output_0)\\n  %/patch_merger/Constant_287_output_0 = Constant[value = <Tensor>]()\\n  %/patch_merger/ConstantOfShape_50_output_0 = ConstantOfShape[value = <Tensor>](%/patch_merger/Constant_287_output_0)\\n  %/patch_merger/Constant_288_output_0 = Constant[value = <Scalar Tensor []>]()\\n  %/patch_merger/Mul_50_output_0 = Mul(%/patch_merger/ConstantOfShape_50_output_0, %/patch_merger/Constant_288_output_0)\\n  %/patch_merger/Equal_50_output_0 = Equal(%/patch_merger/Constant_282_output_0, %/patch_merger/Mul_50_output_0)\\n  %/patch_merger/Where_50_output_0 = Where(%/patch_merger/Equal_50_output_0, %/patch_merger/ConstantOfShape_50_output_0, %/patch_merger/Constant_282_output_0)\\n  %/patch_merger/Expand_63_output_0 = Expand(%onnx::Expand_1073, %/patch_merger/Where_50_output_0)\\n  %/patch_merger/Unsqueeze_50_output_0 = Unsqueeze[axes = [-1]](%/patch_merger/Expand_63_output_0)\\n  %/patch_merger/Constant_289_output_0 = Constant[value = <Tensor>]()\\n  %/patch_merger/ConstantOfShape_51_output_0 = ConstantOfShape[value = <Tensor>](%/patch_merger/Constant_289_output_0)\\n  %/patch_merger/Constant_290_output_0 = Constant[value = <Scalar Tensor []>]()\\n  %/patch_merger/Mul_51_output_0 = Mul(%/patch_merger/ConstantOfShape_51_output_0, %/patch_merger/Constant_290_output_0)\\n  %/patch_merger/Equal_51_output_0 = Equal(%/patch_merger/Constant_282_output_0, %/patch_merger/Mul_51_output_0)\\n  %/patch_merger/Where_51_output_0 = Where(%/patch_merger/Equal_51_output_0, %/patch_merger/ConstantOfShape_51_output_0, %/patch_merger/Constant_282_output_0)\\n  %/patch_merger/Expand_64_output_0 = Expand(%/patch_merger/Constant_281_output_0, %/patch_merger/Where_51_output_0)\\n  %/patch_merger/Unsqueeze_51_output_0 = Unsqueeze[axes = [-1]](%/patch_merger/Expand_64_output_0)\\n  %/patch_merger/Concat_22_output_0 = Concat[axis = -1](%/patch_merger/Unsqueeze_48_output_0, %/patch_merger/Unsqueeze_49_output_0, %/patch_merger/Unsqueeze_50_output_0, %/patch_merger/Unsqueeze_51_output_0)\\n  %/patch_merger/Shape_21_output_0 = Shape(%/patch_merger/ScatterND_9_output_0)\\n  %/patch_merger/Constant_291_output_0 = Constant[value = <Tensor>]()\\n  %/patch_merger/Constant_292_output_0 = Constant[value = <Tensor>]()\\n  %/patch_merger/Constant_293_output_0 = Constant[value = <Tensor>]()\\n  %/patch_merger/Slice_40_output_0 = Slice(%/patch_merger/Shape_21_output_0, %/patch_merger/Constant_292_output_0, %/patch_merger/Constant_293_output_0, %/patch_merger/Constant_291_output_0)\\n  %/patch_merger/Concat_23_output_0 = Concat[axis = 0](%/patch_merger/Constant_282_output_0, %/patch_merger/Slice_40_output_0)\\n  %/patch_merger/Reshape_12_output_0 = Reshape(%/patch_merger/Expand_60_output_0, %/patch_merger/Concat_23_output_0)\\n  %/patch_merger/ScatterND_12_output_0 = ScatterND(%/patch_merger/ScatterND_9_output_0, %/patch_merger/Concat_22_output_0, %/patch_merger/Reshape_12_output_0)\\n  %/patch_merger/Constant_294_output_0 = Constant[value = <Tensor>]()\\n  %/patch_merger/Constant_295_output_0 = Constant[value = <Tensor>]()\\n  %/patch_merger/Constant_296_output_0 = Constant[value = <Tensor>]()\\n  %/patch_merger/Constant_297_output_0 = Constant[value = <Tensor>]()\\n  %/patch_merger/Slice_41_output_0 = Slice(%/patch_merger/ScatterND_12_output_0, %/patch_merger/Constant_295_output_0, %/patch_merger/Constant_296_output_0, %/patch_merger/Constant_294_output_0, %/patch_merger/Constant_297_output_0)\\n  %/patch_merger/Constant_298_output_0 = Constant[value = <Tensor>]()\\n  %/patch_merger/Constant_299_output_0 = Constant[value = <Tensor>]()\\n  %/patch_merger/Constant_300_output_0 = Constant[value = <Tensor>]()\\n  %/patch_merger/Constant_301_output_0 = Constant[value = <Tensor>]()\\n  %/patch_merger/Slice_42_output_0 = Slice(%/patch_merger/Slice_41_output_0, %/patch_merger/Constant_299_output_0, %/patch_merger/Constant_300_output_0, %/patch_merger/Constant_298_output_0, %/patch_merger/Constant_301_output_0)\\n  %/patch_merger/Shape_22_output_0 = Shape(%/patch_merger/Slice_42_output_0)\\n  %/patch_merger/Expand_65_output_0 = Expand(%/patch_merger/Add_5_output_0, %/patch_merger/Shape_22_output_0)\\n  %/patch_merger/Constant_302_output_0 = Constant[value = <Tensor>]()\\n  %onnx::Expand_1136 = Constant[value = <Tensor>]()\\n  %onnx::Expand_1137 = Constant[value = <Tensor>]()\\n  %onnx::Expand_1138 = Constant[value = <Tensor>]()\\n  %/patch_merger/Constant_303_output_0 = Constant[value = <Tensor>]()\\n  %/patch_merger/Constant_304_output_0 = Constant[value = <Tensor>]()\\n  %/patch_merger/ConstantOfShape_52_output_0 = ConstantOfShape[value = <Tensor>](%/patch_merger/Constant_304_output_0)\\n  %/patch_merger/Constant_305_output_0 = Constant[value = <Scalar Tensor []>]()\\n  %/patch_merger/Mul_52_output_0 = Mul(%/patch_merger/ConstantOfShape_52_output_0, %/patch_merger/Constant_305_output_0)\\n  %/patch_merger/Equal_52_output_0 = Equal(%/patch_merger/Constant_303_output_0, %/patch_merger/Mul_52_output_0)\\n  %/patch_merger/Where_52_output_0 = Where(%/patch_merger/Equal_52_output_0, %/patch_merger/ConstantOfShape_52_output_0, %/patch_merger/Constant_303_output_0)\\n  %/patch_merger/Expand_66_output_0 = Expand(%onnx::Expand_1136, %/patch_merger/Where_52_output_0)\\n  %/patch_merger/Unsqueeze_52_output_0 = Unsqueeze[axes = [-1]](%/patch_merger/Expand_66_output_0)\\n  %/patch_merger/Constant_306_output_0 = Constant[value = <Tensor>]()\\n  %/patch_merger/ConstantOfShape_53_output_0 = ConstantOfShape[value = <Tensor>](%/patch_merger/Constant_306_output_0)\\n  %/patch_merger/Constant_307_output_0 = Constant[value = <Scalar Tensor []>]()\\n  %/patch_merger/Mul_53_output_0 = Mul(%/patch_merger/ConstantOfShape_53_output_0, %/patch_merger/Constant_307_output_0)\\n  %/patch_merger/Equal_53_output_0 = Equal(%/patch_merger/Constant_303_output_0, %/patch_merger/Mul_53_output_0)\\n  %/patch_merger/Where_53_output_0 = Where(%/patch_merger/Equal_53_output_0, %/patch_merger/ConstantOfShape_53_output_0, %/patch_merger/Constant_303_output_0)\\n  %/patch_merger/Expand_67_output_0 = Expand(%onnx::Expand_1137, %/patch_merger/Where_53_output_0)\\n  %/patch_merger/Unsqueeze_53_output_0 = Unsqueeze[axes = [-1]](%/patch_merger/Expand_67_output_0)\\n  %/patch_merger/Constant_308_output_0 = Constant[value = <Tensor>]()\\n  %/patch_merger/ConstantOfShape_54_output_0 = ConstantOfShape[value = <Tensor>](%/patch_merger/Constant_308_output_0)\\n  %/patch_merger/Constant_309_output_0 = Constant[value = <Scalar Tensor []>]()\\n  %/patch_merger/Mul_54_output_0 = Mul(%/patch_merger/ConstantOfShape_54_output_0, %/patch_merger/Constant_309_output_0)\\n  %/patch_merger/Equal_54_output_0 = Equal(%/patch_merger/Constant_303_output_0, %/patch_merger/Mul_54_output_0)\\n  %/patch_merger/Where_54_output_0 = Where(%/patch_merger/Equal_54_output_0, %/patch_merger/ConstantOfShape_54_output_0, %/patch_merger/Constant_303_output_0)\\n  %/patch_merger/Expand_68_output_0 = Expand(%onnx::Expand_1138, %/patch_merger/Where_54_output_0)\\n  %/patch_merger/Unsqueeze_54_output_0 = Unsqueeze[axes = [-1]](%/patch_merger/Expand_68_output_0)\\n  %/patch_merger/Constant_310_output_0 = Constant[value = <Tensor>]()\\n  %/patch_merger/ConstantOfShape_55_output_0 = ConstantOfShape[value = <Tensor>](%/patch_merger/Constant_310_output_0)\\n  %/patch_merger/Constant_311_output_0 = Constant[value = <Scalar Tensor []>]()\\n  %/patch_merger/Mul_55_output_0 = Mul(%/patch_merger/ConstantOfShape_55_output_0, %/patch_merger/Constant_311_output_0)\\n  %/patch_merger/Equal_55_output_0 = Equal(%/patch_merger/Constant_303_output_0, %/patch_merger/Mul_55_output_0)\\n  %/patch_merger/Where_55_output_0 = Where(%/patch_merger/Equal_55_output_0, %/patch_merger/ConstantOfShape_55_output_0, %/patch_merger/Constant_303_output_0)\\n  %/patch_merger/Expand_69_output_0 = Expand(%/patch_merger/Constant_302_output_0, %/patch_merger/Where_55_output_0)\\n  %/patch_merger/Unsqueeze_55_output_0 = Unsqueeze[axes = [-1]](%/patch_merger/Expand_69_output_0)\\n  %/patch_merger/Concat_24_output_0 = Concat[axis = -1](%/patch_merger/Unsqueeze_52_output_0, %/patch_merger/Unsqueeze_53_output_0, %/patch_merger/Unsqueeze_54_output_0, %/patch_merger/Unsqueeze_55_output_0)\\n  %/patch_merger/Shape_23_output_0 = Shape(%/patch_merger/ScatterND_12_output_0)\\n  %/patch_merger/Constant_312_output_0 = Constant[value = <Tensor>]()\\n  %/patch_merger/Constant_313_output_0 = Constant[value = <Tensor>]()\\n  %/patch_merger/Constant_314_output_0 = Constant[value = <Tensor>]()\\n  %/patch_merger/Slice_43_output_0 = Slice(%/patch_merger/Shape_23_output_0, %/patch_merger/Constant_313_output_0, %/patch_merger/Constant_314_output_0, %/patch_merger/Constant_312_output_0)\\n  %/patch_merger/Concat_25_output_0 = Concat[axis = 0](%/patch_merger/Constant_303_output_0, %/patch_merger/Slice_43_output_0)\\n  %/patch_merger/Reshape_13_output_0 = Reshape(%/patch_merger/Expand_65_output_0, %/patch_merger/Concat_25_output_0)\\n  %/patch_merger/ScatterND_13_output_0 = ScatterND(%/patch_merger/ScatterND_12_output_0, %/patch_merger/Concat_24_output_0, %/patch_merger/Reshape_13_output_0)\\n  %/patch_merger/Constant_315_output_0 = Constant[value = <Tensor>]()\\n  %/patch_merger/Constant_316_output_0 = Constant[value = <Tensor>]()\\n  %/patch_merger/Constant_317_output_0 = Constant[value = <Tensor>]()\\n  %/patch_merger/Constant_318_output_0 = Constant[value = <Tensor>]()\\n  %/patch_merger/Slice_44_output_0 = Slice(%/patch_merger/ScatterND_11_output_0, %/patch_merger/Constant_316_output_0, %/patch_merger/Constant_317_output_0, %/patch_merger/Constant_315_output_0, %/patch_merger/Constant_318_output_0)\\n  %/patch_merger/Constant_319_output_0 = Constant[value = <Tensor>]()\\n  %/patch_merger/Constant_320_output_0 = Constant[value = <Tensor>]()\\n  %/patch_merger/Constant_321_output_0 = Constant[value = <Tensor>]()\\n  %/patch_merger/Constant_322_output_0 = Constant[value = <Tensor>]()\\n  %/patch_merger/Slice_45_output_0 = Slice(%/patch_merger/Slice_44_output_0, %/patch_merger/Constant_320_output_0, %/patch_merger/Constant_321_output_0, %/patch_merger/Constant_319_output_0, %/patch_merger/Constant_322_output_0)\\n  %/patch_merger/Constant_323_output_0 = Constant[value = <Scalar Tensor []>]()\\n  %/patch_merger/Add_6_output_0 = Add(%/patch_merger/Slice_45_output_0, %/patch_merger/Constant_323_output_0)\\n  %/patch_merger/Shape_24_output_0 = Shape(%/patch_merger/Slice_45_output_0)\\n  %/patch_merger/Expand_70_output_0 = Expand(%/patch_merger/Add_6_output_0, %/patch_merger/Shape_24_output_0)\\n  %/patch_merger/Constant_324_output_0 = Constant[value = <Tensor>]()\\n  %onnx::Expand_1203 = Constant[value = <Tensor>]()\\n  %onnx::Expand_1204 = Constant[value = <Tensor>]()\\n  %onnx::Expand_1205 = Constant[value = <Tensor>]()\\n  %/patch_merger/Constant_325_output_0 = Constant[value = <Tensor>]()\\n  %/patch_merger/Constant_326_output_0 = Constant[value = <Tensor>]()\\n  %/patch_merger/ConstantOfShape_56_output_0 = ConstantOfShape[value = <Tensor>](%/patch_merger/Constant_326_output_0)\\n  %/patch_merger/Constant_327_output_0 = Constant[value = <Scalar Tensor []>]()\\n  %/patch_merger/Mul_56_output_0 = Mul(%/patch_merger/ConstantOfShape_56_output_0, %/patch_merger/Constant_327_output_0)\\n  %/patch_merger/Equal_56_output_0 = Equal(%/patch_merger/Constant_325_output_0, %/patch_merger/Mul_56_output_0)\\n  %/patch_merger/Where_56_output_0 = Where(%/patch_merger/Equal_56_output_0, %/patch_merger/ConstantOfShape_56_output_0, %/patch_merger/Constant_325_output_0)\\n  %/patch_merger/Expand_71_output_0 = Expand(%onnx::Expand_1203, %/patch_merger/Where_56_output_0)\\n  %/patch_merger/Unsqueeze_56_output_0 = Unsqueeze[axes = [-1]](%/patch_merger/Expand_71_output_0)\\n  %/patch_merger/Constant_328_output_0 = Constant[value = <Tensor>]()\\n  %/patch_merger/ConstantOfShape_57_output_0 = ConstantOfShape[value = <Tensor>](%/patch_merger/Constant_328_output_0)\\n  %/patch_merger/Constant_329_output_0 = Constant[value = <Scalar Tensor []>]()\\n  %/patch_merger/Mul_57_output_0 = Mul(%/patch_merger/ConstantOfShape_57_output_0, %/patch_merger/Constant_329_output_0)\\n  %/patch_merger/Equal_57_output_0 = Equal(%/patch_merger/Constant_325_output_0, %/patch_merger/Mul_57_output_0)\\n  %/patch_merger/Where_57_output_0 = Where(%/patch_merger/Equal_57_output_0, %/patch_merger/ConstantOfShape_57_output_0, %/patch_merger/Constant_325_output_0)\\n  %/patch_merger/Expand_72_output_0 = Expand(%onnx::Expand_1204, %/patch_merger/Where_57_output_0)\\n  %/patch_merger/Unsqueeze_57_output_0 = Unsqueeze[axes = [-1]](%/patch_merger/Expand_72_output_0)\\n  %/patch_merger/Constant_330_output_0 = Constant[value = <Tensor>]()\\n  %/patch_merger/ConstantOfShape_58_output_0 = ConstantOfShape[value = <Tensor>](%/patch_merger/Constant_330_output_0)\\n  %/patch_merger/Constant_331_output_0 = Constant[value = <Scalar Tensor []>]()\\n  %/patch_merger/Mul_58_output_0 = Mul(%/patch_merger/ConstantOfShape_58_output_0, %/patch_merger/Constant_331_output_0)\\n  %/patch_merger/Equal_58_output_0 = Equal(%/patch_merger/Constant_325_output_0, %/patch_merger/Mul_58_output_0)\\n  %/patch_merger/Where_58_output_0 = Where(%/patch_merger/Equal_58_output_0, %/patch_merger/ConstantOfShape_58_output_0, %/patch_merger/Constant_325_output_0)\\n  %/patch_merger/Expand_73_output_0 = Expand(%onnx::Expand_1205, %/patch_merger/Where_58_output_0)\\n  %/patch_merger/Unsqueeze_58_output_0 = Unsqueeze[axes = [-1]](%/patch_merger/Expand_73_output_0)\\n  %/patch_merger/Constant_332_output_0 = Constant[value = <Tensor>]()\\n  %/patch_merger/ConstantOfShape_59_output_0 = ConstantOfShape[value = <Tensor>](%/patch_merger/Constant_332_output_0)\\n  %/patch_merger/Constant_333_output_0 = Constant[value = <Scalar Tensor []>]()\\n  %/patch_merger/Mul_59_output_0 = Mul(%/patch_merger/ConstantOfShape_59_output_0, %/patch_merger/Constant_333_output_0)\\n  %/patch_merger/Equal_59_output_0 = Equal(%/patch_merger/Constant_325_output_0, %/patch_merger/Mul_59_output_0)\\n  %/patch_merger/Where_59_output_0 = Where(%/patch_merger/Equal_59_output_0, %/patch_merger/ConstantOfShape_59_output_0, %/patch_merger/Constant_325_output_0)\\n  %/patch_merger/Expand_74_output_0 = Expand(%/patch_merger/Constant_324_output_0, %/patch_merger/Where_59_output_0)\\n  %/patch_merger/Unsqueeze_59_output_0 = Unsqueeze[axes = [-1]](%/patch_merger/Expand_74_output_0)\\n  %/patch_merger/Concat_26_output_0 = Concat[axis = -1](%/patch_merger/Unsqueeze_56_output_0, %/patch_merger/Unsqueeze_57_output_0, %/patch_merger/Unsqueeze_58_output_0, %/patch_merger/Unsqueeze_59_output_0)\\n  %/patch_merger/Shape_25_output_0 = Shape(%/patch_merger/ScatterND_11_output_0)\\n  %/patch_merger/Constant_334_output_0 = Constant[value = <Tensor>]()\\n  %/patch_merger/Constant_335_output_0 = Constant[value = <Tensor>]()\\n  %/patch_merger/Constant_336_output_0 = Constant[value = <Tensor>]()\\n  %/patch_merger/Slice_46_output_0 = Slice(%/patch_merger/Shape_25_output_0, %/patch_merger/Constant_335_output_0, %/patch_merger/Constant_336_output_0, %/patch_merger/Constant_334_output_0)\\n  %/patch_merger/Concat_27_output_0 = Concat[axis = 0](%/patch_merger/Constant_325_output_0, %/patch_merger/Slice_46_output_0)\\n  %/patch_merger/Reshape_14_output_0 = Reshape(%/patch_merger/Expand_70_output_0, %/patch_merger/Concat_27_output_0)\\n  %/patch_merger/ScatterND_14_output_0 = ScatterND(%/patch_merger/ScatterND_11_output_0, %/patch_merger/Concat_26_output_0, %/patch_merger/Reshape_14_output_0)\\n  %/patch_merger/Constant_337_output_0 = Constant[value = <Tensor>]()\\n  %/patch_merger/Constant_338_output_0 = Constant[value = <Tensor>]()\\n  %/patch_merger/Constant_339_output_0 = Constant[value = <Tensor>]()\\n  %/patch_merger/Constant_340_output_0 = Constant[value = <Tensor>]()\\n  %/patch_merger/Slice_47_output_0 = Slice(%/patch_merger/ScatterND_14_output_0, %/patch_merger/Constant_338_output_0, %/patch_merger/Constant_339_output_0, %/patch_merger/Constant_337_output_0, %/patch_merger/Constant_340_output_0)\\n  %/patch_merger/Constant_341_output_0 = Constant[value = <Tensor>]()\\n  %/patch_merger/Constant_342_output_0 = Constant[value = <Tensor>]()\\n  %/patch_merger/Constant_343_output_0 = Constant[value = <Tensor>]()\\n  %/patch_merger/Constant_344_output_0 = Constant[value = <Tensor>]()\\n  %/patch_merger/Slice_48_output_0 = Slice(%/patch_merger/Slice_47_output_0, %/patch_merger/Constant_342_output_0, %/patch_merger/Constant_343_output_0, %/patch_merger/Constant_341_output_0, %/patch_merger/Constant_344_output_0)\\n  %/patch_merger/Shape_26_output_0 = Shape(%/patch_merger/Slice_48_output_0)\\n  %/patch_merger/Expand_75_output_0 = Expand(%/patch_merger/Add_6_output_0, %/patch_merger/Shape_26_output_0)\\n  %/patch_merger/Constant_345_output_0 = Constant[value = <Tensor>]()\\n  %onnx::Expand_1268 = Constant[value = <Tensor>]()\\n  %onnx::Expand_1269 = Constant[value = <Tensor>]()\\n  %onnx::Expand_1270 = Constant[value = <Tensor>]()\\n  %/patch_merger/Constant_346_output_0 = Constant[value = <Tensor>]()\\n  %/patch_merger/Constant_347_output_0 = Constant[value = <Tensor>]()\\n  %/patch_merger/ConstantOfShape_60_output_0 = ConstantOfShape[value = <Tensor>](%/patch_merger/Constant_347_output_0)\\n  %/patch_merger/Constant_348_output_0 = Constant[value = <Scalar Tensor []>]()\\n  %/patch_merger/Mul_60_output_0 = Mul(%/patch_merger/ConstantOfShape_60_output_0, %/patch_merger/Constant_348_output_0)\\n  %/patch_merger/Equal_60_output_0 = Equal(%/patch_merger/Constant_346_output_0, %/patch_merger/Mul_60_output_0)\\n  %/patch_merger/Where_60_output_0 = Where(%/patch_merger/Equal_60_output_0, %/patch_merger/ConstantOfShape_60_output_0, %/patch_merger/Constant_346_output_0)\\n  %/patch_merger/Expand_76_output_0 = Expand(%onnx::Expand_1268, %/patch_merger/Where_60_output_0)\\n  %/patch_merger/Unsqueeze_60_output_0 = Unsqueeze[axes = [-1]](%/patch_merger/Expand_76_output_0)\\n  %/patch_merger/Constant_349_output_0 = Constant[value = <Tensor>]()\\n  %/patch_merger/ConstantOfShape_61_output_0 = ConstantOfShape[value = <Tensor>](%/patch_merger/Constant_349_output_0)\\n  %/patch_merger/Constant_350_output_0 = Constant[value = <Scalar Tensor []>]()\\n  %/patch_merger/Mul_61_output_0 = Mul(%/patch_merger/ConstantOfShape_61_output_0, %/patch_merger/Constant_350_output_0)\\n  %/patch_merger/Equal_61_output_0 = Equal(%/patch_merger/Constant_346_output_0, %/patch_merger/Mul_61_output_0)\\n  %/patch_merger/Where_61_output_0 = Where(%/patch_merger/Equal_61_output_0, %/patch_merger/ConstantOfShape_61_output_0, %/patch_merger/Constant_346_output_0)\\n  %/patch_merger/Expand_77_output_0 = Expand(%onnx::Expand_1269, %/patch_merger/Where_61_output_0)\\n  %/patch_merger/Unsqueeze_61_output_0 = Unsqueeze[axes = [-1]](%/patch_merger/Expand_77_output_0)\\n  %/patch_merger/Constant_351_output_0 = Constant[value = <Tensor>]()\\n  %/patch_merger/ConstantOfShape_62_output_0 = ConstantOfShape[value = <Tensor>](%/patch_merger/Constant_351_output_0)\\n  %/patch_merger/Constant_352_output_0 = Constant[value = <Scalar Tensor []>]()\\n  %/patch_merger/Mul_62_output_0 = Mul(%/patch_merger/ConstantOfShape_62_output_0, %/patch_merger/Constant_352_output_0)\\n  %/patch_merger/Equal_62_output_0 = Equal(%/patch_merger/Constant_346_output_0, %/patch_merger/Mul_62_output_0)\\n  %/patch_merger/Where_62_output_0 = Where(%/patch_merger/Equal_62_output_0, %/patch_merger/ConstantOfShape_62_output_0, %/patch_merger/Constant_346_output_0)\\n  %/patch_merger/Expand_78_output_0 = Expand(%onnx::Expand_1270, %/patch_merger/Where_62_output_0)\\n  %/patch_merger/Unsqueeze_62_output_0 = Unsqueeze[axes = [-1]](%/patch_merger/Expand_78_output_0)\\n  %/patch_merger/Constant_353_output_0 = Constant[value = <Tensor>]()\\n  %/patch_merger/ConstantOfShape_63_output_0 = ConstantOfShape[value = <Tensor>](%/patch_merger/Constant_353_output_0)\\n  %/patch_merger/Constant_354_output_0 = Constant[value = <Scalar Tensor []>]()\\n  %/patch_merger/Mul_63_output_0 = Mul(%/patch_merger/ConstantOfShape_63_output_0, %/patch_merger/Constant_354_output_0)\\n  %/patch_merger/Equal_63_output_0 = Equal(%/patch_merger/Constant_346_output_0, %/patch_merger/Mul_63_output_0)\\n  %/patch_merger/Where_63_output_0 = Where(%/patch_merger/Equal_63_output_0, %/patch_merger/ConstantOfShape_63_output_0, %/patch_merger/Constant_346_output_0)\\n  %/patch_merger/Expand_79_output_0 = Expand(%/patch_merger/Constant_345_output_0, %/patch_merger/Where_63_output_0)\\n  %/patch_merger/Unsqueeze_63_output_0 = Unsqueeze[axes = [-1]](%/patch_merger/Expand_79_output_0)\\n  %/patch_merger/Concat_28_output_0 = Concat[axis = -1](%/patch_merger/Unsqueeze_60_output_0, %/patch_merger/Unsqueeze_61_output_0, %/patch_merger/Unsqueeze_62_output_0, %/patch_merger/Unsqueeze_63_output_0)\\n  %/patch_merger/Shape_27_output_0 = Shape(%/patch_merger/ScatterND_14_output_0)\\n  %/patch_merger/Constant_355_output_0 = Constant[value = <Tensor>]()\\n  %/patch_merger/Constant_356_output_0 = Constant[value = <Tensor>]()\\n  %/patch_merger/Constant_357_output_0 = Constant[value = <Tensor>]()\\n  %/patch_merger/Slice_49_output_0 = Slice(%/patch_merger/Shape_27_output_0, %/patch_merger/Constant_356_output_0, %/patch_merger/Constant_357_output_0, %/patch_merger/Constant_355_output_0)\\n  %/patch_merger/Concat_29_output_0 = Concat[axis = 0](%/patch_merger/Constant_346_output_0, %/patch_merger/Slice_49_output_0)\\n  %/patch_merger/Reshape_15_output_0 = Reshape(%/patch_merger/Expand_75_output_0, %/patch_merger/Concat_29_output_0)\\n  %/patch_merger/ScatterND_15_output_0 = ScatterND(%/patch_merger/ScatterND_14_output_0, %/patch_merger/Concat_28_output_0, %/patch_merger/Reshape_15_output_0)\\n  %/patch_merger/Constant_358_output_0 = Constant[value = <Scalar Tensor []>]()\\n  %/patch_merger/Add_7_output_0 = Add(%/patch_merger/ScatterND_15_output_0, %/patch_merger/Constant_358_output_0)\\n  %output = Div(%/patch_merger/ScatterND_13_output_0, %/patch_merger/Add_7_output_0)\\n  return %output\\n}'"
      ]
     },
     "execution_count": 15,
     "metadata": {},
     "output_type": "execute_result"
    }
   ],
   "source": [
    "# Print a human readable representation of the graph\n",
    "onnx.helper.printable_graph(onnx_model.graph)\n"
   ]
  },
  {
   "cell_type": "code",
   "execution_count": 26,
   "id": "7bb4b07e",
   "metadata": {},
   "outputs": [
    {
     "data": {
      "text/plain": [
       "(1, 1, 300, 300)"
      ]
     },
     "execution_count": 26,
     "metadata": {},
     "output_type": "execute_result"
    }
   ],
   "source": [
    "\n",
    "# Load the ONNX model as a PyTorch model\n",
    "ort_session = onnxruntime.InferenceSession(\"optimized_patch_network.onnx\")\n",
    "\n",
    "# Prepare the input data\n",
    "input_data = np.random.random(size=(1, 1, 300, 300)).astype(np.float32)\n",
    "\n",
    "# Run the model with ONNX Runtime\n",
    "ort_inputs = {ort_session.get_inputs()[0].name: input_data}\n",
    "ort_outs = ort_session.run(None, ort_inputs)\n",
    "ort_outs[0].shape\n"
   ]
  },
  {
   "cell_type": "code",
   "execution_count": 27,
   "id": "889080d5",
   "metadata": {},
   "outputs": [
    {
     "ename": "AssertionError",
     "evalue": "\nNot equal to tolerance rtol=0.001, atol=1e-05\n\nMismatched elements: 88537 / 90000 (98.4%)\nMax absolute difference: 0.03038901\nMax relative difference: 0.2821542\n x: array([[[[-0.099564, -0.098427, -0.097701, ..., -0.097652, -0.095919,\n          -0.095454],\n         [-0.094623, -0.095435, -0.094947, ..., -0.093829, -0.092482,...\n y: array([[[[-0.099845, -0.098138, -0.097527, ..., -0.098395, -0.097126,\n          -0.096604],\n         [-0.092851, -0.09231 , -0.092299, ..., -0.093995, -0.093602,...",
     "output_type": "error",
     "traceback": [
      "\u001b[0;31m---------------------------------------------------------------------------\u001b[0m",
      "\u001b[0;31mAssertionError\u001b[0m                            Traceback (most recent call last)",
      "Cell \u001b[0;32mIn[27], line 2\u001b[0m\n\u001b[1;32m      1\u001b[0m \u001b[38;5;66;03m# Compare the ONNX and PyTorch results\u001b[39;00m\n\u001b[0;32m----> 2\u001b[0m \u001b[43mnp\u001b[49m\u001b[38;5;241;43m.\u001b[39;49m\u001b[43mtesting\u001b[49m\u001b[38;5;241;43m.\u001b[39;49m\u001b[43massert_allclose\u001b[49m\u001b[43m(\u001b[49m\u001b[43mort_outs\u001b[49m\u001b[43m[\u001b[49m\u001b[38;5;241;43m0\u001b[39;49m\u001b[43m]\u001b[49m\u001b[43m,\u001b[49m\u001b[43m \u001b[49m\u001b[43moutput\u001b[49m\u001b[38;5;241;43m.\u001b[39;49m\u001b[43mdetach\u001b[49m\u001b[43m(\u001b[49m\u001b[43m)\u001b[49m\u001b[38;5;241;43m.\u001b[39;49m\u001b[43mnumpy\u001b[49m\u001b[43m(\u001b[49m\u001b[43m)\u001b[49m\u001b[43m,\u001b[49m\u001b[43m \u001b[49m\u001b[43mrtol\u001b[49m\u001b[38;5;241;43m=\u001b[39;49m\u001b[38;5;241;43m1e-03\u001b[39;49m\u001b[43m,\u001b[49m\u001b[43m \u001b[49m\u001b[43matol\u001b[49m\u001b[38;5;241;43m=\u001b[39;49m\u001b[38;5;241;43m1e-05\u001b[39;49m\u001b[43m)\u001b[49m\n",
      "    \u001b[0;31m[... skipping hidden 1 frame]\u001b[0m\n",
      "File \u001b[0;32m~/miniconda3/lib/python3.11/contextlib.py:81\u001b[0m, in \u001b[0;36mContextDecorator.__call__.<locals>.inner\u001b[0;34m(*args, **kwds)\u001b[0m\n\u001b[1;32m     78\u001b[0m \u001b[38;5;129m@wraps\u001b[39m(func)\n\u001b[1;32m     79\u001b[0m \u001b[38;5;28;01mdef\u001b[39;00m \u001b[38;5;21minner\u001b[39m(\u001b[38;5;241m*\u001b[39margs, \u001b[38;5;241m*\u001b[39m\u001b[38;5;241m*\u001b[39mkwds):\n\u001b[1;32m     80\u001b[0m     \u001b[38;5;28;01mwith\u001b[39;00m \u001b[38;5;28mself\u001b[39m\u001b[38;5;241m.\u001b[39m_recreate_cm():\n\u001b[0;32m---> 81\u001b[0m         \u001b[38;5;28;01mreturn\u001b[39;00m \u001b[43mfunc\u001b[49m\u001b[43m(\u001b[49m\u001b[38;5;241;43m*\u001b[39;49m\u001b[43margs\u001b[49m\u001b[43m,\u001b[49m\u001b[43m \u001b[49m\u001b[38;5;241;43m*\u001b[39;49m\u001b[38;5;241;43m*\u001b[39;49m\u001b[43mkwds\u001b[49m\u001b[43m)\u001b[49m\n",
      "File \u001b[0;32m~/miniconda3/lib/python3.11/site-packages/numpy/testing/_private/utils.py:797\u001b[0m, in \u001b[0;36massert_array_compare\u001b[0;34m(comparison, x, y, err_msg, verbose, header, precision, equal_nan, equal_inf, strict)\u001b[0m\n\u001b[1;32m    793\u001b[0m         err_msg \u001b[38;5;241m+\u001b[39m\u001b[38;5;241m=\u001b[39m \u001b[38;5;124m'\u001b[39m\u001b[38;5;130;01m\\n\u001b[39;00m\u001b[38;5;124m'\u001b[39m \u001b[38;5;241m+\u001b[39m \u001b[38;5;124m'\u001b[39m\u001b[38;5;130;01m\\n\u001b[39;00m\u001b[38;5;124m'\u001b[39m\u001b[38;5;241m.\u001b[39mjoin(remarks)\n\u001b[1;32m    794\u001b[0m         msg \u001b[38;5;241m=\u001b[39m build_err_msg([ox, oy], err_msg,\n\u001b[1;32m    795\u001b[0m                             verbose\u001b[38;5;241m=\u001b[39mverbose, header\u001b[38;5;241m=\u001b[39mheader,\n\u001b[1;32m    796\u001b[0m                             names\u001b[38;5;241m=\u001b[39m(\u001b[38;5;124m'\u001b[39m\u001b[38;5;124mx\u001b[39m\u001b[38;5;124m'\u001b[39m, \u001b[38;5;124m'\u001b[39m\u001b[38;5;124my\u001b[39m\u001b[38;5;124m'\u001b[39m), precision\u001b[38;5;241m=\u001b[39mprecision)\n\u001b[0;32m--> 797\u001b[0m         \u001b[38;5;28;01mraise\u001b[39;00m \u001b[38;5;167;01mAssertionError\u001b[39;00m(msg)\n\u001b[1;32m    798\u001b[0m \u001b[38;5;28;01mexcept\u001b[39;00m \u001b[38;5;167;01mValueError\u001b[39;00m:\n\u001b[1;32m    799\u001b[0m     \u001b[38;5;28;01mimport\u001b[39;00m \u001b[38;5;21;01mtraceback\u001b[39;00m\n",
      "\u001b[0;31mAssertionError\u001b[0m: \nNot equal to tolerance rtol=0.001, atol=1e-05\n\nMismatched elements: 88537 / 90000 (98.4%)\nMax absolute difference: 0.03038901\nMax relative difference: 0.2821542\n x: array([[[[-0.099564, -0.098427, -0.097701, ..., -0.097652, -0.095919,\n          -0.095454],\n         [-0.094623, -0.095435, -0.094947, ..., -0.093829, -0.092482,...\n y: array([[[[-0.099845, -0.098138, -0.097527, ..., -0.098395, -0.097126,\n          -0.096604],\n         [-0.092851, -0.09231 , -0.092299, ..., -0.093995, -0.093602,..."
     ]
    }
   ],
   "source": [
    "\n",
    "# Compare the ONNX and PyTorch results\n",
    "np.testing.assert_allclose(ort_outs[0], output.detach().numpy(), rtol=1e-03, atol=1e-05)\n"
   ]
  },
  {
   "cell_type": "code",
   "execution_count": 23,
   "id": "8dc4a1e7",
   "metadata": {},
   "outputs": [],
   "source": [
    "#| hide\n",
    "import nbdev; nbdev.nbdev_export('110_preprocessing.pt_patching')"
   ]
  },
  {
   "cell_type": "code",
   "execution_count": null,
   "id": "aef77710",
   "metadata": {},
   "outputs": [],
   "source": []
  }
 ],
 "metadata": {
  "kernelspec": {
   "display_name": "base",
   "language": "python",
   "name": "python3"
  },
  "language_info": {
   "codemirror_mode": {
    "name": "ipython",
    "version": 3
   },
   "file_extension": ".py",
   "mimetype": "text/x-python",
   "name": "python",
   "nbconvert_exporter": "python",
   "pygments_lexer": "ipython3",
   "version": "3.11.5"
  }
 },
 "nbformat": 4,
 "nbformat_minor": 5
}
