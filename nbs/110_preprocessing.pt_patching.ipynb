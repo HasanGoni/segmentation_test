{
 "cells": [
  {
   "cell_type": "code",
   "execution_count": 1,
   "metadata": {},
   "outputs": [],
   "source": [
    "#| default_exp preprocessing.pt_patching"
   ]
  },
  {
   "cell_type": "markdown",
   "metadata": {},
   "source": [
    "# Patch Whole imageto number of patches\n",
    "> Patch whole image into number of patches"
   ]
  },
  {
   "cell_type": "code",
   "execution_count": 1,
   "metadata": {},
   "outputs": [],
   "source": [
    "#| export\n",
    "import torch\n",
    "import torch.nn as nn\n",
    "import torch.nn.functional as F\n",
    "import math"
   ]
  },
  {
   "cell_type": "code",
   "execution_count": 2,
   "id": "230e69a7",
   "metadata": {},
   "outputs": [],
   "source": [
    "from fastcore.all import *"
   ]
  },
  {
   "cell_type": "code",
   "execution_count": 3,
   "id": "286e142c",
   "metadata": {},
   "outputs": [],
   "source": [
    "#| export\n",
    "class ImageToPatchLayer(nn.Module):\n",
    "    \"\"\"Custom layer to convert images into patches.\n",
    "    Maintains ONNX compatibility by using standard torch operations.\"\"\"\n",
    "    \n",
    "    def __init__(self, patch_size=256, stride=None, padding_mode='reflect'):\n",
    "        super().__init__()\n",
    "        self.patch_size = patch_size\n",
    "        self.stride = stride if stride is not None else patch_size\n",
    "        self.padding_mode = padding_mode\n",
    "        \n",
    "    def forward(self, x):\n",
    "        \"\"\"\n",
    "        Args:\n",
    "            x: Input tensor of shape (B, C, H, W)\n",
    "        Returns:\n",
    "            Patches tensor of shape (B, N, C, patch_size, patch_size)\n",
    "            where N is the number of patches\n",
    "        \"\"\"\n",
    "        B, C, H, W = x.shape\n",
    "        \n",
    "        # Calculate padding\n",
    "        pad_h = (self.patch_size - H % self.patch_size) % self.patch_size\n",
    "        pad_w = (self.patch_size - W % self.patch_size) % self.patch_size\n",
    "        \n",
    "        # Apply padding if needed\n",
    "        if pad_h > 0 or pad_w > 0:\n",
    "            x = F.pad(x, (0, pad_w, 0, pad_h), mode=self.padding_mode)\n",
    "        \n",
    "        # Unfold into patches using standard torch operations\n",
    "        patches = F.unfold(x, \n",
    "                          kernel_size=(self.patch_size, self.patch_size),\n",
    "                          stride=self.stride)\n",
    "        \n",
    "        # Reshape to (B, N, C, patch_size, patch_size)\n",
    "        patches = patches.view(B, C, self.patch_size, self.patch_size, -1)\n",
    "        patches = patches.permute(0, 4, 1, 2, 3)\n",
    "        \n",
    "        return patches"
   ]
  },
  {
   "cell_type": "code",
   "execution_count": 4,
   "id": "8df7fc9c",
   "metadata": {},
   "outputs": [],
   "source": [
    "#| export\n",
    "class PatchToImageLayer(nn.Module):\n",
    "    \"\"\"Custom layer to reconstruct image from patches.\n",
    "    Maintains ONNX compatibility by using standard torch operations.\"\"\"\n",
    "    \n",
    "    def __init__(self, output_size=None, patch_size=256, stride=None):\n",
    "        super().__init__()\n",
    "        self.output_size = output_size\n",
    "        self.patch_size = patch_size\n",
    "        self.stride = stride if stride is not None else patch_size\n",
    "        \n",
    "    def forward(self, x, original_size=None):\n",
    "        \"\"\"\n",
    "        Args:\n",
    "            x: Input tensor of patches (B, N, C, patch_size, patch_size)\n",
    "            original_size: Optional tuple of (H, W) for output size\n",
    "        Returns:\n",
    "            Reconstructed image tensor of shape (B, C, H, W)\n",
    "        \"\"\"\n",
    "        B, N, C, H, W = x.shape\n",
    "        \n",
    "        # Reshape patches for fold operation\n",
    "        x = x.permute(0, 2, 3, 4, 1)\n",
    "        x = x.reshape(B, C * H * W, N)\n",
    "        \n",
    "        # Calculate output size\n",
    "        if original_size is not None:\n",
    "            output_h, output_w = original_size\n",
    "        elif self.output_size is not None:\n",
    "            output_h, output_w = self.output_size\n",
    "        else:\n",
    "            # Calculate based on number of patches and stride\n",
    "            output_h = int(math.sqrt(N)) * self.stride\n",
    "            output_w = output_h\n",
    "        \n",
    "        # Use fold operation to reconstruct image\n",
    "        output = F.fold(x,\n",
    "                       output_size=(output_h, output_w),\n",
    "                       kernel_size=(self.patch_size, self.patch_size),\n",
    "                       stride=self.stride)\n",
    "        \n",
    "        return output"
   ]
  },
  {
   "cell_type": "code",
   "execution_count": null,
   "id": "569f1ae7",
   "metadata": {},
   "outputs": [],
   "source": []
  },
  {
   "cell_type": "code",
   "execution_count": 12,
   "id": "69dbc4c0",
   "metadata": {},
   "outputs": [
    {
     "name": "stdout",
     "output_type": "stream",
     "text": [
      "torch.Size([1, 35, 1, 256, 256])\n"
     ]
    },
    {
     "ename": "RuntimeError",
     "evalue": "Given output_size=(1152, 1632), kernel_size=(256, 256), dilation=(1, 1), padding=(0, 0), stride=(256, 256), expected size of input's dimension 2 to match the calculated number of sliding blocks 4 * 6 = 24, but got input.size(2)=35.",
     "output_type": "error",
     "traceback": [
      "\u001b[0;31m---------------------------------------------------------------------------\u001b[0m",
      "\u001b[0;31mRuntimeError\u001b[0m                              Traceback (most recent call last)",
      "Cell \u001b[0;32mIn[12], line 6\u001b[0m\n\u001b[1;32m      4\u001b[0m \u001b[38;5;28mprint\u001b[39m(patches\u001b[38;5;241m.\u001b[39mshape)\n\u001b[1;32m      5\u001b[0m patch_to_image_layer \u001b[38;5;241m=\u001b[39m PatchToImageLayer(output_size\u001b[38;5;241m=\u001b[39m(\u001b[38;5;241m1152\u001b[39m, \u001b[38;5;241m1632\u001b[39m), patch_size\u001b[38;5;241m=\u001b[39m\u001b[38;5;241m256\u001b[39m, stride\u001b[38;5;241m=\u001b[39m\u001b[38;5;28;01mNone\u001b[39;00m)\n\u001b[0;32m----> 6\u001b[0m reconstructed_image \u001b[38;5;241m=\u001b[39m \u001b[43mpatch_to_image_layer\u001b[49m\u001b[43m(\u001b[49m\u001b[43mpatches\u001b[49m\u001b[43m)\u001b[49m\n\u001b[1;32m      7\u001b[0m \u001b[38;5;28mprint\u001b[39m(reconstructed_image\u001b[38;5;241m.\u001b[39mshape)\n",
      "File \u001b[0;32m~/miniconda3/lib/python3.11/site-packages/torch/nn/modules/module.py:1553\u001b[0m, in \u001b[0;36mModule._wrapped_call_impl\u001b[0;34m(self, *args, **kwargs)\u001b[0m\n\u001b[1;32m   1551\u001b[0m     \u001b[38;5;28;01mreturn\u001b[39;00m \u001b[38;5;28mself\u001b[39m\u001b[38;5;241m.\u001b[39m_compiled_call_impl(\u001b[38;5;241m*\u001b[39margs, \u001b[38;5;241m*\u001b[39m\u001b[38;5;241m*\u001b[39mkwargs)  \u001b[38;5;66;03m# type: ignore[misc]\u001b[39;00m\n\u001b[1;32m   1552\u001b[0m \u001b[38;5;28;01melse\u001b[39;00m:\n\u001b[0;32m-> 1553\u001b[0m     \u001b[38;5;28;01mreturn\u001b[39;00m \u001b[38;5;28;43mself\u001b[39;49m\u001b[38;5;241;43m.\u001b[39;49m\u001b[43m_call_impl\u001b[49m\u001b[43m(\u001b[49m\u001b[38;5;241;43m*\u001b[39;49m\u001b[43margs\u001b[49m\u001b[43m,\u001b[49m\u001b[43m \u001b[49m\u001b[38;5;241;43m*\u001b[39;49m\u001b[38;5;241;43m*\u001b[39;49m\u001b[43mkwargs\u001b[49m\u001b[43m)\u001b[49m\n",
      "File \u001b[0;32m~/miniconda3/lib/python3.11/site-packages/torch/nn/modules/module.py:1562\u001b[0m, in \u001b[0;36mModule._call_impl\u001b[0;34m(self, *args, **kwargs)\u001b[0m\n\u001b[1;32m   1557\u001b[0m \u001b[38;5;66;03m# If we don't have any hooks, we want to skip the rest of the logic in\u001b[39;00m\n\u001b[1;32m   1558\u001b[0m \u001b[38;5;66;03m# this function, and just call forward.\u001b[39;00m\n\u001b[1;32m   1559\u001b[0m \u001b[38;5;28;01mif\u001b[39;00m \u001b[38;5;129;01mnot\u001b[39;00m (\u001b[38;5;28mself\u001b[39m\u001b[38;5;241m.\u001b[39m_backward_hooks \u001b[38;5;129;01mor\u001b[39;00m \u001b[38;5;28mself\u001b[39m\u001b[38;5;241m.\u001b[39m_backward_pre_hooks \u001b[38;5;129;01mor\u001b[39;00m \u001b[38;5;28mself\u001b[39m\u001b[38;5;241m.\u001b[39m_forward_hooks \u001b[38;5;129;01mor\u001b[39;00m \u001b[38;5;28mself\u001b[39m\u001b[38;5;241m.\u001b[39m_forward_pre_hooks\n\u001b[1;32m   1560\u001b[0m         \u001b[38;5;129;01mor\u001b[39;00m _global_backward_pre_hooks \u001b[38;5;129;01mor\u001b[39;00m _global_backward_hooks\n\u001b[1;32m   1561\u001b[0m         \u001b[38;5;129;01mor\u001b[39;00m _global_forward_hooks \u001b[38;5;129;01mor\u001b[39;00m _global_forward_pre_hooks):\n\u001b[0;32m-> 1562\u001b[0m     \u001b[38;5;28;01mreturn\u001b[39;00m \u001b[43mforward_call\u001b[49m\u001b[43m(\u001b[49m\u001b[38;5;241;43m*\u001b[39;49m\u001b[43margs\u001b[49m\u001b[43m,\u001b[49m\u001b[43m \u001b[49m\u001b[38;5;241;43m*\u001b[39;49m\u001b[38;5;241;43m*\u001b[39;49m\u001b[43mkwargs\u001b[49m\u001b[43m)\u001b[49m\n\u001b[1;32m   1564\u001b[0m \u001b[38;5;28;01mtry\u001b[39;00m:\n\u001b[1;32m   1565\u001b[0m     result \u001b[38;5;241m=\u001b[39m \u001b[38;5;28;01mNone\u001b[39;00m\n",
      "Cell \u001b[0;32mIn[10], line 37\u001b[0m, in \u001b[0;36mPatchToImageLayer.forward\u001b[0;34m(self, x, original_size)\u001b[0m\n\u001b[1;32m     34\u001b[0m     output_w \u001b[38;5;241m=\u001b[39m output_h\n\u001b[1;32m     36\u001b[0m \u001b[38;5;66;03m# Use fold operation to reconstruct image\u001b[39;00m\n\u001b[0;32m---> 37\u001b[0m output \u001b[38;5;241m=\u001b[39m \u001b[43mF\u001b[49m\u001b[38;5;241;43m.\u001b[39;49m\u001b[43mfold\u001b[49m\u001b[43m(\u001b[49m\u001b[43mx\u001b[49m\u001b[43m,\u001b[49m\n\u001b[1;32m     38\u001b[0m \u001b[43m               \u001b[49m\u001b[43moutput_size\u001b[49m\u001b[38;5;241;43m=\u001b[39;49m\u001b[43m(\u001b[49m\u001b[43moutput_h\u001b[49m\u001b[43m,\u001b[49m\u001b[43m \u001b[49m\u001b[43moutput_w\u001b[49m\u001b[43m)\u001b[49m\u001b[43m,\u001b[49m\n\u001b[1;32m     39\u001b[0m \u001b[43m               \u001b[49m\u001b[43mkernel_size\u001b[49m\u001b[38;5;241;43m=\u001b[39;49m\u001b[43m(\u001b[49m\u001b[38;5;28;43mself\u001b[39;49m\u001b[38;5;241;43m.\u001b[39;49m\u001b[43mpatch_size\u001b[49m\u001b[43m,\u001b[49m\u001b[43m \u001b[49m\u001b[38;5;28;43mself\u001b[39;49m\u001b[38;5;241;43m.\u001b[39;49m\u001b[43mpatch_size\u001b[49m\u001b[43m)\u001b[49m\u001b[43m,\u001b[49m\n\u001b[1;32m     40\u001b[0m \u001b[43m               \u001b[49m\u001b[43mstride\u001b[49m\u001b[38;5;241;43m=\u001b[39;49m\u001b[38;5;28;43mself\u001b[39;49m\u001b[38;5;241;43m.\u001b[39;49m\u001b[43mstride\u001b[49m\u001b[43m)\u001b[49m\n\u001b[1;32m     42\u001b[0m \u001b[38;5;28;01mreturn\u001b[39;00m output\n",
      "File \u001b[0;32m~/miniconda3/lib/python3.11/site-packages/torch/nn/functional.py:4874\u001b[0m, in \u001b[0;36mfold\u001b[0;34m(input, output_size, kernel_size, dilation, padding, stride)\u001b[0m\n\u001b[1;32m   4870\u001b[0m \u001b[38;5;28;01mif\u001b[39;00m has_torch_function_unary(\u001b[38;5;28minput\u001b[39m):\n\u001b[1;32m   4871\u001b[0m     \u001b[38;5;28;01mreturn\u001b[39;00m handle_torch_function(\n\u001b[1;32m   4872\u001b[0m         fold, (\u001b[38;5;28minput\u001b[39m,), \u001b[38;5;28minput\u001b[39m, output_size, kernel_size, dilation\u001b[38;5;241m=\u001b[39mdilation, padding\u001b[38;5;241m=\u001b[39mpadding, stride\u001b[38;5;241m=\u001b[39mstride\n\u001b[1;32m   4873\u001b[0m     )\n\u001b[0;32m-> 4874\u001b[0m \u001b[38;5;28;01mreturn\u001b[39;00m \u001b[43mtorch\u001b[49m\u001b[38;5;241;43m.\u001b[39;49m\u001b[43m_C\u001b[49m\u001b[38;5;241;43m.\u001b[39;49m\u001b[43m_nn\u001b[49m\u001b[38;5;241;43m.\u001b[39;49m\u001b[43mcol2im\u001b[49m\u001b[43m(\u001b[49m\n\u001b[1;32m   4875\u001b[0m \u001b[43m    \u001b[49m\u001b[38;5;28;43minput\u001b[39;49m\u001b[43m,\u001b[49m\u001b[43m \u001b[49m\u001b[43m_pair\u001b[49m\u001b[43m(\u001b[49m\u001b[43moutput_size\u001b[49m\u001b[43m)\u001b[49m\u001b[43m,\u001b[49m\u001b[43m \u001b[49m\u001b[43m_pair\u001b[49m\u001b[43m(\u001b[49m\u001b[43mkernel_size\u001b[49m\u001b[43m)\u001b[49m\u001b[43m,\u001b[49m\u001b[43m \u001b[49m\u001b[43m_pair\u001b[49m\u001b[43m(\u001b[49m\u001b[43mdilation\u001b[49m\u001b[43m)\u001b[49m\u001b[43m,\u001b[49m\u001b[43m \u001b[49m\u001b[43m_pair\u001b[49m\u001b[43m(\u001b[49m\u001b[43mpadding\u001b[49m\u001b[43m)\u001b[49m\u001b[43m,\u001b[49m\u001b[43m \u001b[49m\u001b[43m_pair\u001b[49m\u001b[43m(\u001b[49m\u001b[43mstride\u001b[49m\u001b[43m)\u001b[49m\n\u001b[1;32m   4876\u001b[0m \u001b[43m\u001b[49m\u001b[43m)\u001b[49m\n",
      "\u001b[0;31mRuntimeError\u001b[0m: Given output_size=(1152, 1632), kernel_size=(256, 256), dilation=(1, 1), padding=(0, 0), stride=(256, 256), expected size of input's dimension 2 to match the calculated number of sliding blocks 4 * 6 = 24, but got input.size(2)=35."
     ]
    }
   ],
   "source": [
    "input_image = torch.randn(1, 1, 1152, 1632)  \n",
    "patch_layer = ImageToPatchLayer(patch_size=256, stride=None, padding_mode='reflect')\n",
    "patches = patch_layer(input_image)\n",
    "print(patches.shape)\n",
    "patch_to_image_layer = PatchToImageLayer(output_size=(1152, 1632), patch_size=256, stride=None)\n",
    "reconstructed_image = patch_to_image_layer(patches)\n",
    "print(reconstructed_image.shape)\n",
    "\n"
   ]
  },
  {
   "cell_type": "code",
   "execution_count": null,
   "id": "463f7b78",
   "metadata": {},
   "outputs": [],
   "source": []
  },
  {
   "cell_type": "code",
   "execution_count": 25,
   "id": "ca10fa0a",
   "metadata": {},
   "outputs": [],
   "source": [
    "class RobustImageToPatchLayer(nn.Module):\n",
    "    \"\"\"\n",
    "    Robust implementation of image to patch conversion that handles arbitrary image sizes.\n",
    "    Ensures ONNX compatibility and precise patch creation.\n",
    "    \"\"\"\n",
    "    def __init__(self, patch_size=256, stride=None, padding_mode='reflect'):\n",
    "        super().__init__()\n",
    "        self.patch_size = patch_size\n",
    "        self.stride = stride if stride is not None else patch_size\n",
    "        self.padding_mode = padding_mode\n",
    "\n",
    "    def calculate_padding(self, height, width):\n",
    "        \"\"\"Calculate required padding for arbitrary image sizes.\"\"\"\n",
    "        if self.stride is None:\n",
    "            self.stride = self.patch_size\n",
    "            \n",
    "        # Calculate how many patches we'll need\n",
    "        n_patches_h = math.ceil((height - self.patch_size) / self.stride) + 1\n",
    "        n_patches_w = math.ceil((width - self.patch_size) / self.stride) + 1\n",
    "        \n",
    "        # Calculate required image size to fit these patches\n",
    "        required_h = (n_patches_h - 1) * self.stride + self.patch_size\n",
    "        required_w = (n_patches_w - 1) * self.stride + self.patch_size\n",
    "        \n",
    "        # Calculate padding on each side\n",
    "        pad_h = max(required_h - height, 0)\n",
    "        pad_w = max(required_w - width, 0)\n",
    "        \n",
    "        # Split padding for both sides\n",
    "        pad_h_before = pad_h // 2\n",
    "        pad_h_after = pad_h - pad_h_before\n",
    "        pad_w_before = pad_w // 2\n",
    "        pad_w_after = pad_w - pad_w_before\n",
    "        \n",
    "        return pad_h_before, pad_h_after, pad_w_before, pad_w_after, n_patches_h, n_patches_w\n",
    "\n",
    "    def forward(self, x):\n",
    "        \"\"\"\n",
    "        Args:\n",
    "            x: Input tensor of shape (B, C, H, W)\n",
    "        Returns:\n",
    "            Tuple of (patches, padding_info)\n",
    "            - patches: tensor of shape (B, N, C, patch_size, patch_size)\n",
    "            - padding_info: tuple containing padding information for reconstruction\n",
    "        \"\"\"\n",
    "        B, C, H, W = x.shape\n",
    "        \n",
    "        # Calculate padding\n",
    "        pad_h_before, pad_h_after, pad_w_before, pad_w_after, n_patches_h, n_patches_w = \\\n",
    "        \tself.calculate_padding(H, W)\n",
    "            \n",
    "        # Store original size and padding for reconstruction\n",
    "        padding_info = (H, W, pad_h_before, pad_h_after, pad_w_before, pad_w_after)\n",
    "        \n",
    "        # Apply padding\n",
    "        x = F.pad(x, (pad_w_before, pad_w_after, pad_h_before, pad_h_after),\n",
    "                \tmode=self.padding_mode)\n",
    "        \n",
    "    \t# Extract patches using unfold\n",
    "        patches = x.unfold(2, self.patch_size, self.stride)\\\n",
    "                    .unfold(3, self.patch_size, self.stride)\n",
    "        \n",
    "    \t# Reshape to (B, N, C, patch_size, patch_size)\n",
    "        patches = patches.permute(0, 2, 3, 1, 4, 5)\\\n",
    "                        .reshape(B, -1, C, self.patch_size, self.patch_size)\n",
    "        \n",
    "        return patches, padding_info"
   ]
  },
  {
   "cell_type": "code",
   "execution_count": 26,
   "id": "594e5a64",
   "metadata": {},
   "outputs": [
    {
     "name": "stdout",
     "output_type": "stream",
     "text": [
      "torch.Size([1, 35, 1, 256, 256])\n",
      "(1152, 1632, 64, 64, 80, 80)\n"
     ]
    }
   ],
   "source": [
    "robust_patch_layer = RobustImageToPatchLayer(patch_size=256, stride=None, padding_mode='reflect')\n",
    "patches, padding_info = robust_patch_layer(input_image)\n",
    "print(patches.shape)\n",
    "print(padding_info)\n"
   ]
  },
  {
   "cell_type": "code",
   "execution_count": 27,
   "id": "4990fd76",
   "metadata": {},
   "outputs": [],
   "source": [
    "class RobustPatchToImageLayer(nn.Module):\n",
    "    \"\"\"\n",
    "    Robust implementation of patch to image reconstruction that handles arbitrary image sizes.\n",
    "    Ensures ONNX compatibility and precise reconstruction.\n",
    "    \"\"\"\n",
    "    def __init__(self, patch_size=256, stride=None):\n",
    "        super().__init__()\n",
    "        self.patch_size = patch_size\n",
    "        self.stride = stride if stride is not None else patch_size\n",
    "        \n",
    "    def forward(self, patches, padding_info):\n",
    "        \"\"\"\n",
    "        Args:\n",
    "            patches: Tensor of shape (B, N, C, patch_size, patch_size)\n",
    "            padding_info: Tuple containing (orig_h, orig_w, pad_h_before, pad_h_after, pad_w_before, pad_w_after)\n",
    "        Returns:\n",
    "            Reconstructed image tensor of shape (B, C, H, W)\n",
    "        \"\"\"\n",
    "        orig_h, orig_w, pad_h_before, pad_h_after, pad_w_before, pad_w_after = padding_info\n",
    "        B, N, C, H_patch, W_patch = patches.shape\n",
    "        \n",
    "        # Calculate padded image size\n",
    "        H = orig_h + pad_h_before + pad_h_after\n",
    "        W = orig_w + pad_w_before + pad_w_after\n",
    "        \n",
    "        # Calculate number of patches in each dimension\n",
    "        n_patches_h = (H - self.patch_size) // self.stride + 1\n",
    "        n_patches_w = (W - self.patch_size) // self.stride + 1\n",
    "        \n",
    "        # Reshape patches for reconstruction\n",
    "        patches = patches.reshape(B, n_patches_h, n_patches_w, C, H_patch, W_patch)\n",
    "        patches = patches.permute(0, 3, 1, 4, 2, 5)\n",
    "        \n",
    "        # Initialize output tensor\n",
    "        output = torch.zeros(B, C, H, W, device=patches.device)\n",
    "        count = torch.zeros(B, C, H, W, device=patches.device)\n",
    "        \n",
    "        # Reconstruct image\n",
    "        for i in range(n_patches_h):\n",
    "            for j in range(n_patches_w):\n",
    "                h_start = i * self.stride\n",
    "                w_start = j * self.stride\n",
    "                output[:, :, h_start:h_start + H_patch, \n",
    "                      w_start:w_start + W_patch] += patches[:, :, i, :, j, :]\n",
    "                count[:, :, h_start:h_start + H_patch,\n",
    "                      w_start:w_start + W_patch] += 1\n",
    "        \n",
    "        # Average overlapping regions\n",
    "        output = output / (count + 1e-8)\n",
    "        \n",
    "        # Remove padding to get back to original size\n",
    "        output = output[:, :, \n",
    "                       pad_h_before:H - pad_h_after,\n",
    "                       pad_w_before:W - pad_w_after]\n",
    "        \n",
    "        return output\n"
   ]
  },
  {
   "cell_type": "code",
   "execution_count": 28,
   "id": "38e08329",
   "metadata": {},
   "outputs": [
    {
     "name": "stdout",
     "output_type": "stream",
     "text": [
      "torch.Size([1, 1, 1152, 1632])\n"
     ]
    }
   ],
   "source": [
    "robust_patch_to_image_layer = RobustPatchToImageLayer(patch_size=256, stride=None)\n",
    "reconstructed_image = robust_patch_to_image_layer(patches, padding_info)\n",
    "print(reconstructed_image.shape)\n"
   ]
  },
  {
   "cell_type": "code",
   "execution_count": 29,
   "id": "c9dd7dda",
   "metadata": {},
   "outputs": [],
   "source": [
    "#| export\n",
    "class RobustPatchProcessingNetwork(nn.Module):\n",
    "    \"\"\"Complete network with robust patch processing.\"\"\"\n",
    "    def __init__(self, base_model, patch_size=256, stride=None):\n",
    "        super().__init__()\n",
    "        self.patch_maker = RobustImageToPatchLayer(patch_size, stride)\n",
    "        self.base_model = base_model\n",
    "        self.patch_merger = RobustPatchToImageLayer(patch_size, stride)\n",
    "    \n",
    "    def forward(self, x):\n",
    "        # Convert to patches\n",
    "        patches, padding_info = self.patch_maker(x)\n",
    "        \n",
    "        # Process patches\n",
    "        B, N = patches.shape[:2]\n",
    "        patches = patches.reshape(B * N, *patches.shape[2:])\n",
    "        processed_patches = self.base_model(patches)\n",
    "        processed_patches = processed_patches.reshape(B, N, *processed_patches.shape[1:])\n",
    "        \n",
    "        # Reconstruct image\n",
    "        output = self.patch_merger(processed_patches, padding_info)\n",
    "        \n",
    "        return output"
   ]
  },
  {
   "cell_type": "code",
   "execution_count": 30,
   "id": "faa84885",
   "metadata": {},
   "outputs": [],
   "source": [
    "#| export\n",
    "class RobustPatchProcessingNetwork(nn.Module):\n",
    "    \"\"\"Complete network with robust patch processing.\"\"\"\n",
    "    def __init__(self, base_model, patch_size=256, stride=None):\n",
    "        super().__init__()\n",
    "        self.patch_maker = RobustImageToPatchLayer(patch_size, stride)\n",
    "        self.base_model = base_model\n",
    "        self.patch_merger = RobustPatchToImageLayer(patch_size, stride)\n",
    "    \n",
    "    def forward(self, x):\n",
    "        # Convert to patches\n",
    "        patches, padding_info = self.patch_maker(x)\n",
    "        \n",
    "        # Process patches\n",
    "        B, N = patches.shape[:2]\n",
    "        patches = patches.reshape(B * N, *patches.shape[2:])\n",
    "        processed_patches = self.base_model(patches)\n",
    "        processed_patches = processed_patches.reshape(B, N, *processed_patches.shape[1:])\n",
    "        \n",
    "        # Reconstruct image\n",
    "        output = self.patch_merger(processed_patches, padding_info)\n",
    "        \n",
    "        return output"
   ]
  },
  {
   "cell_type": "code",
   "execution_count": null,
   "id": "09f4f398",
   "metadata": {},
   "outputs": [],
   "source": [
    "#| export\n",
    "class OptimizedImageToPatchLayer(nn.Module):\n",
    "    \"\"\"\n",
    "    Optimized patch conversion for 1152x1632 images with edge effect handling\n",
    "    \"\"\"\n",
    "    def __init__(self, patch_size=256, overlap=32, input_size=(1152, 1632)):\n",
    "        super().__init__()\n",
    "        self.patch_size = patch_size\n",
    "        self.overlap = overlap\n",
    "        self.input_size = input_size\n",
    "        \n",
    "        # Pre-compute optimal grid for given input size\n",
    "        self.stride = patch_size - overlap\n",
    "        self.grid_h = (input_size[0] - overlap) // (patch_size - overlap)\n",
    "        self.grid_w = (input_size[1] - overlap) // (patch_size - overlap)\n",
    "        \n",
    "        # Calculate exact padding needed\n",
    "        self.total_h = (self.grid_h - 1) * (patch_size - overlap) + patch_size\n",
    "        self.total_w = (self.grid_w - 1) * (patch_size - overlap) + patch_size\n",
    "        \n",
    "        self.pad_h = max(0, self.total_h - input_size[0])\n",
    "        self.pad_w = max(0, self.total_w - input_size[1])\n",
    "        \n",
    "        # Create gaussian weight mask for edge effect reduction\n",
    "        self.register_buffer('weight_mask', self._create_weight_mask())\n",
    "        "
   ]
  },
  {
   "cell_type": "code",
   "execution_count": null,
   "id": "17401ebd",
   "metadata": {},
   "outputs": [],
   "source": []
  },
  {
   "cell_type": "code",
   "execution_count": null,
   "id": "bb9a6ada",
   "metadata": {},
   "outputs": [],
   "source": []
  },
  {
   "cell_type": "code",
   "execution_count": null,
   "id": "46f5d025",
   "metadata": {},
   "outputs": [],
   "source": []
  },
  {
   "cell_type": "code",
   "execution_count": 3,
   "id": "40af2f88",
   "metadata": {},
   "outputs": [],
   "source": [
    "class DynamicPatchOptimizer:\n",
    "    \"\"\"\n",
    "    Utility class to calculate optimal patch configuration for any input size\n",
    "    \"\"\"\n",
    "    @staticmethod\n",
    "    def calculate_optimal_grid(image_size, patch_size, min_overlap=32):\n",
    "        \"\"\"\n",
    "        Calculate optimal grid configuration for any image size\n",
    "        Returns optimal stride and grid dimensions\n",
    "        \"\"\"\n",
    "        H, W = image_size\n",
    "        \n",
    "        # Calculate number of patches needed with minimum overlap\n",
    "        n_patches_h = math.ceil((H - min_overlap) / (patch_size - min_overlap))\n",
    "        n_patches_w = math.ceil((W - min_overlap) / (patch_size - min_overlap))\n",
    "        \n",
    "        # Calculate optimal stride to evenly distribute patches\n",
    "        stride_h = math.floor((H - patch_size) / (n_patches_h - 1)) if n_patches_h > 1 else H - patch_size\n",
    "        stride_w = math.floor((W - patch_size) / (n_patches_w - 1)) if n_patches_w > 1 else W - patch_size\n",
    "        \n",
    "        # Calculate actual overlap\n",
    "        overlap_h = patch_size - stride_h\n",
    "        overlap_w = patch_size - stride_w\n",
    "        \n",
    "        return {\n",
    "            'grid_h': n_patches_h,\n",
    "            'grid_w': n_patches_w,\n",
    "            'stride_h': stride_h,\n",
    "            'stride_w': stride_w,\n",
    "            'overlap_h': overlap_h,\n",
    "            'overlap_w': overlap_w\n",
    "        }"
   ]
  },
  {
   "cell_type": "code",
   "execution_count": 4,
   "id": "5561bc04",
   "metadata": {},
   "outputs": [],
   "source": [
    "class GeneralizedPatchLayer(nn.Module):\n",
    "    \"\"\"\n",
    "    Generalized patch conversion layer that works with any image size\n",
    "    \"\"\"\n",
    "    def __init__(self, patch_size=256, min_overlap=32):\n",
    "        super().__init__()\n",
    "        self.patch_size = patch_size\n",
    "        self.min_overlap = min_overlap\n",
    "        \n",
    "        # Create gaussian weight mask\n",
    "        self.register_buffer('weight_mask', self._create_weight_mask())\n",
    "        \n",
    "    def _create_weight_mask(self):\n",
    "        \"\"\"Creates gaussian weight mask for edge effect reduction\"\"\"\n",
    "        x = torch.linspace(-1, 1, self.patch_size)\n",
    "        y = torch.linspace(-1, 1, self.patch_size)\n",
    "        xx, yy = torch.meshgrid(x, y, indexing='ij')\n",
    "        # Use smoother gaussian for better blending\n",
    "        gaussian = torch.exp(-(xx**2 + yy**2) / 1.5)\n",
    "        return gaussian\n",
    "    \n",
    "    def _calculate_padding(self, H, W, grid_config):\n",
    "        \"\"\"Calculate required padding for the input size\"\"\"\n",
    "        total_h = (grid_config['grid_h'] - 1) * grid_config['stride_h'] + self.patch_size\n",
    "        total_w = (grid_config['grid_w'] - 1) * grid_config['stride_w'] + self.patch_size\n",
    "        \n",
    "        pad_h = max(0, total_h - H)\n",
    "        pad_w = max(0, total_w - W)\n",
    "        \n",
    "        return pad_h, pad_w\n",
    "\n",
    "    def visualize_patch_grid(self, image_tensor, grid_config):\n",
    "        \"\"\"Visualizes patch grid overlay on image\"\"\"\n",
    "        image = image_tensor[0].cpu().numpy().transpose(1, 2, 0)\n",
    "        if image.shape[2] == 1:\n",
    "            image = image.squeeze(-1)\n",
    "            \n",
    "        plt.figure(figsize=(15, 10))\n",
    "        plt.imshow(image, cmap='gray' if len(image.shape) == 2 else None)\n",
    "        \n",
    "        # Draw patch grid with actual strides\n",
    "        for i in range(grid_config['grid_h']):\n",
    "            y = i * grid_config['stride_h']\n",
    "            plt.axhline(y=y, color='r', linestyle='--', alpha=0.5)\n",
    "            plt.axhline(y=y + self.patch_size, color='g', linestyle=':', alpha=0.3)\n",
    "            \n",
    "        for j in range(grid_config['grid_w']):\n",
    "            x = j * grid_config['stride_w']\n",
    "            plt.axvline(x=x, color='r', linestyle='--', alpha=0.5)\n",
    "            plt.axvline(x=x + self.patch_size, color='g', linestyle=':', alpha=0.3)\n",
    "            \n",
    "        plt.title(f'Patch Grid ({grid_config[\"grid_h\"]}x{grid_config[\"grid_w\"]} patches)\\n'\n",
    "                 f'Patch Size: {self.patch_size}, '\n",
    "                 f'Overlap H: {grid_config[\"overlap_h\"]:.1f}, '\n",
    "                 f'Overlap W: {grid_config[\"overlap_w\"]:.1f}')\n",
    "        plt.show()\n",
    "        \n",
    "    def forward(self, x):\n",
    "        B, C, H, W = x.shape\n",
    "        \n",
    "        # Calculate optimal grid configuration\n",
    "        grid_config = DynamicPatchOptimizer.calculate_optimal_grid(\n",
    "            (H, W), self.patch_size, self.min_overlap)\n",
    "        \n",
    "        # Calculate padding\n",
    "        pad_h, pad_w = self._calculate_padding(H, W, grid_config)\n",
    "        pad_h_before, pad_h_after = pad_h // 2, pad_h - pad_h // 2\n",
    "        pad_w_before, pad_w_after = pad_w // 2, pad_w - pad_w // 2\n",
    "        \n",
    "        x_padded = F.pad(x, (pad_w_before, pad_w_after, pad_h_before, pad_h_after),\n",
    "                        mode='reflect')\n",
    "        \n",
    "        # Extract patches\n",
    "        patches = []\n",
    "        for i in range(grid_config['grid_h']):\n",
    "            for j in range(grid_config['grid_w']):\n",
    "                h_start = i * grid_config['stride_h']\n",
    "                w_start = j * grid_config['stride_w']\n",
    "                patch = x_padded[:, :,\n",
    "                               h_start:h_start + self.patch_size,\n",
    "                               w_start:w_start + self.patch_size]\n",
    "                patches.append(patch)\n",
    "                \n",
    "        patches = torch.stack(patches, dim=1)\n",
    "        \n",
    "        # Apply weight mask for edge effect reduction\n",
    "        patches = patches * self.weight_mask.view(1, 1, 1, self.patch_size, self.patch_size)\n",
    "        \n",
    "        return patches, (grid_config, (pad_h_before, pad_h_after, pad_w_before, pad_w_after))"
   ]
  },
  {
   "cell_type": "code",
   "execution_count": 5,
   "id": "23ec75db",
   "metadata": {},
   "outputs": [],
   "source": [
    "class GeneralizedPatchMerger(nn.Module):\n",
    "    \"\"\"\n",
    "    Generalized patch merging layer that works with any image size\n",
    "    \"\"\"\n",
    "    def __init__(self, patch_size=256):\n",
    "        super().__init__()\n",
    "        self.patch_size = patch_size\n",
    "\n",
    "    def forward(self, patches, info):\n",
    "        grid_config, padding_info = info\n",
    "        B, N, C, H_patch, W_patch = patches.shape\n",
    "        pad_h_before, pad_h_after, pad_w_before, pad_w_after = padding_info\n",
    "        \n",
    "        # Calculate padded size\n",
    "        H = (grid_config['grid_h'] - 1) * grid_config['stride_h'] + self.patch_size\n",
    "        W = (grid_config['grid_w'] - 1) * grid_config['stride_w'] + self.patch_size\n",
    "        \n",
    "        # Initialize output and weight accumulator\n",
    "        output = torch.zeros((B, C, H, W), device=patches.device)\n",
    "        weights = torch.zeros((B, 1, H, W), device=patches.device)\n",
    "        \n",
    "        # Reconstruct image with weighted averaging\n",
    "        patch_idx = 0\n",
    "        for i in range(grid_config['grid_h']):\n",
    "            for j in range(grid_config['grid_w']):\n",
    "                h_start = i * grid_config['stride_h']\n",
    "                w_start = j * grid_config['stride_w']\n",
    "                \n",
    "                patch = patches[:, patch_idx]\n",
    "                output[:, :, h_start:h_start + self.patch_size,\n",
    "                      w_start:w_start + self.patch_size] += patch\n",
    "                weights[:, :, h_start:h_start + self.patch_size,\n",
    "                       w_start:w_start + self.patch_size] += 1\n",
    "                patch_idx += 1\n",
    "        \n",
    "        # Average overlapping regions\n",
    "        output = output / (weights + 1e-8)\n",
    "        \n",
    "        # Remove padding to get back original size\n",
    "        output = output[:, :,\n",
    "                       pad_h_before:H - pad_h_after,\n",
    "                       pad_w_before:W - pad_w_after]\n",
    "        \n",
    "        return output"
   ]
  },
  {
   "cell_type": "code",
   "execution_count": 6,
   "id": "75f2b772",
   "metadata": {},
   "outputs": [],
   "source": [
    "class GeneralizedPatchNetwork(nn.Module):\n",
    "    \"\"\"\n",
    "    Complete network with generalized patch processing\n",
    "    \"\"\"\n",
    "    def __init__(self, base_model, patch_size=256, min_overlap=32):\n",
    "        super().__init__()\n",
    "        self.patch_maker = GeneralizedPatchLayer(patch_size, min_overlap)\n",
    "        self.base_model = base_model\n",
    "        self.patch_merger = GeneralizedPatchMerger(patch_size)\n",
    "        \n",
    "    def visualize_patches(self, x):\n",
    "        with torch.no_grad():\n",
    "            grid_config = DynamicPatchOptimizer.calculate_optimal_grid(\n",
    "                (x.shape[2], x.shape[3]), self.patch_maker.patch_size, self.patch_maker.min_overlap)\n",
    "            self.patch_maker.visualize_patch_grid(x, grid_config)\n",
    "        \n",
    "    def forward(self, x):\n",
    "        # Convert to patches\n",
    "        patches, info = self.patch_maker(x)\n",
    "        \n",
    "        # Process patches\n",
    "        B, N = patches.shape[:2]\n",
    "        patches = patches.reshape(B * N, *patches.shape[2:])\n",
    "        processed_patches = self.base_model(patches)\n",
    "        processed_patches = processed_patches.reshape(B, N, *processed_patches.shape[1:])\n",
    "        \n",
    "        # Reconstruct image\n",
    "        output = self.patch_merger(processed_patches, info)\n",
    "        \n",
    "        return output"
   ]
  },
  {
   "cell_type": "code",
   "execution_count": 39,
   "id": "fd31d381",
   "metadata": {},
   "outputs": [],
   "source": [
    "test_sizes = [\n",
    "    (1152, 1632),  # Original size\n",
    "    (800, 1200),   # Different aspect ratio\n",
    "    (2048, 2048),  # Square image\n",
    "    (720, 1280),   # HD size\n",
    "    (3840, 2160)   # 4K size\n",
    "]"
   ]
  },
  {
   "cell_type": "code",
   "execution_count": 40,
   "id": "d1ee40c6",
   "metadata": {},
   "outputs": [
    {
     "name": "stdout",
     "output_type": "stream",
     "text": [
      "Size: (1152, 1632), Patches: torch.Size([1, 40, 3, 256, 256])\n",
      "Size: (800, 1200), Patches: torch.Size([1, 24, 3, 256, 256])\n",
      "Size: (2048, 2048), Patches: torch.Size([1, 81, 3, 256, 256])\n",
      "Size: (720, 1280), Patches: torch.Size([1, 24, 3, 256, 256])\n",
      "Size: (3840, 2160), Patches: torch.Size([1, 170, 3, 256, 256])\n"
     ]
    }
   ],
   "source": [
    "patches_maker = GeneralizedPatchLayer(patch_size=256, min_overlap=32)\n",
    "for size in test_sizes:\n",
    "    patches, info = patches_maker(torch.randn(1, 3, *size))\n",
    "    print(f\"Size: {size}, Patches: {patches.shape}\")"
   ]
  },
  {
   "cell_type": "code",
   "execution_count": 42,
   "id": "e609cf12",
   "metadata": {},
   "outputs": [
    {
     "name": "stdout",
     "output_type": "stream",
     "text": [
      "Size: (1152, 1632), Output: torch.Size([1, 3, 1152, 1628])\n"
     ]
    }
   ],
   "source": [
    "patches_merger = GeneralizedPatchMerger(patch_size=256)\n",
    "input_size = (1152, 1632)\n",
    "patches, info = patches_maker(torch.randn(1, 3, *input_size))\n",
    "output = patches_merger(patches, info)\n",
    "print(f\"Size: {input_size}, Output: {output.shape}\")"
   ]
  },
  {
   "cell_type": "code",
   "execution_count": 24,
   "id": "000bfff9",
   "metadata": {},
   "outputs": [],
   "source": [
    "#| export\n",
    "class SizePreservingPatchLayer(nn.Module):\n",
    "    \"\"\"\n",
    "    Patch conversion layer that guarantees exact input size preservation\n",
    "    \"\"\"\n",
    "    def __init__(self, patch_size=256, min_overlap=32):\n",
    "        super().__init__()\n",
    "        self.patch_size = patch_size\n",
    "        self.min_overlap = min_overlap\n",
    "        self.register_buffer('weight_mask', self._create_weight_mask())\n",
    "        \n",
    "    def _create_weight_mask(self):\n",
    "        \"\"\"Creates gaussian weight mask for edge effect reduction\"\"\"\n",
    "        x = torch.linspace(-1, 1, self.patch_size)\n",
    "        y = torch.linspace(-1, 1, self.patch_size)\n",
    "        xx, yy = torch.meshgrid(x, y, indexing='ij')\n",
    "        gaussian = torch.exp(-(xx**2 + yy**2) / 1.5)\n",
    "        return gaussian\n",
    "\n",
    "    def _calculate_grid(self, H, W):\n",
    "        \"\"\"\n",
    "        Calculate grid configuration ensuring full coverage of input size\n",
    "        \"\"\"\n",
    "        # Calculate number of patches needed\n",
    "        n_patches_h = math.ceil(H / (self.patch_size - self.min_overlap))\n",
    "        n_patches_w = math.ceil(W / (self.patch_size - self.min_overlap))\n",
    "        \n",
    "        # Calculate actual strides to exactly cover the image\n",
    "        stride_h = (H - self.patch_size) / (n_patches_h - 1) if n_patches_h > 1 else 0\n",
    "        stride_w = (W - self.patch_size) / (n_patches_w - 1) if n_patches_w > 1 else 0\n",
    "        \n",
    "        return {\n",
    "            'n_patches_h': n_patches_h,\n",
    "            'n_patches_w': n_patches_w,\n",
    "            'stride_h': stride_h,\n",
    "            'stride_w': stride_w\n",
    "        }\n",
    "    def visualize_patch_grid(self, image_tensor):\n",
    "        \"\"\"Visualizes patch grid overlay on image\"\"\"\n",
    "        image = image_tensor[0].cpu().numpy().transpose(1, 2, 0)\n",
    "        if image.shape[2] == 1:\n",
    "            image = image.squeeze(-1)\n",
    "            \n",
    "        H, W = image.shape[:2]\n",
    "        grid = self._calculate_grid(H, W)\n",
    "        \n",
    "        plt.figure(figsize=(15, 10))\n",
    "        plt.imshow(image, cmap='gray' if len(image.shape) == 2 else None)\n",
    "        \n",
    "        # Draw actual patch locations\n",
    "        for i in range(grid['n_patches_h']):\n",
    "            y = i * grid['stride_h']\n",
    "            plt.axhline(y=y, color='r', linestyle='--', alpha=0.5)\n",
    "            if i * grid['stride_h'] + self.patch_size <= H:\n",
    "                plt.axhline(y=y + self.patch_size, color='g', linestyle=':', alpha=0.3)\n",
    "                \n",
    "        for j in range(grid['n_patches_w']):\n",
    "            x = j * grid['stride_w']\n",
    "            plt.axvline(x=x, color='r', linestyle='--', alpha=0.5)\n",
    "            if j * grid['stride_w'] + self.patch_size <= W:\n",
    "                plt.axvline(x=x + self.patch_size, color='g', linestyle=':', alpha=0.3)\n",
    "                \n",
    "        plt.title(f'Patch Grid ({grid[\"n_patches_h\"]}x{grid[\"n_patches_w\"]} patches)\\n'\n",
    "                 f'Image Size: {H}x{W}, Patch Size: {self.patch_size}')\n",
    "        plt.show()\n",
    "\t\n",
    "    def forward(self, x):\n",
    "        B, C, H, W = x.shape\n",
    "        grid = self._calculate_grid(H, W)\n",
    "        \n",
    "        patches = []\n",
    "        locations = []\n",
    "        \n",
    "        # Extract patches with exact positioning\n",
    "        for i in range(grid['n_patches_h']):\n",
    "            for j in range(grid['n_patches_w']):\n",
    "                # Calculate exact patch location\n",
    "                h_start = int(i * grid['stride_h'])\n",
    "                w_start = int(j * grid['stride_w'])\n",
    "                \n",
    "                # Handle edge cases for last patches\n",
    "                h_start = min(h_start, H - self.patch_size)\n",
    "                w_start = min(w_start, W - self.patch_size)\n",
    "                \n",
    "                patch = x[:, :,\n",
    "                         h_start:h_start + self.patch_size,\n",
    "                         w_start:w_start + self.patch_size]\n",
    "                \n",
    "                patches.append(patch)\n",
    "                locations.append((h_start, w_start))\n",
    "                \n",
    "        patches = torch.stack(patches, dim=1)\n",
    "        \n",
    "        # Apply weight mask for edge effect reduction\n",
    "        patches = patches * self.weight_mask.view(1, 1, 1, self.patch_size, self.patch_size)\n",
    "        \n",
    "        return patches, (locations, (H, W))"
   ]
  },
  {
   "cell_type": "code",
   "execution_count": 25,
   "id": "46833064",
   "metadata": {},
   "outputs": [],
   "source": [
    "#| export\n",
    "class ExactSizePatchNetwork(nn.Module):\n",
    "    \"\"\"\n",
    "    Network that guarantees exact size preservation\n",
    "    \"\"\"\n",
    "    def __init__(self, base_model, patch_size=256, min_overlap=32):\n",
    "        super().__init__()\n",
    "        self.patch_maker = SizePreservingPatchLayer(patch_size, min_overlap)\n",
    "        self.base_model = base_model\n",
    "        self.patch_merger = SizePreservingPatchMerger(patch_size)\n",
    "        \n",
    "    def visualize_patches(self, x):\n",
    "        self.patch_maker.visualize_patch_grid(x)\n",
    "        \n",
    "    def forward(self, x):\n",
    "        # Store original size for verification\n",
    "        original_size = x.shape\n",
    "        \n",
    "        # Convert to patches\n",
    "        patches, info = self.patch_maker(x)\n",
    "        \n",
    "        # Process patches\n",
    "        B, N = patches.shape[:2]\n",
    "        patches = patches.reshape(B * N, *patches.shape[2:])\n",
    "        processed_patches = self.base_model(patches)\n",
    "        processed_patches = processed_patches.reshape(B, N, *processed_patches.shape[1:])\n",
    "        \n",
    "        # Reconstruct image\n",
    "        output = self.patch_merger(processed_patches, info)\n",
    "        \n",
    "        # Verify size match\n",
    "        assert output.shape == original_size, \\\n",
    "            f\"Size mismatch: Input {original_size}, Output {output.shape}\"\n",
    "            \n",
    "        return output"
   ]
  },
  {
   "cell_type": "code",
   "execution_count": 26,
   "id": "df08584d",
   "metadata": {},
   "outputs": [],
   "source": [
    "#| export\n",
    "class SizePreservingPatchMerger(nn.Module):\n",
    "    \"\"\"\n",
    "    Patch merging layer that guarantees exact size preservation\n",
    "    \"\"\"\n",
    "    def __init__(self, patch_size=256):\n",
    "        super().__init__()\n",
    "        self.patch_size = patch_size\n",
    "        \n",
    "    def forward(self, patches, info):\n",
    "        locations, (H, W) = info\n",
    "        B, N, C, H_patch, W_patch = patches.shape\n",
    "        \n",
    "        # Initialize output and weight accumulator with exact input size\n",
    "        output = torch.zeros((B, C, H, W), device=patches.device)\n",
    "        weights = torch.zeros((B, 1, H, W), device=patches.device)\n",
    "        \n",
    "        # Reconstruct image using exact patch locations\n",
    "        for idx, (h_start, w_start) in enumerate(locations):\n",
    "            patch = patches[:, idx]\n",
    "            h_end = min(h_start + self.patch_size, H)\n",
    "            w_end = min(w_start + self.patch_size, W)\n",
    "            \n",
    "            output[:, :, h_start:h_end, w_start:w_end] += patch[:, :, :(h_end-h_start), :(w_end-w_start)]\n",
    "            weights[:, :, h_start:h_end, w_start:w_end] += 1\n",
    "            \n",
    "        # Average overlapping regions\n",
    "        output = output / (weights + 1e-8)\n",
    "        return output"
   ]
  },
  {
   "cell_type": "code",
   "execution_count": 8,
   "id": "69d6b8e6",
   "metadata": {},
   "outputs": [
    {
     "name": "stderr",
     "output_type": "stream",
     "text": [
      "/home/user/miniconda3/lib/python3.11/site-packages/albumentations/__init__.py:13: UserWarning: A new version of Albumentations is available: 1.4.21 (you have 1.4.14). Upgrade using: pip install -U albumentations. To disable automatic update checks, set the environment variable NO_ALBUMENTATIONS_UPDATE to 1.\n",
      "  check_for_updates()\n"
     ]
    }
   ],
   "source": [
    "from segmentation_test.pytorch_model_development import UNet"
   ]
  },
  {
   "cell_type": "code",
   "execution_count": 9,
   "id": "0cf305a7",
   "metadata": {},
   "outputs": [],
   "source": [
    "#output = base_model(input_image)\n",
    "#print(output.shape)\n"
   ]
  },
  {
   "cell_type": "code",
   "execution_count": 14,
   "id": "a63ddac8",
   "metadata": {},
   "outputs": [
    {
     "name": "stdout",
     "output_type": "stream",
     "text": [
      "torch.Size([1, 48, 1, 256, 256])\n",
      "([(0, 0), (0, 196), (0, 393), (0, 589), (0, 786), (0, 982), (0, 1179), (0, 1376), (179, 0), (179, 196), (179, 393), (179, 589), (179, 786), (179, 982), (179, 1179), (179, 1376), (358, 0), (358, 196), (358, 393), (358, 589), (358, 786), (358, 982), (358, 1179), (358, 1376), (537, 0), (537, 196), (537, 393), (537, 589), (537, 786), (537, 982), (537, 1179), (537, 1376), (716, 0), (716, 196), (716, 393), (716, 589), (716, 786), (716, 982), (716, 1179), (716, 1376), (896, 0), (896, 196), (896, 393), (896, 589), (896, 786), (896, 982), (896, 1179), (896, 1376)], (1152, 1632))\n"
     ]
    }
   ],
   "source": []
  },
  {
   "cell_type": "code",
   "execution_count": 11,
   "id": "ae8edbcb",
   "metadata": {},
   "outputs": [
    {
     "name": "stdout",
     "output_type": "stream",
     "text": [
      "torch.Size([1, 4, 1, 256, 256])\n",
      "([(0, 0), (0, 44), (44, 0), (44, 44)], (300, 300))\n",
      "torch.Size([4, 1, 256, 256])\n",
      "torch.Size([4, 1, 256, 256])\n"
     ]
    }
   ],
   "source": [
    "input_image = torch.randn(1, 1, 300, 300)\n",
    "size_preserving_patch_layer = SizePreservingPatchLayer(patch_size=256, min_overlap=32)\n",
    "patches, info = size_preserving_patch_layer(input_image)\n",
    "\n",
    "print(patches.shape)\n",
    "print(info)\n",
    "base_model = UNet(in_channels=1, out_channels=1, features=[64, 128, 256], near_size=256)\n",
    "B, N = patches.shape[:2]\n",
    "patches = patches.reshape(B * N, *patches.shape[2:])\n",
    "print(patches.shape)\n",
    "base_model.eval()\n",
    "with torch.no_grad():\n",
    "    output = base_model(patches)\n",
    "print(output.shape)"
   ]
  },
  {
   "cell_type": "code",
   "execution_count": 12,
   "id": "afc59235",
   "metadata": {},
   "outputs": [
    {
     "name": "stdout",
     "output_type": "stream",
     "text": [
      "torch.Size([1, 4, 1, 256, 256])\n"
     ]
    }
   ],
   "source": [
    "processed_patches = output.reshape(B, N, *output.shape[1:])\n",
    "print(processed_patches.shape)\n"
   ]
  },
  {
   "cell_type": "code",
   "execution_count": 13,
   "id": "edfb83c9",
   "metadata": {},
   "outputs": [
    {
     "name": "stdout",
     "output_type": "stream",
     "text": [
      "torch.Size([1, 1, 300, 300])\n"
     ]
    }
   ],
   "source": [
    "output = SizePreservingPatchMerger(patch_size=256)(processed_patches, info)\n",
    "print(output.shape)"
   ]
  },
  {
   "cell_type": "code",
   "execution_count": 15,
   "id": "1c050e72",
   "metadata": {},
   "outputs": [],
   "source": [
    "network = ExactSizePatchNetwork(base_model=base_model, patch_size=256, min_overlap=32)"
   ]
  },
  {
   "cell_type": "code",
   "execution_count": 16,
   "id": "ed3c2bab",
   "metadata": {},
   "outputs": [],
   "source": [
    "output = network(input_image)"
   ]
  },
  {
   "cell_type": "code",
   "execution_count": 17,
   "id": "a38967a1",
   "metadata": {},
   "outputs": [
    {
     "name": "stdout",
     "output_type": "stream",
     "text": [
      "torch.Size([1, 1, 300, 300])\n"
     ]
    }
   ],
   "source": [
    "print(output.shape)"
   ]
  },
  {
   "cell_type": "code",
   "execution_count": 18,
   "id": "5f6a2363",
   "metadata": {},
   "outputs": [
    {
     "name": "stderr",
     "output_type": "stream",
     "text": [
      "/tmp/ipykernel_2127623/3934672204.py:24: TracerWarning: Converting a tensor to a Python float might cause the trace to be incorrect. We can't record the data flow of Python values, so this value will be treated as a constant in the future. This means that the trace might not generalize to other inputs!\n",
      "  n_patches_h = math.ceil(H / (self.patch_size - self.min_overlap))\n",
      "/tmp/ipykernel_2127623/3934672204.py:25: TracerWarning: Converting a tensor to a Python float might cause the trace to be incorrect. We can't record the data flow of Python values, so this value will be treated as a constant in the future. This means that the trace might not generalize to other inputs!\n",
      "  n_patches_w = math.ceil(W / (self.patch_size - self.min_overlap))\n",
      "/tmp/ipykernel_2127623/3934672204.py:77: TracerWarning: Converting a tensor to a Python integer might cause the trace to be incorrect. We can't record the data flow of Python values, so this value will be treated as a constant in the future. This means that the trace might not generalize to other inputs!\n",
      "  h_start = int(i * grid['stride_h'])\n",
      "/tmp/ipykernel_2127623/3934672204.py:78: TracerWarning: Converting a tensor to a Python integer might cause the trace to be incorrect. We can't record the data flow of Python values, so this value will be treated as a constant in the future. This means that the trace might not generalize to other inputs!\n",
      "  w_start = int(j * grid['stride_w'])\n",
      "/tmp/ipykernel_2127623/3934672204.py:81: TracerWarning: Converting a tensor to a Python boolean might cause the trace to be incorrect. We can't record the data flow of Python values, so this value will be treated as a constant in the future. This means that the trace might not generalize to other inputs!\n",
      "  h_start = min(h_start, H - self.patch_size)\n",
      "/tmp/ipykernel_2127623/3934672204.py:82: TracerWarning: Converting a tensor to a Python boolean might cause the trace to be incorrect. We can't record the data flow of Python values, so this value will be treated as a constant in the future. This means that the trace might not generalize to other inputs!\n",
      "  w_start = min(w_start, W - self.patch_size)\n",
      "/home/user/Schreibtisch/projects/git_data/segmentation_test/segmentation_test/pytorch_model_development.py:153: TracerWarning: Converting a tensor to a Python boolean might cause the trace to be incorrect. We can't record the data flow of Python values, so this value will be treated as a constant in the future. This means that the trace might not generalize to other inputs!\n",
      "  if h != self.size or w!=self.size:\n",
      "/tmp/ipykernel_2127623/1877163650.py:20: TracerWarning: Converting a tensor to a Python boolean might cause the trace to be incorrect. We can't record the data flow of Python values, so this value will be treated as a constant in the future. This means that the trace might not generalize to other inputs!\n",
      "  h_end = min(h_start + self.patch_size, H)\n",
      "/tmp/ipykernel_2127623/1877163650.py:21: TracerWarning: Converting a tensor to a Python boolean might cause the trace to be incorrect. We can't record the data flow of Python values, so this value will be treated as a constant in the future. This means that the trace might not generalize to other inputs!\n",
      "  w_end = min(w_start + self.patch_size, W)\n",
      "/tmp/ipykernel_2127623/3220599483.py:31: TracerWarning: Converting a tensor to a Python boolean might cause the trace to be incorrect. We can't record the data flow of Python values, so this value will be treated as a constant in the future. This means that the trace might not generalize to other inputs!\n",
      "  assert output.shape == original_size, \\\n"
     ]
    }
   ],
   "source": [
    "# Export to ONNX\n",
    "torch.onnx.export(network,\n",
    "                 input_image,\n",
    "                 \"optimized_patch_network.onnx\",\n",
    "                 opset_version=12,\n",
    "                  input_names=['input'],\n",
    "                  output_names=['output'])"
   ]
  },
  {
   "cell_type": "code",
   "execution_count": null,
   "id": "59ab4f5d",
   "metadata": {},
   "outputs": [],
   "source": []
  },
  {
   "cell_type": "code",
   "execution_count": 22,
   "id": "438fd226",
   "metadata": {},
   "outputs": [],
   "source": [
    "import onnx\n",
    "import onnxruntime\n",
    "import numpy as np\n",
    "\n",
    "# Load the ONNX model\n",
    "onnx_model = onnx.load(\"optimized_patch_network.onnx\")\n",
    "\n",
    "# Check the model\n",
    "onnx.checker.check_model(onnx_model)\n"
   ]
  },
  {
   "cell_type": "code",
   "execution_count": 23,
   "id": "a94ad918",
   "metadata": {},
   "outputs": [
    {
     "data": {
      "text/plain": [
       "'graph main_graph (\\n  %input[FLOAT, 1x1x300x300]\\n) initializers (\\n  %base_model.ups.0.up.weight[FLOAT, 512x256x2x2]\\n  %base_model.ups.0.up.bias[FLOAT, 256]\\n  %base_model.ups.2.up.weight[FLOAT, 256x128x2x2]\\n  %base_model.ups.2.up.bias[FLOAT, 128]\\n  %base_model.ups.4.up.weight[FLOAT, 128x64x2x2]\\n  %base_model.ups.4.up.bias[FLOAT, 64]\\n  %base_model.final_conv.weight[FLOAT, 1x64x1x1]\\n  %base_model.final_conv.bias[FLOAT, 1]\\n  %onnx::Conv_1324[FLOAT, 64x1x3x3]\\n  %onnx::Conv_1325[FLOAT, 64]\\n  %onnx::Conv_1327[FLOAT, 64x64x3x3]\\n  %onnx::Conv_1328[FLOAT, 64]\\n  %onnx::Conv_1330[FLOAT, 128x64x3x3]\\n  %onnx::Conv_1331[FLOAT, 128]\\n  %onnx::Conv_1333[FLOAT, 128x128x3x3]\\n  %onnx::Conv_1334[FLOAT, 128]\\n  %onnx::Conv_1336[FLOAT, 256x128x3x3]\\n  %onnx::Conv_1337[FLOAT, 256]\\n  %onnx::Conv_1339[FLOAT, 256x256x3x3]\\n  %onnx::Conv_1340[FLOAT, 256]\\n  %onnx::Conv_1342[FLOAT, 512x256x3x3]\\n  %onnx::Conv_1343[FLOAT, 512]\\n  %onnx::Conv_1345[FLOAT, 512x512x3x3]\\n  %onnx::Conv_1346[FLOAT, 512]\\n  %onnx::Conv_1348[FLOAT, 256x512x3x3]\\n  %onnx::Conv_1349[FLOAT, 256]\\n  %onnx::Conv_1351[FLOAT, 256x256x3x3]\\n  %onnx::Conv_1352[FLOAT, 256]\\n  %onnx::Conv_1354[FLOAT, 128x256x3x3]\\n  %onnx::Conv_1355[FLOAT, 128]\\n  %onnx::Conv_1357[FLOAT, 128x128x3x3]\\n  %onnx::Conv_1358[FLOAT, 128]\\n  %onnx::Conv_1360[FLOAT, 64x128x3x3]\\n  %onnx::Conv_1361[FLOAT, 64]\\n  %onnx::Conv_1363[FLOAT, 64x64x3x3]\\n  %onnx::Conv_1364[FLOAT, 64]\\n  %onnx::Mul_1389[FLOAT, 1x1x1x256x256]\\n) {\\n  %/patch_maker/Constant_output_0 = Constant[value = <Scalar Tensor []>]()\\n  %/patch_maker/Constant_1_output_0 = Constant[value = <Scalar Tensor []>]()\\n  %/patch_maker/Constant_2_output_0 = Constant[value = <Scalar Tensor []>]()\\n  %/patch_maker/Constant_3_output_0 = Constant[value = <Scalar Tensor []>]()\\n  %/patch_maker/Constant_4_output_0 = Constant[value = <Tensor>]()\\n  %/patch_maker/Constant_5_output_0 = Constant[value = <Tensor>]()\\n  %/patch_maker/Constant_6_output_0 = Constant[value = <Tensor>]()\\n  %/patch_maker/Constant_7_output_0 = Constant[value = <Tensor>]()\\n  %/patch_maker/Slice_output_0 = Slice(%input, %/patch_maker/Constant_5_output_0, %/patch_maker/Constant_6_output_0, %/patch_maker/Constant_4_output_0, %/patch_maker/Constant_7_output_0)\\n  %/patch_maker/Constant_8_output_0 = Constant[value = <Tensor>]()\\n  %/patch_maker/Constant_9_output_0 = Constant[value = <Tensor>]()\\n  %/patch_maker/Constant_10_output_0 = Constant[value = <Tensor>]()\\n  %/patch_maker/Constant_11_output_0 = Constant[value = <Tensor>]()\\n  %/patch_maker/Slice_1_output_0 = Slice(%/patch_maker/Slice_output_0, %/patch_maker/Constant_9_output_0, %/patch_maker/Constant_10_output_0, %/patch_maker/Constant_8_output_0, %/patch_maker/Constant_11_output_0)\\n  %/patch_maker/Constant_12_output_0 = Constant[value = <Tensor>]()\\n  %/patch_maker/Constant_13_output_0 = Constant[value = <Tensor>]()\\n  %/patch_maker/Constant_14_output_0 = Constant[value = <Tensor>]()\\n  %/patch_maker/Constant_15_output_0 = Constant[value = <Tensor>]()\\n  %/patch_maker/Slice_2_output_0 = Slice(%/patch_maker/Slice_output_0, %/patch_maker/Constant_13_output_0, %/patch_maker/Constant_14_output_0, %/patch_maker/Constant_12_output_0, %/patch_maker/Constant_15_output_0)\\n  %/patch_maker/Constant_16_output_0 = Constant[value = <Tensor>]()\\n  %/patch_maker/Constant_17_output_0 = Constant[value = <Tensor>]()\\n  %/patch_maker/Constant_18_output_0 = Constant[value = <Tensor>]()\\n  %/patch_maker/Constant_19_output_0 = Constant[value = <Tensor>]()\\n  %/patch_maker/Slice_3_output_0 = Slice(%input, %/patch_maker/Constant_17_output_0, %/patch_maker/Constant_18_output_0, %/patch_maker/Constant_16_output_0, %/patch_maker/Constant_19_output_0)\\n  %/patch_maker/Constant_20_output_0 = Constant[value = <Tensor>]()\\n  %/patch_maker/Constant_21_output_0 = Constant[value = <Tensor>]()\\n  %/patch_maker/Constant_22_output_0 = Constant[value = <Tensor>]()\\n  %/patch_maker/Constant_23_output_0 = Constant[value = <Tensor>]()\\n  %/patch_maker/Slice_4_output_0 = Slice(%/patch_maker/Slice_3_output_0, %/patch_maker/Constant_21_output_0, %/patch_maker/Constant_22_output_0, %/patch_maker/Constant_20_output_0, %/patch_maker/Constant_23_output_0)\\n  %/patch_maker/Constant_24_output_0 = Constant[value = <Tensor>]()\\n  %/patch_maker/Constant_25_output_0 = Constant[value = <Tensor>]()\\n  %/patch_maker/Constant_26_output_0 = Constant[value = <Tensor>]()\\n  %/patch_maker/Constant_27_output_0 = Constant[value = <Tensor>]()\\n  %/patch_maker/Slice_5_output_0 = Slice(%/patch_maker/Slice_3_output_0, %/patch_maker/Constant_25_output_0, %/patch_maker/Constant_26_output_0, %/patch_maker/Constant_24_output_0, %/patch_maker/Constant_27_output_0)\\n  %/patch_maker/Unsqueeze_output_0 = Unsqueeze[axes = [1]](%/patch_maker/Slice_1_output_0)\\n  %/patch_maker/Unsqueeze_1_output_0 = Unsqueeze[axes = [1]](%/patch_maker/Slice_2_output_0)\\n  %/patch_maker/Unsqueeze_2_output_0 = Unsqueeze[axes = [1]](%/patch_maker/Slice_4_output_0)\\n  %/patch_maker/Unsqueeze_3_output_0 = Unsqueeze[axes = [1]](%/patch_maker/Slice_5_output_0)\\n  %/patch_maker/Concat_output_0 = Concat[axis = 1](%/patch_maker/Unsqueeze_output_0, %/patch_maker/Unsqueeze_1_output_0, %/patch_maker/Unsqueeze_2_output_0, %/patch_maker/Unsqueeze_3_output_0)\\n  %/patch_maker/Mul_output_0 = Mul(%/patch_maker/Concat_output_0, %onnx::Mul_1389)\\n  %/Constant_output_0 = Constant[value = <Tensor>]()\\n  %/Reshape_output_0 = Reshape(%/patch_maker/Mul_output_0, %/Constant_output_0)\\n  %/base_model/downs.0/conv/conv.0/Conv_output_0 = Conv[dilations = [1, 1], group = 1, kernel_shape = [3, 3], pads = [1, 1, 1, 1], strides = [1, 1]](%/Reshape_output_0, %onnx::Conv_1324, %onnx::Conv_1325)\\n  %/base_model/downs.0/conv/conv.2/Relu_output_0 = Relu(%/base_model/downs.0/conv/conv.0/Conv_output_0)\\n  %/base_model/downs.0/conv/conv.4/Conv_output_0 = Conv[dilations = [1, 1], group = 1, kernel_shape = [3, 3], pads = [1, 1, 1, 1], strides = [1, 1]](%/base_model/downs.0/conv/conv.2/Relu_output_0, %onnx::Conv_1327, %onnx::Conv_1328)\\n  %/base_model/downs.0/conv/conv.6/Relu_output_0 = Relu(%/base_model/downs.0/conv/conv.4/Conv_output_0)\\n  %/base_model/pool/MaxPool_output_0 = MaxPool[ceil_mode = 0, dilations = [1, 1], kernel_shape = [2, 2], pads = [0, 0, 0, 0], strides = [2, 2]](%/base_model/downs.0/conv/conv.6/Relu_output_0)\\n  %/base_model/downs.1/conv/conv.0/Conv_output_0 = Conv[dilations = [1, 1], group = 1, kernel_shape = [3, 3], pads = [1, 1, 1, 1], strides = [1, 1]](%/base_model/pool/MaxPool_output_0, %onnx::Conv_1330, %onnx::Conv_1331)\\n  %/base_model/downs.1/conv/conv.2/Relu_output_0 = Relu(%/base_model/downs.1/conv/conv.0/Conv_output_0)\\n  %/base_model/downs.1/conv/conv.4/Conv_output_0 = Conv[dilations = [1, 1], group = 1, kernel_shape = [3, 3], pads = [1, 1, 1, 1], strides = [1, 1]](%/base_model/downs.1/conv/conv.2/Relu_output_0, %onnx::Conv_1333, %onnx::Conv_1334)\\n  %/base_model/downs.1/conv/conv.6/Relu_output_0 = Relu(%/base_model/downs.1/conv/conv.4/Conv_output_0)\\n  %/base_model/pool_1/MaxPool_output_0 = MaxPool[ceil_mode = 0, dilations = [1, 1], kernel_shape = [2, 2], pads = [0, 0, 0, 0], strides = [2, 2]](%/base_model/downs.1/conv/conv.6/Relu_output_0)\\n  %/base_model/downs.2/conv/conv.0/Conv_output_0 = Conv[dilations = [1, 1], group = 1, kernel_shape = [3, 3], pads = [1, 1, 1, 1], strides = [1, 1]](%/base_model/pool_1/MaxPool_output_0, %onnx::Conv_1336, %onnx::Conv_1337)\\n  %/base_model/downs.2/conv/conv.2/Relu_output_0 = Relu(%/base_model/downs.2/conv/conv.0/Conv_output_0)\\n  %/base_model/downs.2/conv/conv.4/Conv_output_0 = Conv[dilations = [1, 1], group = 1, kernel_shape = [3, 3], pads = [1, 1, 1, 1], strides = [1, 1]](%/base_model/downs.2/conv/conv.2/Relu_output_0, %onnx::Conv_1339, %onnx::Conv_1340)\\n  %/base_model/downs.2/conv/conv.6/Relu_output_0 = Relu(%/base_model/downs.2/conv/conv.4/Conv_output_0)\\n  %/base_model/pool_2/MaxPool_output_0 = MaxPool[ceil_mode = 0, dilations = [1, 1], kernel_shape = [2, 2], pads = [0, 0, 0, 0], strides = [2, 2]](%/base_model/downs.2/conv/conv.6/Relu_output_0)\\n  %/base_model/bottleneck/conv/conv.0/Conv_output_0 = Conv[dilations = [1, 1], group = 1, kernel_shape = [3, 3], pads = [1, 1, 1, 1], strides = [1, 1]](%/base_model/pool_2/MaxPool_output_0, %onnx::Conv_1342, %onnx::Conv_1343)\\n  %/base_model/bottleneck/conv/conv.2/Relu_output_0 = Relu(%/base_model/bottleneck/conv/conv.0/Conv_output_0)\\n  %/base_model/bottleneck/conv/conv.4/Conv_output_0 = Conv[dilations = [1, 1], group = 1, kernel_shape = [3, 3], pads = [1, 1, 1, 1], strides = [1, 1]](%/base_model/bottleneck/conv/conv.2/Relu_output_0, %onnx::Conv_1345, %onnx::Conv_1346)\\n  %/base_model/bottleneck/conv/conv.6/Relu_output_0 = Relu(%/base_model/bottleneck/conv/conv.4/Conv_output_0)\\n  %/base_model/ups.0/up/ConvTranspose_output_0 = ConvTranspose[dilations = [1, 1], group = 1, kernel_shape = [2, 2], pads = [0, 0, 0, 0], strides = [2, 2]](%/base_model/bottleneck/conv/conv.6/Relu_output_0, %base_model.ups.0.up.weight, %base_model.ups.0.up.bias)\\n  %/base_model/ups.0/Concat_output_0 = Concat[axis = 1](%/base_model/ups.0/up/ConvTranspose_output_0, %/base_model/downs.2/conv/conv.6/Relu_output_0)\\n  %/base_model/ups.1/conv/conv.0/Conv_output_0 = Conv[dilations = [1, 1], group = 1, kernel_shape = [3, 3], pads = [1, 1, 1, 1], strides = [1, 1]](%/base_model/ups.0/Concat_output_0, %onnx::Conv_1348, %onnx::Conv_1349)\\n  %/base_model/ups.1/conv/conv.2/Relu_output_0 = Relu(%/base_model/ups.1/conv/conv.0/Conv_output_0)\\n  %/base_model/ups.1/conv/conv.4/Conv_output_0 = Conv[dilations = [1, 1], group = 1, kernel_shape = [3, 3], pads = [1, 1, 1, 1], strides = [1, 1]](%/base_model/ups.1/conv/conv.2/Relu_output_0, %onnx::Conv_1351, %onnx::Conv_1352)\\n  %/base_model/ups.1/conv/conv.6/Relu_output_0 = Relu(%/base_model/ups.1/conv/conv.4/Conv_output_0)\\n  %/base_model/ups.2/up/ConvTranspose_output_0 = ConvTranspose[dilations = [1, 1], group = 1, kernel_shape = [2, 2], pads = [0, 0, 0, 0], strides = [2, 2]](%/base_model/ups.1/conv/conv.6/Relu_output_0, %base_model.ups.2.up.weight, %base_model.ups.2.up.bias)\\n  %/base_model/ups.2/Concat_output_0 = Concat[axis = 1](%/base_model/ups.2/up/ConvTranspose_output_0, %/base_model/downs.1/conv/conv.6/Relu_output_0)\\n  %/base_model/ups.3/conv/conv.0/Conv_output_0 = Conv[dilations = [1, 1], group = 1, kernel_shape = [3, 3], pads = [1, 1, 1, 1], strides = [1, 1]](%/base_model/ups.2/Concat_output_0, %onnx::Conv_1354, %onnx::Conv_1355)\\n  %/base_model/ups.3/conv/conv.2/Relu_output_0 = Relu(%/base_model/ups.3/conv/conv.0/Conv_output_0)\\n  %/base_model/ups.3/conv/conv.4/Conv_output_0 = Conv[dilations = [1, 1], group = 1, kernel_shape = [3, 3], pads = [1, 1, 1, 1], strides = [1, 1]](%/base_model/ups.3/conv/conv.2/Relu_output_0, %onnx::Conv_1357, %onnx::Conv_1358)\\n  %/base_model/ups.3/conv/conv.6/Relu_output_0 = Relu(%/base_model/ups.3/conv/conv.4/Conv_output_0)\\n  %/base_model/ups.4/up/ConvTranspose_output_0 = ConvTranspose[dilations = [1, 1], group = 1, kernel_shape = [2, 2], pads = [0, 0, 0, 0], strides = [2, 2]](%/base_model/ups.3/conv/conv.6/Relu_output_0, %base_model.ups.4.up.weight, %base_model.ups.4.up.bias)\\n  %/base_model/ups.4/Concat_output_0 = Concat[axis = 1](%/base_model/ups.4/up/ConvTranspose_output_0, %/base_model/downs.0/conv/conv.6/Relu_output_0)\\n  %/base_model/ups.5/conv/conv.0/Conv_output_0 = Conv[dilations = [1, 1], group = 1, kernel_shape = [3, 3], pads = [1, 1, 1, 1], strides = [1, 1]](%/base_model/ups.4/Concat_output_0, %onnx::Conv_1360, %onnx::Conv_1361)\\n  %/base_model/ups.5/conv/conv.2/Relu_output_0 = Relu(%/base_model/ups.5/conv/conv.0/Conv_output_0)\\n  %/base_model/ups.5/conv/conv.4/Conv_output_0 = Conv[dilations = [1, 1], group = 1, kernel_shape = [3, 3], pads = [1, 1, 1, 1], strides = [1, 1]](%/base_model/ups.5/conv/conv.2/Relu_output_0, %onnx::Conv_1363, %onnx::Conv_1364)\\n  %/base_model/ups.5/conv/conv.6/Relu_output_0 = Relu(%/base_model/ups.5/conv/conv.4/Conv_output_0)\\n  %/base_model/final_conv/Conv_output_0 = Conv[dilations = [1, 1], group = 1, kernel_shape = [1, 1], pads = [0, 0, 0, 0], strides = [1, 1]](%/base_model/ups.5/conv/conv.6/Relu_output_0, %base_model.final_conv.weight, %base_model.final_conv.bias)\\n  %/base_model/Constant_output_0 = Constant[value = <Tensor>]()\\n  %/base_model/Constant_1_output_0 = Constant[value = <Tensor>]()\\n  %/base_model/Constant_2_output_0 = Constant[value = <Tensor>]()\\n  %/base_model/Constant_3_output_0 = Constant[value = <Tensor>]()\\n  %/base_model/Slice_output_0 = Slice(%/base_model/final_conv/Conv_output_0, %/base_model/Constant_1_output_0, %/base_model/Constant_2_output_0, %/base_model/Constant_output_0, %/base_model/Constant_3_output_0)\\n  %/base_model/Constant_4_output_0 = Constant[value = <Tensor>]()\\n  %/base_model/Constant_5_output_0 = Constant[value = <Tensor>]()\\n  %/base_model/Constant_6_output_0 = Constant[value = <Tensor>]()\\n  %/base_model/Constant_7_output_0 = Constant[value = <Tensor>]()\\n  %/base_model/Slice_1_output_0 = Slice(%/base_model/Slice_output_0, %/base_model/Constant_5_output_0, %/base_model/Constant_6_output_0, %/base_model/Constant_4_output_0, %/base_model/Constant_7_output_0)\\n  %/Constant_1_output_0 = Constant[value = <Tensor>]()\\n  %/Reshape_1_output_0 = Reshape(%/base_model/Slice_1_output_0, %/Constant_1_output_0)\\n  %/patch_merger/Constant_output_0 = Constant[value = <Tensor>]()\\n  %/patch_merger/Constant_1_output_0 = Constant[value = <Tensor>]()\\n  %/patch_merger/Gather_output_0 = Gather[axis = 1](%/Reshape_1_output_0, %/patch_maker/Constant_2_output_0)\\n  %/patch_merger/Constant_2_output_0 = Constant[value = <Tensor>]()\\n  %/patch_merger/Constant_3_output_0 = Constant[value = <Tensor>]()\\n  %/patch_merger/Constant_4_output_0 = Constant[value = <Tensor>]()\\n  %/patch_merger/Constant_5_output_0 = Constant[value = <Tensor>]()\\n  %/patch_merger/Slice_output_0 = Slice(%/patch_merger/Gather_output_0, %/patch_merger/Constant_3_output_0, %/patch_merger/Constant_4_output_0, %/patch_merger/Constant_2_output_0, %/patch_merger/Constant_5_output_0)\\n  %/patch_merger/Constant_6_output_0 = Constant[value = <Tensor>]()\\n  %/patch_merger/Constant_7_output_0 = Constant[value = <Tensor>]()\\n  %/patch_merger/Constant_8_output_0 = Constant[value = <Tensor>]()\\n  %/patch_merger/Constant_9_output_0 = Constant[value = <Tensor>]()\\n  %/patch_merger/Slice_1_output_0 = Slice(%/patch_merger/Slice_output_0, %/patch_merger/Constant_7_output_0, %/patch_merger/Constant_8_output_0, %/patch_merger/Constant_6_output_0, %/patch_merger/Constant_9_output_0)\\n  %/patch_merger/Constant_10_output_0 = Constant[value = <Tensor>]()\\n  %/patch_merger/Add_output_0 = Add(%/patch_merger/Constant_10_output_0, %/patch_merger/Slice_1_output_0)\\n  %/patch_merger/Constant_11_output_0 = Constant[value = <Tensor>]()\\n  %/patch_merger/Expand_output_0 = Expand(%/patch_merger/Add_output_0, %/patch_merger/Constant_11_output_0)\\n  %/patch_merger/Constant_12_output_0 = Constant[value = <Tensor>]()\\n  %onnx::Expand_258 = Constant[value = <Tensor>]()\\n  %onnx::Expand_259 = Constant[value = <Tensor>]()\\n  %onnx::Expand_260 = Constant[value = <Tensor>]()\\n  %/patch_merger/Constant_13_output_0 = Constant[value = <Tensor>]()\\n  %/patch_merger/Constant_14_output_0 = Constant[value = <Tensor>]()\\n  %/patch_merger/ConstantOfShape_output_0 = ConstantOfShape[value = <Tensor>](%/patch_merger/Constant_14_output_0)\\n  %/patch_merger/Constant_15_output_0 = Constant[value = <Scalar Tensor []>]()\\n  %/patch_merger/Mul_output_0 = Mul(%/patch_merger/ConstantOfShape_output_0, %/patch_merger/Constant_15_output_0)\\n  %/patch_merger/Equal_output_0 = Equal(%/patch_merger/Constant_13_output_0, %/patch_merger/Mul_output_0)\\n  %/patch_merger/Where_output_0 = Where(%/patch_merger/Equal_output_0, %/patch_merger/ConstantOfShape_output_0, %/patch_merger/Constant_13_output_0)\\n  %/patch_merger/Expand_1_output_0 = Expand(%onnx::Expand_258, %/patch_merger/Where_output_0)\\n  %/patch_merger/Unsqueeze_output_0 = Unsqueeze[axes = [-1]](%/patch_merger/Expand_1_output_0)\\n  %/patch_merger/Constant_16_output_0 = Constant[value = <Tensor>]()\\n  %/patch_merger/ConstantOfShape_1_output_0 = ConstantOfShape[value = <Tensor>](%/patch_merger/Constant_16_output_0)\\n  %/patch_merger/Constant_17_output_0 = Constant[value = <Scalar Tensor []>]()\\n  %/patch_merger/Mul_1_output_0 = Mul(%/patch_merger/ConstantOfShape_1_output_0, %/patch_merger/Constant_17_output_0)\\n  %/patch_merger/Equal_1_output_0 = Equal(%/patch_merger/Constant_13_output_0, %/patch_merger/Mul_1_output_0)\\n  %/patch_merger/Where_1_output_0 = Where(%/patch_merger/Equal_1_output_0, %/patch_merger/ConstantOfShape_1_output_0, %/patch_merger/Constant_13_output_0)\\n  %/patch_merger/Expand_2_output_0 = Expand(%onnx::Expand_259, %/patch_merger/Where_1_output_0)\\n  %/patch_merger/Unsqueeze_1_output_0 = Unsqueeze[axes = [-1]](%/patch_merger/Expand_2_output_0)\\n  %/patch_merger/Constant_18_output_0 = Constant[value = <Tensor>]()\\n  %/patch_merger/ConstantOfShape_2_output_0 = ConstantOfShape[value = <Tensor>](%/patch_merger/Constant_18_output_0)\\n  %/patch_merger/Constant_19_output_0 = Constant[value = <Scalar Tensor []>]()\\n  %/patch_merger/Mul_2_output_0 = Mul(%/patch_merger/ConstantOfShape_2_output_0, %/patch_merger/Constant_19_output_0)\\n  %/patch_merger/Equal_2_output_0 = Equal(%/patch_merger/Constant_13_output_0, %/patch_merger/Mul_2_output_0)\\n  %/patch_merger/Where_2_output_0 = Where(%/patch_merger/Equal_2_output_0, %/patch_merger/ConstantOfShape_2_output_0, %/patch_merger/Constant_13_output_0)\\n  %/patch_merger/Expand_3_output_0 = Expand(%onnx::Expand_260, %/patch_merger/Where_2_output_0)\\n  %/patch_merger/Unsqueeze_2_output_0 = Unsqueeze[axes = [-1]](%/patch_merger/Expand_3_output_0)\\n  %/patch_merger/Constant_20_output_0 = Constant[value = <Tensor>]()\\n  %/patch_merger/ConstantOfShape_3_output_0 = ConstantOfShape[value = <Tensor>](%/patch_merger/Constant_20_output_0)\\n  %/patch_merger/Constant_21_output_0 = Constant[value = <Scalar Tensor []>]()\\n  %/patch_merger/Mul_3_output_0 = Mul(%/patch_merger/ConstantOfShape_3_output_0, %/patch_merger/Constant_21_output_0)\\n  %/patch_merger/Equal_3_output_0 = Equal(%/patch_merger/Constant_13_output_0, %/patch_merger/Mul_3_output_0)\\n  %/patch_merger/Where_3_output_0 = Where(%/patch_merger/Equal_3_output_0, %/patch_merger/ConstantOfShape_3_output_0, %/patch_merger/Constant_13_output_0)\\n  %/patch_merger/Expand_4_output_0 = Expand(%/patch_merger/Constant_12_output_0, %/patch_merger/Where_3_output_0)\\n  %/patch_merger/Unsqueeze_3_output_0 = Unsqueeze[axes = [-1]](%/patch_merger/Expand_4_output_0)\\n  %/patch_merger/Concat_output_0 = Concat[axis = -1](%/patch_merger/Unsqueeze_output_0, %/patch_merger/Unsqueeze_1_output_0, %/patch_merger/Unsqueeze_2_output_0, %/patch_merger/Unsqueeze_3_output_0)\\n  %/patch_merger/Constant_22_output_0 = Constant[value = <Tensor>]()\\n  %/patch_merger/Reshape_output_0 = Reshape(%/patch_merger/Expand_output_0, %/patch_merger/Constant_22_output_0)\\n  %/patch_merger/ScatterND_output_0 = ScatterND(%/patch_merger/Constant_output_0, %/patch_merger/Concat_output_0, %/patch_merger/Reshape_output_0)\\n  %/patch_merger/Constant_23_output_0 = Constant[value = <Tensor>]()\\n  %/patch_merger/Constant_24_output_0 = Constant[value = <Tensor>]()\\n  %/patch_merger/Constant_25_output_0 = Constant[value = <Tensor>]()\\n  %/patch_merger/Constant_26_output_0 = Constant[value = <Tensor>]()\\n  %/patch_merger/Slice_2_output_0 = Slice(%/patch_merger/ScatterND_output_0, %/patch_merger/Constant_24_output_0, %/patch_merger/Constant_25_output_0, %/patch_merger/Constant_23_output_0, %/patch_merger/Constant_26_output_0)\\n  %/patch_merger/Constant_27_output_0 = Constant[value = <Tensor>]()\\n  %/patch_merger/Constant_28_output_0 = Constant[value = <Tensor>]()\\n  %/patch_merger/Constant_29_output_0 = Constant[value = <Tensor>]()\\n  %/patch_merger/Constant_30_output_0 = Constant[value = <Tensor>]()\\n  %/patch_merger/Slice_3_output_0 = Slice(%/patch_merger/Slice_2_output_0, %/patch_merger/Constant_28_output_0, %/patch_merger/Constant_29_output_0, %/patch_merger/Constant_27_output_0, %/patch_merger/Constant_30_output_0)\\n  %/patch_merger/Shape_output_0 = Shape(%/patch_merger/Slice_3_output_0)\\n  %/patch_merger/Expand_5_output_0 = Expand(%/patch_merger/Add_output_0, %/patch_merger/Shape_output_0)\\n  %/patch_merger/Constant_31_output_0 = Constant[value = <Tensor>]()\\n  %onnx::Expand_323 = Constant[value = <Tensor>]()\\n  %onnx::Expand_324 = Constant[value = <Tensor>]()\\n  %onnx::Expand_325 = Constant[value = <Tensor>]()\\n  %/patch_merger/Constant_32_output_0 = Constant[value = <Tensor>]()\\n  %/patch_merger/Constant_33_output_0 = Constant[value = <Tensor>]()\\n  %/patch_merger/ConstantOfShape_4_output_0 = ConstantOfShape[value = <Tensor>](%/patch_merger/Constant_33_output_0)\\n  %/patch_merger/Constant_34_output_0 = Constant[value = <Scalar Tensor []>]()\\n  %/patch_merger/Mul_4_output_0 = Mul(%/patch_merger/ConstantOfShape_4_output_0, %/patch_merger/Constant_34_output_0)\\n  %/patch_merger/Equal_4_output_0 = Equal(%/patch_merger/Constant_32_output_0, %/patch_merger/Mul_4_output_0)\\n  %/patch_merger/Where_4_output_0 = Where(%/patch_merger/Equal_4_output_0, %/patch_merger/ConstantOfShape_4_output_0, %/patch_merger/Constant_32_output_0)\\n  %/patch_merger/Expand_6_output_0 = Expand(%onnx::Expand_323, %/patch_merger/Where_4_output_0)\\n  %/patch_merger/Unsqueeze_4_output_0 = Unsqueeze[axes = [-1]](%/patch_merger/Expand_6_output_0)\\n  %/patch_merger/Constant_35_output_0 = Constant[value = <Tensor>]()\\n  %/patch_merger/ConstantOfShape_5_output_0 = ConstantOfShape[value = <Tensor>](%/patch_merger/Constant_35_output_0)\\n  %/patch_merger/Constant_36_output_0 = Constant[value = <Scalar Tensor []>]()\\n  %/patch_merger/Mul_5_output_0 = Mul(%/patch_merger/ConstantOfShape_5_output_0, %/patch_merger/Constant_36_output_0)\\n  %/patch_merger/Equal_5_output_0 = Equal(%/patch_merger/Constant_32_output_0, %/patch_merger/Mul_5_output_0)\\n  %/patch_merger/Where_5_output_0 = Where(%/patch_merger/Equal_5_output_0, %/patch_merger/ConstantOfShape_5_output_0, %/patch_merger/Constant_32_output_0)\\n  %/patch_merger/Expand_7_output_0 = Expand(%onnx::Expand_324, %/patch_merger/Where_5_output_0)\\n  %/patch_merger/Unsqueeze_5_output_0 = Unsqueeze[axes = [-1]](%/patch_merger/Expand_7_output_0)\\n  %/patch_merger/Constant_37_output_0 = Constant[value = <Tensor>]()\\n  %/patch_merger/ConstantOfShape_6_output_0 = ConstantOfShape[value = <Tensor>](%/patch_merger/Constant_37_output_0)\\n  %/patch_merger/Constant_38_output_0 = Constant[value = <Scalar Tensor []>]()\\n  %/patch_merger/Mul_6_output_0 = Mul(%/patch_merger/ConstantOfShape_6_output_0, %/patch_merger/Constant_38_output_0)\\n  %/patch_merger/Equal_6_output_0 = Equal(%/patch_merger/Constant_32_output_0, %/patch_merger/Mul_6_output_0)\\n  %/patch_merger/Where_6_output_0 = Where(%/patch_merger/Equal_6_output_0, %/patch_merger/ConstantOfShape_6_output_0, %/patch_merger/Constant_32_output_0)\\n  %/patch_merger/Expand_8_output_0 = Expand(%onnx::Expand_325, %/patch_merger/Where_6_output_0)\\n  %/patch_merger/Unsqueeze_6_output_0 = Unsqueeze[axes = [-1]](%/patch_merger/Expand_8_output_0)\\n  %/patch_merger/Constant_39_output_0 = Constant[value = <Tensor>]()\\n  %/patch_merger/ConstantOfShape_7_output_0 = ConstantOfShape[value = <Tensor>](%/patch_merger/Constant_39_output_0)\\n  %/patch_merger/Constant_40_output_0 = Constant[value = <Scalar Tensor []>]()\\n  %/patch_merger/Mul_7_output_0 = Mul(%/patch_merger/ConstantOfShape_7_output_0, %/patch_merger/Constant_40_output_0)\\n  %/patch_merger/Equal_7_output_0 = Equal(%/patch_merger/Constant_32_output_0, %/patch_merger/Mul_7_output_0)\\n  %/patch_merger/Where_7_output_0 = Where(%/patch_merger/Equal_7_output_0, %/patch_merger/ConstantOfShape_7_output_0, %/patch_merger/Constant_32_output_0)\\n  %/patch_merger/Expand_9_output_0 = Expand(%/patch_merger/Constant_31_output_0, %/patch_merger/Where_7_output_0)\\n  %/patch_merger/Unsqueeze_7_output_0 = Unsqueeze[axes = [-1]](%/patch_merger/Expand_9_output_0)\\n  %/patch_merger/Concat_1_output_0 = Concat[axis = -1](%/patch_merger/Unsqueeze_4_output_0, %/patch_merger/Unsqueeze_5_output_0, %/patch_merger/Unsqueeze_6_output_0, %/patch_merger/Unsqueeze_7_output_0)\\n  %/patch_merger/Shape_1_output_0 = Shape(%/patch_merger/ScatterND_output_0)\\n  %/patch_merger/Constant_41_output_0 = Constant[value = <Tensor>]()\\n  %/patch_merger/Constant_42_output_0 = Constant[value = <Tensor>]()\\n  %/patch_merger/Constant_43_output_0 = Constant[value = <Tensor>]()\\n  %/patch_merger/Slice_4_output_0 = Slice(%/patch_merger/Shape_1_output_0, %/patch_merger/Constant_42_output_0, %/patch_merger/Constant_43_output_0, %/patch_merger/Constant_41_output_0)\\n  %/patch_merger/Concat_2_output_0 = Concat[axis = 0](%/patch_merger/Constant_32_output_0, %/patch_merger/Slice_4_output_0)\\n  %/patch_merger/Reshape_1_output_0 = Reshape(%/patch_merger/Expand_5_output_0, %/patch_merger/Concat_2_output_0)\\n  %/patch_merger/ScatterND_1_output_0 = ScatterND(%/patch_merger/ScatterND_output_0, %/patch_merger/Concat_1_output_0, %/patch_merger/Reshape_1_output_0)\\n  %/patch_merger/Constant_44_output_0 = Constant[value = <Tensor>]()\\n  %/patch_merger/Constant_45_output_0 = Constant[value = <Tensor>]()\\n  %/patch_merger/Expand_10_output_0 = Expand(%/patch_merger/Constant_44_output_0, %/patch_merger/Constant_45_output_0)\\n  %/patch_merger/Constant_46_output_0 = Constant[value = <Tensor>]()\\n  %onnx::Expand_380 = Constant[value = <Tensor>]()\\n  %onnx::Expand_381 = Constant[value = <Tensor>]()\\n  %onnx::Expand_382 = Constant[value = <Tensor>]()\\n  %/patch_merger/Constant_47_output_0 = Constant[value = <Tensor>]()\\n  %/patch_merger/Constant_48_output_0 = Constant[value = <Tensor>]()\\n  %/patch_merger/ConstantOfShape_8_output_0 = ConstantOfShape[value = <Tensor>](%/patch_merger/Constant_48_output_0)\\n  %/patch_merger/Constant_49_output_0 = Constant[value = <Scalar Tensor []>]()\\n  %/patch_merger/Mul_8_output_0 = Mul(%/patch_merger/ConstantOfShape_8_output_0, %/patch_merger/Constant_49_output_0)\\n  %/patch_merger/Equal_8_output_0 = Equal(%/patch_merger/Constant_47_output_0, %/patch_merger/Mul_8_output_0)\\n  %/patch_merger/Where_8_output_0 = Where(%/patch_merger/Equal_8_output_0, %/patch_merger/ConstantOfShape_8_output_0, %/patch_merger/Constant_47_output_0)\\n  %/patch_merger/Expand_11_output_0 = Expand(%onnx::Expand_380, %/patch_merger/Where_8_output_0)\\n  %/patch_merger/Unsqueeze_8_output_0 = Unsqueeze[axes = [-1]](%/patch_merger/Expand_11_output_0)\\n  %/patch_merger/Constant_50_output_0 = Constant[value = <Tensor>]()\\n  %/patch_merger/ConstantOfShape_9_output_0 = ConstantOfShape[value = <Tensor>](%/patch_merger/Constant_50_output_0)\\n  %/patch_merger/Constant_51_output_0 = Constant[value = <Scalar Tensor []>]()\\n  %/patch_merger/Mul_9_output_0 = Mul(%/patch_merger/ConstantOfShape_9_output_0, %/patch_merger/Constant_51_output_0)\\n  %/patch_merger/Equal_9_output_0 = Equal(%/patch_merger/Constant_47_output_0, %/patch_merger/Mul_9_output_0)\\n  %/patch_merger/Where_9_output_0 = Where(%/patch_merger/Equal_9_output_0, %/patch_merger/ConstantOfShape_9_output_0, %/patch_merger/Constant_47_output_0)\\n  %/patch_merger/Expand_12_output_0 = Expand(%onnx::Expand_381, %/patch_merger/Where_9_output_0)\\n  %/patch_merger/Unsqueeze_9_output_0 = Unsqueeze[axes = [-1]](%/patch_merger/Expand_12_output_0)\\n  %/patch_merger/Constant_52_output_0 = Constant[value = <Tensor>]()\\n  %/patch_merger/ConstantOfShape_10_output_0 = ConstantOfShape[value = <Tensor>](%/patch_merger/Constant_52_output_0)\\n  %/patch_merger/Constant_53_output_0 = Constant[value = <Scalar Tensor []>]()\\n  %/patch_merger/Mul_10_output_0 = Mul(%/patch_merger/ConstantOfShape_10_output_0, %/patch_merger/Constant_53_output_0)\\n  %/patch_merger/Equal_10_output_0 = Equal(%/patch_merger/Constant_47_output_0, %/patch_merger/Mul_10_output_0)\\n  %/patch_merger/Where_10_output_0 = Where(%/patch_merger/Equal_10_output_0, %/patch_merger/ConstantOfShape_10_output_0, %/patch_merger/Constant_47_output_0)\\n  %/patch_merger/Expand_13_output_0 = Expand(%onnx::Expand_382, %/patch_merger/Where_10_output_0)\\n  %/patch_merger/Unsqueeze_10_output_0 = Unsqueeze[axes = [-1]](%/patch_merger/Expand_13_output_0)\\n  %/patch_merger/Constant_54_output_0 = Constant[value = <Tensor>]()\\n  %/patch_merger/ConstantOfShape_11_output_0 = ConstantOfShape[value = <Tensor>](%/patch_merger/Constant_54_output_0)\\n  %/patch_merger/Constant_55_output_0 = Constant[value = <Scalar Tensor []>]()\\n  %/patch_merger/Mul_11_output_0 = Mul(%/patch_merger/ConstantOfShape_11_output_0, %/patch_merger/Constant_55_output_0)\\n  %/patch_merger/Equal_11_output_0 = Equal(%/patch_merger/Constant_47_output_0, %/patch_merger/Mul_11_output_0)\\n  %/patch_merger/Where_11_output_0 = Where(%/patch_merger/Equal_11_output_0, %/patch_merger/ConstantOfShape_11_output_0, %/patch_merger/Constant_47_output_0)\\n  %/patch_merger/Expand_14_output_0 = Expand(%/patch_merger/Constant_46_output_0, %/patch_merger/Where_11_output_0)\\n  %/patch_merger/Unsqueeze_11_output_0 = Unsqueeze[axes = [-1]](%/patch_merger/Expand_14_output_0)\\n  %/patch_merger/Concat_3_output_0 = Concat[axis = -1](%/patch_merger/Unsqueeze_8_output_0, %/patch_merger/Unsqueeze_9_output_0, %/patch_merger/Unsqueeze_10_output_0, %/patch_merger/Unsqueeze_11_output_0)\\n  %/patch_merger/Constant_56_output_0 = Constant[value = <Tensor>]()\\n  %/patch_merger/Reshape_2_output_0 = Reshape(%/patch_merger/Expand_10_output_0, %/patch_merger/Constant_56_output_0)\\n  %/patch_merger/ScatterND_2_output_0 = ScatterND(%/patch_merger/Constant_1_output_0, %/patch_merger/Concat_3_output_0, %/patch_merger/Reshape_2_output_0)\\n  %/patch_merger/Constant_57_output_0 = Constant[value = <Tensor>]()\\n  %/patch_merger/Constant_58_output_0 = Constant[value = <Tensor>]()\\n  %/patch_merger/Constant_59_output_0 = Constant[value = <Tensor>]()\\n  %/patch_merger/Constant_60_output_0 = Constant[value = <Tensor>]()\\n  %/patch_merger/Slice_5_output_0 = Slice(%/patch_merger/ScatterND_2_output_0, %/patch_merger/Constant_58_output_0, %/patch_merger/Constant_59_output_0, %/patch_merger/Constant_57_output_0, %/patch_merger/Constant_60_output_0)\\n  %/patch_merger/Constant_61_output_0 = Constant[value = <Tensor>]()\\n  %/patch_merger/Constant_62_output_0 = Constant[value = <Tensor>]()\\n  %/patch_merger/Constant_63_output_0 = Constant[value = <Tensor>]()\\n  %/patch_merger/Constant_64_output_0 = Constant[value = <Tensor>]()\\n  %/patch_merger/Slice_6_output_0 = Slice(%/patch_merger/Slice_5_output_0, %/patch_merger/Constant_62_output_0, %/patch_merger/Constant_63_output_0, %/patch_merger/Constant_61_output_0, %/patch_merger/Constant_64_output_0)\\n  %/patch_merger/Constant_65_output_0 = Constant[value = <Tensor>]()\\n  %/patch_merger/Shape_2_output_0 = Shape(%/patch_merger/Slice_6_output_0)\\n  %/patch_merger/Expand_15_output_0 = Expand(%/patch_merger/Constant_65_output_0, %/patch_merger/Shape_2_output_0)\\n  %/patch_merger/Constant_66_output_0 = Constant[value = <Tensor>]()\\n  %onnx::Expand_446 = Constant[value = <Tensor>]()\\n  %onnx::Expand_447 = Constant[value = <Tensor>]()\\n  %onnx::Expand_448 = Constant[value = <Tensor>]()\\n  %/patch_merger/Constant_67_output_0 = Constant[value = <Tensor>]()\\n  %/patch_merger/Constant_68_output_0 = Constant[value = <Tensor>]()\\n  %/patch_merger/ConstantOfShape_12_output_0 = ConstantOfShape[value = <Tensor>](%/patch_merger/Constant_68_output_0)\\n  %/patch_merger/Constant_69_output_0 = Constant[value = <Scalar Tensor []>]()\\n  %/patch_merger/Mul_12_output_0 = Mul(%/patch_merger/ConstantOfShape_12_output_0, %/patch_merger/Constant_69_output_0)\\n  %/patch_merger/Equal_12_output_0 = Equal(%/patch_merger/Constant_67_output_0, %/patch_merger/Mul_12_output_0)\\n  %/patch_merger/Where_12_output_0 = Where(%/patch_merger/Equal_12_output_0, %/patch_merger/ConstantOfShape_12_output_0, %/patch_merger/Constant_67_output_0)\\n  %/patch_merger/Expand_16_output_0 = Expand(%onnx::Expand_446, %/patch_merger/Where_12_output_0)\\n  %/patch_merger/Unsqueeze_12_output_0 = Unsqueeze[axes = [-1]](%/patch_merger/Expand_16_output_0)\\n  %/patch_merger/Constant_70_output_0 = Constant[value = <Tensor>]()\\n  %/patch_merger/ConstantOfShape_13_output_0 = ConstantOfShape[value = <Tensor>](%/patch_merger/Constant_70_output_0)\\n  %/patch_merger/Constant_71_output_0 = Constant[value = <Scalar Tensor []>]()\\n  %/patch_merger/Mul_13_output_0 = Mul(%/patch_merger/ConstantOfShape_13_output_0, %/patch_merger/Constant_71_output_0)\\n  %/patch_merger/Equal_13_output_0 = Equal(%/patch_merger/Constant_67_output_0, %/patch_merger/Mul_13_output_0)\\n  %/patch_merger/Where_13_output_0 = Where(%/patch_merger/Equal_13_output_0, %/patch_merger/ConstantOfShape_13_output_0, %/patch_merger/Constant_67_output_0)\\n  %/patch_merger/Expand_17_output_0 = Expand(%onnx::Expand_447, %/patch_merger/Where_13_output_0)\\n  %/patch_merger/Unsqueeze_13_output_0 = Unsqueeze[axes = [-1]](%/patch_merger/Expand_17_output_0)\\n  %/patch_merger/Constant_72_output_0 = Constant[value = <Tensor>]()\\n  %/patch_merger/ConstantOfShape_14_output_0 = ConstantOfShape[value = <Tensor>](%/patch_merger/Constant_72_output_0)\\n  %/patch_merger/Constant_73_output_0 = Constant[value = <Scalar Tensor []>]()\\n  %/patch_merger/Mul_14_output_0 = Mul(%/patch_merger/ConstantOfShape_14_output_0, %/patch_merger/Constant_73_output_0)\\n  %/patch_merger/Equal_14_output_0 = Equal(%/patch_merger/Constant_67_output_0, %/patch_merger/Mul_14_output_0)\\n  %/patch_merger/Where_14_output_0 = Where(%/patch_merger/Equal_14_output_0, %/patch_merger/ConstantOfShape_14_output_0, %/patch_merger/Constant_67_output_0)\\n  %/patch_merger/Expand_18_output_0 = Expand(%onnx::Expand_448, %/patch_merger/Where_14_output_0)\\n  %/patch_merger/Unsqueeze_14_output_0 = Unsqueeze[axes = [-1]](%/patch_merger/Expand_18_output_0)\\n  %/patch_merger/Constant_74_output_0 = Constant[value = <Tensor>]()\\n  %/patch_merger/ConstantOfShape_15_output_0 = ConstantOfShape[value = <Tensor>](%/patch_merger/Constant_74_output_0)\\n  %/patch_merger/Constant_75_output_0 = Constant[value = <Scalar Tensor []>]()\\n  %/patch_merger/Mul_15_output_0 = Mul(%/patch_merger/ConstantOfShape_15_output_0, %/patch_merger/Constant_75_output_0)\\n  %/patch_merger/Equal_15_output_0 = Equal(%/patch_merger/Constant_67_output_0, %/patch_merger/Mul_15_output_0)\\n  %/patch_merger/Where_15_output_0 = Where(%/patch_merger/Equal_15_output_0, %/patch_merger/ConstantOfShape_15_output_0, %/patch_merger/Constant_67_output_0)\\n  %/patch_merger/Expand_19_output_0 = Expand(%/patch_merger/Constant_66_output_0, %/patch_merger/Where_15_output_0)\\n  %/patch_merger/Unsqueeze_15_output_0 = Unsqueeze[axes = [-1]](%/patch_merger/Expand_19_output_0)\\n  %/patch_merger/Concat_4_output_0 = Concat[axis = -1](%/patch_merger/Unsqueeze_12_output_0, %/patch_merger/Unsqueeze_13_output_0, %/patch_merger/Unsqueeze_14_output_0, %/patch_merger/Unsqueeze_15_output_0)\\n  %/patch_merger/Shape_3_output_0 = Shape(%/patch_merger/ScatterND_2_output_0)\\n  %/patch_merger/Constant_76_output_0 = Constant[value = <Tensor>]()\\n  %/patch_merger/Constant_77_output_0 = Constant[value = <Tensor>]()\\n  %/patch_merger/Constant_78_output_0 = Constant[value = <Tensor>]()\\n  %/patch_merger/Slice_7_output_0 = Slice(%/patch_merger/Shape_3_output_0, %/patch_merger/Constant_77_output_0, %/patch_merger/Constant_78_output_0, %/patch_merger/Constant_76_output_0)\\n  %/patch_merger/Concat_5_output_0 = Concat[axis = 0](%/patch_merger/Constant_67_output_0, %/patch_merger/Slice_7_output_0)\\n  %/patch_merger/Reshape_3_output_0 = Reshape(%/patch_merger/Expand_15_output_0, %/patch_merger/Concat_5_output_0)\\n  %/patch_merger/ScatterND_3_output_0 = ScatterND(%/patch_merger/ScatterND_2_output_0, %/patch_merger/Concat_4_output_0, %/patch_merger/Reshape_3_output_0)\\n  %/patch_merger/Gather_1_output_0 = Gather[axis = 1](%/Reshape_1_output_0, %/patch_maker/Constant_3_output_0)\\n  %/patch_merger/Constant_79_output_0 = Constant[value = <Tensor>]()\\n  %/patch_merger/Constant_80_output_0 = Constant[value = <Tensor>]()\\n  %/patch_merger/Constant_81_output_0 = Constant[value = <Tensor>]()\\n  %/patch_merger/Constant_82_output_0 = Constant[value = <Tensor>]()\\n  %/patch_merger/Slice_8_output_0 = Slice(%/patch_merger/ScatterND_1_output_0, %/patch_merger/Constant_80_output_0, %/patch_merger/Constant_81_output_0, %/patch_merger/Constant_79_output_0, %/patch_merger/Constant_82_output_0)\\n  %/patch_merger/Constant_83_output_0 = Constant[value = <Tensor>]()\\n  %/patch_merger/Constant_84_output_0 = Constant[value = <Tensor>]()\\n  %/patch_merger/Constant_85_output_0 = Constant[value = <Tensor>]()\\n  %/patch_merger/Constant_86_output_0 = Constant[value = <Tensor>]()\\n  %/patch_merger/Slice_9_output_0 = Slice(%/patch_merger/Slice_8_output_0, %/patch_merger/Constant_84_output_0, %/patch_merger/Constant_85_output_0, %/patch_merger/Constant_83_output_0, %/patch_merger/Constant_86_output_0)\\n  %/patch_merger/Constant_87_output_0 = Constant[value = <Tensor>]()\\n  %/patch_merger/Constant_88_output_0 = Constant[value = <Tensor>]()\\n  %/patch_merger/Constant_89_output_0 = Constant[value = <Tensor>]()\\n  %/patch_merger/Constant_90_output_0 = Constant[value = <Tensor>]()\\n  %/patch_merger/Slice_10_output_0 = Slice(%/patch_merger/Gather_1_output_0, %/patch_merger/Constant_88_output_0, %/patch_merger/Constant_89_output_0, %/patch_merger/Constant_87_output_0, %/patch_merger/Constant_90_output_0)\\n  %/patch_merger/Constant_91_output_0 = Constant[value = <Tensor>]()\\n  %/patch_merger/Constant_92_output_0 = Constant[value = <Tensor>]()\\n  %/patch_merger/Constant_93_output_0 = Constant[value = <Tensor>]()\\n  %/patch_merger/Constant_94_output_0 = Constant[value = <Tensor>]()\\n  %/patch_merger/Slice_11_output_0 = Slice(%/patch_merger/Slice_10_output_0, %/patch_merger/Constant_92_output_0, %/patch_merger/Constant_93_output_0, %/patch_merger/Constant_91_output_0, %/patch_merger/Constant_94_output_0)\\n  %/patch_merger/Add_1_output_0 = Add(%/patch_merger/Slice_9_output_0, %/patch_merger/Slice_11_output_0)\\n  %/patch_merger/Shape_4_output_0 = Shape(%/patch_merger/Slice_9_output_0)\\n  %/patch_merger/Expand_20_output_0 = Expand(%/patch_merger/Add_1_output_0, %/patch_merger/Shape_4_output_0)\\n  %/patch_merger/Constant_95_output_0 = Constant[value = <Tensor>]()\\n  %onnx::Expand_523 = Constant[value = <Tensor>]()\\n  %onnx::Expand_524 = Constant[value = <Tensor>]()\\n  %onnx::Expand_525 = Constant[value = <Tensor>]()\\n  %/patch_merger/Constant_96_output_0 = Constant[value = <Tensor>]()\\n  %/patch_merger/Constant_97_output_0 = Constant[value = <Tensor>]()\\n  %/patch_merger/ConstantOfShape_16_output_0 = ConstantOfShape[value = <Tensor>](%/patch_merger/Constant_97_output_0)\\n  %/patch_merger/Constant_98_output_0 = Constant[value = <Scalar Tensor []>]()\\n  %/patch_merger/Mul_16_output_0 = Mul(%/patch_merger/ConstantOfShape_16_output_0, %/patch_merger/Constant_98_output_0)\\n  %/patch_merger/Equal_16_output_0 = Equal(%/patch_merger/Constant_96_output_0, %/patch_merger/Mul_16_output_0)\\n  %/patch_merger/Where_16_output_0 = Where(%/patch_merger/Equal_16_output_0, %/patch_merger/ConstantOfShape_16_output_0, %/patch_merger/Constant_96_output_0)\\n  %/patch_merger/Expand_21_output_0 = Expand(%onnx::Expand_523, %/patch_merger/Where_16_output_0)\\n  %/patch_merger/Unsqueeze_16_output_0 = Unsqueeze[axes = [-1]](%/patch_merger/Expand_21_output_0)\\n  %/patch_merger/Constant_99_output_0 = Constant[value = <Tensor>]()\\n  %/patch_merger/ConstantOfShape_17_output_0 = ConstantOfShape[value = <Tensor>](%/patch_merger/Constant_99_output_0)\\n  %/patch_merger/Constant_100_output_0 = Constant[value = <Scalar Tensor []>]()\\n  %/patch_merger/Mul_17_output_0 = Mul(%/patch_merger/ConstantOfShape_17_output_0, %/patch_merger/Constant_100_output_0)\\n  %/patch_merger/Equal_17_output_0 = Equal(%/patch_merger/Constant_96_output_0, %/patch_merger/Mul_17_output_0)\\n  %/patch_merger/Where_17_output_0 = Where(%/patch_merger/Equal_17_output_0, %/patch_merger/ConstantOfShape_17_output_0, %/patch_merger/Constant_96_output_0)\\n  %/patch_merger/Expand_22_output_0 = Expand(%onnx::Expand_524, %/patch_merger/Where_17_output_0)\\n  %/patch_merger/Unsqueeze_17_output_0 = Unsqueeze[axes = [-1]](%/patch_merger/Expand_22_output_0)\\n  %/patch_merger/Constant_101_output_0 = Constant[value = <Tensor>]()\\n  %/patch_merger/ConstantOfShape_18_output_0 = ConstantOfShape[value = <Tensor>](%/patch_merger/Constant_101_output_0)\\n  %/patch_merger/Constant_102_output_0 = Constant[value = <Scalar Tensor []>]()\\n  %/patch_merger/Mul_18_output_0 = Mul(%/patch_merger/ConstantOfShape_18_output_0, %/patch_merger/Constant_102_output_0)\\n  %/patch_merger/Equal_18_output_0 = Equal(%/patch_merger/Constant_96_output_0, %/patch_merger/Mul_18_output_0)\\n  %/patch_merger/Where_18_output_0 = Where(%/patch_merger/Equal_18_output_0, %/patch_merger/ConstantOfShape_18_output_0, %/patch_merger/Constant_96_output_0)\\n  %/patch_merger/Expand_23_output_0 = Expand(%onnx::Expand_525, %/patch_merger/Where_18_output_0)\\n  %/patch_merger/Unsqueeze_18_output_0 = Unsqueeze[axes = [-1]](%/patch_merger/Expand_23_output_0)\\n  %/patch_merger/Constant_103_output_0 = Constant[value = <Tensor>]()\\n  %/patch_merger/ConstantOfShape_19_output_0 = ConstantOfShape[value = <Tensor>](%/patch_merger/Constant_103_output_0)\\n  %/patch_merger/Constant_104_output_0 = Constant[value = <Scalar Tensor []>]()\\n  %/patch_merger/Mul_19_output_0 = Mul(%/patch_merger/ConstantOfShape_19_output_0, %/patch_merger/Constant_104_output_0)\\n  %/patch_merger/Equal_19_output_0 = Equal(%/patch_merger/Constant_96_output_0, %/patch_merger/Mul_19_output_0)\\n  %/patch_merger/Where_19_output_0 = Where(%/patch_merger/Equal_19_output_0, %/patch_merger/ConstantOfShape_19_output_0, %/patch_merger/Constant_96_output_0)\\n  %/patch_merger/Expand_24_output_0 = Expand(%/patch_merger/Constant_95_output_0, %/patch_merger/Where_19_output_0)\\n  %/patch_merger/Unsqueeze_19_output_0 = Unsqueeze[axes = [-1]](%/patch_merger/Expand_24_output_0)\\n  %/patch_merger/Concat_6_output_0 = Concat[axis = -1](%/patch_merger/Unsqueeze_16_output_0, %/patch_merger/Unsqueeze_17_output_0, %/patch_merger/Unsqueeze_18_output_0, %/patch_merger/Unsqueeze_19_output_0)\\n  %/patch_merger/Shape_5_output_0 = Shape(%/patch_merger/ScatterND_1_output_0)\\n  %/patch_merger/Constant_105_output_0 = Constant[value = <Tensor>]()\\n  %/patch_merger/Constant_106_output_0 = Constant[value = <Tensor>]()\\n  %/patch_merger/Constant_107_output_0 = Constant[value = <Tensor>]()\\n  %/patch_merger/Slice_12_output_0 = Slice(%/patch_merger/Shape_5_output_0, %/patch_merger/Constant_106_output_0, %/patch_merger/Constant_107_output_0, %/patch_merger/Constant_105_output_0)\\n  %/patch_merger/Concat_7_output_0 = Concat[axis = 0](%/patch_merger/Constant_96_output_0, %/patch_merger/Slice_12_output_0)\\n  %/patch_merger/Reshape_4_output_0 = Reshape(%/patch_merger/Expand_20_output_0, %/patch_merger/Concat_7_output_0)\\n  %/patch_merger/ScatterND_4_output_0 = ScatterND(%/patch_merger/ScatterND_1_output_0, %/patch_merger/Concat_6_output_0, %/patch_merger/Reshape_4_output_0)\\n  %/patch_merger/Constant_108_output_0 = Constant[value = <Tensor>]()\\n  %/patch_merger/Constant_109_output_0 = Constant[value = <Tensor>]()\\n  %/patch_merger/Constant_110_output_0 = Constant[value = <Tensor>]()\\n  %/patch_merger/Constant_111_output_0 = Constant[value = <Tensor>]()\\n  %/patch_merger/Slice_13_output_0 = Slice(%/patch_merger/ScatterND_4_output_0, %/patch_merger/Constant_109_output_0, %/patch_merger/Constant_110_output_0, %/patch_merger/Constant_108_output_0, %/patch_merger/Constant_111_output_0)\\n  %/patch_merger/Constant_112_output_0 = Constant[value = <Tensor>]()\\n  %/patch_merger/Constant_113_output_0 = Constant[value = <Tensor>]()\\n  %/patch_merger/Constant_114_output_0 = Constant[value = <Tensor>]()\\n  %/patch_merger/Constant_115_output_0 = Constant[value = <Tensor>]()\\n  %/patch_merger/Slice_14_output_0 = Slice(%/patch_merger/Slice_13_output_0, %/patch_merger/Constant_113_output_0, %/patch_merger/Constant_114_output_0, %/patch_merger/Constant_112_output_0, %/patch_merger/Constant_115_output_0)\\n  %/patch_merger/Shape_6_output_0 = Shape(%/patch_merger/Slice_14_output_0)\\n  %/patch_merger/Expand_25_output_0 = Expand(%/patch_merger/Add_1_output_0, %/patch_merger/Shape_6_output_0)\\n  %/patch_merger/Constant_116_output_0 = Constant[value = <Tensor>]()\\n  %onnx::Expand_588 = Constant[value = <Tensor>]()\\n  %onnx::Expand_589 = Constant[value = <Tensor>]()\\n  %onnx::Expand_590 = Constant[value = <Tensor>]()\\n  %/patch_merger/Constant_117_output_0 = Constant[value = <Tensor>]()\\n  %/patch_merger/Constant_118_output_0 = Constant[value = <Tensor>]()\\n  %/patch_merger/ConstantOfShape_20_output_0 = ConstantOfShape[value = <Tensor>](%/patch_merger/Constant_118_output_0)\\n  %/patch_merger/Constant_119_output_0 = Constant[value = <Scalar Tensor []>]()\\n  %/patch_merger/Mul_20_output_0 = Mul(%/patch_merger/ConstantOfShape_20_output_0, %/patch_merger/Constant_119_output_0)\\n  %/patch_merger/Equal_20_output_0 = Equal(%/patch_merger/Constant_117_output_0, %/patch_merger/Mul_20_output_0)\\n  %/patch_merger/Where_20_output_0 = Where(%/patch_merger/Equal_20_output_0, %/patch_merger/ConstantOfShape_20_output_0, %/patch_merger/Constant_117_output_0)\\n  %/patch_merger/Expand_26_output_0 = Expand(%onnx::Expand_588, %/patch_merger/Where_20_output_0)\\n  %/patch_merger/Unsqueeze_20_output_0 = Unsqueeze[axes = [-1]](%/patch_merger/Expand_26_output_0)\\n  %/patch_merger/Constant_120_output_0 = Constant[value = <Tensor>]()\\n  %/patch_merger/ConstantOfShape_21_output_0 = ConstantOfShape[value = <Tensor>](%/patch_merger/Constant_120_output_0)\\n  %/patch_merger/Constant_121_output_0 = Constant[value = <Scalar Tensor []>]()\\n  %/patch_merger/Mul_21_output_0 = Mul(%/patch_merger/ConstantOfShape_21_output_0, %/patch_merger/Constant_121_output_0)\\n  %/patch_merger/Equal_21_output_0 = Equal(%/patch_merger/Constant_117_output_0, %/patch_merger/Mul_21_output_0)\\n  %/patch_merger/Where_21_output_0 = Where(%/patch_merger/Equal_21_output_0, %/patch_merger/ConstantOfShape_21_output_0, %/patch_merger/Constant_117_output_0)\\n  %/patch_merger/Expand_27_output_0 = Expand(%onnx::Expand_589, %/patch_merger/Where_21_output_0)\\n  %/patch_merger/Unsqueeze_21_output_0 = Unsqueeze[axes = [-1]](%/patch_merger/Expand_27_output_0)\\n  %/patch_merger/Constant_122_output_0 = Constant[value = <Tensor>]()\\n  %/patch_merger/ConstantOfShape_22_output_0 = ConstantOfShape[value = <Tensor>](%/patch_merger/Constant_122_output_0)\\n  %/patch_merger/Constant_123_output_0 = Constant[value = <Scalar Tensor []>]()\\n  %/patch_merger/Mul_22_output_0 = Mul(%/patch_merger/ConstantOfShape_22_output_0, %/patch_merger/Constant_123_output_0)\\n  %/patch_merger/Equal_22_output_0 = Equal(%/patch_merger/Constant_117_output_0, %/patch_merger/Mul_22_output_0)\\n  %/patch_merger/Where_22_output_0 = Where(%/patch_merger/Equal_22_output_0, %/patch_merger/ConstantOfShape_22_output_0, %/patch_merger/Constant_117_output_0)\\n  %/patch_merger/Expand_28_output_0 = Expand(%onnx::Expand_590, %/patch_merger/Where_22_output_0)\\n  %/patch_merger/Unsqueeze_22_output_0 = Unsqueeze[axes = [-1]](%/patch_merger/Expand_28_output_0)\\n  %/patch_merger/Constant_124_output_0 = Constant[value = <Tensor>]()\\n  %/patch_merger/ConstantOfShape_23_output_0 = ConstantOfShape[value = <Tensor>](%/patch_merger/Constant_124_output_0)\\n  %/patch_merger/Constant_125_output_0 = Constant[value = <Scalar Tensor []>]()\\n  %/patch_merger/Mul_23_output_0 = Mul(%/patch_merger/ConstantOfShape_23_output_0, %/patch_merger/Constant_125_output_0)\\n  %/patch_merger/Equal_23_output_0 = Equal(%/patch_merger/Constant_117_output_0, %/patch_merger/Mul_23_output_0)\\n  %/patch_merger/Where_23_output_0 = Where(%/patch_merger/Equal_23_output_0, %/patch_merger/ConstantOfShape_23_output_0, %/patch_merger/Constant_117_output_0)\\n  %/patch_merger/Expand_29_output_0 = Expand(%/patch_merger/Constant_116_output_0, %/patch_merger/Where_23_output_0)\\n  %/patch_merger/Unsqueeze_23_output_0 = Unsqueeze[axes = [-1]](%/patch_merger/Expand_29_output_0)\\n  %/patch_merger/Concat_8_output_0 = Concat[axis = -1](%/patch_merger/Unsqueeze_20_output_0, %/patch_merger/Unsqueeze_21_output_0, %/patch_merger/Unsqueeze_22_output_0, %/patch_merger/Unsqueeze_23_output_0)\\n  %/patch_merger/Shape_7_output_0 = Shape(%/patch_merger/ScatterND_4_output_0)\\n  %/patch_merger/Constant_126_output_0 = Constant[value = <Tensor>]()\\n  %/patch_merger/Constant_127_output_0 = Constant[value = <Tensor>]()\\n  %/patch_merger/Constant_128_output_0 = Constant[value = <Tensor>]()\\n  %/patch_merger/Slice_15_output_0 = Slice(%/patch_merger/Shape_7_output_0, %/patch_merger/Constant_127_output_0, %/patch_merger/Constant_128_output_0, %/patch_merger/Constant_126_output_0)\\n  %/patch_merger/Concat_9_output_0 = Concat[axis = 0](%/patch_merger/Constant_117_output_0, %/patch_merger/Slice_15_output_0)\\n  %/patch_merger/Reshape_5_output_0 = Reshape(%/patch_merger/Expand_25_output_0, %/patch_merger/Concat_9_output_0)\\n  %/patch_merger/ScatterND_5_output_0 = ScatterND(%/patch_merger/ScatterND_4_output_0, %/patch_merger/Concat_8_output_0, %/patch_merger/Reshape_5_output_0)\\n  %/patch_merger/Constant_129_output_0 = Constant[value = <Tensor>]()\\n  %/patch_merger/Constant_130_output_0 = Constant[value = <Tensor>]()\\n  %/patch_merger/Constant_131_output_0 = Constant[value = <Tensor>]()\\n  %/patch_merger/Constant_132_output_0 = Constant[value = <Tensor>]()\\n  %/patch_merger/Slice_16_output_0 = Slice(%/patch_merger/ScatterND_3_output_0, %/patch_merger/Constant_130_output_0, %/patch_merger/Constant_131_output_0, %/patch_merger/Constant_129_output_0, %/patch_merger/Constant_132_output_0)\\n  %/patch_merger/Constant_133_output_0 = Constant[value = <Tensor>]()\\n  %/patch_merger/Constant_134_output_0 = Constant[value = <Tensor>]()\\n  %/patch_merger/Constant_135_output_0 = Constant[value = <Tensor>]()\\n  %/patch_merger/Constant_136_output_0 = Constant[value = <Tensor>]()\\n  %/patch_merger/Slice_17_output_0 = Slice(%/patch_merger/Slice_16_output_0, %/patch_merger/Constant_134_output_0, %/patch_merger/Constant_135_output_0, %/patch_merger/Constant_133_output_0, %/patch_merger/Constant_136_output_0)\\n  %/patch_merger/Constant_137_output_0 = Constant[value = <Scalar Tensor []>]()\\n  %/patch_merger/Add_2_output_0 = Add(%/patch_merger/Slice_17_output_0, %/patch_merger/Constant_137_output_0)\\n  %/patch_merger/Shape_8_output_0 = Shape(%/patch_merger/Slice_17_output_0)\\n  %/patch_merger/Expand_30_output_0 = Expand(%/patch_merger/Add_2_output_0, %/patch_merger/Shape_8_output_0)\\n  %/patch_merger/Constant_138_output_0 = Constant[value = <Tensor>]()\\n  %onnx::Expand_655 = Constant[value = <Tensor>]()\\n  %onnx::Expand_656 = Constant[value = <Tensor>]()\\n  %onnx::Expand_657 = Constant[value = <Tensor>]()\\n  %/patch_merger/Constant_139_output_0 = Constant[value = <Tensor>]()\\n  %/patch_merger/Constant_140_output_0 = Constant[value = <Tensor>]()\\n  %/patch_merger/ConstantOfShape_24_output_0 = ConstantOfShape[value = <Tensor>](%/patch_merger/Constant_140_output_0)\\n  %/patch_merger/Constant_141_output_0 = Constant[value = <Scalar Tensor []>]()\\n  %/patch_merger/Mul_24_output_0 = Mul(%/patch_merger/ConstantOfShape_24_output_0, %/patch_merger/Constant_141_output_0)\\n  %/patch_merger/Equal_24_output_0 = Equal(%/patch_merger/Constant_139_output_0, %/patch_merger/Mul_24_output_0)\\n  %/patch_merger/Where_24_output_0 = Where(%/patch_merger/Equal_24_output_0, %/patch_merger/ConstantOfShape_24_output_0, %/patch_merger/Constant_139_output_0)\\n  %/patch_merger/Expand_31_output_0 = Expand(%onnx::Expand_655, %/patch_merger/Where_24_output_0)\\n  %/patch_merger/Unsqueeze_24_output_0 = Unsqueeze[axes = [-1]](%/patch_merger/Expand_31_output_0)\\n  %/patch_merger/Constant_142_output_0 = Constant[value = <Tensor>]()\\n  %/patch_merger/ConstantOfShape_25_output_0 = ConstantOfShape[value = <Tensor>](%/patch_merger/Constant_142_output_0)\\n  %/patch_merger/Constant_143_output_0 = Constant[value = <Scalar Tensor []>]()\\n  %/patch_merger/Mul_25_output_0 = Mul(%/patch_merger/ConstantOfShape_25_output_0, %/patch_merger/Constant_143_output_0)\\n  %/patch_merger/Equal_25_output_0 = Equal(%/patch_merger/Constant_139_output_0, %/patch_merger/Mul_25_output_0)\\n  %/patch_merger/Where_25_output_0 = Where(%/patch_merger/Equal_25_output_0, %/patch_merger/ConstantOfShape_25_output_0, %/patch_merger/Constant_139_output_0)\\n  %/patch_merger/Expand_32_output_0 = Expand(%onnx::Expand_656, %/patch_merger/Where_25_output_0)\\n  %/patch_merger/Unsqueeze_25_output_0 = Unsqueeze[axes = [-1]](%/patch_merger/Expand_32_output_0)\\n  %/patch_merger/Constant_144_output_0 = Constant[value = <Tensor>]()\\n  %/patch_merger/ConstantOfShape_26_output_0 = ConstantOfShape[value = <Tensor>](%/patch_merger/Constant_144_output_0)\\n  %/patch_merger/Constant_145_output_0 = Constant[value = <Scalar Tensor []>]()\\n  %/patch_merger/Mul_26_output_0 = Mul(%/patch_merger/ConstantOfShape_26_output_0, %/patch_merger/Constant_145_output_0)\\n  %/patch_merger/Equal_26_output_0 = Equal(%/patch_merger/Constant_139_output_0, %/patch_merger/Mul_26_output_0)\\n  %/patch_merger/Where_26_output_0 = Where(%/patch_merger/Equal_26_output_0, %/patch_merger/ConstantOfShape_26_output_0, %/patch_merger/Constant_139_output_0)\\n  %/patch_merger/Expand_33_output_0 = Expand(%onnx::Expand_657, %/patch_merger/Where_26_output_0)\\n  %/patch_merger/Unsqueeze_26_output_0 = Unsqueeze[axes = [-1]](%/patch_merger/Expand_33_output_0)\\n  %/patch_merger/Constant_146_output_0 = Constant[value = <Tensor>]()\\n  %/patch_merger/ConstantOfShape_27_output_0 = ConstantOfShape[value = <Tensor>](%/patch_merger/Constant_146_output_0)\\n  %/patch_merger/Constant_147_output_0 = Constant[value = <Scalar Tensor []>]()\\n  %/patch_merger/Mul_27_output_0 = Mul(%/patch_merger/ConstantOfShape_27_output_0, %/patch_merger/Constant_147_output_0)\\n  %/patch_merger/Equal_27_output_0 = Equal(%/patch_merger/Constant_139_output_0, %/patch_merger/Mul_27_output_0)\\n  %/patch_merger/Where_27_output_0 = Where(%/patch_merger/Equal_27_output_0, %/patch_merger/ConstantOfShape_27_output_0, %/patch_merger/Constant_139_output_0)\\n  %/patch_merger/Expand_34_output_0 = Expand(%/patch_merger/Constant_138_output_0, %/patch_merger/Where_27_output_0)\\n  %/patch_merger/Unsqueeze_27_output_0 = Unsqueeze[axes = [-1]](%/patch_merger/Expand_34_output_0)\\n  %/patch_merger/Concat_10_output_0 = Concat[axis = -1](%/patch_merger/Unsqueeze_24_output_0, %/patch_merger/Unsqueeze_25_output_0, %/patch_merger/Unsqueeze_26_output_0, %/patch_merger/Unsqueeze_27_output_0)\\n  %/patch_merger/Shape_9_output_0 = Shape(%/patch_merger/ScatterND_3_output_0)\\n  %/patch_merger/Constant_148_output_0 = Constant[value = <Tensor>]()\\n  %/patch_merger/Constant_149_output_0 = Constant[value = <Tensor>]()\\n  %/patch_merger/Constant_150_output_0 = Constant[value = <Tensor>]()\\n  %/patch_merger/Slice_18_output_0 = Slice(%/patch_merger/Shape_9_output_0, %/patch_merger/Constant_149_output_0, %/patch_merger/Constant_150_output_0, %/patch_merger/Constant_148_output_0)\\n  %/patch_merger/Concat_11_output_0 = Concat[axis = 0](%/patch_merger/Constant_139_output_0, %/patch_merger/Slice_18_output_0)\\n  %/patch_merger/Reshape_6_output_0 = Reshape(%/patch_merger/Expand_30_output_0, %/patch_merger/Concat_11_output_0)\\n  %/patch_merger/ScatterND_6_output_0 = ScatterND(%/patch_merger/ScatterND_3_output_0, %/patch_merger/Concat_10_output_0, %/patch_merger/Reshape_6_output_0)\\n  %/patch_merger/Constant_151_output_0 = Constant[value = <Tensor>]()\\n  %/patch_merger/Constant_152_output_0 = Constant[value = <Tensor>]()\\n  %/patch_merger/Constant_153_output_0 = Constant[value = <Tensor>]()\\n  %/patch_merger/Constant_154_output_0 = Constant[value = <Tensor>]()\\n  %/patch_merger/Slice_19_output_0 = Slice(%/patch_merger/ScatterND_6_output_0, %/patch_merger/Constant_152_output_0, %/patch_merger/Constant_153_output_0, %/patch_merger/Constant_151_output_0, %/patch_merger/Constant_154_output_0)\\n  %/patch_merger/Constant_155_output_0 = Constant[value = <Tensor>]()\\n  %/patch_merger/Constant_156_output_0 = Constant[value = <Tensor>]()\\n  %/patch_merger/Constant_157_output_0 = Constant[value = <Tensor>]()\\n  %/patch_merger/Constant_158_output_0 = Constant[value = <Tensor>]()\\n  %/patch_merger/Slice_20_output_0 = Slice(%/patch_merger/Slice_19_output_0, %/patch_merger/Constant_156_output_0, %/patch_merger/Constant_157_output_0, %/patch_merger/Constant_155_output_0, %/patch_merger/Constant_158_output_0)\\n  %/patch_merger/Shape_10_output_0 = Shape(%/patch_merger/Slice_20_output_0)\\n  %/patch_merger/Expand_35_output_0 = Expand(%/patch_merger/Add_2_output_0, %/patch_merger/Shape_10_output_0)\\n  %/patch_merger/Constant_159_output_0 = Constant[value = <Tensor>]()\\n  %onnx::Expand_720 = Constant[value = <Tensor>]()\\n  %onnx::Expand_721 = Constant[value = <Tensor>]()\\n  %onnx::Expand_722 = Constant[value = <Tensor>]()\\n  %/patch_merger/Constant_160_output_0 = Constant[value = <Tensor>]()\\n  %/patch_merger/Constant_161_output_0 = Constant[value = <Tensor>]()\\n  %/patch_merger/ConstantOfShape_28_output_0 = ConstantOfShape[value = <Tensor>](%/patch_merger/Constant_161_output_0)\\n  %/patch_merger/Constant_162_output_0 = Constant[value = <Scalar Tensor []>]()\\n  %/patch_merger/Mul_28_output_0 = Mul(%/patch_merger/ConstantOfShape_28_output_0, %/patch_merger/Constant_162_output_0)\\n  %/patch_merger/Equal_28_output_0 = Equal(%/patch_merger/Constant_160_output_0, %/patch_merger/Mul_28_output_0)\\n  %/patch_merger/Where_28_output_0 = Where(%/patch_merger/Equal_28_output_0, %/patch_merger/ConstantOfShape_28_output_0, %/patch_merger/Constant_160_output_0)\\n  %/patch_merger/Expand_36_output_0 = Expand(%onnx::Expand_720, %/patch_merger/Where_28_output_0)\\n  %/patch_merger/Unsqueeze_28_output_0 = Unsqueeze[axes = [-1]](%/patch_merger/Expand_36_output_0)\\n  %/patch_merger/Constant_163_output_0 = Constant[value = <Tensor>]()\\n  %/patch_merger/ConstantOfShape_29_output_0 = ConstantOfShape[value = <Tensor>](%/patch_merger/Constant_163_output_0)\\n  %/patch_merger/Constant_164_output_0 = Constant[value = <Scalar Tensor []>]()\\n  %/patch_merger/Mul_29_output_0 = Mul(%/patch_merger/ConstantOfShape_29_output_0, %/patch_merger/Constant_164_output_0)\\n  %/patch_merger/Equal_29_output_0 = Equal(%/patch_merger/Constant_160_output_0, %/patch_merger/Mul_29_output_0)\\n  %/patch_merger/Where_29_output_0 = Where(%/patch_merger/Equal_29_output_0, %/patch_merger/ConstantOfShape_29_output_0, %/patch_merger/Constant_160_output_0)\\n  %/patch_merger/Expand_37_output_0 = Expand(%onnx::Expand_721, %/patch_merger/Where_29_output_0)\\n  %/patch_merger/Unsqueeze_29_output_0 = Unsqueeze[axes = [-1]](%/patch_merger/Expand_37_output_0)\\n  %/patch_merger/Constant_165_output_0 = Constant[value = <Tensor>]()\\n  %/patch_merger/ConstantOfShape_30_output_0 = ConstantOfShape[value = <Tensor>](%/patch_merger/Constant_165_output_0)\\n  %/patch_merger/Constant_166_output_0 = Constant[value = <Scalar Tensor []>]()\\n  %/patch_merger/Mul_30_output_0 = Mul(%/patch_merger/ConstantOfShape_30_output_0, %/patch_merger/Constant_166_output_0)\\n  %/patch_merger/Equal_30_output_0 = Equal(%/patch_merger/Constant_160_output_0, %/patch_merger/Mul_30_output_0)\\n  %/patch_merger/Where_30_output_0 = Where(%/patch_merger/Equal_30_output_0, %/patch_merger/ConstantOfShape_30_output_0, %/patch_merger/Constant_160_output_0)\\n  %/patch_merger/Expand_38_output_0 = Expand(%onnx::Expand_722, %/patch_merger/Where_30_output_0)\\n  %/patch_merger/Unsqueeze_30_output_0 = Unsqueeze[axes = [-1]](%/patch_merger/Expand_38_output_0)\\n  %/patch_merger/Constant_167_output_0 = Constant[value = <Tensor>]()\\n  %/patch_merger/ConstantOfShape_31_output_0 = ConstantOfShape[value = <Tensor>](%/patch_merger/Constant_167_output_0)\\n  %/patch_merger/Constant_168_output_0 = Constant[value = <Scalar Tensor []>]()\\n  %/patch_merger/Mul_31_output_0 = Mul(%/patch_merger/ConstantOfShape_31_output_0, %/patch_merger/Constant_168_output_0)\\n  %/patch_merger/Equal_31_output_0 = Equal(%/patch_merger/Constant_160_output_0, %/patch_merger/Mul_31_output_0)\\n  %/patch_merger/Where_31_output_0 = Where(%/patch_merger/Equal_31_output_0, %/patch_merger/ConstantOfShape_31_output_0, %/patch_merger/Constant_160_output_0)\\n  %/patch_merger/Expand_39_output_0 = Expand(%/patch_merger/Constant_159_output_0, %/patch_merger/Where_31_output_0)\\n  %/patch_merger/Unsqueeze_31_output_0 = Unsqueeze[axes = [-1]](%/patch_merger/Expand_39_output_0)\\n  %/patch_merger/Concat_12_output_0 = Concat[axis = -1](%/patch_merger/Unsqueeze_28_output_0, %/patch_merger/Unsqueeze_29_output_0, %/patch_merger/Unsqueeze_30_output_0, %/patch_merger/Unsqueeze_31_output_0)\\n  %/patch_merger/Shape_11_output_0 = Shape(%/patch_merger/ScatterND_6_output_0)\\n  %/patch_merger/Constant_169_output_0 = Constant[value = <Tensor>]()\\n  %/patch_merger/Constant_170_output_0 = Constant[value = <Tensor>]()\\n  %/patch_merger/Constant_171_output_0 = Constant[value = <Tensor>]()\\n  %/patch_merger/Slice_21_output_0 = Slice(%/patch_merger/Shape_11_output_0, %/patch_merger/Constant_170_output_0, %/patch_merger/Constant_171_output_0, %/patch_merger/Constant_169_output_0)\\n  %/patch_merger/Concat_13_output_0 = Concat[axis = 0](%/patch_merger/Constant_160_output_0, %/patch_merger/Slice_21_output_0)\\n  %/patch_merger/Reshape_7_output_0 = Reshape(%/patch_merger/Expand_35_output_0, %/patch_merger/Concat_13_output_0)\\n  %/patch_merger/ScatterND_7_output_0 = ScatterND(%/patch_merger/ScatterND_6_output_0, %/patch_merger/Concat_12_output_0, %/patch_merger/Reshape_7_output_0)\\n  %/patch_merger/Gather_2_output_0 = Gather[axis = 1](%/Reshape_1_output_0, %/patch_maker/Constant_output_0)\\n  %/patch_merger/Constant_172_output_0 = Constant[value = <Tensor>]()\\n  %/patch_merger/Constant_173_output_0 = Constant[value = <Tensor>]()\\n  %/patch_merger/Constant_174_output_0 = Constant[value = <Tensor>]()\\n  %/patch_merger/Constant_175_output_0 = Constant[value = <Tensor>]()\\n  %/patch_merger/Slice_22_output_0 = Slice(%/patch_merger/ScatterND_5_output_0, %/patch_merger/Constant_173_output_0, %/patch_merger/Constant_174_output_0, %/patch_merger/Constant_172_output_0, %/patch_merger/Constant_175_output_0)\\n  %/patch_merger/Constant_176_output_0 = Constant[value = <Tensor>]()\\n  %/patch_merger/Constant_177_output_0 = Constant[value = <Tensor>]()\\n  %/patch_merger/Constant_178_output_0 = Constant[value = <Tensor>]()\\n  %/patch_merger/Constant_179_output_0 = Constant[value = <Tensor>]()\\n  %/patch_merger/Slice_23_output_0 = Slice(%/patch_merger/Slice_22_output_0, %/patch_merger/Constant_177_output_0, %/patch_merger/Constant_178_output_0, %/patch_merger/Constant_176_output_0, %/patch_merger/Constant_179_output_0)\\n  %/patch_merger/Constant_180_output_0 = Constant[value = <Tensor>]()\\n  %/patch_merger/Constant_181_output_0 = Constant[value = <Tensor>]()\\n  %/patch_merger/Constant_182_output_0 = Constant[value = <Tensor>]()\\n  %/patch_merger/Constant_183_output_0 = Constant[value = <Tensor>]()\\n  %/patch_merger/Slice_24_output_0 = Slice(%/patch_merger/Gather_2_output_0, %/patch_merger/Constant_181_output_0, %/patch_merger/Constant_182_output_0, %/patch_merger/Constant_180_output_0, %/patch_merger/Constant_183_output_0)\\n  %/patch_merger/Constant_184_output_0 = Constant[value = <Tensor>]()\\n  %/patch_merger/Constant_185_output_0 = Constant[value = <Tensor>]()\\n  %/patch_merger/Constant_186_output_0 = Constant[value = <Tensor>]()\\n  %/patch_merger/Constant_187_output_0 = Constant[value = <Tensor>]()\\n  %/patch_merger/Slice_25_output_0 = Slice(%/patch_merger/Slice_24_output_0, %/patch_merger/Constant_185_output_0, %/patch_merger/Constant_186_output_0, %/patch_merger/Constant_184_output_0, %/patch_merger/Constant_187_output_0)\\n  %/patch_merger/Add_3_output_0 = Add(%/patch_merger/Slice_23_output_0, %/patch_merger/Slice_25_output_0)\\n  %/patch_merger/Shape_12_output_0 = Shape(%/patch_merger/Slice_23_output_0)\\n  %/patch_merger/Expand_40_output_0 = Expand(%/patch_merger/Add_3_output_0, %/patch_merger/Shape_12_output_0)\\n  %/patch_merger/Constant_188_output_0 = Constant[value = <Tensor>]()\\n  %onnx::Expand_797 = Constant[value = <Tensor>]()\\n  %onnx::Expand_798 = Constant[value = <Tensor>]()\\n  %onnx::Expand_799 = Constant[value = <Tensor>]()\\n  %/patch_merger/Constant_189_output_0 = Constant[value = <Tensor>]()\\n  %/patch_merger/Constant_190_output_0 = Constant[value = <Tensor>]()\\n  %/patch_merger/ConstantOfShape_32_output_0 = ConstantOfShape[value = <Tensor>](%/patch_merger/Constant_190_output_0)\\n  %/patch_merger/Constant_191_output_0 = Constant[value = <Scalar Tensor []>]()\\n  %/patch_merger/Mul_32_output_0 = Mul(%/patch_merger/ConstantOfShape_32_output_0, %/patch_merger/Constant_191_output_0)\\n  %/patch_merger/Equal_32_output_0 = Equal(%/patch_merger/Constant_189_output_0, %/patch_merger/Mul_32_output_0)\\n  %/patch_merger/Where_32_output_0 = Where(%/patch_merger/Equal_32_output_0, %/patch_merger/ConstantOfShape_32_output_0, %/patch_merger/Constant_189_output_0)\\n  %/patch_merger/Expand_41_output_0 = Expand(%onnx::Expand_797, %/patch_merger/Where_32_output_0)\\n  %/patch_merger/Unsqueeze_32_output_0 = Unsqueeze[axes = [-1]](%/patch_merger/Expand_41_output_0)\\n  %/patch_merger/Constant_192_output_0 = Constant[value = <Tensor>]()\\n  %/patch_merger/ConstantOfShape_33_output_0 = ConstantOfShape[value = <Tensor>](%/patch_merger/Constant_192_output_0)\\n  %/patch_merger/Constant_193_output_0 = Constant[value = <Scalar Tensor []>]()\\n  %/patch_merger/Mul_33_output_0 = Mul(%/patch_merger/ConstantOfShape_33_output_0, %/patch_merger/Constant_193_output_0)\\n  %/patch_merger/Equal_33_output_0 = Equal(%/patch_merger/Constant_189_output_0, %/patch_merger/Mul_33_output_0)\\n  %/patch_merger/Where_33_output_0 = Where(%/patch_merger/Equal_33_output_0, %/patch_merger/ConstantOfShape_33_output_0, %/patch_merger/Constant_189_output_0)\\n  %/patch_merger/Expand_42_output_0 = Expand(%onnx::Expand_798, %/patch_merger/Where_33_output_0)\\n  %/patch_merger/Unsqueeze_33_output_0 = Unsqueeze[axes = [-1]](%/patch_merger/Expand_42_output_0)\\n  %/patch_merger/Constant_194_output_0 = Constant[value = <Tensor>]()\\n  %/patch_merger/ConstantOfShape_34_output_0 = ConstantOfShape[value = <Tensor>](%/patch_merger/Constant_194_output_0)\\n  %/patch_merger/Constant_195_output_0 = Constant[value = <Scalar Tensor []>]()\\n  %/patch_merger/Mul_34_output_0 = Mul(%/patch_merger/ConstantOfShape_34_output_0, %/patch_merger/Constant_195_output_0)\\n  %/patch_merger/Equal_34_output_0 = Equal(%/patch_merger/Constant_189_output_0, %/patch_merger/Mul_34_output_0)\\n  %/patch_merger/Where_34_output_0 = Where(%/patch_merger/Equal_34_output_0, %/patch_merger/ConstantOfShape_34_output_0, %/patch_merger/Constant_189_output_0)\\n  %/patch_merger/Expand_43_output_0 = Expand(%onnx::Expand_799, %/patch_merger/Where_34_output_0)\\n  %/patch_merger/Unsqueeze_34_output_0 = Unsqueeze[axes = [-1]](%/patch_merger/Expand_43_output_0)\\n  %/patch_merger/Constant_196_output_0 = Constant[value = <Tensor>]()\\n  %/patch_merger/ConstantOfShape_35_output_0 = ConstantOfShape[value = <Tensor>](%/patch_merger/Constant_196_output_0)\\n  %/patch_merger/Constant_197_output_0 = Constant[value = <Scalar Tensor []>]()\\n  %/patch_merger/Mul_35_output_0 = Mul(%/patch_merger/ConstantOfShape_35_output_0, %/patch_merger/Constant_197_output_0)\\n  %/patch_merger/Equal_35_output_0 = Equal(%/patch_merger/Constant_189_output_0, %/patch_merger/Mul_35_output_0)\\n  %/patch_merger/Where_35_output_0 = Where(%/patch_merger/Equal_35_output_0, %/patch_merger/ConstantOfShape_35_output_0, %/patch_merger/Constant_189_output_0)\\n  %/patch_merger/Expand_44_output_0 = Expand(%/patch_merger/Constant_188_output_0, %/patch_merger/Where_35_output_0)\\n  %/patch_merger/Unsqueeze_35_output_0 = Unsqueeze[axes = [-1]](%/patch_merger/Expand_44_output_0)\\n  %/patch_merger/Concat_14_output_0 = Concat[axis = -1](%/patch_merger/Unsqueeze_32_output_0, %/patch_merger/Unsqueeze_33_output_0, %/patch_merger/Unsqueeze_34_output_0, %/patch_merger/Unsqueeze_35_output_0)\\n  %/patch_merger/Shape_13_output_0 = Shape(%/patch_merger/ScatterND_5_output_0)\\n  %/patch_merger/Constant_198_output_0 = Constant[value = <Tensor>]()\\n  %/patch_merger/Constant_199_output_0 = Constant[value = <Tensor>]()\\n  %/patch_merger/Constant_200_output_0 = Constant[value = <Tensor>]()\\n  %/patch_merger/Slice_26_output_0 = Slice(%/patch_merger/Shape_13_output_0, %/patch_merger/Constant_199_output_0, %/patch_merger/Constant_200_output_0, %/patch_merger/Constant_198_output_0)\\n  %/patch_merger/Concat_15_output_0 = Concat[axis = 0](%/patch_merger/Constant_189_output_0, %/patch_merger/Slice_26_output_0)\\n  %/patch_merger/Reshape_8_output_0 = Reshape(%/patch_merger/Expand_40_output_0, %/patch_merger/Concat_15_output_0)\\n  %/patch_merger/ScatterND_8_output_0 = ScatterND(%/patch_merger/ScatterND_5_output_0, %/patch_merger/Concat_14_output_0, %/patch_merger/Reshape_8_output_0)\\n  %/patch_merger/Constant_201_output_0 = Constant[value = <Tensor>]()\\n  %/patch_merger/Constant_202_output_0 = Constant[value = <Tensor>]()\\n  %/patch_merger/Constant_203_output_0 = Constant[value = <Tensor>]()\\n  %/patch_merger/Constant_204_output_0 = Constant[value = <Tensor>]()\\n  %/patch_merger/Slice_27_output_0 = Slice(%/patch_merger/ScatterND_8_output_0, %/patch_merger/Constant_202_output_0, %/patch_merger/Constant_203_output_0, %/patch_merger/Constant_201_output_0, %/patch_merger/Constant_204_output_0)\\n  %/patch_merger/Constant_205_output_0 = Constant[value = <Tensor>]()\\n  %/patch_merger/Constant_206_output_0 = Constant[value = <Tensor>]()\\n  %/patch_merger/Constant_207_output_0 = Constant[value = <Tensor>]()\\n  %/patch_merger/Constant_208_output_0 = Constant[value = <Tensor>]()\\n  %/patch_merger/Slice_28_output_0 = Slice(%/patch_merger/Slice_27_output_0, %/patch_merger/Constant_206_output_0, %/patch_merger/Constant_207_output_0, %/patch_merger/Constant_205_output_0, %/patch_merger/Constant_208_output_0)\\n  %/patch_merger/Shape_14_output_0 = Shape(%/patch_merger/Slice_28_output_0)\\n  %/patch_merger/Expand_45_output_0 = Expand(%/patch_merger/Add_3_output_0, %/patch_merger/Shape_14_output_0)\\n  %/patch_merger/Constant_209_output_0 = Constant[value = <Tensor>]()\\n  %onnx::Expand_862 = Constant[value = <Tensor>]()\\n  %onnx::Expand_863 = Constant[value = <Tensor>]()\\n  %onnx::Expand_864 = Constant[value = <Tensor>]()\\n  %/patch_merger/Constant_210_output_0 = Constant[value = <Tensor>]()\\n  %/patch_merger/Constant_211_output_0 = Constant[value = <Tensor>]()\\n  %/patch_merger/ConstantOfShape_36_output_0 = ConstantOfShape[value = <Tensor>](%/patch_merger/Constant_211_output_0)\\n  %/patch_merger/Constant_212_output_0 = Constant[value = <Scalar Tensor []>]()\\n  %/patch_merger/Mul_36_output_0 = Mul(%/patch_merger/ConstantOfShape_36_output_0, %/patch_merger/Constant_212_output_0)\\n  %/patch_merger/Equal_36_output_0 = Equal(%/patch_merger/Constant_210_output_0, %/patch_merger/Mul_36_output_0)\\n  %/patch_merger/Where_36_output_0 = Where(%/patch_merger/Equal_36_output_0, %/patch_merger/ConstantOfShape_36_output_0, %/patch_merger/Constant_210_output_0)\\n  %/patch_merger/Expand_46_output_0 = Expand(%onnx::Expand_862, %/patch_merger/Where_36_output_0)\\n  %/patch_merger/Unsqueeze_36_output_0 = Unsqueeze[axes = [-1]](%/patch_merger/Expand_46_output_0)\\n  %/patch_merger/Constant_213_output_0 = Constant[value = <Tensor>]()\\n  %/patch_merger/ConstantOfShape_37_output_0 = ConstantOfShape[value = <Tensor>](%/patch_merger/Constant_213_output_0)\\n  %/patch_merger/Constant_214_output_0 = Constant[value = <Scalar Tensor []>]()\\n  %/patch_merger/Mul_37_output_0 = Mul(%/patch_merger/ConstantOfShape_37_output_0, %/patch_merger/Constant_214_output_0)\\n  %/patch_merger/Equal_37_output_0 = Equal(%/patch_merger/Constant_210_output_0, %/patch_merger/Mul_37_output_0)\\n  %/patch_merger/Where_37_output_0 = Where(%/patch_merger/Equal_37_output_0, %/patch_merger/ConstantOfShape_37_output_0, %/patch_merger/Constant_210_output_0)\\n  %/patch_merger/Expand_47_output_0 = Expand(%onnx::Expand_863, %/patch_merger/Where_37_output_0)\\n  %/patch_merger/Unsqueeze_37_output_0 = Unsqueeze[axes = [-1]](%/patch_merger/Expand_47_output_0)\\n  %/patch_merger/Constant_215_output_0 = Constant[value = <Tensor>]()\\n  %/patch_merger/ConstantOfShape_38_output_0 = ConstantOfShape[value = <Tensor>](%/patch_merger/Constant_215_output_0)\\n  %/patch_merger/Constant_216_output_0 = Constant[value = <Scalar Tensor []>]()\\n  %/patch_merger/Mul_38_output_0 = Mul(%/patch_merger/ConstantOfShape_38_output_0, %/patch_merger/Constant_216_output_0)\\n  %/patch_merger/Equal_38_output_0 = Equal(%/patch_merger/Constant_210_output_0, %/patch_merger/Mul_38_output_0)\\n  %/patch_merger/Where_38_output_0 = Where(%/patch_merger/Equal_38_output_0, %/patch_merger/ConstantOfShape_38_output_0, %/patch_merger/Constant_210_output_0)\\n  %/patch_merger/Expand_48_output_0 = Expand(%onnx::Expand_864, %/patch_merger/Where_38_output_0)\\n  %/patch_merger/Unsqueeze_38_output_0 = Unsqueeze[axes = [-1]](%/patch_merger/Expand_48_output_0)\\n  %/patch_merger/Constant_217_output_0 = Constant[value = <Tensor>]()\\n  %/patch_merger/ConstantOfShape_39_output_0 = ConstantOfShape[value = <Tensor>](%/patch_merger/Constant_217_output_0)\\n  %/patch_merger/Constant_218_output_0 = Constant[value = <Scalar Tensor []>]()\\n  %/patch_merger/Mul_39_output_0 = Mul(%/patch_merger/ConstantOfShape_39_output_0, %/patch_merger/Constant_218_output_0)\\n  %/patch_merger/Equal_39_output_0 = Equal(%/patch_merger/Constant_210_output_0, %/patch_merger/Mul_39_output_0)\\n  %/patch_merger/Where_39_output_0 = Where(%/patch_merger/Equal_39_output_0, %/patch_merger/ConstantOfShape_39_output_0, %/patch_merger/Constant_210_output_0)\\n  %/patch_merger/Expand_49_output_0 = Expand(%/patch_merger/Constant_209_output_0, %/patch_merger/Where_39_output_0)\\n  %/patch_merger/Unsqueeze_39_output_0 = Unsqueeze[axes = [-1]](%/patch_merger/Expand_49_output_0)\\n  %/patch_merger/Concat_16_output_0 = Concat[axis = -1](%/patch_merger/Unsqueeze_36_output_0, %/patch_merger/Unsqueeze_37_output_0, %/patch_merger/Unsqueeze_38_output_0, %/patch_merger/Unsqueeze_39_output_0)\\n  %/patch_merger/Shape_15_output_0 = Shape(%/patch_merger/ScatterND_8_output_0)\\n  %/patch_merger/Constant_219_output_0 = Constant[value = <Tensor>]()\\n  %/patch_merger/Constant_220_output_0 = Constant[value = <Tensor>]()\\n  %/patch_merger/Constant_221_output_0 = Constant[value = <Tensor>]()\\n  %/patch_merger/Slice_29_output_0 = Slice(%/patch_merger/Shape_15_output_0, %/patch_merger/Constant_220_output_0, %/patch_merger/Constant_221_output_0, %/patch_merger/Constant_219_output_0)\\n  %/patch_merger/Concat_17_output_0 = Concat[axis = 0](%/patch_merger/Constant_210_output_0, %/patch_merger/Slice_29_output_0)\\n  %/patch_merger/Reshape_9_output_0 = Reshape(%/patch_merger/Expand_45_output_0, %/patch_merger/Concat_17_output_0)\\n  %/patch_merger/ScatterND_9_output_0 = ScatterND(%/patch_merger/ScatterND_8_output_0, %/patch_merger/Concat_16_output_0, %/patch_merger/Reshape_9_output_0)\\n  %/patch_merger/Constant_222_output_0 = Constant[value = <Tensor>]()\\n  %/patch_merger/Constant_223_output_0 = Constant[value = <Tensor>]()\\n  %/patch_merger/Constant_224_output_0 = Constant[value = <Tensor>]()\\n  %/patch_merger/Constant_225_output_0 = Constant[value = <Tensor>]()\\n  %/patch_merger/Slice_30_output_0 = Slice(%/patch_merger/ScatterND_7_output_0, %/patch_merger/Constant_223_output_0, %/patch_merger/Constant_224_output_0, %/patch_merger/Constant_222_output_0, %/patch_merger/Constant_225_output_0)\\n  %/patch_merger/Constant_226_output_0 = Constant[value = <Tensor>]()\\n  %/patch_merger/Constant_227_output_0 = Constant[value = <Tensor>]()\\n  %/patch_merger/Constant_228_output_0 = Constant[value = <Tensor>]()\\n  %/patch_merger/Constant_229_output_0 = Constant[value = <Tensor>]()\\n  %/patch_merger/Slice_31_output_0 = Slice(%/patch_merger/Slice_30_output_0, %/patch_merger/Constant_227_output_0, %/patch_merger/Constant_228_output_0, %/patch_merger/Constant_226_output_0, %/patch_merger/Constant_229_output_0)\\n  %/patch_merger/Constant_230_output_0 = Constant[value = <Scalar Tensor []>]()\\n  %/patch_merger/Add_4_output_0 = Add(%/patch_merger/Slice_31_output_0, %/patch_merger/Constant_230_output_0)\\n  %/patch_merger/Shape_16_output_0 = Shape(%/patch_merger/Slice_31_output_0)\\n  %/patch_merger/Expand_50_output_0 = Expand(%/patch_merger/Add_4_output_0, %/patch_merger/Shape_16_output_0)\\n  %/patch_merger/Constant_231_output_0 = Constant[value = <Tensor>]()\\n  %onnx::Expand_929 = Constant[value = <Tensor>]()\\n  %onnx::Expand_930 = Constant[value = <Tensor>]()\\n  %onnx::Expand_931 = Constant[value = <Tensor>]()\\n  %/patch_merger/Constant_232_output_0 = Constant[value = <Tensor>]()\\n  %/patch_merger/Constant_233_output_0 = Constant[value = <Tensor>]()\\n  %/patch_merger/ConstantOfShape_40_output_0 = ConstantOfShape[value = <Tensor>](%/patch_merger/Constant_233_output_0)\\n  %/patch_merger/Constant_234_output_0 = Constant[value = <Scalar Tensor []>]()\\n  %/patch_merger/Mul_40_output_0 = Mul(%/patch_merger/ConstantOfShape_40_output_0, %/patch_merger/Constant_234_output_0)\\n  %/patch_merger/Equal_40_output_0 = Equal(%/patch_merger/Constant_232_output_0, %/patch_merger/Mul_40_output_0)\\n  %/patch_merger/Where_40_output_0 = Where(%/patch_merger/Equal_40_output_0, %/patch_merger/ConstantOfShape_40_output_0, %/patch_merger/Constant_232_output_0)\\n  %/patch_merger/Expand_51_output_0 = Expand(%onnx::Expand_929, %/patch_merger/Where_40_output_0)\\n  %/patch_merger/Unsqueeze_40_output_0 = Unsqueeze[axes = [-1]](%/patch_merger/Expand_51_output_0)\\n  %/patch_merger/Constant_235_output_0 = Constant[value = <Tensor>]()\\n  %/patch_merger/ConstantOfShape_41_output_0 = ConstantOfShape[value = <Tensor>](%/patch_merger/Constant_235_output_0)\\n  %/patch_merger/Constant_236_output_0 = Constant[value = <Scalar Tensor []>]()\\n  %/patch_merger/Mul_41_output_0 = Mul(%/patch_merger/ConstantOfShape_41_output_0, %/patch_merger/Constant_236_output_0)\\n  %/patch_merger/Equal_41_output_0 = Equal(%/patch_merger/Constant_232_output_0, %/patch_merger/Mul_41_output_0)\\n  %/patch_merger/Where_41_output_0 = Where(%/patch_merger/Equal_41_output_0, %/patch_merger/ConstantOfShape_41_output_0, %/patch_merger/Constant_232_output_0)\\n  %/patch_merger/Expand_52_output_0 = Expand(%onnx::Expand_930, %/patch_merger/Where_41_output_0)\\n  %/patch_merger/Unsqueeze_41_output_0 = Unsqueeze[axes = [-1]](%/patch_merger/Expand_52_output_0)\\n  %/patch_merger/Constant_237_output_0 = Constant[value = <Tensor>]()\\n  %/patch_merger/ConstantOfShape_42_output_0 = ConstantOfShape[value = <Tensor>](%/patch_merger/Constant_237_output_0)\\n  %/patch_merger/Constant_238_output_0 = Constant[value = <Scalar Tensor []>]()\\n  %/patch_merger/Mul_42_output_0 = Mul(%/patch_merger/ConstantOfShape_42_output_0, %/patch_merger/Constant_238_output_0)\\n  %/patch_merger/Equal_42_output_0 = Equal(%/patch_merger/Constant_232_output_0, %/patch_merger/Mul_42_output_0)\\n  %/patch_merger/Where_42_output_0 = Where(%/patch_merger/Equal_42_output_0, %/patch_merger/ConstantOfShape_42_output_0, %/patch_merger/Constant_232_output_0)\\n  %/patch_merger/Expand_53_output_0 = Expand(%onnx::Expand_931, %/patch_merger/Where_42_output_0)\\n  %/patch_merger/Unsqueeze_42_output_0 = Unsqueeze[axes = [-1]](%/patch_merger/Expand_53_output_0)\\n  %/patch_merger/Constant_239_output_0 = Constant[value = <Tensor>]()\\n  %/patch_merger/ConstantOfShape_43_output_0 = ConstantOfShape[value = <Tensor>](%/patch_merger/Constant_239_output_0)\\n  %/patch_merger/Constant_240_output_0 = Constant[value = <Scalar Tensor []>]()\\n  %/patch_merger/Mul_43_output_0 = Mul(%/patch_merger/ConstantOfShape_43_output_0, %/patch_merger/Constant_240_output_0)\\n  %/patch_merger/Equal_43_output_0 = Equal(%/patch_merger/Constant_232_output_0, %/patch_merger/Mul_43_output_0)\\n  %/patch_merger/Where_43_output_0 = Where(%/patch_merger/Equal_43_output_0, %/patch_merger/ConstantOfShape_43_output_0, %/patch_merger/Constant_232_output_0)\\n  %/patch_merger/Expand_54_output_0 = Expand(%/patch_merger/Constant_231_output_0, %/patch_merger/Where_43_output_0)\\n  %/patch_merger/Unsqueeze_43_output_0 = Unsqueeze[axes = [-1]](%/patch_merger/Expand_54_output_0)\\n  %/patch_merger/Concat_18_output_0 = Concat[axis = -1](%/patch_merger/Unsqueeze_40_output_0, %/patch_merger/Unsqueeze_41_output_0, %/patch_merger/Unsqueeze_42_output_0, %/patch_merger/Unsqueeze_43_output_0)\\n  %/patch_merger/Shape_17_output_0 = Shape(%/patch_merger/ScatterND_7_output_0)\\n  %/patch_merger/Constant_241_output_0 = Constant[value = <Tensor>]()\\n  %/patch_merger/Constant_242_output_0 = Constant[value = <Tensor>]()\\n  %/patch_merger/Constant_243_output_0 = Constant[value = <Tensor>]()\\n  %/patch_merger/Slice_32_output_0 = Slice(%/patch_merger/Shape_17_output_0, %/patch_merger/Constant_242_output_0, %/patch_merger/Constant_243_output_0, %/patch_merger/Constant_241_output_0)\\n  %/patch_merger/Concat_19_output_0 = Concat[axis = 0](%/patch_merger/Constant_232_output_0, %/patch_merger/Slice_32_output_0)\\n  %/patch_merger/Reshape_10_output_0 = Reshape(%/patch_merger/Expand_50_output_0, %/patch_merger/Concat_19_output_0)\\n  %/patch_merger/ScatterND_10_output_0 = ScatterND(%/patch_merger/ScatterND_7_output_0, %/patch_merger/Concat_18_output_0, %/patch_merger/Reshape_10_output_0)\\n  %/patch_merger/Constant_244_output_0 = Constant[value = <Tensor>]()\\n  %/patch_merger/Constant_245_output_0 = Constant[value = <Tensor>]()\\n  %/patch_merger/Constant_246_output_0 = Constant[value = <Tensor>]()\\n  %/patch_merger/Constant_247_output_0 = Constant[value = <Tensor>]()\\n  %/patch_merger/Slice_33_output_0 = Slice(%/patch_merger/ScatterND_10_output_0, %/patch_merger/Constant_245_output_0, %/patch_merger/Constant_246_output_0, %/patch_merger/Constant_244_output_0, %/patch_merger/Constant_247_output_0)\\n  %/patch_merger/Constant_248_output_0 = Constant[value = <Tensor>]()\\n  %/patch_merger/Constant_249_output_0 = Constant[value = <Tensor>]()\\n  %/patch_merger/Constant_250_output_0 = Constant[value = <Tensor>]()\\n  %/patch_merger/Constant_251_output_0 = Constant[value = <Tensor>]()\\n  %/patch_merger/Slice_34_output_0 = Slice(%/patch_merger/Slice_33_output_0, %/patch_merger/Constant_249_output_0, %/patch_merger/Constant_250_output_0, %/patch_merger/Constant_248_output_0, %/patch_merger/Constant_251_output_0)\\n  %/patch_merger/Shape_18_output_0 = Shape(%/patch_merger/Slice_34_output_0)\\n  %/patch_merger/Expand_55_output_0 = Expand(%/patch_merger/Add_4_output_0, %/patch_merger/Shape_18_output_0)\\n  %/patch_merger/Constant_252_output_0 = Constant[value = <Tensor>]()\\n  %onnx::Expand_994 = Constant[value = <Tensor>]()\\n  %onnx::Expand_995 = Constant[value = <Tensor>]()\\n  %onnx::Expand_996 = Constant[value = <Tensor>]()\\n  %/patch_merger/Constant_253_output_0 = Constant[value = <Tensor>]()\\n  %/patch_merger/Constant_254_output_0 = Constant[value = <Tensor>]()\\n  %/patch_merger/ConstantOfShape_44_output_0 = ConstantOfShape[value = <Tensor>](%/patch_merger/Constant_254_output_0)\\n  %/patch_merger/Constant_255_output_0 = Constant[value = <Scalar Tensor []>]()\\n  %/patch_merger/Mul_44_output_0 = Mul(%/patch_merger/ConstantOfShape_44_output_0, %/patch_merger/Constant_255_output_0)\\n  %/patch_merger/Equal_44_output_0 = Equal(%/patch_merger/Constant_253_output_0, %/patch_merger/Mul_44_output_0)\\n  %/patch_merger/Where_44_output_0 = Where(%/patch_merger/Equal_44_output_0, %/patch_merger/ConstantOfShape_44_output_0, %/patch_merger/Constant_253_output_0)\\n  %/patch_merger/Expand_56_output_0 = Expand(%onnx::Expand_994, %/patch_merger/Where_44_output_0)\\n  %/patch_merger/Unsqueeze_44_output_0 = Unsqueeze[axes = [-1]](%/patch_merger/Expand_56_output_0)\\n  %/patch_merger/Constant_256_output_0 = Constant[value = <Tensor>]()\\n  %/patch_merger/ConstantOfShape_45_output_0 = ConstantOfShape[value = <Tensor>](%/patch_merger/Constant_256_output_0)\\n  %/patch_merger/Constant_257_output_0 = Constant[value = <Scalar Tensor []>]()\\n  %/patch_merger/Mul_45_output_0 = Mul(%/patch_merger/ConstantOfShape_45_output_0, %/patch_merger/Constant_257_output_0)\\n  %/patch_merger/Equal_45_output_0 = Equal(%/patch_merger/Constant_253_output_0, %/patch_merger/Mul_45_output_0)\\n  %/patch_merger/Where_45_output_0 = Where(%/patch_merger/Equal_45_output_0, %/patch_merger/ConstantOfShape_45_output_0, %/patch_merger/Constant_253_output_0)\\n  %/patch_merger/Expand_57_output_0 = Expand(%onnx::Expand_995, %/patch_merger/Where_45_output_0)\\n  %/patch_merger/Unsqueeze_45_output_0 = Unsqueeze[axes = [-1]](%/patch_merger/Expand_57_output_0)\\n  %/patch_merger/Constant_258_output_0 = Constant[value = <Tensor>]()\\n  %/patch_merger/ConstantOfShape_46_output_0 = ConstantOfShape[value = <Tensor>](%/patch_merger/Constant_258_output_0)\\n  %/patch_merger/Constant_259_output_0 = Constant[value = <Scalar Tensor []>]()\\n  %/patch_merger/Mul_46_output_0 = Mul(%/patch_merger/ConstantOfShape_46_output_0, %/patch_merger/Constant_259_output_0)\\n  %/patch_merger/Equal_46_output_0 = Equal(%/patch_merger/Constant_253_output_0, %/patch_merger/Mul_46_output_0)\\n  %/patch_merger/Where_46_output_0 = Where(%/patch_merger/Equal_46_output_0, %/patch_merger/ConstantOfShape_46_output_0, %/patch_merger/Constant_253_output_0)\\n  %/patch_merger/Expand_58_output_0 = Expand(%onnx::Expand_996, %/patch_merger/Where_46_output_0)\\n  %/patch_merger/Unsqueeze_46_output_0 = Unsqueeze[axes = [-1]](%/patch_merger/Expand_58_output_0)\\n  %/patch_merger/Constant_260_output_0 = Constant[value = <Tensor>]()\\n  %/patch_merger/ConstantOfShape_47_output_0 = ConstantOfShape[value = <Tensor>](%/patch_merger/Constant_260_output_0)\\n  %/patch_merger/Constant_261_output_0 = Constant[value = <Scalar Tensor []>]()\\n  %/patch_merger/Mul_47_output_0 = Mul(%/patch_merger/ConstantOfShape_47_output_0, %/patch_merger/Constant_261_output_0)\\n  %/patch_merger/Equal_47_output_0 = Equal(%/patch_merger/Constant_253_output_0, %/patch_merger/Mul_47_output_0)\\n  %/patch_merger/Where_47_output_0 = Where(%/patch_merger/Equal_47_output_0, %/patch_merger/ConstantOfShape_47_output_0, %/patch_merger/Constant_253_output_0)\\n  %/patch_merger/Expand_59_output_0 = Expand(%/patch_merger/Constant_252_output_0, %/patch_merger/Where_47_output_0)\\n  %/patch_merger/Unsqueeze_47_output_0 = Unsqueeze[axes = [-1]](%/patch_merger/Expand_59_output_0)\\n  %/patch_merger/Concat_20_output_0 = Concat[axis = -1](%/patch_merger/Unsqueeze_44_output_0, %/patch_merger/Unsqueeze_45_output_0, %/patch_merger/Unsqueeze_46_output_0, %/patch_merger/Unsqueeze_47_output_0)\\n  %/patch_merger/Shape_19_output_0 = Shape(%/patch_merger/ScatterND_10_output_0)\\n  %/patch_merger/Constant_262_output_0 = Constant[value = <Tensor>]()\\n  %/patch_merger/Constant_263_output_0 = Constant[value = <Tensor>]()\\n  %/patch_merger/Constant_264_output_0 = Constant[value = <Tensor>]()\\n  %/patch_merger/Slice_35_output_0 = Slice(%/patch_merger/Shape_19_output_0, %/patch_merger/Constant_263_output_0, %/patch_merger/Constant_264_output_0, %/patch_merger/Constant_262_output_0)\\n  %/patch_merger/Concat_21_output_0 = Concat[axis = 0](%/patch_merger/Constant_253_output_0, %/patch_merger/Slice_35_output_0)\\n  %/patch_merger/Reshape_11_output_0 = Reshape(%/patch_merger/Expand_55_output_0, %/patch_merger/Concat_21_output_0)\\n  %/patch_merger/ScatterND_11_output_0 = ScatterND(%/patch_merger/ScatterND_10_output_0, %/patch_merger/Concat_20_output_0, %/patch_merger/Reshape_11_output_0)\\n  %/patch_merger/Gather_3_output_0 = Gather[axis = 1](%/Reshape_1_output_0, %/patch_maker/Constant_1_output_0)\\n  %/patch_merger/Constant_265_output_0 = Constant[value = <Tensor>]()\\n  %/patch_merger/Constant_266_output_0 = Constant[value = <Tensor>]()\\n  %/patch_merger/Constant_267_output_0 = Constant[value = <Tensor>]()\\n  %/patch_merger/Constant_268_output_0 = Constant[value = <Tensor>]()\\n  %/patch_merger/Slice_36_output_0 = Slice(%/patch_merger/ScatterND_9_output_0, %/patch_merger/Constant_266_output_0, %/patch_merger/Constant_267_output_0, %/patch_merger/Constant_265_output_0, %/patch_merger/Constant_268_output_0)\\n  %/patch_merger/Constant_269_output_0 = Constant[value = <Tensor>]()\\n  %/patch_merger/Constant_270_output_0 = Constant[value = <Tensor>]()\\n  %/patch_merger/Constant_271_output_0 = Constant[value = <Tensor>]()\\n  %/patch_merger/Constant_272_output_0 = Constant[value = <Tensor>]()\\n  %/patch_merger/Slice_37_output_0 = Slice(%/patch_merger/Slice_36_output_0, %/patch_merger/Constant_270_output_0, %/patch_merger/Constant_271_output_0, %/patch_merger/Constant_269_output_0, %/patch_merger/Constant_272_output_0)\\n  %/patch_merger/Constant_273_output_0 = Constant[value = <Tensor>]()\\n  %/patch_merger/Constant_274_output_0 = Constant[value = <Tensor>]()\\n  %/patch_merger/Constant_275_output_0 = Constant[value = <Tensor>]()\\n  %/patch_merger/Constant_276_output_0 = Constant[value = <Tensor>]()\\n  %/patch_merger/Slice_38_output_0 = Slice(%/patch_merger/Gather_3_output_0, %/patch_merger/Constant_274_output_0, %/patch_merger/Constant_275_output_0, %/patch_merger/Constant_273_output_0, %/patch_merger/Constant_276_output_0)\\n  %/patch_merger/Constant_277_output_0 = Constant[value = <Tensor>]()\\n  %/patch_merger/Constant_278_output_0 = Constant[value = <Tensor>]()\\n  %/patch_merger/Constant_279_output_0 = Constant[value = <Tensor>]()\\n  %/patch_merger/Constant_280_output_0 = Constant[value = <Tensor>]()\\n  %/patch_merger/Slice_39_output_0 = Slice(%/patch_merger/Slice_38_output_0, %/patch_merger/Constant_278_output_0, %/patch_merger/Constant_279_output_0, %/patch_merger/Constant_277_output_0, %/patch_merger/Constant_280_output_0)\\n  %/patch_merger/Add_5_output_0 = Add(%/patch_merger/Slice_37_output_0, %/patch_merger/Slice_39_output_0)\\n  %/patch_merger/Shape_20_output_0 = Shape(%/patch_merger/Slice_37_output_0)\\n  %/patch_merger/Expand_60_output_0 = Expand(%/patch_merger/Add_5_output_0, %/patch_merger/Shape_20_output_0)\\n  %/patch_merger/Constant_281_output_0 = Constant[value = <Tensor>]()\\n  %onnx::Expand_1071 = Constant[value = <Tensor>]()\\n  %onnx::Expand_1072 = Constant[value = <Tensor>]()\\n  %onnx::Expand_1073 = Constant[value = <Tensor>]()\\n  %/patch_merger/Constant_282_output_0 = Constant[value = <Tensor>]()\\n  %/patch_merger/Constant_283_output_0 = Constant[value = <Tensor>]()\\n  %/patch_merger/ConstantOfShape_48_output_0 = ConstantOfShape[value = <Tensor>](%/patch_merger/Constant_283_output_0)\\n  %/patch_merger/Constant_284_output_0 = Constant[value = <Scalar Tensor []>]()\\n  %/patch_merger/Mul_48_output_0 = Mul(%/patch_merger/ConstantOfShape_48_output_0, %/patch_merger/Constant_284_output_0)\\n  %/patch_merger/Equal_48_output_0 = Equal(%/patch_merger/Constant_282_output_0, %/patch_merger/Mul_48_output_0)\\n  %/patch_merger/Where_48_output_0 = Where(%/patch_merger/Equal_48_output_0, %/patch_merger/ConstantOfShape_48_output_0, %/patch_merger/Constant_282_output_0)\\n  %/patch_merger/Expand_61_output_0 = Expand(%onnx::Expand_1071, %/patch_merger/Where_48_output_0)\\n  %/patch_merger/Unsqueeze_48_output_0 = Unsqueeze[axes = [-1]](%/patch_merger/Expand_61_output_0)\\n  %/patch_merger/Constant_285_output_0 = Constant[value = <Tensor>]()\\n  %/patch_merger/ConstantOfShape_49_output_0 = ConstantOfShape[value = <Tensor>](%/patch_merger/Constant_285_output_0)\\n  %/patch_merger/Constant_286_output_0 = Constant[value = <Scalar Tensor []>]()\\n  %/patch_merger/Mul_49_output_0 = Mul(%/patch_merger/ConstantOfShape_49_output_0, %/patch_merger/Constant_286_output_0)\\n  %/patch_merger/Equal_49_output_0 = Equal(%/patch_merger/Constant_282_output_0, %/patch_merger/Mul_49_output_0)\\n  %/patch_merger/Where_49_output_0 = Where(%/patch_merger/Equal_49_output_0, %/patch_merger/ConstantOfShape_49_output_0, %/patch_merger/Constant_282_output_0)\\n  %/patch_merger/Expand_62_output_0 = Expand(%onnx::Expand_1072, %/patch_merger/Where_49_output_0)\\n  %/patch_merger/Unsqueeze_49_output_0 = Unsqueeze[axes = [-1]](%/patch_merger/Expand_62_output_0)\\n  %/patch_merger/Constant_287_output_0 = Constant[value = <Tensor>]()\\n  %/patch_merger/ConstantOfShape_50_output_0 = ConstantOfShape[value = <Tensor>](%/patch_merger/Constant_287_output_0)\\n  %/patch_merger/Constant_288_output_0 = Constant[value = <Scalar Tensor []>]()\\n  %/patch_merger/Mul_50_output_0 = Mul(%/patch_merger/ConstantOfShape_50_output_0, %/patch_merger/Constant_288_output_0)\\n  %/patch_merger/Equal_50_output_0 = Equal(%/patch_merger/Constant_282_output_0, %/patch_merger/Mul_50_output_0)\\n  %/patch_merger/Where_50_output_0 = Where(%/patch_merger/Equal_50_output_0, %/patch_merger/ConstantOfShape_50_output_0, %/patch_merger/Constant_282_output_0)\\n  %/patch_merger/Expand_63_output_0 = Expand(%onnx::Expand_1073, %/patch_merger/Where_50_output_0)\\n  %/patch_merger/Unsqueeze_50_output_0 = Unsqueeze[axes = [-1]](%/patch_merger/Expand_63_output_0)\\n  %/patch_merger/Constant_289_output_0 = Constant[value = <Tensor>]()\\n  %/patch_merger/ConstantOfShape_51_output_0 = ConstantOfShape[value = <Tensor>](%/patch_merger/Constant_289_output_0)\\n  %/patch_merger/Constant_290_output_0 = Constant[value = <Scalar Tensor []>]()\\n  %/patch_merger/Mul_51_output_0 = Mul(%/patch_merger/ConstantOfShape_51_output_0, %/patch_merger/Constant_290_output_0)\\n  %/patch_merger/Equal_51_output_0 = Equal(%/patch_merger/Constant_282_output_0, %/patch_merger/Mul_51_output_0)\\n  %/patch_merger/Where_51_output_0 = Where(%/patch_merger/Equal_51_output_0, %/patch_merger/ConstantOfShape_51_output_0, %/patch_merger/Constant_282_output_0)\\n  %/patch_merger/Expand_64_output_0 = Expand(%/patch_merger/Constant_281_output_0, %/patch_merger/Where_51_output_0)\\n  %/patch_merger/Unsqueeze_51_output_0 = Unsqueeze[axes = [-1]](%/patch_merger/Expand_64_output_0)\\n  %/patch_merger/Concat_22_output_0 = Concat[axis = -1](%/patch_merger/Unsqueeze_48_output_0, %/patch_merger/Unsqueeze_49_output_0, %/patch_merger/Unsqueeze_50_output_0, %/patch_merger/Unsqueeze_51_output_0)\\n  %/patch_merger/Shape_21_output_0 = Shape(%/patch_merger/ScatterND_9_output_0)\\n  %/patch_merger/Constant_291_output_0 = Constant[value = <Tensor>]()\\n  %/patch_merger/Constant_292_output_0 = Constant[value = <Tensor>]()\\n  %/patch_merger/Constant_293_output_0 = Constant[value = <Tensor>]()\\n  %/patch_merger/Slice_40_output_0 = Slice(%/patch_merger/Shape_21_output_0, %/patch_merger/Constant_292_output_0, %/patch_merger/Constant_293_output_0, %/patch_merger/Constant_291_output_0)\\n  %/patch_merger/Concat_23_output_0 = Concat[axis = 0](%/patch_merger/Constant_282_output_0, %/patch_merger/Slice_40_output_0)\\n  %/patch_merger/Reshape_12_output_0 = Reshape(%/patch_merger/Expand_60_output_0, %/patch_merger/Concat_23_output_0)\\n  %/patch_merger/ScatterND_12_output_0 = ScatterND(%/patch_merger/ScatterND_9_output_0, %/patch_merger/Concat_22_output_0, %/patch_merger/Reshape_12_output_0)\\n  %/patch_merger/Constant_294_output_0 = Constant[value = <Tensor>]()\\n  %/patch_merger/Constant_295_output_0 = Constant[value = <Tensor>]()\\n  %/patch_merger/Constant_296_output_0 = Constant[value = <Tensor>]()\\n  %/patch_merger/Constant_297_output_0 = Constant[value = <Tensor>]()\\n  %/patch_merger/Slice_41_output_0 = Slice(%/patch_merger/ScatterND_12_output_0, %/patch_merger/Constant_295_output_0, %/patch_merger/Constant_296_output_0, %/patch_merger/Constant_294_output_0, %/patch_merger/Constant_297_output_0)\\n  %/patch_merger/Constant_298_output_0 = Constant[value = <Tensor>]()\\n  %/patch_merger/Constant_299_output_0 = Constant[value = <Tensor>]()\\n  %/patch_merger/Constant_300_output_0 = Constant[value = <Tensor>]()\\n  %/patch_merger/Constant_301_output_0 = Constant[value = <Tensor>]()\\n  %/patch_merger/Slice_42_output_0 = Slice(%/patch_merger/Slice_41_output_0, %/patch_merger/Constant_299_output_0, %/patch_merger/Constant_300_output_0, %/patch_merger/Constant_298_output_0, %/patch_merger/Constant_301_output_0)\\n  %/patch_merger/Shape_22_output_0 = Shape(%/patch_merger/Slice_42_output_0)\\n  %/patch_merger/Expand_65_output_0 = Expand(%/patch_merger/Add_5_output_0, %/patch_merger/Shape_22_output_0)\\n  %/patch_merger/Constant_302_output_0 = Constant[value = <Tensor>]()\\n  %onnx::Expand_1136 = Constant[value = <Tensor>]()\\n  %onnx::Expand_1137 = Constant[value = <Tensor>]()\\n  %onnx::Expand_1138 = Constant[value = <Tensor>]()\\n  %/patch_merger/Constant_303_output_0 = Constant[value = <Tensor>]()\\n  %/patch_merger/Constant_304_output_0 = Constant[value = <Tensor>]()\\n  %/patch_merger/ConstantOfShape_52_output_0 = ConstantOfShape[value = <Tensor>](%/patch_merger/Constant_304_output_0)\\n  %/patch_merger/Constant_305_output_0 = Constant[value = <Scalar Tensor []>]()\\n  %/patch_merger/Mul_52_output_0 = Mul(%/patch_merger/ConstantOfShape_52_output_0, %/patch_merger/Constant_305_output_0)\\n  %/patch_merger/Equal_52_output_0 = Equal(%/patch_merger/Constant_303_output_0, %/patch_merger/Mul_52_output_0)\\n  %/patch_merger/Where_52_output_0 = Where(%/patch_merger/Equal_52_output_0, %/patch_merger/ConstantOfShape_52_output_0, %/patch_merger/Constant_303_output_0)\\n  %/patch_merger/Expand_66_output_0 = Expand(%onnx::Expand_1136, %/patch_merger/Where_52_output_0)\\n  %/patch_merger/Unsqueeze_52_output_0 = Unsqueeze[axes = [-1]](%/patch_merger/Expand_66_output_0)\\n  %/patch_merger/Constant_306_output_0 = Constant[value = <Tensor>]()\\n  %/patch_merger/ConstantOfShape_53_output_0 = ConstantOfShape[value = <Tensor>](%/patch_merger/Constant_306_output_0)\\n  %/patch_merger/Constant_307_output_0 = Constant[value = <Scalar Tensor []>]()\\n  %/patch_merger/Mul_53_output_0 = Mul(%/patch_merger/ConstantOfShape_53_output_0, %/patch_merger/Constant_307_output_0)\\n  %/patch_merger/Equal_53_output_0 = Equal(%/patch_merger/Constant_303_output_0, %/patch_merger/Mul_53_output_0)\\n  %/patch_merger/Where_53_output_0 = Where(%/patch_merger/Equal_53_output_0, %/patch_merger/ConstantOfShape_53_output_0, %/patch_merger/Constant_303_output_0)\\n  %/patch_merger/Expand_67_output_0 = Expand(%onnx::Expand_1137, %/patch_merger/Where_53_output_0)\\n  %/patch_merger/Unsqueeze_53_output_0 = Unsqueeze[axes = [-1]](%/patch_merger/Expand_67_output_0)\\n  %/patch_merger/Constant_308_output_0 = Constant[value = <Tensor>]()\\n  %/patch_merger/ConstantOfShape_54_output_0 = ConstantOfShape[value = <Tensor>](%/patch_merger/Constant_308_output_0)\\n  %/patch_merger/Constant_309_output_0 = Constant[value = <Scalar Tensor []>]()\\n  %/patch_merger/Mul_54_output_0 = Mul(%/patch_merger/ConstantOfShape_54_output_0, %/patch_merger/Constant_309_output_0)\\n  %/patch_merger/Equal_54_output_0 = Equal(%/patch_merger/Constant_303_output_0, %/patch_merger/Mul_54_output_0)\\n  %/patch_merger/Where_54_output_0 = Where(%/patch_merger/Equal_54_output_0, %/patch_merger/ConstantOfShape_54_output_0, %/patch_merger/Constant_303_output_0)\\n  %/patch_merger/Expand_68_output_0 = Expand(%onnx::Expand_1138, %/patch_merger/Where_54_output_0)\\n  %/patch_merger/Unsqueeze_54_output_0 = Unsqueeze[axes = [-1]](%/patch_merger/Expand_68_output_0)\\n  %/patch_merger/Constant_310_output_0 = Constant[value = <Tensor>]()\\n  %/patch_merger/ConstantOfShape_55_output_0 = ConstantOfShape[value = <Tensor>](%/patch_merger/Constant_310_output_0)\\n  %/patch_merger/Constant_311_output_0 = Constant[value = <Scalar Tensor []>]()\\n  %/patch_merger/Mul_55_output_0 = Mul(%/patch_merger/ConstantOfShape_55_output_0, %/patch_merger/Constant_311_output_0)\\n  %/patch_merger/Equal_55_output_0 = Equal(%/patch_merger/Constant_303_output_0, %/patch_merger/Mul_55_output_0)\\n  %/patch_merger/Where_55_output_0 = Where(%/patch_merger/Equal_55_output_0, %/patch_merger/ConstantOfShape_55_output_0, %/patch_merger/Constant_303_output_0)\\n  %/patch_merger/Expand_69_output_0 = Expand(%/patch_merger/Constant_302_output_0, %/patch_merger/Where_55_output_0)\\n  %/patch_merger/Unsqueeze_55_output_0 = Unsqueeze[axes = [-1]](%/patch_merger/Expand_69_output_0)\\n  %/patch_merger/Concat_24_output_0 = Concat[axis = -1](%/patch_merger/Unsqueeze_52_output_0, %/patch_merger/Unsqueeze_53_output_0, %/patch_merger/Unsqueeze_54_output_0, %/patch_merger/Unsqueeze_55_output_0)\\n  %/patch_merger/Shape_23_output_0 = Shape(%/patch_merger/ScatterND_12_output_0)\\n  %/patch_merger/Constant_312_output_0 = Constant[value = <Tensor>]()\\n  %/patch_merger/Constant_313_output_0 = Constant[value = <Tensor>]()\\n  %/patch_merger/Constant_314_output_0 = Constant[value = <Tensor>]()\\n  %/patch_merger/Slice_43_output_0 = Slice(%/patch_merger/Shape_23_output_0, %/patch_merger/Constant_313_output_0, %/patch_merger/Constant_314_output_0, %/patch_merger/Constant_312_output_0)\\n  %/patch_merger/Concat_25_output_0 = Concat[axis = 0](%/patch_merger/Constant_303_output_0, %/patch_merger/Slice_43_output_0)\\n  %/patch_merger/Reshape_13_output_0 = Reshape(%/patch_merger/Expand_65_output_0, %/patch_merger/Concat_25_output_0)\\n  %/patch_merger/ScatterND_13_output_0 = ScatterND(%/patch_merger/ScatterND_12_output_0, %/patch_merger/Concat_24_output_0, %/patch_merger/Reshape_13_output_0)\\n  %/patch_merger/Constant_315_output_0 = Constant[value = <Tensor>]()\\n  %/patch_merger/Constant_316_output_0 = Constant[value = <Tensor>]()\\n  %/patch_merger/Constant_317_output_0 = Constant[value = <Tensor>]()\\n  %/patch_merger/Constant_318_output_0 = Constant[value = <Tensor>]()\\n  %/patch_merger/Slice_44_output_0 = Slice(%/patch_merger/ScatterND_11_output_0, %/patch_merger/Constant_316_output_0, %/patch_merger/Constant_317_output_0, %/patch_merger/Constant_315_output_0, %/patch_merger/Constant_318_output_0)\\n  %/patch_merger/Constant_319_output_0 = Constant[value = <Tensor>]()\\n  %/patch_merger/Constant_320_output_0 = Constant[value = <Tensor>]()\\n  %/patch_merger/Constant_321_output_0 = Constant[value = <Tensor>]()\\n  %/patch_merger/Constant_322_output_0 = Constant[value = <Tensor>]()\\n  %/patch_merger/Slice_45_output_0 = Slice(%/patch_merger/Slice_44_output_0, %/patch_merger/Constant_320_output_0, %/patch_merger/Constant_321_output_0, %/patch_merger/Constant_319_output_0, %/patch_merger/Constant_322_output_0)\\n  %/patch_merger/Constant_323_output_0 = Constant[value = <Scalar Tensor []>]()\\n  %/patch_merger/Add_6_output_0 = Add(%/patch_merger/Slice_45_output_0, %/patch_merger/Constant_323_output_0)\\n  %/patch_merger/Shape_24_output_0 = Shape(%/patch_merger/Slice_45_output_0)\\n  %/patch_merger/Expand_70_output_0 = Expand(%/patch_merger/Add_6_output_0, %/patch_merger/Shape_24_output_0)\\n  %/patch_merger/Constant_324_output_0 = Constant[value = <Tensor>]()\\n  %onnx::Expand_1203 = Constant[value = <Tensor>]()\\n  %onnx::Expand_1204 = Constant[value = <Tensor>]()\\n  %onnx::Expand_1205 = Constant[value = <Tensor>]()\\n  %/patch_merger/Constant_325_output_0 = Constant[value = <Tensor>]()\\n  %/patch_merger/Constant_326_output_0 = Constant[value = <Tensor>]()\\n  %/patch_merger/ConstantOfShape_56_output_0 = ConstantOfShape[value = <Tensor>](%/patch_merger/Constant_326_output_0)\\n  %/patch_merger/Constant_327_output_0 = Constant[value = <Scalar Tensor []>]()\\n  %/patch_merger/Mul_56_output_0 = Mul(%/patch_merger/ConstantOfShape_56_output_0, %/patch_merger/Constant_327_output_0)\\n  %/patch_merger/Equal_56_output_0 = Equal(%/patch_merger/Constant_325_output_0, %/patch_merger/Mul_56_output_0)\\n  %/patch_merger/Where_56_output_0 = Where(%/patch_merger/Equal_56_output_0, %/patch_merger/ConstantOfShape_56_output_0, %/patch_merger/Constant_325_output_0)\\n  %/patch_merger/Expand_71_output_0 = Expand(%onnx::Expand_1203, %/patch_merger/Where_56_output_0)\\n  %/patch_merger/Unsqueeze_56_output_0 = Unsqueeze[axes = [-1]](%/patch_merger/Expand_71_output_0)\\n  %/patch_merger/Constant_328_output_0 = Constant[value = <Tensor>]()\\n  %/patch_merger/ConstantOfShape_57_output_0 = ConstantOfShape[value = <Tensor>](%/patch_merger/Constant_328_output_0)\\n  %/patch_merger/Constant_329_output_0 = Constant[value = <Scalar Tensor []>]()\\n  %/patch_merger/Mul_57_output_0 = Mul(%/patch_merger/ConstantOfShape_57_output_0, %/patch_merger/Constant_329_output_0)\\n  %/patch_merger/Equal_57_output_0 = Equal(%/patch_merger/Constant_325_output_0, %/patch_merger/Mul_57_output_0)\\n  %/patch_merger/Where_57_output_0 = Where(%/patch_merger/Equal_57_output_0, %/patch_merger/ConstantOfShape_57_output_0, %/patch_merger/Constant_325_output_0)\\n  %/patch_merger/Expand_72_output_0 = Expand(%onnx::Expand_1204, %/patch_merger/Where_57_output_0)\\n  %/patch_merger/Unsqueeze_57_output_0 = Unsqueeze[axes = [-1]](%/patch_merger/Expand_72_output_0)\\n  %/patch_merger/Constant_330_output_0 = Constant[value = <Tensor>]()\\n  %/patch_merger/ConstantOfShape_58_output_0 = ConstantOfShape[value = <Tensor>](%/patch_merger/Constant_330_output_0)\\n  %/patch_merger/Constant_331_output_0 = Constant[value = <Scalar Tensor []>]()\\n  %/patch_merger/Mul_58_output_0 = Mul(%/patch_merger/ConstantOfShape_58_output_0, %/patch_merger/Constant_331_output_0)\\n  %/patch_merger/Equal_58_output_0 = Equal(%/patch_merger/Constant_325_output_0, %/patch_merger/Mul_58_output_0)\\n  %/patch_merger/Where_58_output_0 = Where(%/patch_merger/Equal_58_output_0, %/patch_merger/ConstantOfShape_58_output_0, %/patch_merger/Constant_325_output_0)\\n  %/patch_merger/Expand_73_output_0 = Expand(%onnx::Expand_1205, %/patch_merger/Where_58_output_0)\\n  %/patch_merger/Unsqueeze_58_output_0 = Unsqueeze[axes = [-1]](%/patch_merger/Expand_73_output_0)\\n  %/patch_merger/Constant_332_output_0 = Constant[value = <Tensor>]()\\n  %/patch_merger/ConstantOfShape_59_output_0 = ConstantOfShape[value = <Tensor>](%/patch_merger/Constant_332_output_0)\\n  %/patch_merger/Constant_333_output_0 = Constant[value = <Scalar Tensor []>]()\\n  %/patch_merger/Mul_59_output_0 = Mul(%/patch_merger/ConstantOfShape_59_output_0, %/patch_merger/Constant_333_output_0)\\n  %/patch_merger/Equal_59_output_0 = Equal(%/patch_merger/Constant_325_output_0, %/patch_merger/Mul_59_output_0)\\n  %/patch_merger/Where_59_output_0 = Where(%/patch_merger/Equal_59_output_0, %/patch_merger/ConstantOfShape_59_output_0, %/patch_merger/Constant_325_output_0)\\n  %/patch_merger/Expand_74_output_0 = Expand(%/patch_merger/Constant_324_output_0, %/patch_merger/Where_59_output_0)\\n  %/patch_merger/Unsqueeze_59_output_0 = Unsqueeze[axes = [-1]](%/patch_merger/Expand_74_output_0)\\n  %/patch_merger/Concat_26_output_0 = Concat[axis = -1](%/patch_merger/Unsqueeze_56_output_0, %/patch_merger/Unsqueeze_57_output_0, %/patch_merger/Unsqueeze_58_output_0, %/patch_merger/Unsqueeze_59_output_0)\\n  %/patch_merger/Shape_25_output_0 = Shape(%/patch_merger/ScatterND_11_output_0)\\n  %/patch_merger/Constant_334_output_0 = Constant[value = <Tensor>]()\\n  %/patch_merger/Constant_335_output_0 = Constant[value = <Tensor>]()\\n  %/patch_merger/Constant_336_output_0 = Constant[value = <Tensor>]()\\n  %/patch_merger/Slice_46_output_0 = Slice(%/patch_merger/Shape_25_output_0, %/patch_merger/Constant_335_output_0, %/patch_merger/Constant_336_output_0, %/patch_merger/Constant_334_output_0)\\n  %/patch_merger/Concat_27_output_0 = Concat[axis = 0](%/patch_merger/Constant_325_output_0, %/patch_merger/Slice_46_output_0)\\n  %/patch_merger/Reshape_14_output_0 = Reshape(%/patch_merger/Expand_70_output_0, %/patch_merger/Concat_27_output_0)\\n  %/patch_merger/ScatterND_14_output_0 = ScatterND(%/patch_merger/ScatterND_11_output_0, %/patch_merger/Concat_26_output_0, %/patch_merger/Reshape_14_output_0)\\n  %/patch_merger/Constant_337_output_0 = Constant[value = <Tensor>]()\\n  %/patch_merger/Constant_338_output_0 = Constant[value = <Tensor>]()\\n  %/patch_merger/Constant_339_output_0 = Constant[value = <Tensor>]()\\n  %/patch_merger/Constant_340_output_0 = Constant[value = <Tensor>]()\\n  %/patch_merger/Slice_47_output_0 = Slice(%/patch_merger/ScatterND_14_output_0, %/patch_merger/Constant_338_output_0, %/patch_merger/Constant_339_output_0, %/patch_merger/Constant_337_output_0, %/patch_merger/Constant_340_output_0)\\n  %/patch_merger/Constant_341_output_0 = Constant[value = <Tensor>]()\\n  %/patch_merger/Constant_342_output_0 = Constant[value = <Tensor>]()\\n  %/patch_merger/Constant_343_output_0 = Constant[value = <Tensor>]()\\n  %/patch_merger/Constant_344_output_0 = Constant[value = <Tensor>]()\\n  %/patch_merger/Slice_48_output_0 = Slice(%/patch_merger/Slice_47_output_0, %/patch_merger/Constant_342_output_0, %/patch_merger/Constant_343_output_0, %/patch_merger/Constant_341_output_0, %/patch_merger/Constant_344_output_0)\\n  %/patch_merger/Shape_26_output_0 = Shape(%/patch_merger/Slice_48_output_0)\\n  %/patch_merger/Expand_75_output_0 = Expand(%/patch_merger/Add_6_output_0, %/patch_merger/Shape_26_output_0)\\n  %/patch_merger/Constant_345_output_0 = Constant[value = <Tensor>]()\\n  %onnx::Expand_1268 = Constant[value = <Tensor>]()\\n  %onnx::Expand_1269 = Constant[value = <Tensor>]()\\n  %onnx::Expand_1270 = Constant[value = <Tensor>]()\\n  %/patch_merger/Constant_346_output_0 = Constant[value = <Tensor>]()\\n  %/patch_merger/Constant_347_output_0 = Constant[value = <Tensor>]()\\n  %/patch_merger/ConstantOfShape_60_output_0 = ConstantOfShape[value = <Tensor>](%/patch_merger/Constant_347_output_0)\\n  %/patch_merger/Constant_348_output_0 = Constant[value = <Scalar Tensor []>]()\\n  %/patch_merger/Mul_60_output_0 = Mul(%/patch_merger/ConstantOfShape_60_output_0, %/patch_merger/Constant_348_output_0)\\n  %/patch_merger/Equal_60_output_0 = Equal(%/patch_merger/Constant_346_output_0, %/patch_merger/Mul_60_output_0)\\n  %/patch_merger/Where_60_output_0 = Where(%/patch_merger/Equal_60_output_0, %/patch_merger/ConstantOfShape_60_output_0, %/patch_merger/Constant_346_output_0)\\n  %/patch_merger/Expand_76_output_0 = Expand(%onnx::Expand_1268, %/patch_merger/Where_60_output_0)\\n  %/patch_merger/Unsqueeze_60_output_0 = Unsqueeze[axes = [-1]](%/patch_merger/Expand_76_output_0)\\n  %/patch_merger/Constant_349_output_0 = Constant[value = <Tensor>]()\\n  %/patch_merger/ConstantOfShape_61_output_0 = ConstantOfShape[value = <Tensor>](%/patch_merger/Constant_349_output_0)\\n  %/patch_merger/Constant_350_output_0 = Constant[value = <Scalar Tensor []>]()\\n  %/patch_merger/Mul_61_output_0 = Mul(%/patch_merger/ConstantOfShape_61_output_0, %/patch_merger/Constant_350_output_0)\\n  %/patch_merger/Equal_61_output_0 = Equal(%/patch_merger/Constant_346_output_0, %/patch_merger/Mul_61_output_0)\\n  %/patch_merger/Where_61_output_0 = Where(%/patch_merger/Equal_61_output_0, %/patch_merger/ConstantOfShape_61_output_0, %/patch_merger/Constant_346_output_0)\\n  %/patch_merger/Expand_77_output_0 = Expand(%onnx::Expand_1269, %/patch_merger/Where_61_output_0)\\n  %/patch_merger/Unsqueeze_61_output_0 = Unsqueeze[axes = [-1]](%/patch_merger/Expand_77_output_0)\\n  %/patch_merger/Constant_351_output_0 = Constant[value = <Tensor>]()\\n  %/patch_merger/ConstantOfShape_62_output_0 = ConstantOfShape[value = <Tensor>](%/patch_merger/Constant_351_output_0)\\n  %/patch_merger/Constant_352_output_0 = Constant[value = <Scalar Tensor []>]()\\n  %/patch_merger/Mul_62_output_0 = Mul(%/patch_merger/ConstantOfShape_62_output_0, %/patch_merger/Constant_352_output_0)\\n  %/patch_merger/Equal_62_output_0 = Equal(%/patch_merger/Constant_346_output_0, %/patch_merger/Mul_62_output_0)\\n  %/patch_merger/Where_62_output_0 = Where(%/patch_merger/Equal_62_output_0, %/patch_merger/ConstantOfShape_62_output_0, %/patch_merger/Constant_346_output_0)\\n  %/patch_merger/Expand_78_output_0 = Expand(%onnx::Expand_1270, %/patch_merger/Where_62_output_0)\\n  %/patch_merger/Unsqueeze_62_output_0 = Unsqueeze[axes = [-1]](%/patch_merger/Expand_78_output_0)\\n  %/patch_merger/Constant_353_output_0 = Constant[value = <Tensor>]()\\n  %/patch_merger/ConstantOfShape_63_output_0 = ConstantOfShape[value = <Tensor>](%/patch_merger/Constant_353_output_0)\\n  %/patch_merger/Constant_354_output_0 = Constant[value = <Scalar Tensor []>]()\\n  %/patch_merger/Mul_63_output_0 = Mul(%/patch_merger/ConstantOfShape_63_output_0, %/patch_merger/Constant_354_output_0)\\n  %/patch_merger/Equal_63_output_0 = Equal(%/patch_merger/Constant_346_output_0, %/patch_merger/Mul_63_output_0)\\n  %/patch_merger/Where_63_output_0 = Where(%/patch_merger/Equal_63_output_0, %/patch_merger/ConstantOfShape_63_output_0, %/patch_merger/Constant_346_output_0)\\n  %/patch_merger/Expand_79_output_0 = Expand(%/patch_merger/Constant_345_output_0, %/patch_merger/Where_63_output_0)\\n  %/patch_merger/Unsqueeze_63_output_0 = Unsqueeze[axes = [-1]](%/patch_merger/Expand_79_output_0)\\n  %/patch_merger/Concat_28_output_0 = Concat[axis = -1](%/patch_merger/Unsqueeze_60_output_0, %/patch_merger/Unsqueeze_61_output_0, %/patch_merger/Unsqueeze_62_output_0, %/patch_merger/Unsqueeze_63_output_0)\\n  %/patch_merger/Shape_27_output_0 = Shape(%/patch_merger/ScatterND_14_output_0)\\n  %/patch_merger/Constant_355_output_0 = Constant[value = <Tensor>]()\\n  %/patch_merger/Constant_356_output_0 = Constant[value = <Tensor>]()\\n  %/patch_merger/Constant_357_output_0 = Constant[value = <Tensor>]()\\n  %/patch_merger/Slice_49_output_0 = Slice(%/patch_merger/Shape_27_output_0, %/patch_merger/Constant_356_output_0, %/patch_merger/Constant_357_output_0, %/patch_merger/Constant_355_output_0)\\n  %/patch_merger/Concat_29_output_0 = Concat[axis = 0](%/patch_merger/Constant_346_output_0, %/patch_merger/Slice_49_output_0)\\n  %/patch_merger/Reshape_15_output_0 = Reshape(%/patch_merger/Expand_75_output_0, %/patch_merger/Concat_29_output_0)\\n  %/patch_merger/ScatterND_15_output_0 = ScatterND(%/patch_merger/ScatterND_14_output_0, %/patch_merger/Concat_28_output_0, %/patch_merger/Reshape_15_output_0)\\n  %/patch_merger/Constant_358_output_0 = Constant[value = <Scalar Tensor []>]()\\n  %/patch_merger/Add_7_output_0 = Add(%/patch_merger/ScatterND_15_output_0, %/patch_merger/Constant_358_output_0)\\n  %output = Div(%/patch_merger/ScatterND_13_output_0, %/patch_merger/Add_7_output_0)\\n  return %output\\n}'"
      ]
     },
     "execution_count": 23,
     "metadata": {},
     "output_type": "execute_result"
    }
   ],
   "source": [
    "# Print a human readable representation of the graph\n",
    "onnx.helper.printable_graph(onnx_model.graph)\n"
   ]
  },
  {
   "cell_type": "code",
   "execution_count": null,
   "id": "7bb4b07e",
   "metadata": {},
   "outputs": [],
   "source": [
    "\n",
    "# Load the ONNX model as a PyTorch model\n",
    "ort_session = onnxruntime.InferenceSession(\"optimized_patch_network.onnx\")\n",
    "\n",
    "# Prepare the input data\n",
    "input_data = np.random.random(size=(1, 1, 300, 300)).astype(np.float32)\n",
    "\n",
    "# Run the model with ONNX Runtime\n",
    "ort_inputs = {ort_session.get_inputs()[0].name: input_data}\n",
    "ort_outs = ort_session.run(None, ort_inputs)\n",
    "ort_outs[0].shape\n",
    "# Compare the ONNX and PyTorch results\n",
    "#np.testing.assert_allclose(ort_outs[0], output.detach().numpy(), rtol=1e-03, atol=1e-05)\n"
   ]
  },
  {
   "cell_type": "code",
   "execution_count": 29,
   "metadata": {},
   "outputs": [],
   "source": [
    "#| hide\n",
    "import nbdev; nbdev.nbdev_export('110_preprocessing.pt_patching')"
   ]
  },
  {
   "cell_type": "code",
   "execution_count": null,
   "id": "aef77710",
   "metadata": {},
   "outputs": [],
   "source": []
  }
 ],
 "metadata": {
  "kernelspec": {
   "display_name": "base",
   "language": "python",
   "name": "python3"
  },
  "language_info": {
   "codemirror_mode": {
    "name": "ipython",
    "version": 3
   },
   "file_extension": ".py",
   "mimetype": "text/x-python",
   "name": "python",
   "nbconvert_exporter": "python",
   "pygments_lexer": "ipython3",
   "version": "3.11.5"
  }
 },
 "nbformat": 4,
 "nbformat_minor": 5
}
