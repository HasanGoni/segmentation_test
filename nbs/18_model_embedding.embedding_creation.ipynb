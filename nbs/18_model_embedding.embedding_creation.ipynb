{
 "cells": [
  {
   "cell_type": "code",
   "execution_count": 1,
   "metadata": {},
   "outputs": [],
   "source": [
    "#| default_exp model_embedding.embedding_creation"
   ]
  },
  {
   "cell_type": "markdown",
   "metadata": {},
   "source": [
    "# Create Embedding from model\n",
    "> Get Embedding from Model"
   ]
  },
  {
   "cell_type": "code",
   "execution_count": 1,
   "metadata": {},
   "outputs": [],
   "source": [
    "#| hide\n",
    "%load_ext autoreload\n",
    "%autoreload 2"
   ]
  },
  {
   "cell_type": "code",
   "execution_count": 2,
   "metadata": {},
   "outputs": [],
   "source": [
    "#| export\n",
    "from cv_tools.core import *\n",
    "from cv_tools.imports import *\n",
    "import matplotlib.pyplot as plt\n",
    "from sklearn.manifold import TSNE\n",
    "from umap import UMAP\n",
    "\n"
   ]
  },
  {
   "cell_type": "code",
   "execution_count": 3,
   "id": "952976d3",
   "metadata": {},
   "outputs": [],
   "source": [
    "#| export\n",
    "import torch.nn as nn\n",
    "import torch\n"
   ]
  },
  {
   "cell_type": "code",
   "execution_count": 13,
   "id": "a43a6ef5",
   "metadata": {},
   "outputs": [],
   "source": [
    "#| export\n",
    "from private_front_easy_pin_detection.pytorch_model_development import UnetManualMaxPoolOnly\n",
    "from private_front_easy_pin_detection.dataloader_creation import *\n",
    "from private_front_easy_pin_detection.model_eval.create_mask import *\n"
   ]
  },
  {
   "cell_type": "code",
   "execution_count": null,
   "id": "e9683c72",
   "metadata": {},
   "outputs": [],
   "source": []
  },
  {
   "cell_type": "code",
   "execution_count": 27,
   "metadata": {},
   "outputs": [],
   "source": [
    "DATA_PATH = os.getenv('DATA_PATH')\n",
    "DATA_PATH = Path(DATA_PATH)\n",
    "root_path = Path(DATA_PATH ,'easy_front_pin_detection/curated_ds_224/selected_trn/synthetic_blurred_shapes')\n",
    "im_path = Path(root_path, 'images')\n",
    "msk_path = Path(root_path, 'masks')\n",
    "\n",
    "\n",
    "MODEL_FN=\"first_224_no_resize_best_val_0.9347_epoch_87.pth\"\n",
    "MODEL_PATH=\"/home/hasan/Schreibtisch/projects/data/easy_front_pin_detection/curated_ds_224/models/first_224_no_resize/first_224_no_resize\"\n",
    "MODEL_PATH_FULL = Path(MODEL_PATH, MODEL_FN)\n"
   ]
  },
  {
   "cell_type": "code",
   "execution_count": 30,
   "id": "c4db04ec",
   "metadata": {},
   "outputs": [
    {
     "name": "stderr",
     "output_type": "stream",
     "text": [
      "/tmp/ipykernel_2072936/476304452.py:6: FutureWarning: You are using `torch.load` with `weights_only=False` (the current default value), which uses the default pickle module implicitly. It is possible to construct malicious pickle data which will execute arbitrary code during unpickling (See https://github.com/pytorch/pytorch/blob/main/SECURITY.md#untrusted-models for more details). In a future release, the default value for `weights_only` will be flipped to `True`. This limits the functions that could be executed during unpickling. Arbitrary objects will no longer be allowed to be loaded via this mode unless they are explicitly allowlisted by the user via `torch.serialization.add_safe_globals`. We recommend you start setting `weights_only=True` for any use case where you don't have full control of the loaded file. Please open an issue on GitHub for any issues related to this experimental feature.\n",
      "  checkpoint = torch.load(MODEL_PATH_FULL)\n"
     ]
    },
    {
     "data": {
      "text/plain": [
       "UnetManualMaxPoolOnly(\n",
       "  (encoder): EncoderBlockPtMaxPoolOnly(\n",
       "    (conv11): convBlockPt(\n",
       "      (conv): Conv2d(1, 16, kernel_size=(3, 3), stride=(1, 1), padding=(1, 1))\n",
       "      (batch_nm): BatchNorm2d(16, eps=1e-05, momentum=0.1, affine=True, track_running_stats=True)\n",
       "      (dropout): Dropout(p=0.1, inplace=False)\n",
       "      (activation): ReLU()\n",
       "    )\n",
       "    (conv12): convBlockPt(\n",
       "      (conv): Conv2d(16, 16, kernel_size=(3, 3), stride=(1, 1), padding=(1, 1))\n",
       "      (batch_nm): BatchNorm2d(16, eps=1e-05, momentum=0.1, affine=True, track_running_stats=True)\n",
       "      (dropout): Dropout(p=0.1, inplace=False)\n",
       "      (activation): ReLU()\n",
       "    )\n",
       "    (conv21): convBlockPt(\n",
       "      (conv): Conv2d(16, 32, kernel_size=(3, 3), stride=(1, 1), padding=(1, 1))\n",
       "      (batch_nm): BatchNorm2d(32, eps=1e-05, momentum=0.1, affine=True, track_running_stats=True)\n",
       "      (dropout): Dropout(p=0.2, inplace=False)\n",
       "      (activation): ReLU()\n",
       "    )\n",
       "    (conv22): convBlockPt(\n",
       "      (conv): Conv2d(32, 32, kernel_size=(3, 3), stride=(1, 1), padding=(1, 1))\n",
       "      (batch_nm): BatchNorm2d(32, eps=1e-05, momentum=0.1, affine=True, track_running_stats=True)\n",
       "      (dropout): Dropout(p=0.2, inplace=False)\n",
       "      (activation): ReLU()\n",
       "    )\n",
       "    (conv31): convBlockPt(\n",
       "      (conv): Conv2d(32, 64, kernel_size=(3, 3), stride=(1, 1), padding=(1, 1))\n",
       "      (batch_nm): BatchNorm2d(64, eps=1e-05, momentum=0.1, affine=True, track_running_stats=True)\n",
       "      (dropout): Dropout(p=0.2, inplace=False)\n",
       "      (activation): ReLU()\n",
       "    )\n",
       "    (conv32): convBlockPt(\n",
       "      (conv): Conv2d(64, 64, kernel_size=(3, 3), stride=(1, 1), padding=(1, 1))\n",
       "      (batch_nm): BatchNorm2d(64, eps=1e-05, momentum=0.1, affine=True, track_running_stats=True)\n",
       "      (dropout): Dropout(p=0.2, inplace=False)\n",
       "      (activation): ReLU()\n",
       "    )\n",
       "    (conv41): convBlockPt(\n",
       "      (conv): Conv2d(64, 128, kernel_size=(3, 3), stride=(1, 1), padding=(1, 1))\n",
       "      (batch_nm): BatchNorm2d(128, eps=1e-05, momentum=0.1, affine=True, track_running_stats=True)\n",
       "      (dropout): Dropout(p=0.2, inplace=False)\n",
       "      (activation): ReLU()\n",
       "    )\n",
       "    (conv42): convBlockPt(\n",
       "      (conv): Conv2d(128, 128, kernel_size=(3, 3), stride=(1, 1), padding=(1, 1))\n",
       "      (batch_nm): BatchNorm2d(128, eps=1e-05, momentum=0.1, affine=True, track_running_stats=True)\n",
       "      (dropout): Dropout(p=0.2, inplace=False)\n",
       "      (activation): ReLU()\n",
       "    )\n",
       "    (conv51): convBlockPt(\n",
       "      (conv): Conv2d(128, 256, kernel_size=(3, 3), stride=(1, 1), padding=(1, 1))\n",
       "      (batch_nm): BatchNorm2d(256, eps=1e-05, momentum=0.1, affine=True, track_running_stats=True)\n",
       "      (dropout): Dropout(p=0.2, inplace=False)\n",
       "      (activation): ReLU()\n",
       "    )\n",
       "    (conv52): convBlockPt(\n",
       "      (conv): Conv2d(256, 256, kernel_size=(3, 3), stride=(1, 1), padding=(1, 1))\n",
       "      (batch_nm): BatchNorm2d(256, eps=1e-05, momentum=0.1, affine=True, track_running_stats=True)\n",
       "      (dropout): Dropout(p=0.2, inplace=False)\n",
       "      (activation): ReLU()\n",
       "    )\n",
       "  )\n",
       "  (conv_transpose6): ConvTranspose2d(256, 128, kernel_size=(2, 2), stride=(2, 2))\n",
       "  (conv61): convBlockPt(\n",
       "    (conv): Conv2d(256, 128, kernel_size=(3, 3), stride=(1, 1), padding=(1, 1))\n",
       "    (batch_nm): BatchNorm2d(128, eps=1e-05, momentum=0.1, affine=True, track_running_stats=True)\n",
       "    (dropout): Dropout(p=0.1, inplace=False)\n",
       "    (activation): ReLU()\n",
       "  )\n",
       "  (conv62): convBlockPt(\n",
       "    (conv): Conv2d(128, 128, kernel_size=(3, 3), stride=(1, 1), padding=(1, 1))\n",
       "    (batch_nm): BatchNorm2d(128, eps=1e-05, momentum=0.1, affine=True, track_running_stats=True)\n",
       "    (dropout): Dropout(p=0.1, inplace=False)\n",
       "    (activation): ReLU()\n",
       "  )\n",
       "  (conv_transpose7): ConvTranspose2d(128, 64, kernel_size=(2, 2), stride=(2, 2))\n",
       "  (conv71): convBlockPt(\n",
       "    (conv): Conv2d(128, 64, kernel_size=(3, 3), stride=(1, 1), padding=(1, 1))\n",
       "    (batch_nm): BatchNorm2d(64, eps=1e-05, momentum=0.1, affine=True, track_running_stats=True)\n",
       "    (dropout): Dropout(p=0.2, inplace=False)\n",
       "    (activation): ReLU()\n",
       "  )\n",
       "  (conv72): convBlockPt(\n",
       "    (conv): Conv2d(64, 64, kernel_size=(3, 3), stride=(1, 1), padding=(1, 1))\n",
       "    (batch_nm): BatchNorm2d(64, eps=1e-05, momentum=0.1, affine=True, track_running_stats=True)\n",
       "    (dropout): Dropout(p=0, inplace=False)\n",
       "    (activation): ReLU()\n",
       "  )\n",
       "  (conv_transpose8): ConvTranspose2d(64, 32, kernel_size=(2, 2), stride=(2, 2))\n",
       "  (conv81): convBlockPt(\n",
       "    (conv): Conv2d(64, 32, kernel_size=(3, 3), stride=(1, 1), padding=(1, 1))\n",
       "    (batch_nm): BatchNorm2d(32, eps=1e-05, momentum=0.1, affine=True, track_running_stats=True)\n",
       "    (dropout): Dropout(p=0.2, inplace=False)\n",
       "    (activation): ReLU()\n",
       "  )\n",
       "  (conv82): convBlockPt(\n",
       "    (conv): Conv2d(32, 32, kernel_size=(3, 3), stride=(1, 1), padding=(1, 1))\n",
       "    (batch_nm): BatchNorm2d(32, eps=1e-05, momentum=0.1, affine=True, track_running_stats=True)\n",
       "    (dropout): Dropout(p=0, inplace=False)\n",
       "    (activation): ReLU()\n",
       "  )\n",
       "  (conv_transpose9): ConvTranspose2d(32, 16, kernel_size=(2, 2), stride=(2, 2))\n",
       "  (conv91): convBlockPt(\n",
       "    (conv): Conv2d(32, 16, kernel_size=(3, 3), stride=(1, 1), padding=(1, 1))\n",
       "    (batch_nm): BatchNorm2d(16, eps=1e-05, momentum=0.1, affine=True, track_running_stats=True)\n",
       "    (dropout): Dropout(p=0.2, inplace=False)\n",
       "    (activation): ReLU()\n",
       "  )\n",
       "  (conv92): convBlockPt(\n",
       "    (conv): Conv2d(16, 16, kernel_size=(3, 3), stride=(1, 1), padding=(1, 1))\n",
       "    (batch_nm): BatchNorm2d(16, eps=1e-05, momentum=0.1, affine=True, track_running_stats=True)\n",
       "    (dropout): Dropout(p=0, inplace=False)\n",
       "    (activation): ReLU()\n",
       "  )\n",
       "  (sigmoid): Sigmoid()\n",
       "  (conv10): Conv2d(16, 1, kernel_size=(1, 1), stride=(1, 1))\n",
       ")"
      ]
     },
     "execution_count": 30,
     "metadata": {},
     "output_type": "execute_result"
    }
   ],
   "source": [
    "  # If we know the model architecture, initialize it first\n",
    "model = UnetManualMaxPoolOnly(\n",
    "    in_channels=1,\n",
    "    n_classes=1\n",
    ")\n",
    "checkpoint = torch.load(MODEL_PATH_FULL)\n",
    "model.load_state_dict(\n",
    "    checkpoint['model_state_dict'], \n",
    ")\n",
    "model.to('cuda')\n",
    "model.eval()"
   ]
  },
  {
   "cell_type": "code",
   "execution_count": 9,
   "id": "f4edb085",
   "metadata": {},
   "outputs": [
    {
     "name": "stderr",
     "output_type": "stream",
     "text": [
      "/home/hasan/Schreibtisch/projects/git_data/private_front_easy_pin_detection/private_front_easy_pin_detection/dataloader_creation.py:101: UserWarning: Argument 'alpha_affine' is not valid and will be ignored.\n",
      "  A.ElasticTransform(p=0.1, alpha=3, sigma=50 * 0.05, alpha_affine=None),\n"
     ]
    }
   ],
   "source": [
    "trn_dl, val_dl =  get_dataloader(\n",
    "    trn_im_path=im_path, \n",
    "    trn_msk_path=msk_path,\n",
    "    val_im_path=im_path,\n",
    "    val_msk_path=msk_path,\n",
    "    tst_im_path=None,\n",
    "    batch_size=32,\n",
    "    IMAGE_HEIGHT=224,\n",
    "    IMAGE_WIDTH=224,\n",
    "    num_workers=0 \n",
    "    )"
   ]
  },
  {
   "cell_type": "code",
   "execution_count": 10,
   "id": "bb5efe43",
   "metadata": {},
   "outputs": [],
   "source": [
    "#| export\n",
    "class EmbeddingExtractor(nn.Module):\n",
    "    def __init__(self, model):\n",
    "        super().__init__()\n",
    "        self.model = model\n",
    "        self.encoder = model.encoder\n",
    "        \n",
    "    def forward(self, x):\n",
    "        c1, c2, c3, c4, c5 = self.encoder(x)\n",
    "\t\t# c5 deepest embedding bottleneck\n",
    "        return {\n",
    "            'c1': c1,\n",
    "            'c2': c2,\n",
    "            'c3': c3,\n",
    "            'c4': c4,\n",
    "            'c5': c5\n",
    "\t\t}\n",
    "    "
   ]
  },
  {
   "cell_type": "code",
   "execution_count": 11,
   "id": "1e1e2d6f",
   "metadata": {},
   "outputs": [],
   "source": [
    "def extract_embeddings(model, dataloader, device='cuda'):\n",
    "    \"\"\"\n",
    "    Extract embeddings from the model for all images in the dataloader\n",
    "    \"\"\"\n",
    "    embedding_extractor = EmbeddingExtractor(model)\n",
    "    embedding_extractor = embedding_extractor.to(device)\n",
    "    embedding_extractor.eval()\n",
    "    \n",
    "    all_embeddings = {\n",
    "        'c1': [], 'c2': [], 'c3': [], 'c4': [], 'c5': []\n",
    "    }\n",
    "    all_labels = []\n",
    "    \n",
    "    with torch.no_grad():\n",
    "        for images, labels in dataloader:\n",
    "            images = images.to(device)\n",
    "            embeddings = embedding_extractor(images)\n",
    "            \n",
    "            # Store embeddings from each level\n",
    "            for level in ['c1', 'c2', 'c3', 'c4', 'c5']:\n",
    "                # Global average pooling to get fixed size embeddings\n",
    "                emb = torch.mean(embeddings[level], dim=[2, 3])\n",
    "                all_embeddings[level].append(emb.cpu())\n",
    "            \n",
    "            all_labels.extend(labels.numpy())\n",
    "    \n",
    "    # Concatenate all embeddings\n",
    "    for level in all_embeddings:\n",
    "        all_embeddings[level] = torch.cat(all_embeddings[level], dim=0).numpy()\n",
    "    \n",
    "    return all_embeddings, np.array(all_labels)"
   ]
  },
  {
   "cell_type": "code",
   "execution_count": 31,
   "id": "75db8bd0",
   "metadata": {},
   "outputs": [],
   "source": [
    "all_embeddings, all_labels = extract_embeddings(model, trn_dl)"
   ]
  },
  {
   "cell_type": "code",
   "execution_count": 12,
   "id": "98be6965",
   "metadata": {},
   "outputs": [],
   "source": [
    "#| export\n",
    "def visualize_embeddings(embeddings, labels, method='tsne', level='c5'):\n",
    "    \"\"\"\n",
    "    Visualize embeddings using t-SNE or UMAP\n",
    "    \"\"\"\n",
    "    plt.figure(figsize=(10, 8))\n",
    "    \n",
    "    # Get embeddings for specified level\n",
    "    X = embeddings[level]\n",
    "    \n",
    "    # Reduce dimensionality\n",
    "    if method == 'tsne':\n",
    "        reducer = TSNE(n_components=2, random_state=42)\n",
    "    else:\n",
    "        reducer = UMAP(n_components=2, random_state=42)\n",
    "    \n",
    "    X_reduced = reducer.fit_transform(X)\n",
    "    \n",
    "    # Create scatter plot\n",
    "    scatter = plt.scatter(X_reduced[:, 0], X_reduced[:, 1], \n",
    "                         c=labels, cmap='tab10', alpha=0.6)\n",
    "    plt.colorbar(scatter)\n",
    "    plt.title(f'{method.upper()} visualization of {level} embeddings')\n",
    "    plt.xlabel(f'{method.upper()} 1')\n",
    "    plt.ylabel(f'{method.upper()} 2')\n",
    "    plt.show()"
   ]
  },
  {
   "cell_type": "code",
   "execution_count": null,
   "id": "dd5d31d2",
   "metadata": {},
   "outputs": [],
   "source": [
    "# Visualize bottleneck embeddings using t-SNE\n",
    "visualize_embeddings(embeddings, labels, method='tsne', level='c5')\n",
    "\n",
    "# Visualize bottleneck embeddings using UMAP\n",
    "visualize_embeddings(embeddings, labels, method='umap', level='c5')"
   ]
  },
  {
   "cell_type": "code",
   "execution_count": null,
   "id": "96bbb4ea",
   "metadata": {},
   "outputs": [],
   "source": [
    "visualize_embeddings(all_embeddings, all_labels)"
   ]
  },
  {
   "cell_type": "code",
   "execution_count": null,
   "id": "d117eab5",
   "metadata": {},
   "outputs": [],
   "source": []
  },
  {
   "cell_type": "code",
   "execution_count": 0,
   "metadata": {},
   "outputs": [],
   "source": [
    "#| hide\n",
    "import nbdev; nbdev.nbdev_export('18_model_embedding.embedding_creation.ipynb')"
   ]
  }
 ],
 "metadata": {
  "kernelspec": {
   "display_name": "base",
   "language": "python",
   "name": "python3"
  },
  "language_info": {
   "codemirror_mode": {
    "name": "ipython",
    "version": 3
   },
   "file_extension": ".py",
   "mimetype": "text/x-python",
   "name": "python",
   "nbconvert_exporter": "python",
   "pygments_lexer": "ipython3",
   "version": "3.12.2"
  }
 },
 "nbformat": 4,
 "nbformat_minor": 5
}
