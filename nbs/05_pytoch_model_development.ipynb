{
 "cells": [
  {
   "cell_type": "markdown",
   "metadata": {},
   "source": [
    "# pytorch unet model development"
   ]
  },
  {
   "cell_type": "markdown",
   "metadata": {},
   "source": [
    "> Unet pytorch model will be developed here"
   ]
  },
  {
   "cell_type": "code",
   "execution_count": null,
   "metadata": {},
   "outputs": [],
   "source": [
    "#| default_exp pytorch_model_development"
   ]
  },
  {
   "cell_type": "code",
   "execution_count": null,
   "metadata": {},
   "outputs": [],
   "source": [
    "#| export\n",
    "import torch\n",
    "from fastcore.all import *\n",
    "from fastcore.test import *\n",
    "from torch import nn\n",
    "from torchviz import make_dot"
   ]
  },
  {
   "cell_type": "code",
   "execution_count": null,
   "metadata": {},
   "outputs": [],
   "source": [
    "#| export \n",
    "class DoubleConv(nn.Module):\n",
    "    def __init__(\n",
    "        self,\n",
    "        in_channels,\n",
    "        out_channels,\n",
    "        dropout_rate=0.2):\n",
    "        super().__init__()\n",
    "\n",
    "        self.conv = nn.Sequential(\n",
    "            nn.Conv2d(in_channels=in_channels, out_channels=out_channels, kernel_size=3, stride=1),\n",
    "            nn.BatchNorm2d(out_channels),\n",
    "            nn.ReLU(),\n",
    "            nn.Dropout(dropout_rate),\n",
    "            nn.Conv2d(out_channels, out_channels, kernel_size=3, stride=1),\n",
    "            nn.BatchNorm2d(out_channels),\n",
    "            nn.ReLU(),\n",
    "            nn.Dropout(dropout_rate)\n",
    "            )\n",
    "\n",
    "    def forward(self, x):\n",
    "        return self.conv(x)\n"
   ]
  },
  {
   "cell_type": "code",
   "execution_count": null,
   "metadata": {},
   "outputs": [],
   "source": [
    "#| export\n",
    "class Pooling(nn.Module):\n",
    "    def __init__(self, max_pool_only=False):\n",
    "        super().__init__()\n",
    "        self.max_pool_only = max_pool_only\n",
    "        self.max_pool = nn.MaxPool2d(kernel_size=2, stride=2)\n",
    "        self.avg_pool = nn.AvgPool2d(kernel_size=2, stride=2)\n",
    "\n",
    "    def forward(self, x):\n",
    "        if self.max_pool_only:\n",
    "            return self.max_pool(x)\n",
    "        return torch.cat((self.max_pool(x), self.avg_pool(x)), dim=1)"
   ]
  },
  {
   "cell_type": "code",
   "execution_count": null,
   "metadata": {},
   "outputs": [],
   "source": [
    "#| export\n",
    "class UpConv(nn.Module):\n",
    "    def __init__(self, in_channels, out_channels):\n",
    "        super(UpConv, self).__init__()\n",
    "        self.up = nn.ConvTranspose2d(in_channels, out_channels, kernel_size=2, stride=2)\n",
    "\n",
    "    def forward(self, x):\n",
    "        return self.up(x)"
   ]
  },
  {
   "cell_type": "code",
   "execution_count": null,
   "metadata": {},
   "outputs": [],
   "source": [
    "#| export\n",
    "class AttentionBlock(nn.Module):\n",
    "    def __init__(self, F_g, F_l, F_int):\n",
    "        super(AttentionBlock, self).__init__()\n",
    "        self.W_g = nn.Sequential(\n",
    "            nn.Conv2d(F_g, F_int, kernel_size=1, stride=1, padding=0, bias=True),\n",
    "            nn.BatchNorm2d(F_int)\n",
    "        )\n",
    "        \n",
    "        self.W_x = nn.Sequential(\n",
    "            nn.Conv2d(F_l, F_int, kernel_size=1, stride=1, padding=0, bias=True),\n",
    "            nn.BatchNorm2d(F_int)\n",
    "        )\n",
    "\n",
    "        self.psi = nn.Sequential(\n",
    "            nn.Conv2d(F_int, 1, kernel_size=1, stride=1, padding=0, bias=True),\n",
    "            nn.BatchNorm2d(1),\n",
    "            nn.Sigmoid()\n",
    "        )\n",
    "\n",
    "        self.relu = nn.ReLU(inplace=True)\n",
    "\n",
    "    def forward(self, g, x):\n",
    "        g1 = self.W_g(g)\n",
    "        x1 = self.W_x(x)\n",
    "        psi = self.relu(g1 + x1)\n",
    "        psi = self.psi(psi)\n",
    "        return x * psi"
   ]
  },
  {
   "cell_type": "code",
   "execution_count": null,
   "metadata": {},
   "outputs": [],
   "source": []
  },
  {
   "cell_type": "code",
   "execution_count": null,
   "metadata": {},
   "outputs": [],
   "source": []
  },
  {
   "cell_type": "code",
   "execution_count": null,
   "metadata": {},
   "outputs": [],
   "source": []
  },
  {
   "cell_type": "code",
   "execution_count": null,
   "metadata": {},
   "outputs": [],
   "source": [
    "#| export\n",
    "class Unet(nn.Module):\n",
    "    def __init__(self, num_classes, max_pool_only=False):\n",
    "        super(Unet, self).__init__()\n",
    "        self.max_pool_only = max_pool_only\n",
    "\n",
    "        # Encoder (Downsampling path)\n",
    "        self.enc1 = DoubleConv(1, 64)\n",
    "        self.enc2 = DoubleConv(64, 128)\n",
    "        self.enc3 = DoubleConv(128, 256)\n",
    "        self.enc4 = DoubleConv(256, 512)\n",
    "\n",
    "        self.pool = Pooling(self.max_pool_only)\n",
    "\n",
    "        # Bottleneck\n",
    "        self.bottle_neck = DoubleConv(512, 1024)\n",
    "\n",
    "        # Decoder (Upsampling path)\n",
    "        self.upconv4 = UpConv(1024, 512)\n",
    "        self.dec4 = DoubleConv(1024, 512)\n",
    "        self.att4 = AttentionBlock(F_g=512,F_l=512,F_int=256)\n",
    "\n",
    "        self.upconv3 = UpConv(512, 256)\n",
    "        self.dec3 = DoubleConv(512, 256)\n",
    "        self.att3 = AttentionBlock(F_g=256,F_l=256,F_int=128)\n",
    "\n",
    "        self.upconv2 = UpConv(256, 128)\n",
    "        self.dec2 = DoubleConv(256, 128)\n",
    "        self.att3 = AttentionBlock(F_g=128,F_l=128,F_int=64)\n",
    "\n",
    "        self.final = nn.Conv2d(128, num_classes, kernel_size=1)\n",
    "\n",
    "    def forward(self, x):\n",
    "        \n",
    "        # padding the image to make it multiple of 2\n",
    "        _,_,h, w = x.shape\n",
    "\n",
    "        h_pad = 256 - h if h < 256 else 0\n",
    "        w_pad = 256 - w if w < 256 else 0\n",
    "\n",
    "        x = nn.functional.pad(x, (0, w_pad, 0, h_pad), mode='constant', value=0)\n",
    "\n",
    "        # Encoder\n",
    "        enc1 = self.enc1(x)\n",
    "        enc2 = self.enc2(self.pool(enc1))\n",
    "        enc3 = self.enc3(self.pool(enc2))\n",
    "        enc4 = self.enc4(self.pool(enc3))\n",
    "\n",
    "        # Bottleneck\n",
    "        bottle_neck = self.bottle_neck(self.pool(enc4))\n",
    "\n",
    "        # Decoder\n",
    "        dec4 = self.dec4(torch.cat(\n",
    "                                    (self.upconv4(bottle_neck), enc4),\n",
    "                                    dim=1))\n",
    "        dec3 = self.dec3(torch.cat((self.upconv3(dec4), enc3), dim=1))\n",
    "        dec2 = self.dec2(torch.cat((self.upconv2(dec3), enc2), dim=1))\n",
    "\n",
    "        final_conv = self.final(dec2)\n",
    "\n",
    "        return final_conv[:, :, :h, :w]\n"
   ]
  },
  {
   "cell_type": "code",
   "execution_count": null,
   "metadata": {},
   "outputs": [
    {
     "data": {
      "text/plain": [
       "torch.Size([1, 1024, 8, 8])"
      ]
     },
     "execution_count": null,
     "metadata": {},
     "output_type": "execute_result"
    }
   ],
   "source": [
    "x = torch.randn(1, 1, 256, 256)\n",
    "enc1 = DoubleConv(1, 64)(x)\n",
    "pool = Pooling(max_pool_only=True)\n",
    "pool1 = pool(enc1)\n",
    "enc2 = DoubleConv(64, 128)(pool1)\n",
    "enc2.shape\n",
    "enc3 = DoubleConv(128, 256)(pool(enc2))\n",
    "enc4 = DoubleConv(256, 512)(pool(enc3))\n",
    "bottle_neck = DoubleConv(512, 1024)(pool(enc4))\n",
    "bottle_neck.shape"
   ]
  },
  {
   "cell_type": "code",
   "execution_count": null,
   "metadata": {},
   "outputs": [],
   "source": [
    "upconv4 = UpConv(1024, 512)\n",
    "dev4 = DoubleConv(1024, 512)"
   ]
  },
  {
   "cell_type": "code",
   "execution_count": null,
   "metadata": {},
   "outputs": [],
   "source": []
  },
  {
   "cell_type": "code",
   "execution_count": null,
   "metadata": {},
   "outputs": [],
   "source": []
  },
  {
   "cell_type": "code",
   "execution_count": null,
   "metadata": {},
   "outputs": [],
   "source": []
  },
  {
   "cell_type": "code",
   "execution_count": null,
   "metadata": {},
   "outputs": [],
   "source": [
    "#| export\n",
    "class AttentionUnet(nn.Module):\n",
    "    def __init__(\n",
    "                 self, \n",
    "                 num_classes, \n",
    "                 max_pool_only=False\n",
    "                 ):\n",
    "        super(AttentionUnet, self).__init__()\n",
    "\n",
    "        self.max_pool_only = max_pool_only\n",
    "\n",
    "        # Encoder (Downsampling path)\n",
    "        self.enc1 = DoubleConv(1, 64)\n",
    "        self.enc2 = DoubleConv(64, 128)\n",
    "        self.enc3 = DoubleConv(128, 256)\n",
    "        self.enc4 = DoubleConv(256, 512)\n",
    "\n",
    "        self.pool = Pooling(max_pool_only=max_pool_only)\n",
    "\n",
    "        # Bottleneck\n",
    "        self.bottle_neck = DoubleConv(512, 1024)\n",
    "\n",
    "        # Decoder (Upsampling path)\n",
    "        self.upconv4 = UpConv(1024, 512)\n",
    "        self.dec4 = DoubleConv(1024, 512)\n",
    "        self.att4 = AttentionBlock(F_g=512,F_l=512,F_int=256)\n",
    "\n",
    "        self.upconv3 = UpConv(512, 256)\n",
    "        self.dec3 = DoubleConv(512, 256)\n",
    "        self.att3 = AttentionBlock(F_g=256,F_l=256,F_int=128)\n",
    "\n",
    "        self.upconv2 = UpConv(256, 128)\n",
    "        self.dec2 = DoubleConv(256, 128)\n",
    "        self.att3 = AttentionBlock(F_g=128,F_l=128,F_int=64)\n",
    "\n",
    "        self.final = nn.Conv2d(128, num_classes, kernel_size=1)\n",
    "\n",
    "    def forward(self, x):\n",
    "        \n",
    "        # padding the image to make it multiple of 2\n",
    "        _,_,h, w = x.shape\n",
    "\n",
    "        h_pad = 256 - h if h < 256 else 0\n",
    "        w_pad = 256 - w if w < 256 else 0\n",
    "\n",
    "        x = nn.functional.pad(x, (0, w_pad, 0, h_pad), mode='constant', value=0)\n",
    "\n",
    "        # Encoder\n",
    "        enc1 = self.enc1(x)\n",
    "        enc2 = self.enc2(self.pool(enc1))\n",
    "        enc3 = self.enc3(self.pool(enc2))\n",
    "        enc4 = self.enc4(self.pool(enc3))\n",
    "\n",
    "        # Bottleneck\n",
    "        bottle_neck = self.bottle_neck(self.pool(enc4))\n",
    "\n",
    "        # Decoder\n",
    "        dec4 = self.dec4(torch.cat((self.upconv4(bottle_neck), self.att4(g=bottle_neck,x=enc4)),dim=1))\n",
    "        dec3 = self.dec3(torch.cat((self.upconv3(dec4),self.att3(g=dec4,x=enc3)),dim=1))\n",
    "        dec2 = self.dec3(torch.cat((self.upconv2(dec3),self.att2(g=dec3,x=enc2)),dim=1))\n",
    "\n",
    "        final_conv = self.final(dec2)\n",
    "\n",
    "        return final_conv[:, :, :h, :w]\n"
   ]
  },
  {
   "cell_type": "code",
   "execution_count": null,
   "metadata": {},
   "outputs": [],
   "source": [
    "model = Unet(num_classes=1, max_pool_only=True)"
   ]
  },
  {
   "cell_type": "code",
   "execution_count": null,
   "metadata": {},
   "outputs": [
    {
     "ename": "RuntimeError",
     "evalue": "Sizes of tensors must match except in dimension 1. Expected size 16 but got size 24 for tensor number 1 in the list.",
     "output_type": "error",
     "traceback": [
      "\u001b[0;31m---------------------------------------------------------------------------\u001b[0m",
      "\u001b[0;31mRuntimeError\u001b[0m                              Traceback (most recent call last)",
      "\u001b[1;32m/home/hasan/workspace/git_data/segmentation_test/nbs/05_pytoch_model_development.ipynb Cell 16\u001b[0m line \u001b[0;36m2\n\u001b[1;32m      <a href='vscode-notebook-cell:/home/hasan/workspace/git_data/segmentation_test/nbs/05_pytoch_model_development.ipynb#Y134sZmlsZQ%3D%3D?line=0'>1</a>\u001b[0m x \u001b[39m=\u001b[39m torch\u001b[39m.\u001b[39mrandn(\u001b[39m1\u001b[39m, \u001b[39m1\u001b[39m, \u001b[39m201\u001b[39m, \u001b[39m201\u001b[39m)\n\u001b[0;32m----> <a href='vscode-notebook-cell:/home/hasan/workspace/git_data/segmentation_test/nbs/05_pytoch_model_development.ipynb#Y134sZmlsZQ%3D%3D?line=1'>2</a>\u001b[0m y \u001b[39m=\u001b[39m model(x)\n\u001b[1;32m      <a href='vscode-notebook-cell:/home/hasan/workspace/git_data/segmentation_test/nbs/05_pytoch_model_development.ipynb#Y134sZmlsZQ%3D%3D?line=2'>3</a>\u001b[0m make_dot(y, params\u001b[39m=\u001b[39m\u001b[39mdict\u001b[39m(model\u001b[39m.\u001b[39mnamed_parameters()))\u001b[39m.\u001b[39mrender(\u001b[39m'\u001b[39m\u001b[39mAttentionUnet\u001b[39m\u001b[39m'\u001b[39m, \u001b[39mformat\u001b[39m\u001b[39m=\u001b[39m\u001b[39m'\u001b[39m\u001b[39mpng\u001b[39m\u001b[39m'\u001b[39m)\n",
      "File \u001b[0;32m~/anaconda3/envs/test/lib/python3.11/site-packages/torch/nn/modules/module.py:1501\u001b[0m, in \u001b[0;36mModule._call_impl\u001b[0;34m(self, *args, **kwargs)\u001b[0m\n\u001b[1;32m   1496\u001b[0m \u001b[39m# If we don't have any hooks, we want to skip the rest of the logic in\u001b[39;00m\n\u001b[1;32m   1497\u001b[0m \u001b[39m# this function, and just call forward.\u001b[39;00m\n\u001b[1;32m   1498\u001b[0m \u001b[39mif\u001b[39;00m \u001b[39mnot\u001b[39;00m (\u001b[39mself\u001b[39m\u001b[39m.\u001b[39m_backward_hooks \u001b[39mor\u001b[39;00m \u001b[39mself\u001b[39m\u001b[39m.\u001b[39m_backward_pre_hooks \u001b[39mor\u001b[39;00m \u001b[39mself\u001b[39m\u001b[39m.\u001b[39m_forward_hooks \u001b[39mor\u001b[39;00m \u001b[39mself\u001b[39m\u001b[39m.\u001b[39m_forward_pre_hooks\n\u001b[1;32m   1499\u001b[0m         \u001b[39mor\u001b[39;00m _global_backward_pre_hooks \u001b[39mor\u001b[39;00m _global_backward_hooks\n\u001b[1;32m   1500\u001b[0m         \u001b[39mor\u001b[39;00m _global_forward_hooks \u001b[39mor\u001b[39;00m _global_forward_pre_hooks):\n\u001b[0;32m-> 1501\u001b[0m     \u001b[39mreturn\u001b[39;00m forward_call(\u001b[39m*\u001b[39margs, \u001b[39m*\u001b[39m\u001b[39m*\u001b[39mkwargs)\n\u001b[1;32m   1502\u001b[0m \u001b[39m# Do not call functions when jit is used\u001b[39;00m\n\u001b[1;32m   1503\u001b[0m full_backward_hooks, non_full_backward_hooks \u001b[39m=\u001b[39m [], []\n",
      "\u001b[1;32m/home/hasan/workspace/git_data/segmentation_test/nbs/05_pytoch_model_development.ipynb Cell 16\u001b[0m line \u001b[0;36m5\n\u001b[1;32m     <a href='vscode-notebook-cell:/home/hasan/workspace/git_data/segmentation_test/nbs/05_pytoch_model_development.ipynb#Y134sZmlsZQ%3D%3D?line=49'>50</a>\u001b[0m bottle_neck \u001b[39m=\u001b[39m \u001b[39mself\u001b[39m\u001b[39m.\u001b[39mbottle_neck(\u001b[39mself\u001b[39m\u001b[39m.\u001b[39mpool(enc4))\n\u001b[1;32m     <a href='vscode-notebook-cell:/home/hasan/workspace/git_data/segmentation_test/nbs/05_pytoch_model_development.ipynb#Y134sZmlsZQ%3D%3D?line=51'>52</a>\u001b[0m \u001b[39m# Decoder\u001b[39;00m\n\u001b[0;32m---> <a href='vscode-notebook-cell:/home/hasan/workspace/git_data/segmentation_test/nbs/05_pytoch_model_development.ipynb#Y134sZmlsZQ%3D%3D?line=52'>53</a>\u001b[0m dec4 \u001b[39m=\u001b[39m \u001b[39mself\u001b[39m\u001b[39m.\u001b[39mdec4(torch\u001b[39m.\u001b[39mcat(\n\u001b[1;32m     <a href='vscode-notebook-cell:/home/hasan/workspace/git_data/segmentation_test/nbs/05_pytoch_model_development.ipynb#Y134sZmlsZQ%3D%3D?line=53'>54</a>\u001b[0m                             (\u001b[39mself\u001b[39m\u001b[39m.\u001b[39mupconv4(bottle_neck), enc4),\n\u001b[1;32m     <a href='vscode-notebook-cell:/home/hasan/workspace/git_data/segmentation_test/nbs/05_pytoch_model_development.ipynb#Y134sZmlsZQ%3D%3D?line=54'>55</a>\u001b[0m                             dim\u001b[39m=\u001b[39m\u001b[39m1\u001b[39m))\n\u001b[1;32m     <a href='vscode-notebook-cell:/home/hasan/workspace/git_data/segmentation_test/nbs/05_pytoch_model_development.ipynb#Y134sZmlsZQ%3D%3D?line=55'>56</a>\u001b[0m dec3 \u001b[39m=\u001b[39m \u001b[39mself\u001b[39m\u001b[39m.\u001b[39mdec3(torch\u001b[39m.\u001b[39mcat((\u001b[39mself\u001b[39m\u001b[39m.\u001b[39mupconv3(dec4), enc3), dim\u001b[39m=\u001b[39m\u001b[39m1\u001b[39m))\n\u001b[1;32m     <a href='vscode-notebook-cell:/home/hasan/workspace/git_data/segmentation_test/nbs/05_pytoch_model_development.ipynb#Y134sZmlsZQ%3D%3D?line=56'>57</a>\u001b[0m dec2 \u001b[39m=\u001b[39m \u001b[39mself\u001b[39m\u001b[39m.\u001b[39mdec2(torch\u001b[39m.\u001b[39mcat((\u001b[39mself\u001b[39m\u001b[39m.\u001b[39mupconv2(dec3), enc2), dim\u001b[39m=\u001b[39m\u001b[39m1\u001b[39m))\n",
      "\u001b[0;31mRuntimeError\u001b[0m: Sizes of tensors must match except in dimension 1. Expected size 16 but got size 24 for tensor number 1 in the list."
     ]
    }
   ],
   "source": [
    "x = torch.randn(1, 1, 201, 201)\n",
    "y = model(x)\n",
    "make_dot(y, params=dict(model.named_parameters())).render('AttentionUnet', format='png')"
   ]
  },
  {
   "cell_type": "code",
   "execution_count": null,
   "metadata": {},
   "outputs": [],
   "source": [
    "#| hide\n",
    "import  nbdev; nbdev.nbdev_export()"
   ]
  },
  {
   "cell_type": "code",
   "execution_count": null,
   "metadata": {},
   "outputs": [],
   "source": []
  }
 ],
 "metadata": {
  "kernelspec": {
   "display_name": "python3",
   "language": "python",
   "name": "python3"
  }
 },
 "nbformat": 4,
 "nbformat_minor": 2
}
