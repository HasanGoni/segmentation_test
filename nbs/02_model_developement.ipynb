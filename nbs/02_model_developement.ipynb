{
 "cells": [
  {
   "cell_type": "markdown",
   "metadata": {},
   "source": [
    "# Model Developement"
   ]
  },
  {
   "attachments": {},
   "cell_type": "markdown",
   "metadata": {},
   "source": [
    "> Different models will be developed here and tested here"
   ]
  },
  {
   "cell_type": "code",
   "execution_count": null,
   "metadata": {},
   "outputs": [],
   "source": [
    "#| default_exp model_developement"
   ]
  },
  {
   "cell_type": "code",
   "execution_count": null,
   "metadata": {},
   "outputs": [],
   "source": [
    "#| export\n",
    "import os\n",
    "#os.environ['CUDA_VISIBLE_DEVICES'] = ''\n",
    "import tensorflow as tf\n",
    "import datetime\n",
    "from tensorflow.keras.optimizers import Adam\n",
    "from sklearn.model_selection import train_test_split\n",
    "from pathlib import Path\n",
    "from functools import partial\n",
    "import numpy as np\n",
    "import matplotlib.pyplot as plt\n",
    "import matplotlib as mpl\n",
    "from fastcore.basics import patch\n",
    "from fastcore.all import *\n",
    "from tensorflow.keras.models import Model\n",
    "from IPython.display import display, clear_output\n",
    "#from fastai.vision.all import *\n",
    "from dataclasses import dataclass, field\n",
    "from segmentation_test.preprocessing import *\n",
    "from segmentation_test.config import *\n",
    "#from segmentation_test.viz_utils import *\n",
    "#from segmentation_test.viz_utils import *\n",
    "\n",
    "\n",
    "from typing import Union, List, Tuple, Optional, Callable, Dict, Any"
   ]
  },
  {
   "cell_type": "code",
   "execution_count": null,
   "metadata": {},
   "outputs": [],
   "source": [
    "mpl.rcParams['image.cmap'] = 'gray'"
   ]
  },
  {
   "cell_type": "code",
   "execution_count": null,
   "metadata": {},
   "outputs": [],
   "source": []
  },
  {
   "cell_type": "markdown",
   "metadata": {},
   "source": [
    "## Fully Convolutional Network"
   ]
  },
  {
   "cell_type": "code",
   "execution_count": null,
   "metadata": {},
   "outputs": [],
   "source": []
  },
  {
   "cell_type": "code",
   "execution_count": null,
   "metadata": {},
   "outputs": [],
   "source": [
    "from tensorflow.keras.applications.vgg16 import VGG16\n",
    "from tensorflow.keras.layers import Conv2D, Conv2DTranspose, Input\n",
    "\n",
    "# Load the VGG16 model\n",
    "vgg16 = VGG16(weights='imagenet', include_top=False, input_shape=(224, 224, 3))\n",
    "\n",
    "# Freeze the layers in the VGG16 model\n",
    "for layer in vgg16.layers:\n",
    "    layer.trainable = False\n",
    "\n",
    "# Define the input layer\n",
    "input_layer = Input(shape=(224, 224, 3))\n",
    "\n",
    "# Get the output of the VGG16 model\n",
    "vgg_output = vgg16(input_layer)\n",
    "\n",
    "# Add convolutional layers on top of the VGG16 model\n",
    "conv1 = Conv2D(4096, (7, 7), activation='relu', padding='same')(vgg_output)\n",
    "conv2 = Conv2D(4096, (1, 1), activation='relu', padding='same')(conv1)\n",
    "conv3 = Conv2D(2, (1, 1), activation='softmax', padding='same')(conv2)\n",
    "\n",
    "# Define the decoder\n",
    "upsample1 = Conv2DTranspose(2, (4, 4), strides=(2, 2), padding='same')(conv3)\n",
    "conv4 = Conv2D(512, (3, 3), activation='relu', padding='same')(upsample1)\n",
    "conv5 = Conv2D(512, (3, 3), activation='relu', padding='same')(conv4)\n",
    "upsample2 = Conv2DTranspose(2, (4, 4), strides=(2, 2), padding='same')(conv5)\n",
    "conv6 = Conv2D(256, (3, 3), activation='relu', padding='same')(upsample2)\n",
    "conv7 = Conv2D(256, (3, 3), activation='relu', padding='same')(conv6)\n",
    "upsample3 = Conv2DTranspose(2, (16, 16), strides=(8, 8), padding='same')(conv7)\n",
    "\n",
    "# Create a new model with the VGG16 encoder and the decoder\n",
    "fcn = Model(inputs=input_layer, outputs=upsample3)\n"
   ]
  },
  {
   "cell_type": "code",
   "execution_count": null,
   "metadata": {},
   "outputs": [],
   "source": [
    "#| export\n",
    "def blocks(\n",
    "    x:tf.Tensor, \n",
    "    n_convs:int,\n",
    "    filters:int,\n",
    "    kernel_size:int=3,\n",
    "    activation:str='relu',\n",
    "    pool_size:int=2,\n",
    "    pool_stride:int=2,\n",
    "    name:str='block'):\n",
    "    for i in range(n_convs):\n",
    "        x = tf.keras.layers.Conv2D(\n",
    "            filters=filters, \n",
    "            kernel_size=kernel_size, \n",
    "            padding='same',\n",
    "            activation=activation, \n",
    "            name=f'{name}_conv{i}')(x)\n",
    "    x = tf.keras.layers.MaxPool2D(\n",
    "                                 pool_size=pool_size,\n",
    "                                 strides=pool_stride,\n",
    "                                 name=f'{name}_pool{i}'\n",
    "                                 )(x)\n",
    "    return x\n"
   ]
  },
  {
   "cell_type": "code",
   "execution_count": null,
   "metadata": {},
   "outputs": [],
   "source": [
    "#| export\n",
    "block_shortcut = partial(\n",
    "                       blocks, kernel_size=(3,3),\n",
    "                       pool_size=(2,2),\n",
    "                       pool_stride=(2,2),\n",
    "                       activation='relu')"
   ]
  },
  {
   "cell_type": "code",
   "execution_count": null,
   "metadata": {},
   "outputs": [],
   "source": [
    "#| export\n",
    "def VGG_16(\n",
    "        input_image:tf.Tensor):\n",
    "\n",
    "    x = block_shortcut(\n",
    "            input_image, n_convs=2,\n",
    "            filters=64,\n",
    "            name='block1')\n",
    "    p1 = x\n",
    "    x = block_shortcut(\n",
    "           x, n_convs=2,\n",
    "           filters=128,\n",
    "           name='block2')\n",
    "    p2 = x\n",
    "    x = block_shortcut(\n",
    "            x, n_convs=3,\n",
    "            filters=256,\n",
    "            name='block3')\n",
    "    p3 = x\n",
    "    x = block_shortcut(\n",
    "           x, n_convs=3,\n",
    "           filters=512,\n",
    "           name='block4')\n",
    "    p4 = x\n",
    "    x = block_shortcut(\n",
    "           x, n_convs=3,\n",
    "           filters=512,\n",
    "           name='block5')\n",
    "    p5 = x\n",
    "\n",
    "    # creating model\n",
    "    vgg = tf.keras.Model(\n",
    "            inputs=input_image,\n",
    "            outputs=p5)\n",
    "\n",
    "    # This vgg is our encoder, now\n",
    "    # we will process outer layer so that\n",
    "    # decoder can work on it\n",
    "    # number of filters for the output convolutional layers\n",
    "    n = 4096\n",
    "\n",
    "    # our input images are 224x224 pixels so they will be\n",
    "    # downsampled to 7x7 after the pooling layers above.\n",
    "    # we can extract more features by chaining two more\n",
    "    # convolution layers.\n",
    "    c6 = tf.keras.layers.Conv2D(\n",
    "           n, (7, 7), padding='same',\n",
    "           activation='relu',\n",
    "           name='conv6')(p5)\n",
    "    c7 = tf.keras.layers.Conv2D(\n",
    "           n, (1, 1), padding='same',\n",
    "           activation='relu',\n",
    "           name='conv7')(c6)\n",
    "    return (p1, p2, p3, p4, c7)"
   ]
  },
  {
   "cell_type": "code",
   "execution_count": null,
   "metadata": {},
   "outputs": [
    {
     "name": "stdout",
     "output_type": "stream",
     "text": [
      "WARNING:tensorflow:From /home/goni/mambaforge/lib/python3.10/site-packages/tensorflow/python/autograph/pyct/static_analysis/liveness.py:83: Analyzer.lamba_check (from tensorflow.python.autograph.pyct.static_analysis.liveness) is deprecated and will be removed after 2023-09-23.\n",
      "Instructions for updating:\n",
      "Lambda fuctions will be no more assumed to be used in the statement where they are used, or at least in the same block. https://github.com/tensorflow/tensorflow/issues/56089\n"
     ]
    },
    {
     "name": "stderr",
     "output_type": "stream",
     "text": [
      "2023-04-13 14:17:58.202878: E tensorflow/compiler/xla/stream_executor/cuda/cuda_driver.cc:267] failed call to cuInit: CUDA_ERROR_NO_DEVICE: no CUDA-capable device is detected\n",
      "2023-04-13 14:17:58.202950: I tensorflow/compiler/xla/stream_executor/cuda/cuda_diagnostics.cc:156] kernel driver does not appear to be running on this host (ISCN5CG2091P37): /proc/driver/nvidia/version does not exist\n",
      "2023-04-13 14:17:58.203354: I tensorflow/core/platform/cpu_feature_guard.cc:193] This TensorFlow binary is optimized with oneAPI Deep Neural Network Library (oneDNN) to use the following CPU instructions in performance-critical operations:  SSE4.1 SSE4.2 AVX AVX2 AVX512F AVX512_VNNI FMA\n",
      "To enable them in other operations, rebuild TensorFlow with the appropriate compiler flags.\n"
     ]
    }
   ],
   "source": [
    "data_path = Path.cwd().parent.parent.parent/'data_first/Trainingsdata_1024_1224'\n",
    "IMAGE_HEIGHT = 1024\n",
    "IMAGE_WIDTH = 1224\n",
    "preprocess_obj = Preprocess(\n",
    "                           image_path=data_path/'X',\n",
    "                           label_path=data_path/'y',\n",
    "                           im_height=IMAGE_HEIGHT,\n",
    "                           im_width=IMAGE_WIDTH,\n",
    "                           bs=BATCH_SIZE\n",
    "                           )\n",
    "train_ds, test_ds = preprocess_obj.create_train_test_dataset()"
   ]
  },
  {
   "cell_type": "code",
   "execution_count": null,
   "metadata": {},
   "outputs": [
    {
     "name": "stdout",
     "output_type": "stream",
     "text": [
      "(10, 1024, 1224, 1)\n",
      "1.0\n",
      "1.0\n",
      "(10, 1024, 1224, 1)\n",
      "1.0\n",
      "1.0\n"
     ]
    },
    {
     "name": "stderr",
     "output_type": "stream",
     "text": [
      "2023-04-13 14:18:00.397396: W tensorflow/core/kernels/data/cache_dataset_ops.cc:856] The calling iterator did not fully read the dataset being cached. In order to avoid unexpected truncation of the dataset, the partially cached contents of the dataset  will be discarded. This can happen if you have an input pipeline similar to `dataset.cache().take(k).repeat()`. You should use `dataset.take(k).cache().repeat()` instead.\n"
     ]
    }
   ],
   "source": [
    "for img,lbl in train_ds.take(2):\n",
    "    print(img.shape)\n",
    "    print(np.max(lbl.numpy()))\n",
    "    print(np.max(img.numpy()))\n"
   ]
  },
  {
   "cell_type": "code",
   "execution_count": null,
   "metadata": {},
   "outputs": [],
   "source": []
  },
  {
   "cell_type": "code",
   "execution_count": null,
   "metadata": {},
   "outputs": [],
   "source": [
    "#| export\n",
    "def fcn_8_decoder(convs, n_classes):\n",
    "    \"\"\"\n",
    "    Defines the FCN 8 decoder.\n",
    "    Args:\n",
    "    convs (tuple of tensors) - output of the encoder network\n",
    "    n_classes (int) - number of classes\n",
    "    Returns:\n",
    "    tensor with shape (height, width, n_classes) containing class probabilities\n",
    "    \"\"\"\n",
    "    # unpack the output of the encoder\n",
    "    f1, f2, f3, f4, f5 = convs\n",
    "    # upsample the output of the encoder then crop extra pixels # that were introduced\n",
    "    o1 = tf.keras.layers.Conv2DTranspose(\n",
    "               n_classes, kernel_size=(4, 4),\n",
    "               strides=(2, 2),\n",
    "               use_bias=False)(f5)\n",
    "    o1 = tf.keras.layers.Cropping2D(\n",
    "               cropping=(1, 1))(o1)\n",
    "    # load the pool 4 prediction and do a\n",
    "    # 1x1 convolution to reshape it to the same shape of `o1` above\n",
    "    o2 = f4\n",
    "    o2 = tf.keras.layers.Conv2D(\n",
    "               n_classes,\n",
    "               (1, 1),\n",
    "               activation='relu',\n",
    "               padding='same')(f4)\n",
    "    # add the results of the upsampling and pool 4 prediction\n",
    "    o1 = tf.keras.layers.Add()([o1, o2])\n",
    "\n",
    "    # Now upsampling the resulting tensor 2 times\n",
    "    o1 = tf.keras.layers.Conv2DTranspose(\n",
    "              n_classes, (4, 4),\n",
    "              strides=(2, 2),\n",
    "              use_bias=False)(f3)\n",
    "    o1 = tf.keras.layers.Cropping2D(\n",
    "             cropping=(1, 1))(o1)\n",
    "\n",
    "    # load the pool 3 prediction and do a 1x1 convolution to reshape it to the\n",
    "    # same shape of `o1` above\n",
    "    o2 = f2\n",
    "    o2 = tf.keras.layers.Conv2D(\n",
    "             n_classes, (1, 1),\n",
    "             padding='same',\n",
    "             activation='relu'\n",
    "             )(f2)\n",
    "    # add the results of the upsampling and pool 3 prediction\n",
    "    o1 = tf.keras.layers.Add()([o1, o2])\n",
    "    \n",
    "\n",
    "    # upsample up to the size of the original image\n",
    "    o1 = tf.keras.layers.Conv2DTranspose(\n",
    "            num_classes,\n",
    "            (8, 8),\n",
    "            strides=(8, 8),\n",
    "            use_bias=False)(f1)\n",
    "    o1 = tf.keras.layers.Conv2D(\n",
    "             n_classes, (1, 1),\n",
    "             padding='same',\n",
    "             activation='relu'\n",
    "             )(o1)\n",
    "    # append a softmax to get the class probabilities\n",
    "    o1 = tf.keras.layers.Activation(\n",
    "          'softmax')(o1)\n",
    "\n",
    "    return o1"
   ]
  },
  {
   "cell_type": "code",
   "execution_count": null,
   "metadata": {},
   "outputs": [],
   "source": [
    "#| export\n",
    "def segmentation_model():\n",
    "    \"\"\"\n",
    "    Model will be created from encoder and decoder\n",
    "    \"\"\"\n",
    "    inputs = tf.keras.layers.Input(\n",
    "           shape=(IMAGE_HEIGHT, IMAGE_WIDTH, 1,))\n",
    "    convs = VGG_16(\n",
    "            input_image=inputs\n",
    "            )\n",
    "    outputs = fcn_8_decoder(\n",
    "             convs,\n",
    "             num_classes)\n",
    "    model = tf.keras.Model(\n",
    "            inputs=inputs,\n",
    "            outputs=outputs)\n",
    "    return model"
   ]
  },
  {
   "cell_type": "code",
   "execution_count": null,
   "metadata": {},
   "outputs": [],
   "source": [
    "inputs = tf.keras.layers.Input(\n",
    "        shape=(IMAGE_HEIGHT, IMAGE_WIDTH, 1,))\n",
    "convs = VGG_16(\n",
    "        input_image=inputs\n",
    "        )"
   ]
  },
  {
   "cell_type": "code",
   "execution_count": null,
   "metadata": {},
   "outputs": [
    {
     "data": {
      "text/plain": [
       "(<KerasTensor: shape=(None, 512, 612, 64) dtype=float32 (created by layer 'block1_pool1')>,\n",
       " <KerasTensor: shape=(None, 256, 306, 128) dtype=float32 (created by layer 'block2_pool1')>,\n",
       " <KerasTensor: shape=(None, 128, 153, 256) dtype=float32 (created by layer 'block3_pool2')>,\n",
       " <KerasTensor: shape=(None, 64, 76, 512) dtype=float32 (created by layer 'block4_pool2')>,\n",
       " <KerasTensor: shape=(None, 32, 38, 4096) dtype=float32 (created by layer 'conv7')>)"
      ]
     },
     "execution_count": null,
     "metadata": {},
     "output_type": "execute_result"
    }
   ],
   "source": [
    "convs"
   ]
  },
  {
   "cell_type": "code",
   "execution_count": null,
   "metadata": {},
   "outputs": [],
   "source": [
    "model = segmentation_model()"
   ]
  },
  {
   "cell_type": "code",
   "execution_count": null,
   "metadata": {},
   "outputs": [],
   "source": []
  },
  {
   "cell_type": "code",
   "execution_count": null,
   "metadata": {},
   "outputs": [
    {
     "data": {
      "image/png": "[encoded data removed]",
      "text/plain": [
       "<IPython.core.display.Image object>"
      ]
     },
     "execution_count": null,
     "metadata": {},
     "output_type": "execute_result"
    }
   ],
   "source": [
    "show_model(model)"
   ]
  },
  {
   "cell_type": "code",
   "execution_count": null,
   "metadata": {},
   "outputs": [],
   "source": [
    "#| export\n",
    "class CosineDecay(tf.keras.optimizers.schedules.LearningRateSchedule):\n",
    "    def __init__(self, initial_learning_rate, total_steps, warmup_steps=0, alpha=0.0, name=None):\n",
    "        super().__init__()\n",
    "        self.initial_learning_rate = tf.cast(initial_learning_rate, tf.float64)\n",
    "        self.total_steps = total_steps\n",
    "        self.warmup_steps = warmup_steps\n",
    "        self.alpha = alpha\n",
    "        self.name = name\n",
    "        \n",
    "    def __call__(self, step):\n",
    "        if self.warmup_steps > 0:\n",
    "            lr = (step / self.warmup_steps) * self.initial_learning_rate\n",
    "        else:\n",
    "            lr = self.initial_learning_rate\n",
    "            \n",
    "        cosine_decay = 0.5 * (1 + tf.math.cos(tf.constant(math.pi) * (tf.cast(step, dtype=tf.float32) - self.warmup_steps) / float(self.total_steps - self.warmup_steps)))\n",
    "        decayed = (1 - self.alpha) * cosine_decay + self.alpha\n",
    "        decayed = tf.cast(decayed, tf.float64)\n",
    "        return lr * decayed\n",
    "    \n",
    "    def get_config(self):\n",
    "        return {\n",
    "            \"initial_learning_rate\": self.initial_learning_rate,\n",
    "            \"total_steps\": self.total_steps,\n",
    "            \"warmup_steps\": self.warmup_steps,\n",
    "            \"alpha\": self.alpha,\n",
    "            \"name\": self.name\n",
    "        }\n",
    "    \n"
   ]
  },
  {
   "cell_type": "code",
   "execution_count": null,
   "metadata": {},
   "outputs": [
    {
     "data": {
      "text/plain": [
       "10"
      ]
     },
     "execution_count": null,
     "metadata": {},
     "output_type": "execute_result"
    }
   ],
   "source": [
    "preprocess_obj.bs"
   ]
  },
  {
   "cell_type": "code",
   "execution_count": null,
   "metadata": {},
   "outputs": [
    {
     "data": {
      "text/plain": [
       "(50, 12)"
      ]
     },
     "execution_count": null,
     "metadata": {},
     "output_type": "execute_result"
    }
   ],
   "source": [
    "epochs = 5\n",
    "#from easy_pin_detection.config import *\n",
    "#total_steps = train_count//BATCH_SIZE * epochs\n",
    "#warmup_steps = int(0.25 * total_steps)\n",
    "#total_steps, warmup_steps"
   ]
  },
  {
   "cell_type": "code",
   "execution_count": null,
   "metadata": {},
   "outputs": [],
   "source": [
    "#initial_learning_rate = 0.0001\n",
    "#alpha = 0.1\n",
    "#opt = tf.keras.optimizers.Adam(CosineDecay(\n",
    "                                        #initial_learning_rate=initial_learning_rate,\n",
    "                                        #total_steps=total_steps,\n",
    "                                        #warmup_steps=warmup_steps,\n",
    "                                        #alpha=alpha\n",
    "                                        #)\n",
    "                                #)"
   ]
  },
  {
   "cell_type": "markdown",
   "metadata": {},
   "source": []
  },
  {
   "cell_type": "code",
   "execution_count": null,
   "metadata": {},
   "outputs": [],
   "source": [
    "#from easy_pin_detection.saki_tools import tversky_focal_loss"
   ]
  },
  {
   "cell_type": "code",
   "execution_count": null,
   "metadata": {},
   "outputs": [],
   "source": [
    "#model.compile(\n",
    "    #loss=tversky_focal_loss(alpha=0.7, beta=0.3,gamma=1.5, name='TFL'),\n",
    "    #optimizer=opt,\n",
    "    #metrics=[\n",
    "            #'accuracy',\n",
    "            #tf.keras.metrics.BinaryIoU(\n",
    "                                            #name='iou_pin',\n",
    "                                            #target_class_ids=[1],\n",
    "                                            #threshold=0.5),\n",
    "\n",
    "            #])"
   ]
  },
  {
   "cell_type": "code",
   "execution_count": null,
   "metadata": {},
   "outputs": [
    {
     "data": {
      "text/plain": [
       "(Path('/home/goni/workspace/projects/easy_pin_detection/data_first/Trainingsdata_1024_1224/models/20230413-032741'),\n",
       " '20230413-032741_saved_model',\n",
       " 'training_001/checkpoint.cpkt',\n",
       " 'training_001/.logs')"
      ]
     },
     "execution_count": null,
     "metadata": {},
     "output_type": "execute_result"
    }
   ],
   "source": [
    "#_date_str = datetime.datetime.now().strftime(\"%Y%m%d-%H%M%S\")\n",
    "#MODEL_SAVE_PATH     = data_path/'models'/_date_str\n",
    "#MODEL_SAVE_FILE     = f\"{_date_str}_saved_model\"\n",
    "#Path(MODEL_SAVE_PATH).mkdir(parents=True, exist_ok=True);\n",
    "#MODEL_CPK_FILE      = \"training_001/checkpoint.cpkt\"\n",
    "#TF_BOARD_LOG        = \"training_001/.logs\"\n",
    "#MODEL_SAVE_PATH, MODEL_SAVE_FILE, MODEL_CPK_FILE, TF_BOARD_LOG"
   ]
  },
  {
   "cell_type": "code",
   "execution_count": null,
   "metadata": {},
   "outputs": [],
   "source": [
    "#tensorboard_callback = tf.keras.callbacks.TensorBoard(\n",
    "        #log_dir=TF_BOARD_LOG, \n",
    "        #histogram_freq=0,\n",
    "        #write_images=True, \n",
    "        #write_steps_per_second=True)\n",
    "    \n",
    "## Setup a training checkpoint\n",
    "#model_checkpoint = tf.keras.callbacks.ModelCheckpoint(\n",
    "        #filepath=MODEL_CPK_FILE,\n",
    "        #save_weights_only=True,\n",
    "        #save_best_only=True,\n",
    "        #monitor='loss',\n",
    "        #verbose=1) \n",
    "\n",
    "#early_stopping = tf.keras.callbacks.EarlyStopping(\n",
    "        ## Stop training when `val_loss` is no longer improving\n",
    "        #monitor=\"val_loss\",\n",
    "        ## \"no longer improving\" being defined as \"no better than 1e-2 less\"\n",
    "        #min_delta=1e-2,\n",
    "        ## \"no longer improving\" being further defined as \"for at least 2 epochs\"\n",
    "        #patience=5,\n",
    "        #verbose=1,\n",
    "    #)"
   ]
  },
  {
   "cell_type": "code",
   "execution_count": null,
   "metadata": {},
   "outputs": [],
   "source": [
    "#def display(display_list):\n",
    "  #plt.figure(figsize=(15, 15))\n",
    "\n",
    "  #title = ['Input Image', 'True Mask', 'Predicted Mask']\n",
    "\n",
    "  #for i in range(len(display_list)):\n",
    "    #plt.subplot(1, len(display_list), i+1)\n",
    "    #plt.title(title[i])\n",
    "    #plt.imshow(tf.keras.utils.array_to_img(display_list[i]))\n",
    "    #plt.axis('off')\n",
    "  #plt.show()"
   ]
  },
  {
   "cell_type": "code",
   "execution_count": null,
   "metadata": {},
   "outputs": [],
   "source": [
    "#for images, masks in train_ds.take(2):\n",
    "  #sample_image, sample_mask = images[0], masks[0]\n",
    "  #display([sample_image, sample_mask])"
   ]
  },
  {
   "cell_type": "code",
   "execution_count": null,
   "metadata": {},
   "outputs": [],
   "source": [
    "def create_mask(pred_mask):\n",
    "  pred_mask = tf.math.argmax(pred_mask, axis=-1)\n",
    "  pred_mask = pred_mask[..., tf.newaxis]\n",
    "  return pred_mask[0]"
   ]
  },
  {
   "cell_type": "code",
   "execution_count": null,
   "metadata": {},
   "outputs": [],
   "source": [
    "def show_predictions(dataset=None, num=1):\n",
    "  if dataset:\n",
    "    for image, mask in dataset.take(num):\n",
    "      pred_mask = model.predict(image)\n",
    "      display([image[0], mask[0], create_mask(pred_mask)])\n",
    "  else:\n",
    "    display([sample_image, sample_mask,\n",
    "             create_mask(model.predict(sample_image[tf.newaxis, ...]))])"
   ]
  },
  {
   "cell_type": "code",
   "execution_count": null,
   "metadata": {},
   "outputs": [],
   "source": [
    "#class DisplayCallback(tf.keras.callbacks.Callback):\n",
    "  #def on_epoch_end(self, epoch, logs=None):\n",
    "    #clear_output(wait=True)\n",
    "    #show_predictions()\n",
    "    #print ('\\nSample Prediction after epoch {}\\n'.format(epoch+1))"
   ]
  },
  {
   "cell_type": "code",
   "execution_count": null,
   "metadata": {},
   "outputs": [],
   "source": []
  },
  {
   "cell_type": "code",
   "execution_count": null,
   "metadata": {},
   "outputs": [],
   "source": [
    "#epochs = 1000\n",
    "#initial_learning_rate = 0.001\n",
    "#alpha = 0.1\n",
    "#opt = tf.keras.optimizers.Adam(CosineDecay(\n",
    "                                        #initial_learning_rate=initial_learning_rate,\n",
    "                                        #total_steps=total_steps,\n",
    "                                        #warmup_steps=warmup_steps,\n",
    "                                        #alpha=alpha\n",
    "                                        #)\n",
    "                                #)\n",
    "#model.compile(\n",
    "    #loss=tversky_focal_loss(alpha=0.7, beta=0.3,gamma=1.5, name='TFL'),\n",
    "    #optimizer=opt,\n",
    "    #metrics=[\n",
    "            #'accuracy',\n",
    "            #tf.keras.metrics.BinaryIoU(\n",
    "                                            #name='iou_pin',\n",
    "                                            #target_class_ids=[1],\n",
    "                                            #threshold=0.5),\n",
    "\n",
    "            #])\n",
    "\n",
    "#history = model.fit(train_ds,\n",
    "                    #steps_per_epoch=steps_per_epoch, \n",
    "                    #validation_data=test_ds,\n",
    "                    #validation_steps=validation_steps, \n",
    "                    #callbacks=[tensorboard_callback, model_checkpoint, DisplayCallback()],\n",
    "                    #epochs=epochs)\n",
    "\n",
    "#tf.saved_model.save(model, f'{MODEL_SAVE_PATH}/{MODEL_SAVE_FILE}')"
   ]
  },
  {
   "cell_type": "code",
   "execution_count": null,
   "metadata": {},
   "outputs": [],
   "source": []
  },
  {
   "cell_type": "code",
   "execution_count": null,
   "metadata": {},
   "outputs": [],
   "source": []
  },
  {
   "cell_type": "code",
   "execution_count": null,
   "metadata": {},
   "outputs": [],
   "source": []
  },
  {
   "cell_type": "code",
   "execution_count": null,
   "metadata": {},
   "outputs": [],
   "source": [
    "#| hide\n",
    "import nbdev; nbdev.nbdev_export()"
   ]
  },
  {
   "cell_type": "code",
   "execution_count": null,
   "metadata": {},
   "outputs": [],
   "source": []
  }
 ],
 "metadata": {
  "kernelspec": {
   "display_name": "python3",
   "language": "python",
   "name": "python3"
  }
 },
 "nbformat": 4,
 "nbformat_minor": 2
}
