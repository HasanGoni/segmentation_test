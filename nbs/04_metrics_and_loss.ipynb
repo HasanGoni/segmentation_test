{
 "cells": [
  {
   "attachments": {},
   "cell_type": "markdown",
   "metadata": {},
   "source": [
    "# Metrics and loss"
   ]
  },
  {
   "cell_type": "markdown",
   "metadata": {},
   "source": [
    "> These functions are taken mostly from sakitools, which is developed by Fabian hickert "
   ]
  },
  {
   "cell_type": "code",
   "execution_count": null,
   "metadata": {},
   "outputs": [],
   "source": [
    "#| default_exp metrics_and_loss"
   ]
  },
  {
   "cell_type": "code",
   "execution_count": null,
   "metadata": {},
   "outputs": [
    {
     "name": "stderr",
     "output_type": "stream",
     "text": [
      "2023-04-13 01:57:52.756711: I tensorflow/core/platform/cpu_feature_guard.cc:193] This TensorFlow binary is optimized with oneAPI Deep Neural Network Library (oneDNN) to use the following CPU instructions in performance-critical operations:  SSE4.1 SSE4.2 AVX AVX2 AVX512F AVX512_VNNI FMA\n",
      "To enable them in other operations, rebuild TensorFlow with the appropriate compiler flags.\n",
      "2023-04-13 01:57:53.062096: I tensorflow/core/util/port.cc:104] oneDNN custom operations are on. You may see slightly different numerical results due to floating-point round-off errors from different computation orders. To turn them off, set the environment variable `TF_ENABLE_ONEDNN_OPTS=0`.\n"
     ]
    }
   ],
   "source": [
    "#| export\n",
    "import tensorflow as tf"
   ]
  },
  {
   "cell_type": "code",
   "execution_count": null,
   "metadata": {},
   "outputs": [],
   "source": [
    "#| export\n",
    "def dice_coef(y_true, y_pred, smooth=0):        \n",
    "    y_true_f = tf.keras.backend.flatten(y_true)\n",
    "    y_pred_f = tf.keras.backend.flatten(y_pred)\n",
    "    intersection =  tf.keras.backend.sum(y_true_f * y_pred_f)\n",
    "    dice = (2. * intersection + smooth) / ( tf.keras.backend.sum(y_true_f) + tf.keras.backend.sum(y_pred_f) + smooth)\n",
    "    return dice\n"
   ]
  },
  {
   "cell_type": "code",
   "execution_count": null,
   "metadata": {},
   "outputs": [],
   "source": [
    "#| export\n",
    "def tversky_index(alpha=0.5, beta=0.5, gamma=1.5,name=None):\n",
    "    def TI(y_true, y_pred):\n",
    "        y_true = tf.keras.backend.flatten(y_true)\n",
    "        y_pred = tf.keras.backend.flatten(y_pred)\n",
    "    \n",
    "        true_positives = tf.keras.backend.sum(y_true * y_pred)\n",
    "        false_positives = tf.keras.backend.sum(y_pred * (1 - y_true))\n",
    "        false_negatives = tf.keras.backend.sum((1 - y_pred) * y_true)\n",
    "\n",
    "        numerator = true_positives + 1e-7\n",
    "        denominator = true_positives + alpha * false_negatives + beta * false_positives + 1e-7\n",
    "        tversky_index = numerator / denominator\n",
    "        return tversky_index\n",
    "    if name is None:\n",
    "        TI.__name__ = \"TI_%.02f_%.02f_%.02f\" % (alpha, beta, gamma)\n",
    "    else:\n",
    "        TI.__name__ = name\n",
    "    return TI\n",
    "\n",
    "\n",
    "class FNR(tf.keras.metrics.Recall):\n",
    "    \"\"\"! FNR - False negative rate metric\n",
    "             FN / (FN + TP)\n",
    "    \"\"\"\n",
    "    def __init__(self, thresholds=0.5, name=\"fnr_escapee\", **kwargs):\n",
    "        super().__init__(name=name, thresholds=thresholds, **kwargs)\n",
    "        \n",
    "    def result(self):\n",
    "        return 1.0 - super().result()\n",
    "    \n",
    "    \n",
    "class FDR(tf.keras.metrics.Precision):\n",
    "    \"\"\"! FDR - False discovery rate metric\n",
    "            FP / (FP + TP)\n",
    "    \"\"\"\n",
    "    def __init__(self, thresholds=0.5, name=\"fdr_overreject\", **kwargs):\n",
    "        super().__init__(name=name, thresholds=thresholds, **kwargs)\n",
    "        \n",
    "    def result(self):\n",
    "        return 1.0 - super().result()\n",
    "        \n",
    "    \n",
    "#\n",
    "# Loss Functions\n",
    "#\n",
    "\n",
    "def dice_coef_loss(y_true, y_pred):\n",
    "    #return 1 - tf.keras.backend.log(dice_coef(y_true, y_pred))\n",
    "    return 1 - dice_coef(y_true, y_pred)\n",
    "\n",
    "def dice_loss(y_true, y_pred):\n",
    "    return dice_coef_loss(y_true, y_pred)\n",
    "\n",
    "def tversky_focal_loss(alpha=0.5, beta=0.5, gamma=1.5, name=None):\n",
    "    def TFL(y_true, y_pred):\n",
    "        ti = tversky_index(alpha, beta, gamma)\n",
    "        return tf.keras.backend.pow(1 - ti(y_true, y_pred), gamma)\n",
    "    if name is None:\n",
    "        TFL.__name__ = \"TFL_%.02f_%.02f_%.02f\" % (alpha, beta, gamma)\n",
    "    else:\n",
    "        TFL.__name__ = name\n",
    "    \n",
    "    return TFL"
   ]
  },
  {
   "cell_type": "code",
   "execution_count": null,
   "metadata": {},
   "outputs": [],
   "source": [
    "#| hide\n",
    "import nbdev; nbdev.nbdev_export()"
   ]
  },
  {
   "cell_type": "code",
   "execution_count": null,
   "metadata": {},
   "outputs": [],
   "source": []
  }
 ],
 "metadata": {
  "kernelspec": {
   "display_name": "base",
   "language": "python",
   "name": "python3"
  }
 },
 "nbformat": 4,
 "nbformat_minor": 2
}
