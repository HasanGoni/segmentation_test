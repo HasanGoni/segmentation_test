{
 "cells": [
  {
   "cell_type": "code",
   "execution_count": null,
   "metadata": {},
   "outputs": [],
   "source": [
    "#| default_exp mae.model_development"
   ]
  },
  {
   "cell_type": "markdown",
   "id": "00d961ae",
   "metadata": {},
   "source": [
    "# Masked Autoencoder Model\n",
    "> MAE model development from github"
   ]
  },
  {
   "cell_type": "code",
   "execution_count": 1,
   "id": "a73ec45d",
   "metadata": {},
   "outputs": [],
   "source": [
    "from cv_tools.imports import *"
   ]
  },
  {
   "cell_type": "markdown",
   "id": "280d4450",
   "metadata": {},
   "source": [
    "# Create positional embeddings"
   ]
  },
  {
   "cell_type": "markdown",
   "id": "bb9dece7",
   "metadata": {},
   "source": [
    "- 2D sine-cosine position embedding\n",
    "- References:\n",
    "\t- [Transformer](https://github.com/tensorflow/models/blob/master/official/nlp/transformer/model_utils.py)\n",
    "\t- [MoCo v3](https://github.com/facebookresearch/moco-v3)"
   ]
  },
  {
   "cell_type": "code",
   "execution_count": 2,
   "id": "c7712f05",
   "metadata": {},
   "outputs": [],
   "source": [
    "#| export\n",
    "def get_1d_sincos_pos_embed_from_grid(\n",
    "        embed_dim, \n",
    "        pos\n",
    "        ):\n",
    "    \"\"\"\n",
    "    embed_dim: output dimension for each position\n",
    "    pos: a list of positions to be encoded: size (M,)\n",
    "    out: (M, D)\n",
    "    \"\"\"\n",
    "    assert embed_dim % 2 == 0\n",
    "    omega = np.arange(embed_dim // 2, dtype=np.float)\n",
    "    omega /= embed_dim / 2.\n",
    "    omega = 1. / 10000**omega  # (D/2,)\n",
    "\n",
    "    pos = pos.reshape(-1)  # (M,)\n",
    "    out = np.einsum('m,d->md', pos, omega)  # (M, D/2), outer product\n",
    "\n",
    "    emb_sin = np.sin(out) # (M, D/2)\n",
    "    emb_cos = np.cos(out) # (M, D/2)\n",
    "\n",
    "    emb = np.concatenate([emb_sin, emb_cos], axis=1)  # (M, D)\n",
    "    return emb"
   ]
  },
  {
   "cell_type": "code",
   "execution_count": 3,
   "id": "9d778bc8",
   "metadata": {},
   "outputs": [],
   "source": [
    "#| export\n",
    "def get_2d_sincos_pos_embed_from_grid(\n",
    "        embed_dim, \n",
    "        grid\n",
    "        ):\n",
    "    assert embed_dim % 2 == 0\n",
    "\n",
    "    # use half of dimensions to encode grid_h\n",
    "    emb_h = get_1d_sincos_pos_embed_from_grid(embed_dim // 2, grid[0])  # (H*W, D/2)\n",
    "    emb_w = get_1d_sincos_pos_embed_from_grid(embed_dim // 2, grid[1])  # (H*W, D/2)\n",
    "\n",
    "    emb = np.concatenate([emb_h, emb_w], axis=1) # (H*W, D)\n",
    "    return emb"
   ]
  },
  {
   "cell_type": "code",
   "execution_count": 4,
   "id": "bacec620",
   "metadata": {},
   "outputs": [],
   "source": [
    "#| export\n",
    "def get_2d_sincos_pos_embed(\n",
    "        embed_dim, \n",
    "        grid_size, \n",
    "        cls_token=False):\n",
    "    \"\"\"\n",
    "    grid_size: int of the grid height and width\n",
    "    return:\n",
    "    pos_embed: [grid_size*grid_size, embed_dim] or [1+grid_size*grid_size, embed_dim] (w/ or w/o cls_token)\n",
    "    \"\"\"\n",
    "    grid_h = np.arange(grid_size, dtype=np.float32)\n",
    "    grid_w = np.arange(grid_size, dtype=np.float32)\n",
    "    grid = np.meshgrid(grid_w, grid_h)  # here w goes first\n",
    "    grid = np.stack(grid, axis=0)\n",
    "\n",
    "    grid = grid.reshape([2, 1, grid_size, grid_size])\n",
    "    pos_embed = get_2d_sincos_pos_embed_from_grid(embed_dim, grid)\n",
    "    if cls_token:\n",
    "        pos_embed = np.concatenate([np.zeros([1, embed_dim]), pos_embed], axis=0)\n",
    "    return pos_embed\n"
   ]
  },
  {
   "cell_type": "code",
   "execution_count": null,
   "id": "2c67cf34",
   "metadata": {},
   "outputs": [],
   "source": []
  },
  {
   "cell_type": "code",
   "execution_count": null,
   "metadata": {},
   "outputs": [],
   "source": [
    "#| hide\n",
    "import nbdev; nbdev.nbdev_export()"
   ]
  }
 ],
 "metadata": {
  "kernelspec": {
   "display_name": "anomalib_dataset",
   "language": "python",
   "name": "python3"
  },
  "language_info": {
   "codemirror_mode": {
    "name": "ipython",
    "version": 3
   },
   "file_extension": ".py",
   "mimetype": "text/x-python",
   "name": "python",
   "nbconvert_exporter": "python",
   "pygments_lexer": "ipython3",
   "version": "3.11.9"
  }
 },
 "nbformat": 4,
 "nbformat_minor": 5
}
