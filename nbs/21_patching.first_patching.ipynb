{
 "cells": [
  {
   "cell_type": "code",
   "execution_count": 0,
   "metadata": {},
   "outputs": [],
   "source": [
    "#| default_exp patching.first_patching"
   ]
  },
  {
   "cell_type": "markdown",
   "metadata": {},
   "source": [
    "# Patchify Image\n",
    "> Create first patching of images"
   ]
  },
  {
   "cell_type": "code",
   "execution_count": 1,
   "metadata": {},
   "outputs": [],
   "source": [
    "#| hide\n",
    "%load_ext autoreload\n",
    "%autoreload 2"
   ]
  },
  {
   "cell_type": "code",
   "execution_count": 2,
   "id": "63f17969",
   "metadata": {},
   "outputs": [],
   "source": [
    "#| export\n",
    "from cv_tools.core import *\n",
    "from cv_tools.imports import *\n",
    "from cv_tools.data_processing.smb_tools import *\n"
   ]
  },
  {
   "cell_type": "code",
   "execution_count": 4,
   "id": "c224891e",
   "metadata": {},
   "outputs": [],
   "source": [
    "#| export\n",
    "import torch\n",
    "from torch import nn\n"
   ]
  },
  {
   "cell_type": "code",
   "execution_count": 12,
   "id": "dd5e8f1b",
   "metadata": {},
   "outputs": [],
   "source": [
    "img = torch.randn(1, 1, 1152, 1632)\n",
    "H, W = img.shape[2:]\n",
    "tile_size = 256\n",
    "overlap = 32\n",
    "h_steps = max(1, (H - overlap) // (tile_size - overlap))"
   ]
  },
  {
   "cell_type": "code",
   "execution_count": 0,
   "metadata": {},
   "outputs": [],
   "source": [
    "#| export\n",
    "class TileProcessor(nn.Module):\n",
    "    def __init__(self, tile_size=256, overlap=32):\n",
    "        super().__init__()\n",
    "        self.tile_size = tile_size\n",
    "        self.overlap = overlap\n",
    "    \n",
    "    def forward(self, x):\n",
    "        \"\"\"Split image into overlapping tiles and return tiles with their positions\"\"\"\n",
    "        B, C, H, W = x.shape\n",
    "        tile_size = self.tile_size\n",
    "        overlap = self.overlap\n",
    "        \n",
    "        tiles = []\n",
    "        positions = []\n",
    "        \n",
    "        # Calculate steps with overlap\n",
    "        h_steps = max(1, (H - overlap) // (tile_size - overlap))\n",
    "        w_steps = max(1, (W - overlap) // (tile_size - overlap))\n",
    "        \n",
    "        for i in range(h_steps):\n",
    "            h_start = min(i * (tile_size - overlap), H - tile_size)\n",
    "            for j in range(w_steps):\n",
    "                w_start = min(j * (tile_size - overlap), W - tile_size)\n",
    "                \n",
    "                # Extract tile\n",
    "                tile = x[:, :, h_start:h_start+tile_size, w_start:w_start+tile_size]\n",
    "                tiles.append(tile)\n",
    "                \n",
    "                # Store position\n",
    "                positions.append([h_start, w_start, h_start+tile_size, w_start+tile_size])\n",
    "        \n",
    "        # If we have any space left at the bottom or right, add extra tiles\n",
    "        if h_steps * (tile_size - overlap) + overlap < H:\n",
    "            h_start = H - tile_size\n",
    "            for j in range(w_steps):\n",
    "                w_start = min(j * (tile_size - overlap), W - tile_size)\n",
    "                tile = x[:, :, h_start:h_start+tile_size, w_start:w_start+tile_size]\n",
    "                tiles.append(tile)\n",
    "                positions.append([h_start, w_start, h_start+tile_size, w_start+tile_size])\n",
    "        \n",
    "        if w_steps * (tile_size - overlap) + overlap < W:\n",
    "            w_start = W - tile_size\n",
    "            for i in range(h_steps):\n",
    "                h_start = min(i * (tile_size - overlap), H - tile_size)\n",
    "                tile = x[:, :, h_start:h_start+tile_size, w_start:w_start+tile_size]\n",
    "                tiles.append(tile)\n",
    "                positions.append([h_start, w_start, h_start+tile_size, w_start+tile_size])\n",
    "        \n",
    "        # Also add the corner if needed\n",
    "        if (h_steps * (tile_size - overlap) + overlap < H and \n",
    "            w_steps * (tile_size - overlap) + overlap < W):\n",
    "            h_start = H - tile_size\n",
    "            w_start = W - tile_size\n",
    "            tile = x[:, :, h_start:h_start+tile_size, w_start:w_start+tile_size]\n",
    "            tiles.append(tile)\n",
    "            positions.append([h_start, w_start, h_start+tile_size, w_start+tile_size])\n",
    "        \n",
    "        # Stack tiles into a batch\n",
    "        tiles = torch.cat(tiles, dim=0)\n",
    "        positions_tensor = torch.tensor(positions, device=x.device)\n",
    "        \n",
    "        return tiles, positions_tensor"
   ]
  },
  {
   "cell_type": "code",
   "execution_count": 3,
   "metadata": {},
   "outputs": [],
   "source": [
    "#| hide\n",
    "import nbdev; nbdev.nbdev_export('21_patching.first_patching.ipynb')"
   ]
  },
  {
   "cell_type": "code",
   "execution_count": null,
   "id": "e2e31574",
   "metadata": {},
   "outputs": [],
   "source": []
  }
 ],
 "metadata": {
  "kernelspec": {
   "display_name": "base",
   "language": "python",
   "name": "python3"
  },
  "language_info": {
   "codemirror_mode": {
    "name": "ipython",
    "version": 3
   },
   "file_extension": ".py",
   "mimetype": "text/x-python",
   "name": "python",
   "nbconvert_exporter": "python",
   "pygments_lexer": "ipython3",
   "version": "3.12.2"
  }
 },
 "nbformat": 4,
 "nbformat_minor": 5
}
