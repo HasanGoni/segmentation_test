{
 "cells": [
  {
   "cell_type": "code",
   "execution_count": null,
   "metadata": {},
   "outputs": [],
   "source": [
    "#| default_exp inference.pt_inference"
   ]
  },
  {
   "cell_type": "markdown",
   "metadata": {},
   "source": [
    "# Create pytorch Inference pipeline\n",
    "> Pytorch inference pipeline creation"
   ]
  },
  {
   "cell_type": "code",
   "execution_count": null,
   "metadata": {},
   "outputs": [],
   "source": [
    "#| hide\n",
    "%load_ext autoreload\n",
    "%autoreload 2"
   ]
  },
  {
   "cell_type": "code",
   "execution_count": null,
   "metadata": {},
   "outputs": [],
   "source": [
    "#| export\n",
    "from cv_tools.core import *\n",
    "from cv_tools.imports import *\n"
   ]
  },
  {
   "cell_type": "code",
   "execution_count": null,
   "id": "293c7648",
   "metadata": {},
   "outputs": [],
   "source": [
    "#| export\n",
    "import torch"
   ]
  },
  {
   "cell_type": "code",
   "execution_count": null,
   "id": "da1ad937",
   "metadata": {},
   "outputs": [],
   "source": [
    "#| export\n",
    "from typing import Optional, Type\n"
   ]
  },
  {
   "cell_type": "code",
   "execution_count": null,
   "id": "41ec1952",
   "metadata": {},
   "outputs": [],
   "source": [
    "#| export\n",
    "from segmentation_test.pytorch_model_development import UNet\n"
   ]
  },
  {
   "cell_type": "code",
   "execution_count": null,
   "metadata": {},
   "outputs": [],
   "source": [
    "#| export\n",
    "def load_model(\n",
    "        model_path: str,\n",
    "        model_name: str,\n",
    "        device: str = 'cuda',\n",
    "        **model_params\n",
    "):\n",
    "    \"\"\"\n",
    "    Load a PyTorch model from a file.\n",
    "\n",
    "    Args:\n",
    "        model_path (str): Path to the saved model file\n",
    "        model_name (str): Name of the model class to instantiate (e.g. 'UNet')\n",
    "        device (str): Device to load the model on ('cuda' or 'cpu')\n",
    "        **model_params: Parameters to initialize the model class\n",
    "            For UNet example:\n",
    "            - in_channels (int): Number of input channels\n",
    "            - out_channels (int): Number of output classes\n",
    "            - max_pool_only (bool): Whether to use only max pooling\n",
    "            - near_size (int): Size of input image\n",
    "            - features (List[int]): List of filter sizes for each level\n",
    "\n",
    "    Returns:\n",
    "        torch.nn.Module: Loaded PyTorch model\n",
    "    \n",
    "    Example:\n",
    "        >>> loaded_model = load_model(\n",
    "        ...     model_path='path/to/model.pth',\n",
    "        ...     model_name='UNet',\n",
    "        ...     in_channels=1,\n",
    "        ...     out_channels=1, \n",
    "        ...     near_size=256,\n",
    "        ...     filters=[64, 128, 256],\n",
    "        ...     device='cuda'\n",
    "        ... )\n",
    "    \"\"\"\n",
    "    # Get the model class dynamically from the module\n",
    "    model_class = globals()[model_name]\n",
    "    \n",
    "    # Initialize model with provided parameters directly (not nested in model_params)\n",
    "    model = model_class(**model_params)\n",
    "    \n",
    "    # Load weights\n",
    "    checkpoint = torch.load(model_path, map_location=device)\n",
    "    \n",
    "    # Handle both state dict and full model saves\n",
    "    if 'model_state_dict' in checkpoint:\n",
    "        model.load_state_dict(checkpoint['model_state_dict'])\n",
    "    else:\n",
    "        model.load_state_dict(checkpoint)\n",
    "        \n",
    "    model.to(device)\n",
    "    model.eval()  # Set the model to evaluation mode\n",
    "    return model"
   ]
  },
  {
   "cell_type": "code",
   "execution_count": null,
   "id": "ced49a9c",
   "metadata": {},
   "outputs": [],
   "source": [
    "#| hide\n",
    "#| eval:false\n",
    "from segmentation_test.pytorch_model_development import UNet"
   ]
  },
  {
   "cell_type": "code",
   "execution_count": null,
   "id": "8e5db4ef",
   "metadata": {},
   "outputs": [],
   "source": [
    "#| hide\n",
    "#| eval:false\n",
    "model_path = '/home/hasan/Schreibtisch/projects/data/regensburg_xray/models/first_iteration_120_images_size_592/first_iteration_120_images_best_val_0.8527_epoch_186.pth'\n"
   ]
  },
  {
   "cell_type": "code",
   "execution_count": null,
   "id": "295f0f64",
   "metadata": {},
   "outputs": [
    {
     "name": "stderr",
     "output_type": "stream",
     "text": [
      "/tmp/ipykernel_115759/4163746290.py:43: FutureWarning: You are using `torch.load` with `weights_only=False` (the current default value), which uses the default pickle module implicitly. It is possible to construct malicious pickle data which will execute arbitrary code during unpickling (See https://github.com/pytorch/pytorch/blob/main/SECURITY.md#untrusted-models for more details). In a future release, the default value for `weights_only` will be flipped to `True`. This limits the functions that could be executed during unpickling. Arbitrary objects will no longer be allowed to be loaded via this mode unless they are explicitly allowlisted by the user via `torch.serialization.add_safe_globals`. We recommend you start setting `weights_only=True` for any use case where you don't have full control of the loaded file. Please open an issue on GitHub for any issues related to this experimental feature.\n",
      "  checkpoint = torch.load(model_path, map_location=device)\n"
     ]
    }
   ],
   "source": [
    "loaded_model = load_model(\n",
    "    model_path=model_path,\n",
    "    model_name='UNet',\n",
    "\tdevice='cuda',\n",
    "\tin_channels=1,\n",
    "\tout_channels=1,\n",
    "\tnear_size=256,\n",
    "\tfeatures=[64, 128, 256],\n",
    ")\t\n"
   ]
  },
  {
   "cell_type": "code",
   "execution_count": null,
   "metadata": {},
   "outputs": [],
   "source": [
    "#| hide\n",
    "import nbdev; nbdev.nbdev_export('17_inference.pt_inference.ipynb')"
   ]
  },
  {
   "cell_type": "code",
   "execution_count": null,
   "id": "7e68f518",
   "metadata": {},
   "outputs": [],
   "source": []
  }
 ],
 "metadata": {
  "kernelspec": {
   "display_name": "python3",
   "language": "python",
   "name": "python3"
  }
 },
 "nbformat": 4,
 "nbformat_minor": 5
}
