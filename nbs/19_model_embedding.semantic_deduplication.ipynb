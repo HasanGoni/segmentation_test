{
 "cells": [
  {
   "cell_type": "code",
   "execution_count": null,
   "metadata": {},
   "outputs": [],
   "source": [
    "#| default_exp model_embedding.semantic_deduplication"
   ]
  },
  {
   "cell_type": "markdown",
   "metadata": {},
   "source": [
    "# Remove semantically similar images\n",
    "> Remove semantically similar images from training dataset"
   ]
  },
  {
   "cell_type": "code",
   "execution_count": null,
   "metadata": {},
   "outputs": [],
   "source": [
    "#| hide\n",
    "%load_ext autoreload\n",
    "%autoreload 2"
   ]
  },
  {
   "cell_type": "code",
   "execution_count": null,
   "metadata": {},
   "outputs": [],
   "source": [
    "#| export\n",
    "from cv_tools.core import *\n",
    "from cv_tools.imports import *\n",
    "from glob import glob\n"
   ]
  },
  {
   "cell_type": "code",
   "execution_count": null,
   "metadata": {},
   "outputs": [],
   "source": [
    "#| export\n",
    "import torch\n",
    "import torch.nn as nn\n",
    "from torch.utils.data import Dataset, DataLoader\n",
    "from typing import List\n",
    "from PIL import Image\n",
    "import torchvision.transforms as transforms\n",
    "import h5py\n"
   ]
  },
  {
   "cell_type": "code",
   "execution_count": null,
   "id": "1d81528c",
   "metadata": {},
   "outputs": [],
   "source": []
  },
  {
   "cell_type": "code",
   "execution_count": null,
   "id": "d6df7e04",
   "metadata": {},
   "outputs": [],
   "source": [
    "from private_front_easy_pin_detection.pytorch_model_development import UnetManualMaxPoolOnly"
   ]
  },
  {
   "cell_type": "code",
   "execution_count": null,
   "id": "5406d02b",
   "metadata": {},
   "outputs": [],
   "source": [
    "import faiss"
   ]
  },
  {
   "cell_type": "code",
   "execution_count": null,
   "id": "0580a071",
   "metadata": {},
   "outputs": [],
   "source": [
    "DATA_PATH = os.getenv(\"DATA_PATH\")\n",
    "ROOT_PATH = Path(DATA_PATH, 'easy_front_pin_detection/curated_ds_224/trn')\n",
    "IMAGE_PATHS = Path(ROOT_PATH, 'images')\n",
    "MASK_PATHS = Path(ROOT_PATH, 'masks')\n",
    "MODEL_FN=\"first_224_no_resize_best_val_0.9347_epoch_87.pth\"\n",
    "MODEL_PATH=\"/home/hasan/Schreibtisch/projects/data/easy_front_pin_detection/curated_ds_224/models/first_224_no_resize/first_224_no_resize\"\n",
    "MODEL_PATH_FULL = Path(MODEL_PATH, MODEL_FN)\n",
    "#| export"
   ]
  },
  {
   "cell_type": "code",
   "execution_count": null,
   "id": "9bfe9d5e",
   "metadata": {},
   "outputs": [
    {
     "name": "stderr",
     "output_type": "stream",
     "text": [
      "/tmp/ipykernel_3013003/4167734355.py:5: FutureWarning: You are using `torch.load` with `weights_only=False` (the current default value), which uses the default pickle module implicitly. It is possible to construct malicious pickle data which will execute arbitrary code during unpickling (See https://github.com/pytorch/pytorch/blob/main/SECURITY.md#untrusted-models for more details). In a future release, the default value for `weights_only` will be flipped to `True`. This limits the functions that could be executed during unpickling. Arbitrary objects will no longer be allowed to be loaded via this mode unless they are explicitly allowlisted by the user via `torch.serialization.add_safe_globals`. We recommend you start setting `weights_only=True` for any use case where you don't have full control of the loaded file. Please open an issue on GitHub for any issues related to this experimental feature.\n",
      "  checkpoint = torch.load(MODEL_PATH_FULL)\n"
     ]
    }
   ],
   "source": [
    "model = UnetManualMaxPoolOnly(\n",
    "    in_channels=1,\n",
    "    n_classes=1\n",
    ")\n",
    "checkpoint = torch.load(MODEL_PATH_FULL)\n",
    "model.load_state_dict(\n",
    "    checkpoint['model_state_dict'], \n",
    ")\n",
    "model.to('cuda')\n",
    "model.eval();"
   ]
  },
  {
   "cell_type": "markdown",
   "id": "25beb0e7",
   "metadata": {},
   "source": [
    "> installing faiss was a huge pain, but it works now\n",
    "- conda install -c conda-forge faiss-gpu libblas=*=*mkl"
   ]
  },
  {
   "cell_type": "code",
   "execution_count": null,
   "id": "d3c41f75",
   "metadata": {},
   "outputs": [],
   "source": [
    "IMAGE_HIEGHT= 256\n",
    "IMAGE_WIDTH = 256"
   ]
  },
  {
   "cell_type": "code",
   "execution_count": null,
   "id": "637c34d5",
   "metadata": {},
   "outputs": [],
   "source": [
    "#| export\n",
    "class ImageFeatureDataset(Dataset):\n",
    "    def __init__(\n",
    "            self, \n",
    "            image_paths: List[str], \n",
    "            transform=None, \n",
    "            IMAGE_HEIGHT=256, \n",
    "            IMAGE_WIDTH=256\n",
    "        ):\n",
    "        self.image_paths = image_paths\n",
    "        self.transform = transform or transforms.Compose([\n",
    "            transforms.Resize((IMAGE_HEIGHT, IMAGE_WIDTH)),\n",
    "            transforms.ToTensor(),\n",
    "            #transforms.Normalize(mean=[0.485], std=[0.229])\n",
    "        ])\n",
    "\n",
    "    def __len__(self):\n",
    "        return len(self.image_paths)\n",
    "\n",
    "    def __getitem__(self, idx):\n",
    "        img_path = self.image_paths[idx]\n",
    "        image = Image.open(img_path).convert('L')  # Convert to grayscale\n",
    "        if self.transform:\n",
    "            image = self.transform(image)\n",
    "        return image, img_path"
   ]
  },
  {
   "cell_type": "code",
   "execution_count": null,
   "id": "4df50266",
   "metadata": {},
   "outputs": [],
   "source": []
  },
  {
   "cell_type": "code",
   "execution_count": null,
   "metadata": {},
   "outputs": [],
   "source": []
  },
  {
   "cell_type": "code",
   "execution_count": null,
   "id": "2929e9d8",
   "metadata": {},
   "outputs": [],
   "source": [
    "# Load the UNet and modify it to only use the encoder\n",
    "class EmbeddingModel(torch.nn.Module):\n",
    "    def __init__(self, unet_model):\n",
    "        super(EmbeddingModel, self).__init__()\n",
    "        self.encoder = unet_model.encoder  # Use only the encoder\n",
    "\n",
    "    def forward(self, x):\n",
    "        c1, c2, c3, c4, c5 = self.encoder(x)  # Extract the deepest features\n",
    "\t\t# Global average pooling on the last feature map\n",
    "        pooled = nn.AdaptiveAvgPool2d((1, 1))(c5)\n",
    "        return pooled.view(pooled.size(0), -1)"
   ]
  },
  {
   "cell_type": "code",
   "execution_count": null,
   "id": "78245ca2",
   "metadata": {},
   "outputs": [],
   "source": []
  },
  {
   "cell_type": "code",
   "execution_count": null,
   "id": "11ab4111",
   "metadata": {},
   "outputs": [],
   "source": [
    "#| export\n",
    "def extract_features(\n",
    "    model: nn.Module,\n",
    "    dataloader: DataLoader,\n",
    "    device: torch.device,\n",
    "    feature_dim: int = 256\n",
    ") -> Tuple[np.ndarray, List[str]]:\n",
    "    \"\"\"Extract features from images using the encoder.\"\"\"\n",
    "    features = np.zeros((len(dataloader.dataset), feature_dim), dtype=np.float32)\n",
    "    paths = []\n",
    "    \n",
    "    model.eval()\n",
    "    with torch.no_grad():\n",
    "        for idx, (batch, batch_paths) in enumerate(tqdm(dataloader, desc=\"Extracting features\")):\n",
    "            batch = batch.to(device)\n",
    "            batch_features = model(batch).cpu().numpy()\n",
    "            \n",
    "            start_idx = idx * dataloader.batch_size\n",
    "            end_idx = start_idx + len(batch)\n",
    "            features[start_idx:end_idx] = batch_features\n",
    "            paths.extend(batch_paths)\n",
    "    \n",
    "    return features, paths"
   ]
  },
  {
   "cell_type": "code",
   "execution_count": null,
   "id": "681e3e0a",
   "metadata": {},
   "outputs": [],
   "source": []
  },
  {
   "cell_type": "code",
   "execution_count": null,
   "id": "a20580c1",
   "metadata": {},
   "outputs": [],
   "source": [
    "#| export\n",
    "def find_duplicates(\n",
    "    features: np.ndarray,\n",
    "    paths: List[str],\n",
    "    similarity_threshold: float = 0.95\n",
    ") -> Dict[str, List[str]]:\n",
    "    \"\"\"Find duplicate images using FAISS indexing.\"\"\"\n",
    "    # Normalize features for cosine similarity\n",
    "    features = features.astype(np.float32)\n",
    "    faiss.normalize_L2(features)\n",
    "    \n",
    "    # Create FAISS index\n",
    "    index = faiss.IndexFlatIP(features.shape[1])  # Inner product for cosine similarity\n",
    "    index.add(features)\n",
    "    \n",
    "    # Search for similar images\n",
    "    similarities, indices = index.search(features, k=50)  # Get top 50 similar images\n",
    "    \n",
    "    # Group duplicates\n",
    "    duplicates = {}\n",
    "    processed = set()\n",
    "    \n",
    "    for i in range(len(features)):\n",
    "        if i in processed:\n",
    "            continue\n",
    "            \n",
    "        current_duplicates = []\n",
    "        for j, sim in zip(indices[i], similarities[i]):\n",
    "            if sim > similarity_threshold and i != j and j not in processed:\n",
    "                current_duplicates.append(paths[j])\n",
    "                processed.add(j)\n",
    "                \n",
    "        if current_duplicates:\n",
    "            duplicates[paths[i]] = current_duplicates\n",
    "            processed.add(i)\n",
    "    \n",
    "    return duplicates"
   ]
  },
  {
   "cell_type": "code",
   "execution_count": null,
   "id": "e77406c8",
   "metadata": {},
   "outputs": [
    {
     "data": {
      "text/plain": [
       "(#2775) [Path('/home/hasan/Schreibtisch/projects/data/easy_front_pin_detection/curated_ds_224/trn/images/5_13_2_2024107131220165_1.png'),Path('/home/hasan/Schreibtisch/projects/data/easy_front_pin_detection/curated_ds_224/trn/images/4_23_1_202410802725334_2.png'),Path('/home/hasan/Schreibtisch/projects/data/easy_front_pin_detection/curated_ds_224/trn/images/4_9_1_202410716105993_3.png'),Path('/home/hasan/Schreibtisch/projects/data/easy_front_pin_detection/curated_ds_224/trn/images/5_6_1_2024105213015837_1.png'),Path('/home/hasan/Schreibtisch/projects/data/easy_front_pin_detection/curated_ds_224/trn/images/3_2_2_202410894823249_4.png'),Path('/home/hasan/Schreibtisch/projects/data/easy_front_pin_detection/curated_ds_224/trn/images/1_27_1_2024107131427435_2.png'),Path('/home/hasan/Schreibtisch/projects/data/easy_front_pin_detection/curated_ds_224/trn/images/4_9_2_2024104131820122_1.png'),Path('/home/hasan/Schreibtisch/projects/data/easy_front_pin_detection/curated_ds_224/trn/images/4_16_2_2024104161418655_1.png'),Path('/home/hasan/Schreibtisch/projects/data/easy_front_pin_detection/curated_ds_224/trn/images/2_29_2_202410823351634_3.png'),Path('/home/hasan/Schreibtisch/projects/data/easy_front_pin_detection/curated_ds_224/trn/images/2_23_1_2024107111014525_1.png')...]"
      ]
     },
     "execution_count": null,
     "metadata": {},
     "output_type": "execute_result"
    }
   ],
   "source": [
    "IMAGE_PATHS.ls()"
   ]
  },
  {
   "cell_type": "code",
   "execution_count": null,
   "id": "5c818a82",
   "metadata": {},
   "outputs": [
    {
     "data": {
      "text/plain": [
       "2775"
      ]
     },
     "execution_count": null,
     "metadata": {},
     "output_type": "execute_result"
    }
   ],
   "source": [
    "ds=ImageFeatureDataset(glob(f'{IMAGE_PATHS}/*.png'))\n",
    "len(ds)"
   ]
  },
  {
   "cell_type": "code",
   "execution_count": null,
   "id": "0aaeaf62",
   "metadata": {},
   "outputs": [
    {
     "data": {
      "text/plain": [
       "torch.Size([32, 1, 256, 256])"
      ]
     },
     "execution_count": null,
     "metadata": {},
     "output_type": "execute_result"
    }
   ],
   "source": [
    "\n",
    "dl = DataLoader(ds, batch_size=32, num_workers=4, pin_memory=True)\n",
    "img, path = next(iter(dl))\n",
    "img.shape"
   ]
  },
  {
   "cell_type": "code",
   "execution_count": null,
   "id": "3b5b439a",
   "metadata": {},
   "outputs": [
    {
     "data": {
      "application/vnd.jupyter.widget-view+json": {
       "model_id": "bacff060289c4b14bc62064023ff04ef",
       "version_major": 2,
       "version_minor": 0
      },
      "text/plain": [
       "Extracting features:   0%|          | 0/87 [00:00<?, ?it/s]"
      ]
     },
     "metadata": {},
     "output_type": "display_data"
    }
   ],
   "source": [
    "model = EmbeddingModel(model)\n",
    "model.to('cuda')\n",
    "model.eval()\n",
    "features, paths = extract_features(model, dl, 'cuda')"
   ]
  },
  {
   "cell_type": "code",
   "execution_count": null,
   "id": "da2753a1",
   "metadata": {},
   "outputs": [
    {
     "data": {
      "text/plain": [
       "(2775, 256)"
      ]
     },
     "execution_count": null,
     "metadata": {},
     "output_type": "execute_result"
    }
   ],
   "source": [
    "features.shape"
   ]
  },
  {
   "cell_type": "code",
   "execution_count": null,
   "id": "cdec0447",
   "metadata": {},
   "outputs": [
    {
     "data": {
      "image/png": "[encoded data removed]",
      "text/plain": [
       "<Figure size 1000x800 with 1 Axes>"
      ]
     },
     "metadata": {},
     "output_type": "display_data"
    }
   ],
   "source": [
    "import umap\n",
    "import matplotlib.pyplot as plt\n",
    "\n",
    "# Convert features to numpy array for UMAP\n",
    "features_np = features\n",
    "\n",
    "# Apply UMAP\n",
    "reducer = umap.UMAP()\n",
    "embedding = reducer.fit_transform(features_np)\n",
    "\n",
    "# Plotting\n",
    "plt.figure(figsize=(10, 8))\n",
    "plt.scatter(embedding[:, 0], embedding[:, 1], s=5, alpha=0.5)\n",
    "plt.title('UMAP Visualization of Embeddings')\n",
    "plt.xlabel('UMAP 1')\n",
    "plt.ylabel('UMAP 2')\n",
    "plt.show()"
   ]
  },
  {
   "cell_type": "code",
   "execution_count": null,
   "id": "0963aa67",
   "metadata": {},
   "outputs": [],
   "source": [
    "#| export\n",
    "class InteractiveUMAPViewer:\n",
    "    def __init__(self, embeddings_path, image_folder, cache_dir=None):\n",
    "        \"\"\"\n",
    "        Initialize the UMAP viewer\n",
    "        embeddings_path: Path to H5 file containing embeddings\n",
    "        image_folder: Path to folder containing images\n",
    "        cache_dir: Optional path to cache UMAP results\n",
    "        \"\"\"\n",
    "        self.image_folder = Path(image_folder)\n",
    "        self.cache_dir = Path(cache_dir) if cache_dir else None\n",
    "        \n",
    "        # Load embeddings\n",
    "        print(\"Loading embeddings...\")\n",
    "        with h5py.File(embeddings_path, 'r') as f:\n",
    "            self.embeddings = np.array(f['embeddings'][:])\n",
    "            self.image_paths = [p.decode('utf-8') for p in f['image_paths'][:]]\n",
    "            \n",
    "        # Initialize UMAP\n",
    "        self.umap = UMAP(\n",
    "            n_components=2,\n",
    "            n_neighbors=15,\n",
    "            min_dist=0.1,\n",
    "            metric='euclidean',\n",
    "            random_state=42\n",
    "        )\n",
    "        \n",
    "    def compute_umap(self, force_recompute=False):\n",
    "        \"\"\"Compute UMAP embeddings with caching\"\"\"\n",
    "        if self.cache_dir:\n",
    "            cache_file = self.cache_dir / 'umap_cache.npy'\n",
    "            \n",
    "            if not force_recompute and cache_file.exists():\n",
    "                print(\"Loading cached UMAP embeddings...\")\n",
    "                return np.load(cache_file)\n",
    "        \n",
    "        print(\"Computing UMAP embeddings (this might take a while)...\")\n",
    "        embeddings_2d = self.umap.fit_transform(self.embeddings)\n",
    "        \n",
    "        if self.cache_dir:\n",
    "            self.cache_dir.mkdir(parents=True, exist_ok=True)\n",
    "            np.save(cache_file, embeddings_2d)\n",
    "            \n",
    "        return embeddings_2d\n"
   ]
  },
  {
   "cell_type": "code",
   "execution_count": null,
   "id": "bb453e8e",
   "metadata": {},
   "outputs": [],
   "source": [
    "#| export\n",
    "import numpy as np\n",
    "from umap import UMAP\n",
    "import plotly.graph_objects as go\n",
    "from dash import Dash, dcc, html\n",
    "from dash.dependencies import Input, Output\n",
    "import base64\n",
    "from PIL import Image\n",
    "import io\n",
    "from pathlib import Path\n",
    "import h5py\n",
    "from tqdm import tqdm\n",
    "import json\n",
    "import plotly.express as px\n",
    "import warnings\n",
    "warnings.filterwarnings('ignore')\n",
    "\n",
    "class InteractiveUMAPViewer:\n",
    "    def __init__(self, embeddings_path, image_folder, cache_dir=None):\n",
    "        \"\"\"\n",
    "        Initialize the UMAP viewer\n",
    "        embeddings_path: Path to H5 file containing embeddings\n",
    "        image_folder: Path to folder containing images\n",
    "        cache_dir: Optional path to cache UMAP results\n",
    "        \"\"\"\n",
    "        self.image_folder = Path(image_folder)\n",
    "        self.cache_dir = Path(cache_dir) if cache_dir else None\n",
    "        \n",
    "        # Load embeddings\n",
    "        print(\"Loading embeddings...\")\n",
    "        with h5py.File(embeddings_path, 'r') as f:\n",
    "            self.embeddings = np.array(f['embeddings'][:])\n",
    "            self.image_paths = [p.decode('utf-8') for p in f['image_paths'][:]]\n",
    "            \n",
    "        # Initialize UMAP\n",
    "        self.umap = UMAP(\n",
    "            n_components=2,\n",
    "            n_neighbors=15,\n",
    "            min_dist=0.1,\n",
    "            metric='euclidean',\n",
    "            random_state=42\n",
    "        )\n",
    "        \n",
    "    def compute_umap(self, force_recompute=False):\n",
    "        \"\"\"Compute UMAP embeddings with caching\"\"\"\n",
    "        if self.cache_dir:\n",
    "            cache_file = self.cache_dir / 'umap_cache.npy'\n",
    "            \n",
    "            if not force_recompute and cache_file.exists():\n",
    "                print(\"Loading cached UMAP embeddings...\")\n",
    "                return np.load(cache_file)\n",
    "        \n",
    "        print(\"Computing UMAP embeddings (this might take a while)...\")\n",
    "        embeddings_2d = self.umap.fit_transform(self.embeddings)\n",
    "        \n",
    "        if self.cache_dir:\n",
    "            self.cache_dir.mkdir(parents=True, exist_ok=True)\n",
    "            np.save(cache_file, embeddings_2d)\n",
    "            \n",
    "        return embeddings_2d\n",
    "        \n",
    "    def create_app(self):\n",
    "        \"\"\"Create Dash app for interactive visualization\"\"\"\n",
    "        app = Dash(__name__)\n",
    "        \n",
    "        # Compute UMAP\n",
    "        embeddings_2d = self.compute_umap()\n",
    "        \n",
    "        # Create image cache for faster loading\n",
    "        image_cache = {}\n",
    "        \n",
    "        app.layout = html.Div([\n",
    "            html.Div([\n",
    "                html.H1(\"Interactive UMAP Image Viewer\", \n",
    "                        style={'textAlign': 'center'}),\n",
    "                \n",
    "                # Controls\n",
    "                html.Div([\n",
    "                    html.Label(\"Point Size:\"),\n",
    "                    dcc.Slider(\n",
    "                        id='point-size',\n",
    "                        min=1,\n",
    "                        max=10,\n",
    "                        value=5,\n",
    "                        marks={i: str(i) for i in range(1, 11)},\n",
    "                        step=0.5\n",
    "                    ),\n",
    "                    \n",
    "                    html.Label(\"Point Opacity:\"),\n",
    "                    dcc.Slider(\n",
    "                        id='point-opacity',\n",
    "                        min=0.1,\n",
    "                        max=1.0,\n",
    "                        value=0.6,\n",
    "                        marks={i/10: str(i/10) for i in range(1, 11)},\n",
    "                        step=0.1\n",
    "                    ),\n",
    "                ], style={'padding': '20px', 'backgroundColor': '#f8f9fa'}),\n",
    "                \n",
    "                # Main content\n",
    "                html.Div([\n",
    "                    dcc.Graph(\n",
    "                        id='umap-scatter',\n",
    "                        figure={\n",
    "                            'data': [go.Scattergl(\n",
    "                                x=embeddings_2d[:, 0],\n",
    "                                y=embeddings_2d[:, 1],\n",
    "                                mode='markers',\n",
    "                                marker={\n",
    "                                    'size': 5,\n",
    "                                    'opacity': 0.6,\n",
    "                                    'color': 'blue'\n",
    "                                },\n",
    "                                hoverinfo='none'\n",
    "                            )],\n",
    "                            'layout': go.Layout(\n",
    "                                title='UMAP Visualization',\n",
    "                                hovermode='closest',\n",
    "                                template='plotly_white'\n",
    "                            )\n",
    "                        },\n",
    "                        style={'height': '600px', 'width': '50%', 'display': 'inline-block'}\n",
    "                    ),\n",
    "                    \n",
    "                    # Image display\n",
    "                    html.Div([\n",
    "                        html.Img(id='selected-image', style={\n",
    "                            'maxHeight': '500px',\n",
    "                            'maxWidth': '100%',\n",
    "                            'marginTop': '20px'\n",
    "                        }),\n",
    "                        html.P(id='image-info', style={'textAlign': 'center'})\n",
    "                    ], style={\n",
    "                        'width': '45%',\n",
    "                        'display': 'inline-block',\n",
    "                        'verticalAlign': 'top',\n",
    "                        'padding': '20px',\n",
    "                        'textAlign': 'center'\n",
    "                    })\n",
    "                ])\n",
    "            ])\n",
    "        ])\n",
    "        \n",
    "        @app.callback(\n",
    "            [Output('umap-scatter', 'figure'),\n",
    "             Output('selected-image', 'src'),\n",
    "             Output('image-info', 'children')],\n",
    "            [Input('umap-scatter', 'clickData'),\n",
    "             Input('point-size', 'value'),\n",
    "             Input('point-opacity', 'value')]\n",
    "        )\n",
    "        def update_figure_and_image(clickData, point_size, point_opacity):\n",
    "            # Update scatter plot\n",
    "            fig = {\n",
    "                'data': [go.Scattergl(\n",
    "                    x=embeddings_2d[:, 0],\n",
    "                    y=embeddings_2d[:, 1],\n",
    "                    mode='markers',\n",
    "                    marker={\n",
    "                        'size': point_size,\n",
    "                        'opacity': point_opacity,\n",
    "                        'color': 'blue'\n",
    "                    },\n",
    "                    hoverinfo='none'\n",
    "                )],\n",
    "                'layout': go.Layout(\n",
    "                    title='UMAP Visualization',\n",
    "                    hovermode='closest',\n",
    "                    template='plotly_white'\n",
    "                )\n",
    "            }\n",
    "            \n",
    "            # Handle image display\n",
    "            if clickData is None:\n",
    "                return fig, '', 'Click a point to view the corresponding image'\n",
    "                \n",
    "            point_index = clickData['points'][0]['pointIndex']\n",
    "            image_path = self.image_folder / self.image_paths[point_index]\n",
    "            \n",
    "            # Cache image encoding\n",
    "            if str(image_path) not in image_cache:\n",
    "                img = Image.open(image_path)\n",
    "                buffered = io.BytesIO()\n",
    "                img.save(buffered, format=\"JPEG\")\n",
    "                img_str = base64.b64encode(buffered.getvalue()).decode()\n",
    "                image_cache[str(image_path)] = img_str\n",
    "            \n",
    "            img_src = f'data:image/jpeg;base64,{image_cache[str(image_path)]}'\n",
    "            return fig, img_src, f'Image: {image_path.name}'\n",
    "            \n",
    "        return app\n",
    "#\n",
    "#def main():\n",
    "    #\"\"\"\n",
    "    #Example usage:\n",
    "    #viewer = InteractiveUMAPViewer(\n",
    "        #embeddings_path='embeddings.h5',\n",
    "        #image_folder='path/to/images',\n",
    "        #cache_dir='cache'\n",
    "    #)\n",
    "    #app = viewer.create_app()\n",
    "    #app.run_server(debug=True)\n",
    "    #\"\"\"\n",
    "    #pass\n",
    "\n",
    "#if __name__ == '__main__':\n",
    "    #main()"
   ]
  },
  {
   "cell_type": "code",
   "execution_count": null,
   "id": "80ae3761",
   "metadata": {},
   "outputs": [
    {
     "data": {
      "text/plain": [
       "156"
      ]
     },
     "execution_count": null,
     "metadata": {},
     "output_type": "execute_result"
    }
   ],
   "source": [
    "duplicates = find_duplicates(features, paths, 0.95)\n",
    "len(duplicates)\n",
    "#| export"
   ]
  },
  {
   "cell_type": "code",
   "execution_count": null,
   "id": "eb0cfdcc",
   "metadata": {},
   "outputs": [],
   "source": [
    "#| export\n",
    "def process_images(\n",
    "    image_dir: str,\n",
    "    output_dir: str,\n",
    "    batch_size: int = 32,\n",
    "    similarity_threshold: float = 0.95\n",
    ") -> Tuple[Dict[str, List[str]], int]:\n",
    "    \"\"\"Main function to process images and find duplicates.\"\"\"\n",
    "    # Setup\n",
    "    device = torch.device(\"cuda\" if torch.cuda.is_available() else \"cpu\")\n",
    "    image_paths = [str(p) for p in Path(image_dir).glob(\"**/*\") if p.suffix.lower() in {'.jpg', '.jpeg', '.png'}]\n",
    "    \n",
    "    # Initialize model\n",
    "    encoder = UnetManualMaxPoolOnly(in_channels=1, both_pool=False)\n",
    "    feature_extractor = EmbeddingModel(encoder).to(device)\n",
    "    \n",
    "    # Create dataloader\n",
    "    dataset = ImageFeatureDataset(image_paths)\n",
    "    dataloader = DataLoader(dataset, batch_size=batch_size, num_workers=4, pin_memory=True)\n",
    "    \n",
    "    # Extract features\n",
    "    features, paths = extract_features(feature_extractor, dataloader, device)\n",
    "\n",
    "\t# Find duplicates\n",
    "    duplicates = find_duplicates(features, paths, similarity_threshold)\n",
    "    \n",
    "    # Create output directory structure\n",
    "    os.makedirs(output_dir, exist_ok=True)\n",
    "    unique_dir = os.path.join(output_dir, \"unique\")\n",
    "    duplicate_dir = os.path.join(output_dir, \"duplicates\")\n",
    "    os.makedirs(unique_dir, exist_ok=True)\n",
    "    os.makedirs(duplicate_dir, exist_ok=True)\n",
    "    \n",
    "    # Move files\n",
    "    processed_count = 0\n",
    "    for original, duplicate_list in duplicates.items():\n",
    "        # Copy original to unique folder\n",
    "        shutil.copy2(original, unique_dir)\n",
    "        \n",
    "        # Copy duplicates to duplicate folder\n",
    "        for dup in duplicate_list:\n",
    "            shutil.copy2(dup, duplicate_dir)\n",
    "            processed_count += 1\n",
    "    \n",
    "    return duplicates, processed_count"
   ]
  },
  {
   "cell_type": "code",
   "execution_count": null,
   "id": "ebc1d98e",
   "metadata": {},
   "outputs": [],
   "source": []
  },
  {
   "cell_type": "code",
   "execution_count": null,
   "metadata": {},
   "outputs": [],
   "source": [
    "#| hide\n",
    "import nbdev; nbdev.nbdev_export('19_model_embedding.semantic_deduplication.ipynb')"
   ]
  },
  {
   "cell_type": "code",
   "execution_count": null,
   "id": "8dfa4e1c",
   "metadata": {},
   "outputs": [],
   "source": []
  }
 ],
 "metadata": {
  "kernelspec": {
   "display_name": "python3",
   "language": "python",
   "name": "python3"
  }
 },
 "nbformat": 4,
 "nbformat_minor": 5
}
